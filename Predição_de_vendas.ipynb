{
 "cells": [
  {
   "cell_type": "markdown",
   "metadata": {
    "id": "9ebkSM9HacZh"
   },
   "source": [
    "# MÉTODOS PARA PREDIÇÃO DE VENDAS/FATURAMENTO\n",
    "\n",
    "O presente notebook visa aprensetar todo o raciocínio utilizado para resolução de um problema envolvendo análise preditiva de vendas/faturamento utilizando Python como ferramenta para leitura, análise e elaboração dos métodos estatísticos.\n",
    "\n",
    "Ressalto que os dados apresentados não são reais por questões de normas internas, mas retraram a mesma distribuição para que o resultado seja o mais próximo do real.\n",
    "\n"
   ]
  },
  {
   "cell_type": "markdown",
   "metadata": {
    "id": "rk12IdIaXVFz"
   },
   "source": [
    "Antes de iniciar o código, baixe e salve o dataset de faturamento em seu drive.\n",
    "\n",
    "\n",
    "\n",
    "*   [Dataset faturamento](https://drive.google.com/file/d/16nOshO8bVyrOc_EhE9XmzjvnNbBa54Qy/view?usp=sharing)\n",
    "\n"
   ]
  },
  {
   "cell_type": "markdown",
   "metadata": {
    "id": "eD208XJ8nMFX"
   },
   "source": [
    "# Instalações"
   ]
  },
  {
   "cell_type": "code",
   "execution_count": null,
   "metadata": {
    "colab": {
     "base_uri": "https://localhost:8080/"
    },
    "id": "Rt9BLVLCnO2m",
    "outputId": "4d732b64-afb7-4173-a118-0fb865f0877f"
   },
   "outputs": [
    {
     "name": "stdout",
     "output_type": "stream",
     "text": [
      "Requirement already satisfied: statsmodels in /usr/local/lib/python3.7/dist-packages (0.10.2)\n",
      "Collecting statsmodels\n",
      "  Downloading statsmodels-0.12.2-cp37-cp37m-manylinux1_x86_64.whl (9.5 MB)\n",
      "\u001b[K     |████████████████████████████████| 9.5 MB 6.0 MB/s \n",
      "\u001b[?25hRequirement already satisfied: numpy>=1.15 in /usr/local/lib/python3.7/dist-packages (from statsmodels) (1.19.5)\n",
      "Requirement already satisfied: pandas>=0.21 in /usr/local/lib/python3.7/dist-packages (from statsmodels) (1.1.5)\n",
      "Requirement already satisfied: patsy>=0.5 in /usr/local/lib/python3.7/dist-packages (from statsmodels) (0.5.1)\n",
      "Requirement already satisfied: scipy>=1.1 in /usr/local/lib/python3.7/dist-packages (from statsmodels) (1.4.1)\n",
      "Requirement already satisfied: python-dateutil>=2.7.3 in /usr/local/lib/python3.7/dist-packages (from pandas>=0.21->statsmodels) (2.8.2)\n",
      "Requirement already satisfied: pytz>=2017.2 in /usr/local/lib/python3.7/dist-packages (from pandas>=0.21->statsmodels) (2018.9)\n",
      "Requirement already satisfied: six in /usr/local/lib/python3.7/dist-packages (from patsy>=0.5->statsmodels) (1.15.0)\n",
      "Installing collected packages: statsmodels\n",
      "  Attempting uninstall: statsmodels\n",
      "    Found existing installation: statsmodels 0.10.2\n",
      "    Uninstalling statsmodels-0.10.2:\n",
      "      Successfully uninstalled statsmodels-0.10.2\n",
      "Successfully installed statsmodels-0.12.2\n"
     ]
    }
   ],
   "source": [
    "pip install statsmodels --upgrade"
   ]
  },
  {
   "cell_type": "markdown",
   "metadata": {
    "id": "d3A4Ljo6d5RX"
   },
   "source": [
    "# Imports"
   ]
  },
  {
   "cell_type": "code",
   "execution_count": null,
   "metadata": {
    "id": "tvF2qaAZd4nV"
   },
   "outputs": [],
   "source": [
    "import numpy as np\n",
    "import pandas as pd"
   ]
  },
  {
   "cell_type": "markdown",
   "metadata": {
    "id": "GkAnN4wCd-xJ"
   },
   "source": [
    "# Drive"
   ]
  },
  {
   "cell_type": "markdown",
   "metadata": {
    "id": "PvMEnOZ5hsfZ"
   },
   "source": [
    "Se estiver utilizando o Google Colab, é necessário fornece-lo acesso ao Drive da conta em que o arquivo .csv está salvo"
   ]
  },
  {
   "cell_type": "code",
   "execution_count": null,
   "metadata": {
    "colab": {
     "base_uri": "https://localhost:8080/"
    },
    "id": "hv741pdYd-V1",
    "outputId": "75be4371-9937-4239-81e9-6d341076cf50"
   },
   "outputs": [
    {
     "name": "stdout",
     "output_type": "stream",
     "text": [
      "Mounted at /content/gdrive\n"
     ]
    }
   ],
   "source": [
    "from google.colab import drive\n",
    "\n",
    "drive.mount('/content/gdrive')"
   ]
  },
  {
   "cell_type": "markdown",
   "metadata": {
    "id": "n5BbAjbAfByA"
   },
   "source": [
    "# Estudo de caso"
   ]
  },
  {
   "cell_type": "markdown",
   "metadata": {
    "id": "BsYwns2SfGgC"
   },
   "source": [
    "### Dados para dataframe"
   ]
  },
  {
   "cell_type": "markdown",
   "metadata": {
    "id": "tWNmA_lwiLui"
   },
   "source": [
    "Primeiramente, precisamos carregar o arquivo .csv contendo os dados de faturamento para um dataframe utilizando o pandas. \n",
    "Como o meu Excel salva .csv separado por ';' então é necessário informar ao pandas.read_csv esta mudança já que, por padrão, o mesmo utiliza apenas vírgula como separador."
   ]
  },
  {
   "cell_type": "markdown",
   "metadata": {
    "id": "Qjx7TX5JiiYP"
   },
   "source": [
    "Também alterei os nomes das colunas para deixar de uma forma padronizada e para retirar qualquer tipo de acento.\n",
    "\n",
    "No código abaixo, altere o caminho onde está salvo o arquivo 'faturamento.csv' em seu Drive."
   ]
  },
  {
   "cell_type": "code",
   "execution_count": null,
   "metadata": {
    "colab": {
     "base_uri": "https://localhost:8080/",
     "height": 206
    },
    "id": "xoqV-XmveMVC",
    "outputId": "b328d03f-ce1c-42ed-c213-beb1d8fd2d31"
   },
   "outputs": [
    {
     "data": {
      "text/html": [
       "<div>\n",
       "<style scoped>\n",
       "    .dataframe tbody tr th:only-of-type {\n",
       "        vertical-align: middle;\n",
       "    }\n",
       "\n",
       "    .dataframe tbody tr th {\n",
       "        vertical-align: top;\n",
       "    }\n",
       "\n",
       "    .dataframe thead th {\n",
       "        text-align: right;\n",
       "    }\n",
       "</style>\n",
       "<table border=\"1\" class=\"dataframe\">\n",
       "  <thead>\n",
       "    <tr style=\"text-align: right;\">\n",
       "      <th></th>\n",
       "      <th>Ano</th>\n",
       "      <th>Mes</th>\n",
       "      <th>Faturamento</th>\n",
       "    </tr>\n",
       "  </thead>\n",
       "  <tbody>\n",
       "    <tr>\n",
       "      <th>0</th>\n",
       "      <td>2018</td>\n",
       "      <td>Janeiro</td>\n",
       "      <td>1130384.90</td>\n",
       "    </tr>\n",
       "    <tr>\n",
       "      <th>1</th>\n",
       "      <td>2018</td>\n",
       "      <td>Fevereiro</td>\n",
       "      <td>931184.13</td>\n",
       "    </tr>\n",
       "    <tr>\n",
       "      <th>2</th>\n",
       "      <td>2018</td>\n",
       "      <td>Marco</td>\n",
       "      <td>1295271.15</td>\n",
       "    </tr>\n",
       "    <tr>\n",
       "      <th>3</th>\n",
       "      <td>2018</td>\n",
       "      <td>Abril</td>\n",
       "      <td>1009695.63</td>\n",
       "    </tr>\n",
       "    <tr>\n",
       "      <th>4</th>\n",
       "      <td>2018</td>\n",
       "      <td>Maio</td>\n",
       "      <td>953436.86</td>\n",
       "    </tr>\n",
       "  </tbody>\n",
       "</table>\n",
       "</div>"
      ],
      "text/plain": [
       "    Ano        Mes  Faturamento\n",
       "0  2018    Janeiro   1130384.90\n",
       "1  2018  Fevereiro    931184.13\n",
       "2  2018      Marco   1295271.15\n",
       "3  2018      Abril   1009695.63\n",
       "4  2018       Maio    953436.86"
      ]
     },
     "execution_count": 7,
     "metadata": {},
     "output_type": "execute_result"
    }
   ],
   "source": [
    "df = pd.read_csv('/content/gdrive/MyDrive/Colab Notebooks/Porto de Areia/faturamento.csv').round(2)\n",
    "df.columns = ['Ano', 'Mes', 'Faturamento']\n",
    "df.head()"
   ]
  },
  {
   "cell_type": "markdown",
   "metadata": {
    "id": "EYB3BI7-havJ"
   },
   "source": [
    "Trata-se de base de dados simples mas suficiente para que seja possível predizer o faturamento para os primeiros meses de 2021."
   ]
  },
  {
   "cell_type": "markdown",
   "metadata": {
    "id": "J1WXqO4WEgv6"
   },
   "source": [
    "Não seria necessário avaliar a qualidade do dataset por eu já ter verificado a veracidade das informações quando o montei, mas deixei um ponto interessante o qual comento mais abaixo."
   ]
  },
  {
   "cell_type": "markdown",
   "metadata": {
    "id": "ylhGXH5pFLfI"
   },
   "source": [
    "## Análise do dataset"
   ]
  },
  {
   "cell_type": "markdown",
   "metadata": {
    "id": "k4vZnD_vHywz"
   },
   "source": [
    "Em todo trabalho envolvendo dados deve-se criar o costume de observar como os dados se comportam dentro do mesmo afim de tirar alguns inghts prévios ou até mesmo para que tratamos algum problema antes de começar a devida predição assim evitando erros provinientes dos dados e não de nossa lógica."
   ]
  },
  {
   "cell_type": "markdown",
   "metadata": {
    "id": "iKjuKNbcFX7G"
   },
   "source": [
    "E com uma simples função é possível verificar a composição do dataset bem como o tipo de dados de cada e se há ou não valores faltantes (null)."
   ]
  },
  {
   "cell_type": "code",
   "execution_count": null,
   "metadata": {
    "colab": {
     "base_uri": "https://localhost:8080/"
    },
    "id": "vT9M-3ZYFUPV",
    "outputId": "998cd42d-18aa-40ea-8449-1b39a1fc6e5a"
   },
   "outputs": [
    {
     "name": "stdout",
     "output_type": "stream",
     "text": [
      "<class 'pandas.core.frame.DataFrame'>\n",
      "RangeIndex: 36 entries, 0 to 35\n",
      "Data columns (total 3 columns):\n",
      " #   Column       Non-Null Count  Dtype  \n",
      "---  ------       --------------  -----  \n",
      " 0   Ano          36 non-null     int64  \n",
      " 1   Mes          36 non-null     object \n",
      " 2   Faturamento  36 non-null     float64\n",
      "dtypes: float64(1), int64(1), object(1)\n",
      "memory usage: 992.0+ bytes\n"
     ]
    }
   ],
   "source": [
    "df.info()"
   ]
  },
  {
   "cell_type": "markdown",
   "metadata": {
    "id": "0lVUIgbdHZEI"
   },
   "source": [
    "São apenas três colunas para este df mas a grande maioria das base de dados contém diversas colunas as quais todas apareceriam com esta função."
   ]
  },
  {
   "cell_type": "markdown",
   "metadata": {
    "id": "BLNW0CR6J7P1"
   },
   "source": [
    "Também é interessante notar que não há dados ausentes (null) bem como os tipos de variáveis constantes em cada coluna."
   ]
  },
  {
   "cell_type": "markdown",
   "metadata": {
    "id": "ItvK2YUkPxt6"
   },
   "source": [
    "Neste ponto, chamo a atenção pelo tipo Objeto da coluna 'Mes'. Isto pode ou não acarretar em problemas dependendo do objetivo e dos metodos que serão utilizados. Funções de soma e contagem por condições (os clássicos somase e cont.se), agrupamento por variável ou até gráficos, na maioria dos casos, não devem apresentar erros, mas predições utilizando algorítmos estatísticos como KNN, árvores de descisões e as tão faladas Redes Neuráis trabalham com tipos numéricos os quais necessitariam de tratamento."
   ]
  },
  {
   "cell_type": "markdown",
   "metadata": {
    "id": "johyFwzXV4x8"
   },
   "source": [
    "Antes de tratarmos isto, nesta coluna especificamente espera-se que contenha apenas valores relativos aos meses, mas temos que ter certeza deste detalhe então é necessário lista todos os dados únicos, pois as duplicadas não nos importa nesta etapa."
   ]
  },
  {
   "cell_type": "code",
   "execution_count": null,
   "metadata": {
    "colab": {
     "base_uri": "https://localhost:8080/"
    },
    "id": "0tP6KEkRWZ0f",
    "outputId": "7dce3b9e-3746-4bf6-b6c8-58390e573416"
   },
   "outputs": [
    {
     "data": {
      "text/plain": [
       "array(['Janeiro', 'Fevereiro', 'Marco', 'Abril', 'Maio', 'Junho', 'Julho',\n",
       "       'Agosto', 'Setembro', 'Outubro', 'Novembro', 'Dezembro'],\n",
       "      dtype=object)"
      ]
     },
     "execution_count": 6,
     "metadata": {
      "tags": []
     },
     "output_type": "execute_result"
    }
   ],
   "source": [
    "df['Mes'].unique()"
   ]
  },
  {
   "cell_type": "markdown",
   "metadata": {
    "id": "y906568pWsaS"
   },
   "source": [
    "De fato há somente os meses mesmo mas com um detalhe, não há o 'ç' presente em 'Março' o qual foi substituido pelo 'c'."
   ]
  },
  {
   "cell_type": "markdown",
   "metadata": {
    "id": "JDIjViTxRhYO"
   },
   "source": [
    "Como vamos trabalhar com diversos métodos de predição, é necessário substituir o mês pelo número correspodente sendo janeiro o 1, fevereiro 2. Há diversas maneiras de realizar isto então deixei duas para demonstrar as possibilidades."
   ]
  },
  {
   "cell_type": "code",
   "execution_count": null,
   "metadata": {
    "id": "7Gr3Zm6PSHoo"
   },
   "outputs": [],
   "source": [
    "#Método manual\n",
    "\n",
    "df.loc[df['Mes'] == 'Janeiro', 'Mes'] = 1\n",
    "df.loc[df['Mes'] == 'Fevereiro', 'Mes'] = 2\n",
    "df.loc[df['Mes'] == 'Marco', 'Mes'] = 3\n",
    "df.loc[df['Mes'] == 'Abril', 'Mes'] = 4\n",
    "df.loc[df['Mes'] == 'Maio', 'Mes'] = 5\n",
    "df.loc[df['Mes'] == 'Junho', 'Mes'] = 6\n",
    "df.loc[df['Mes'] == 'Julho', 'Mes'] = 7\n",
    "df.loc[df['Mes'] == 'Agosto', 'Mes'] = 8\n",
    "df.loc[df['Mes'] == 'Setembro', 'Mes'] = 9\n",
    "df.loc[df['Mes'] == 'Outubro', 'Mes'] = 10\n",
    "df.loc[df['Mes'] == 'Novembro', 'Mes'] = 11\n",
    "df.loc[df['Mes'] == 'Dezembro', 'Mes'] = 12"
   ]
  },
  {
   "cell_type": "code",
   "execution_count": null,
   "metadata": {
    "id": "sRPnT7meVoG9"
   },
   "outputs": [],
   "source": [
    "#Método prático com FOR\n",
    "\n",
    "meses = df['Mes'].unique() # lista contendo os meses\n",
    "i = 1 #variável auxiliar\n",
    "\n",
    "# itera sobre a lista contendo os meses substituindo um por um pelo número correspondente\n",
    "for mes in meses:\n",
    "  df.loc[df['Mes'] == mes, 'Mes'] = i\n",
    "  i = i + 1"
   ]
  },
  {
   "cell_type": "code",
   "execution_count": null,
   "metadata": {
    "colab": {
     "base_uri": "https://localhost:8080/",
     "height": 206
    },
    "id": "cPYZXgb1Z0DW",
    "outputId": "d01aa1a5-b518-4962-edd1-e82104948eca"
   },
   "outputs": [
    {
     "data": {
      "text/html": [
       "<div>\n",
       "<style scoped>\n",
       "    .dataframe tbody tr th:only-of-type {\n",
       "        vertical-align: middle;\n",
       "    }\n",
       "\n",
       "    .dataframe tbody tr th {\n",
       "        vertical-align: top;\n",
       "    }\n",
       "\n",
       "    .dataframe thead th {\n",
       "        text-align: right;\n",
       "    }\n",
       "</style>\n",
       "<table border=\"1\" class=\"dataframe\">\n",
       "  <thead>\n",
       "    <tr style=\"text-align: right;\">\n",
       "      <th></th>\n",
       "      <th>Ano</th>\n",
       "      <th>Mes</th>\n",
       "      <th>Faturamento</th>\n",
       "    </tr>\n",
       "  </thead>\n",
       "  <tbody>\n",
       "    <tr>\n",
       "      <th>0</th>\n",
       "      <td>2018</td>\n",
       "      <td>1</td>\n",
       "      <td>1130384.90</td>\n",
       "    </tr>\n",
       "    <tr>\n",
       "      <th>1</th>\n",
       "      <td>2018</td>\n",
       "      <td>2</td>\n",
       "      <td>931184.13</td>\n",
       "    </tr>\n",
       "    <tr>\n",
       "      <th>2</th>\n",
       "      <td>2018</td>\n",
       "      <td>3</td>\n",
       "      <td>1295271.15</td>\n",
       "    </tr>\n",
       "    <tr>\n",
       "      <th>3</th>\n",
       "      <td>2018</td>\n",
       "      <td>4</td>\n",
       "      <td>1009695.63</td>\n",
       "    </tr>\n",
       "    <tr>\n",
       "      <th>4</th>\n",
       "      <td>2018</td>\n",
       "      <td>5</td>\n",
       "      <td>953436.86</td>\n",
       "    </tr>\n",
       "  </tbody>\n",
       "</table>\n",
       "</div>"
      ],
      "text/plain": [
       "    Ano Mes  Faturamento\n",
       "0  2018   1   1130384.90\n",
       "1  2018   2    931184.13\n",
       "2  2018   3   1295271.15\n",
       "3  2018   4   1009695.63\n",
       "4  2018   5    953436.86"
      ]
     },
     "execution_count": 8,
     "metadata": {
      "tags": []
     },
     "output_type": "execute_result"
    }
   ],
   "source": [
    "df.head()"
   ]
  },
  {
   "cell_type": "code",
   "execution_count": null,
   "metadata": {
    "colab": {
     "base_uri": "https://localhost:8080/",
     "height": 17
    },
    "id": "SjYD0AKOBD0a",
    "outputId": "72a948c5-98d2-4f6e-9e5a-cd1c8a8e5e52"
   },
   "outputs": [
    {
     "data": {
      "application/javascript": [
       "\n",
       "    async function download(id, filename, size) {\n",
       "      if (!google.colab.kernel.accessAllowed) {\n",
       "        return;\n",
       "      }\n",
       "      const div = document.createElement('div');\n",
       "      const label = document.createElement('label');\n",
       "      label.textContent = `Downloading \"${filename}\": `;\n",
       "      div.appendChild(label);\n",
       "      const progress = document.createElement('progress');\n",
       "      progress.max = size;\n",
       "      div.appendChild(progress);\n",
       "      document.body.appendChild(div);\n",
       "\n",
       "      const buffers = [];\n",
       "      let downloaded = 0;\n",
       "\n",
       "      const channel = await google.colab.kernel.comms.open(id);\n",
       "      // Send a message to notify the kernel that we're ready.\n",
       "      channel.send({})\n",
       "\n",
       "      for await (const message of channel.messages) {\n",
       "        // Send a message to notify the kernel that we're ready.\n",
       "        channel.send({})\n",
       "        if (message.buffers) {\n",
       "          for (const buffer of message.buffers) {\n",
       "            buffers.push(buffer);\n",
       "            downloaded += buffer.byteLength;\n",
       "            progress.value = downloaded;\n",
       "          }\n",
       "        }\n",
       "      }\n",
       "      const blob = new Blob(buffers, {type: 'application/binary'});\n",
       "      const a = document.createElement('a');\n",
       "      a.href = window.URL.createObjectURL(blob);\n",
       "      a.download = filename;\n",
       "      div.appendChild(a);\n",
       "      a.click();\n",
       "      div.remove();\n",
       "    }\n",
       "  "
      ],
      "text/plain": [
       "<IPython.core.display.Javascript object>"
      ]
     },
     "metadata": {
      "tags": []
     },
     "output_type": "display_data"
    },
    {
     "data": {
      "application/javascript": [
       "download(\"download_5ecad771-dff7-48af-a910-7b1eaec915e6\", \"df.csv\", 672)"
      ],
      "text/plain": [
       "<IPython.core.display.Javascript object>"
      ]
     },
     "metadata": {
      "tags": []
     },
     "output_type": "display_data"
    }
   ],
   "source": [
    "from google.colab import files\n",
    "\n",
    "df.to_csv('df.csv', index = False)\n",
    "files.download('df.csv')"
   ]
  },
  {
   "cell_type": "markdown",
   "metadata": {
    "id": "KizWlqkUi7sO"
   },
   "source": [
    "## Média aritmética e desvio padrão"
   ]
  },
  {
   "cell_type": "markdown",
   "metadata": {
    "id": "xWRh1oIyi_jr"
   },
   "source": [
    "Quando seu chefe lhe fizer, de modo simples e direto, alguma pergunta que envolve previsão entenda que ele não espera algo complexo ou que você lhe entregue um relatório detalhado de mais de 30 páginas. Na verdade, ele só quer alguns números pois, na maioria dos casos, ele está com alguma ideia nova e precisa destes dados para ver se vale a pena começar a \"estudar\" a hipótese de aplicar na prática. \n",
    "\n",
    "Esta é uma dica valiosa, toda pergunta, principalmente no ambiente profissional, que não venha acompanhada de um motivo esconde seu objetivo na mente de quem perguntou, ou seja, toda pergunta é feita por que há um bom motivo por trás...\n",
    "\n",
    "\n",
    "\n",
    "\n"
   ]
  },
  {
   "cell_type": "markdown",
   "metadata": {
    "id": "PhVFA2fgS5Cy"
   },
   "source": [
    "E seguindo esta lógica, como não foi nos falado o motivo do problema que estamos abordando, então espera-se uma resposta simples e direta, mesmo que seja sem muita exatidão.\n",
    "\n",
    "Por isto, a primeira maneira, e a mais simples de se fazer, é calcularmos a média aritmética da coluna de faturamento, a qual é fácilmente calculado pela função [mean](https://docs.python.org/3/library/statistics.html#statistics.mean) o qual é calculado somando todos os valores presentes na coluna e o dividindo pela quantidade de vezes que eles aparecem."
   ]
  },
  {
   "cell_type": "markdown",
   "metadata": {
    "id": "jgTisrsqUqGI"
   },
   "source": [
    "![media.png](data:image/png;base64,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)\n",
    "\n",
    "\n",
    "\n",
    "\n"
   ]
  },
  {
   "cell_type": "code",
   "execution_count": null,
   "metadata": {
    "colab": {
     "base_uri": "https://localhost:8080/"
    },
    "id": "r1jy45HQecfM",
    "outputId": "2841f9ff-9e94-4dee-bf99-93cf551252a0"
   },
   "outputs": [
    {
     "name": "stdout",
     "output_type": "stream",
     "text": [
      "Nos próximos meses será faturado R$ 1499637.0163888887 /mês em média\n"
     ]
    }
   ],
   "source": [
    "media = df['Faturamento'].mean()\n",
    "print('Nos próximos meses será faturado R$', media, '/mês em média')"
   ]
  },
  {
   "cell_type": "markdown",
   "metadata": {
    "id": "sqY5VCnRXg6n"
   },
   "source": [
    "Contudo, responder desta maneira seria um tanto grosseiro pela sua simplicidade o qual podemos melhorar mencionando também o desvio padrão da coluna."
   ]
  },
  {
   "cell_type": "code",
   "execution_count": null,
   "metadata": {
    "colab": {
     "base_uri": "https://localhost:8080/"
    },
    "id": "tCF6Ej8WTgLi",
    "outputId": "7d88919c-c4b0-4c0a-8a81-0e3a07d26d22"
   },
   "outputs": [
    {
     "name": "stdout",
     "output_type": "stream",
     "text": [
      "O faturamento para os próximos meses será de R$ 1499637.0163888887 /mês em média podendo variar R$ 310263.6899666654  para mais ou para menos.\n"
     ]
    }
   ],
   "source": [
    "devpad = df['Faturamento'].std()\n",
    "\n",
    "print('O faturamento para os próximos meses será de R$',media, '/mês em média podendo variar R$', devpad, ' para mais ou para menos.' )"
   ]
  },
  {
   "cell_type": "markdown",
   "metadata": {
    "id": "c6KyYVXjrRoq"
   },
   "source": [
    "O desvio padrão é calculado tirando a raiz da variância calculada."
   ]
  },
  {
   "cell_type": "markdown",
   "metadata": {
    "id": "swxfpZUpbJC2"
   },
   "source": [
    "Ou então apresentar a tabela abaixo:"
   ]
  },
  {
   "cell_type": "code",
   "execution_count": null,
   "metadata": {
    "colab": {
     "base_uri": "https://localhost:8080/",
     "height": 81
    },
    "id": "RdxroJGlYv8b",
    "outputId": "566dcc0c-98fb-430e-f3c1-978a5027f10f"
   },
   "outputs": [
    {
     "data": {
      "text/html": [
       "<div>\n",
       "<style scoped>\n",
       "    .dataframe tbody tr th:only-of-type {\n",
       "        vertical-align: middle;\n",
       "    }\n",
       "\n",
       "    .dataframe tbody tr th {\n",
       "        vertical-align: top;\n",
       "    }\n",
       "\n",
       "    .dataframe thead th {\n",
       "        text-align: right;\n",
       "    }\n",
       "</style>\n",
       "<table border=\"1\" class=\"dataframe\">\n",
       "  <thead>\n",
       "    <tr style=\"text-align: right;\">\n",
       "      <th></th>\n",
       "      <th>Min</th>\n",
       "      <th>Média</th>\n",
       "      <th>Máx</th>\n",
       "    </tr>\n",
       "  </thead>\n",
       "  <tbody>\n",
       "    <tr>\n",
       "      <th>0</th>\n",
       "      <td>1189373.33</td>\n",
       "      <td>1499637.02</td>\n",
       "      <td>1809900.71</td>\n",
       "    </tr>\n",
       "  </tbody>\n",
       "</table>\n",
       "</div>"
      ],
      "text/plain": [
       "          Min       Média         Máx\n",
       "0  1189373.33  1499637.02  1809900.71"
      ]
     },
     "execution_count": 11,
     "metadata": {
      "tags": []
     },
     "output_type": "execute_result"
    }
   ],
   "source": [
    "colunas = ['Min', 'Média', 'Máx']\n",
    "min = media - devpad\n",
    "max = media + devpad\n",
    "valores = np.array([min, media, max])\n",
    "\n",
    "df_media = pd.DataFrame([valores] , columns = colunas).round(2)\n",
    "df_media"
   ]
  },
  {
   "cell_type": "markdown",
   "metadata": {
    "id": "PM3Exdr1gCPd"
   },
   "source": [
    "Respondida a pergunta, sim, mas será que tem qualidade? Bem, mesmo tendo a média e o quanto o faturamento pode oscilar no decorrer dos meses ainda sim é preciso ter cuidado pois uma alta variação significa que não há um padrão em nossos dados, ou seja, o faturamento pode oscilar tanto no decorrer dos meses que fica complicado predizer um valor pela simples média.\n",
    "\n",
    "Seria como se eu te dissese que, em São Paulo, a média de temperatura é 28ºC podendo variar entre 05ºC e 40ºC. Não é uma afirmação errada mas também não nos ajuda em nada já que o range, ou seja, a variação que eu coloquei é tão grande que eu estou pegando quase todos as temperaturas possíveis para São Paulo, ou seja, não falei nada mais do que o óbvio..."
   ]
  },
  {
   "cell_type": "markdown",
   "metadata": {
    "id": "akaAv5r9i64D"
   },
   "source": [
    "Então, para medir o quão homogênio é o nosso faturamento, basta cálcularmos o coeficiênte da variação em porcentagem dividindo a variação pela média."
   ]
  },
  {
   "cell_type": "code",
   "execution_count": null,
   "metadata": {
    "colab": {
     "base_uri": "https://localhost:8080/"
    },
    "id": "_xUDuDiGi6GQ",
    "outputId": "e2de53e9-5a38-46d9-9abe-ebf39c9f109d"
   },
   "outputs": [
    {
     "name": "stdout",
     "output_type": "stream",
     "text": [
      "O faturamento pode variar em torno de:  20.6892525708506 %\n"
     ]
    }
   ],
   "source": [
    "coe_var = (devpad / media) * 100\n",
    "\n",
    "print('O faturamento pode variar em torno de: ', coe_var, '%')"
   ]
  },
  {
   "cell_type": "markdown",
   "metadata": {
    "id": "KRhkl-Ssjj_L"
   },
   "source": [
    "E para ajudar, pode-se interpretar como:\n",
    "\n",
    "1.   até 10%:         Ótimo (Pouca Variação)\n",
    "2.   entre 10% e 20%: Bom\n",
    "2.   entre 20% e 30%: Regular\n",
    "2.   entre 30% e 40%: Ruim (Muita variação)\n",
    "\n"
   ]
  },
  {
   "cell_type": "markdown",
   "metadata": {
    "id": "96fXpxqWkkFo"
   },
   "source": [
    "Ou seja, neste período que estamos analisando o faturamento desta empresa oscilou tanto a ponto de que a média histórica pode não condizer com o momento que a empresa pode estar passando agora.\n",
    "\n",
    "E para termos uma ideia deste momento podemos plotar os dados em um gráfico utilizando a lib MatPlotLib.Pyplot"
   ]
  },
  {
   "cell_type": "code",
   "execution_count": null,
   "metadata": {
    "id": "m5Z8qSTjjW_a"
   },
   "outputs": [],
   "source": [
    "import matplotlib.pyplot"
   ]
  },
  {
   "cell_type": "code",
   "execution_count": null,
   "metadata": {
    "colab": {
     "base_uri": "https://localhost:8080/",
     "height": 294
    },
    "id": "nSaSA2D4l114",
    "outputId": "18b875cd-b34b-44b3-ddd2-c1dad81e7bdc"
   },
   "outputs": [
    {
     "data": {
      "text/plain": [
       "[<matplotlib.lines.Line2D at 0x7fbc0f23fe90>]"
      ]
     },
     "execution_count": 14,
     "metadata": {
      "tags": []
     },
     "output_type": "execute_result"
    },
    {
     "data": {
      "image/png": "[encoded data removed]",
      "text/plain": [
       "<Figure size 432x288 with 1 Axes>"
      ]
     },
     "metadata": {
      "needs_background": "light",
      "tags": []
     },
     "output_type": "display_data"
    }
   ],
   "source": [
    "matplotlib.pyplot.plot(df['Faturamento'], marker='o')"
   ]
  },
  {
   "cell_type": "markdown",
   "metadata": {
    "id": "evgOLN4jmOHy"
   },
   "source": [
    "Podemos perceber que a empresa vem crescendo mês a mês a ponto do faturamento dobrar, por isto os cálculos anteriores tiveram aqueles resultados.\n",
    "\n",
    "Por curiosidade, vamos chamar a função describe() para entender os pontos máximos e mínimos de faturamento."
   ]
  },
  {
   "cell_type": "code",
   "execution_count": null,
   "metadata": {
    "colab": {
     "base_uri": "https://localhost:8080/",
     "height": 300
    },
    "id": "AI6TGsYml6w7",
    "outputId": "30e1cc14-c2ed-4eb3-851c-b04a24af2115"
   },
   "outputs": [
    {
     "data": {
      "text/html": [
       "<div>\n",
       "<style scoped>\n",
       "    .dataframe tbody tr th:only-of-type {\n",
       "        vertical-align: middle;\n",
       "    }\n",
       "\n",
       "    .dataframe tbody tr th {\n",
       "        vertical-align: top;\n",
       "    }\n",
       "\n",
       "    .dataframe thead th {\n",
       "        text-align: right;\n",
       "    }\n",
       "</style>\n",
       "<table border=\"1\" class=\"dataframe\">\n",
       "  <thead>\n",
       "    <tr style=\"text-align: right;\">\n",
       "      <th></th>\n",
       "      <th>Ano</th>\n",
       "      <th>Faturamento</th>\n",
       "    </tr>\n",
       "  </thead>\n",
       "  <tbody>\n",
       "    <tr>\n",
       "      <th>count</th>\n",
       "      <td>36.00</td>\n",
       "      <td>36.00</td>\n",
       "    </tr>\n",
       "    <tr>\n",
       "      <th>mean</th>\n",
       "      <td>2019.00</td>\n",
       "      <td>1499637.02</td>\n",
       "    </tr>\n",
       "    <tr>\n",
       "      <th>std</th>\n",
       "      <td>0.83</td>\n",
       "      <td>310263.69</td>\n",
       "    </tr>\n",
       "    <tr>\n",
       "      <th>min</th>\n",
       "      <td>2018.00</td>\n",
       "      <td>931184.13</td>\n",
       "    </tr>\n",
       "    <tr>\n",
       "      <th>25%</th>\n",
       "      <td>2018.00</td>\n",
       "      <td>1276674.82</td>\n",
       "    </tr>\n",
       "    <tr>\n",
       "      <th>50%</th>\n",
       "      <td>2019.00</td>\n",
       "      <td>1494734.98</td>\n",
       "    </tr>\n",
       "    <tr>\n",
       "      <th>75%</th>\n",
       "      <td>2020.00</td>\n",
       "      <td>1723646.06</td>\n",
       "    </tr>\n",
       "    <tr>\n",
       "      <th>max</th>\n",
       "      <td>2020.00</td>\n",
       "      <td>2317362.75</td>\n",
       "    </tr>\n",
       "  </tbody>\n",
       "</table>\n",
       "</div>"
      ],
      "text/plain": [
       "           Ano  Faturamento\n",
       "count    36.00        36.00\n",
       "mean   2019.00   1499637.02\n",
       "std       0.83    310263.69\n",
       "min    2018.00    931184.13\n",
       "25%    2018.00   1276674.82\n",
       "50%    2019.00   1494734.98\n",
       "75%    2020.00   1723646.06\n",
       "max    2020.00   2317362.75"
      ]
     },
     "execution_count": 15,
     "metadata": {
      "tags": []
     },
     "output_type": "execute_result"
    }
   ],
   "source": [
    "df.describe().round(2)"
   ]
  },
  {
   "cell_type": "markdown",
   "metadata": {
    "id": "cPunK6rGn4XG"
   },
   "source": [
    "Incrível como os valores mínimos e máximos são bem distântes então podemos os considerar como outliers? Talvez o valor máximos, mas ainda sim não é uma discrepância tão grande a ponto de realmente o considerar um outliear mas o valor necessitaria sim de uma análise em seu demonstrativo de resultado e balanço patrimonial pois pode ter sido ocasionado pela venda de um bem como máquinas e equipamentos. Por hora iremos manter pois, na incerteza, mantemos os dados como vieram."
   ]
  },
  {
   "cell_type": "markdown",
   "metadata": {
    "id": "iCHHdIN9o27R"
   },
   "source": [
    "Só por curiosidade:"
   ]
  },
  {
   "cell_type": "code",
   "execution_count": null,
   "metadata": {
    "colab": {
     "base_uri": "https://localhost:8080/"
    },
    "id": "G8WwYg8HnqOs",
    "outputId": "1901e63c-ae0b-435b-fddf-234fb9bc284c"
   },
   "outputs": [
    {
     "name": "stdout",
     "output_type": "stream",
     "text": [
      "O faturamento da empresa cresceu  140.18292474926508 % durante o período analisado\n"
     ]
    }
   ],
   "source": [
    "dif = ((df['Faturamento'].min() / df['Faturamento'].max()) * 100) +100\n",
    "\n",
    "print('O faturamento da empresa cresceu ', dif, '% durante o período analisado')"
   ]
  },
  {
   "cell_type": "markdown",
   "metadata": {
    "id": "3MCP6KvsKHhs"
   },
   "source": [
    "## Média ponderada"
   ]
  },
  {
   "cell_type": "markdown",
   "metadata": {
    "id": "vkztxWf3L8gS"
   },
   "source": [
    "Se para o nosso problema uma simples média não o resolveu então vamos para outro método, a média ponderada, que coloca pesos em cada valor e divide não pela quantidade de itens e sim pela soma dos pesos"
   ]
  },
  {
   "cell_type": "markdown",
   "metadata": {
    "id": "Oy2mm6INNz9t"
   },
   "source": [
    "![media ponderada.png](data:image/png;base64,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)"
   ]
  },
  {
   "cell_type": "markdown",
   "metadata": {
    "id": "ykvYMUeFN28A"
   },
   "source": [
    "Para o cálculo, utilizaremos os últimos 5 faturamentos sendo dezembro multiplicado pelo pelo 5, novembro por 4, outubro por 3, setembro por 2 e agosto por 1.\n",
    "\n",
    "A quantidade de valores utilizados não é fixa devendo então ser analisado o problema em questão.\n",
    "\n",
    "Neste caso, utilizamos os últimos cinco meses apenas pois assim conseguimos trabalhar com o atual momento da empresa e os relatórios dela serem enviados mensalmente.\n",
    "\n",
    "Caso fosse uma empresa S.A, por exemplo, a qual divulga seus resultados a cada 3 meses, pode-se utilizar os últimos 4 fechando assim o ano vigente ou então 8 já que estas empresas não costumam oscilar tanto em um curto prazo sendo as análises feitas mais a longo prazo."
   ]
  },
  {
   "cell_type": "markdown",
   "metadata": {
    "id": "CS-tJ9eWQHeX"
   },
   "source": [
    "A função .tail() basicamente funciona da mesma maneira que a .head() só que trazendo os últimos 5 valores. Passamos então esta função para um array e criamos também outro array contendo os pesos de 1 a 5 e por fim a coluna do faturamento multiplicado pelo peso."
   ]
  },
  {
   "cell_type": "code",
   "execution_count": null,
   "metadata": {
    "colab": {
     "base_uri": "https://localhost:8080/",
     "height": 206
    },
    "id": "zTY-V_6CJgmc",
    "outputId": "3f3207a4-eb67-4916-e028-78eec684c2a8"
   },
   "outputs": [
    {
     "data": {
      "text/html": [
       "<div>\n",
       "<style scoped>\n",
       "    .dataframe tbody tr th:only-of-type {\n",
       "        vertical-align: middle;\n",
       "    }\n",
       "\n",
       "    .dataframe tbody tr th {\n",
       "        vertical-align: top;\n",
       "    }\n",
       "\n",
       "    .dataframe thead th {\n",
       "        text-align: right;\n",
       "    }\n",
       "</style>\n",
       "<table border=\"1\" class=\"dataframe\">\n",
       "  <thead>\n",
       "    <tr style=\"text-align: right;\">\n",
       "      <th></th>\n",
       "      <th>Ultimos</th>\n",
       "      <th>Pesos</th>\n",
       "      <th>Ponderado</th>\n",
       "    </tr>\n",
       "  </thead>\n",
       "  <tbody>\n",
       "    <tr>\n",
       "      <th>0</th>\n",
       "      <td>1769487.98</td>\n",
       "      <td>1.0</td>\n",
       "      <td>1769487.98</td>\n",
       "    </tr>\n",
       "    <tr>\n",
       "      <th>1</th>\n",
       "      <td>1763744.73</td>\n",
       "      <td>2.0</td>\n",
       "      <td>3527489.46</td>\n",
       "    </tr>\n",
       "    <tr>\n",
       "      <th>2</th>\n",
       "      <td>1713348.85</td>\n",
       "      <td>3.0</td>\n",
       "      <td>5140046.55</td>\n",
       "    </tr>\n",
       "    <tr>\n",
       "      <th>3</th>\n",
       "      <td>1719788.46</td>\n",
       "      <td>4.0</td>\n",
       "      <td>6879153.84</td>\n",
       "    </tr>\n",
       "    <tr>\n",
       "      <th>4</th>\n",
       "      <td>1449624.63</td>\n",
       "      <td>5.0</td>\n",
       "      <td>7248123.15</td>\n",
       "    </tr>\n",
       "  </tbody>\n",
       "</table>\n",
       "</div>"
      ],
      "text/plain": [
       "      Ultimos  Pesos   Ponderado\n",
       "0  1769487.98    1.0  1769487.98\n",
       "1  1763744.73    2.0  3527489.46\n",
       "2  1713348.85    3.0  5140046.55\n",
       "3  1719788.46    4.0  6879153.84\n",
       "4  1449624.63    5.0  7248123.15"
      ]
     },
     "execution_count": 17,
     "metadata": {
      "tags": []
     },
     "output_type": "execute_result"
    }
   ],
   "source": [
    "lista = np.transpose((np.array([df['Faturamento'].tail(), np.arange(1,6)])))\n",
    "pesos = np.arange(1,6)\n",
    "df_ult = pd.DataFrame(lista, columns = ['Ultimos', 'Pesos'])\n",
    "\n",
    "df_ult['Ponderado'] = df_ult['Ultimos'] * df_ult['Pesos']\n",
    "\n",
    "df_ult"
   ]
  },
  {
   "cell_type": "code",
   "execution_count": null,
   "metadata": {
    "colab": {
     "base_uri": "https://localhost:8080/"
    },
    "id": "Fd1Gf5HrPy96",
    "outputId": "2b8f0aba-6792-4b2e-8364-d4cbc8fb0472"
   },
   "outputs": [
    {
     "data": {
      "text/plain": [
       "1637620.065333333"
      ]
     },
     "execution_count": 18,
     "metadata": {
      "tags": []
     },
     "output_type": "execute_result"
    }
   ],
   "source": [
    "med_pond = df_ult['Ponderado'].sum() / df_ult['Pesos'].sum()\n",
    "\n",
    "med_pond"
   ]
  },
  {
   "cell_type": "code",
   "execution_count": null,
   "metadata": {
    "colab": {
     "base_uri": "https://localhost:8080/"
    },
    "id": "mQkzEAUqUWPH",
    "outputId": "c98e24d4-b9f6-4172-db52-3448d9625c00"
   },
   "outputs": [
    {
     "name": "stdout",
     "output_type": "stream",
     "text": [
      "A previsão de faturamento para janeiro é de R$ 1637620.065333333\n",
      "A previsão de faturamento para fevereiro é de R$ 1622427.1104444442\n",
      "A previsão de faturamento para março é de R$ 1610961.0315703703\n"
     ]
    }
   ],
   "source": [
    "df_pond = pd.DataFrame(df['Faturamento'].tail(), columns = ['Faturamento'])\n",
    "df_pond.index = np.arange(1, len(df_pond) + 1) #reseta o index começando por 1\n",
    "\n",
    "contador = 0 \n",
    "while contador <= 2:\n",
    "  #variáveis auxiliáres\n",
    "  i = 1\n",
    "  peso = 0\n",
    "  soma = 0\n",
    "  for fat in df_pond['Faturamento'].tail():\n",
    "    soma = soma + (fat * i)\n",
    "    peso = peso + i\n",
    "    i = i + 1\n",
    "\n",
    "  predicao = soma / peso\n",
    "  df_pond.loc[df_pond.shape[0]+1] = [predicao] \n",
    "\n",
    "  contador = contador + 1\n",
    "\n",
    "df_pond.tail(2).round(2)\n",
    "\n",
    "print('A previsão de faturamento para janeiro é de R$', df_pond['Faturamento'][df_pond.shape[0]-2])\n",
    "print('A previsão de faturamento para fevereiro é de R$', df_pond['Faturamento'][df_pond.shape[0]-1])\n",
    "print('A previsão de faturamento para março é de R$', df_pond['Faturamento'][df_pond.shape[0]])"
   ]
  },
  {
   "cell_type": "markdown",
   "metadata": {
    "id": "AqbjPWE5lWCL"
   },
   "source": [
    "Encerramos a previsão após calcularmos o valor de março pois, como utilizamos apenas os últimos 5 valores para cada predição inclusive os preditos, o cálculo de abril utilizaria 3 valores preditos dos 5 o que seria um erro já que não podemos utilizar previsões para calcular outras previsões. \n",
    "\n",
    "Para o cálculo de abril, haveria 3 valores preditos e apenas 2 reais.\n",
    "\n",
    "Caso queira, é necessário aumentar a quantidade de valores rais."
   ]
  },
  {
   "cell_type": "markdown",
   "metadata": {
    "id": "fwW9j2BRAuvA"
   },
   "source": [
    "Abaixo encontra-se os valores da média aritmética e a ponderada para comparação"
   ]
  },
  {
   "cell_type": "code",
   "execution_count": null,
   "metadata": {
    "colab": {
     "base_uri": "https://localhost:8080/"
    },
    "id": "G0wE9ZEaVPIb",
    "outputId": "d983af8c-9790-495e-d47d-ae3c4cb3510d"
   },
   "outputs": [
    {
     "name": "stdout",
     "output_type": "stream",
     "text": [
      "Faturamento de janeiro pela média histórica: R$ 1499637.0163888887\n",
      "Faturamento de janeiro pela média ponderada: R$ 1637620.065333333\n"
     ]
    }
   ],
   "source": [
    "print('Faturamento de janeiro pela média histórica: R$', media)\n",
    "print('Faturamento de janeiro pela média ponderada: R$', df_pond['Faturamento'][df_pond.shape[0]-2])"
   ]
  },
  {
   "cell_type": "markdown",
   "metadata": {
    "id": "j3FRHYahBRk8"
   },
   "source": [
    "A média ponderada é sutilmente maior do que a média histórica pois nos apresenta um valor mais condizente com o apresentado pela empresa em 2020 já que esta vem, como comentado, em um crescimento constante.\n",
    "\n",
    "Sendo assim, percebe-se que ponderar o faturamento seria uma alternativa viável para responder a questão do dono da empresa."
   ]
  },
  {
   "cell_type": "markdown",
   "metadata": {
    "id": "bYrnA0KPG8g8"
   },
   "source": [
    "A média histórica seria uma excelente medida se estivéssemos verificando, por exemplo, o valor da cotação da ação da AMBEV (ABEV3).\n",
    "\n",
    "\n"
   ]
  },
  {
   "cell_type": "markdown",
   "metadata": {
    "id": "gDzjPi-iHJJm"
   },
   "source": [
    "![abev3 google.png](data:image/png;base64,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)"
   ]
  },
  {
   "cell_type": "markdown",
   "metadata": {
    "id": "tE7wUIuMHfK4"
   },
   "source": [
    "Isto porque há tempos que a cotação da mesma \"anda de lado\", ou seja, não há um movimento que descreva um crescimento ou decaimento constante que faça necessário um ponderamento.\n",
    "\n",
    "Claro que para entendermos melhor o que está acontecendo com a AMBEV seria necessário analisar os resultados e indicadores bem como o posicionamento da empresa quanto ao seu futuro já que atualmente ela detém 60% do mercado de cervejas, mas isto é conversa para outro momento."
   ]
  },
  {
   "cell_type": "markdown",
   "metadata": {
    "id": "RnnZpNgUBxJk"
   },
   "source": [
    "## Predição por segregação de dados"
   ]
  },
  {
   "cell_type": "markdown",
   "metadata": {
    "id": "_F9jz-RDE1AO"
   },
   "source": [
    "Ok, poderíamos parar por aqui nossa análise e já comunicar o chefe sobre os resultado, e estaria tudo bem se por tratar-se de uma pergunta simples e direta como comentado anteriormente. Contudo, podemos ir além nos questionando se, mesmo estando em crescimento, será que esta empresa apresenta algum tipo de padrão/ciclo de vendas?\n",
    "\n",
    "Lojas de roupas, por exemplo, tem um aumento significado de vendas em dezembro por conta das festas, tanto que há uma massiva contratação de colaboradores com contratos temporários neste período afim de atender a alta demanda."
   ]
  },
  {
   "cell_type": "markdown",
   "metadata": {
    "id": "V51pf9rrF_7T"
   },
   "source": [
    "\n",
    "\n",
    "> \"No comércio, segundo a Confederação Nacional do Comércio (CNC), neste fim de ano, 70,7 mil trabalhadores temporários deverão ser contratados para atender ao aumento sazonal das vendas. O número é 19,7% menor do que o registrado em 2019 (88 mil). Para o economista Fábio Bentes, autor do relatório, o crescimento do comércio eletrônico reduziu as perdas do varejo na pandemia, mas impõe desafios à expansão das vendas em lojas físicas. O cargo de vendedor deverá responder por 49% das vagas, segundo ele.\" - Fonte: [Globo Extra](https://extra.globo.com/economia/emprego/comeca-temporada-de-contratacoes-de-fim-de-ano-com-mais-de-78-mil-vagas-abertas-veja-como-aumentar-suas-chances-rv1-1-24708898.html)\n",
    "\n"
   ]
  },
  {
   "cell_type": "markdown",
   "metadata": {
    "id": "pmKfZmSJGhLC"
   },
   "source": [
    "Impactado pela COVID-19, sim, mas é inegável a alta geração de empregos no final de ano."
   ]
  },
  {
   "cell_type": "markdown",
   "metadata": {
    "id": "Wv158MWYIf_i"
   },
   "source": [
    "Para termos uma ideia de como funciona as vendas da empresa, podemos plotar os dados em um gráfico de distribuição e analisar mês a mês."
   ]
  },
  {
   "cell_type": "code",
   "execution_count": null,
   "metadata": {
    "colab": {
     "base_uri": "https://localhost:8080/",
     "height": 459
    },
    "id": "vMKIkYG4A2BC",
    "outputId": "922f8a00-b166-401e-9b16-8336a506593f"
   },
   "outputs": [
    {
     "data": {
      "text/plain": [
       "<seaborn.axisgrid.JointGrid at 0x7fbc0e123250>"
      ]
     },
     "execution_count": 21,
     "metadata": {
      "tags": []
     },
     "output_type": "execute_result"
    },
    {
     "data": {
      "image/png": "[encoded data removed]",
      "text/plain": [
       "<Figure size 432x432 with 3 Axes>"
      ]
     },
     "metadata": {
      "needs_background": "light",
      "tags": []
     },
     "output_type": "display_data"
    }
   ],
   "source": [
    "import seaborn as sns\n",
    "\n",
    "# Gráfico 2018\n",
    "df2018 = df.loc[df['Ano'] == 2018]\n",
    "sns.jointplot(data = df2018, x=\"Mes\", y=\"Faturamento\")"
   ]
  },
  {
   "cell_type": "code",
   "execution_count": null,
   "metadata": {
    "colab": {
     "base_uri": "https://localhost:8080/",
     "height": 459
    },
    "id": "pvwhaifsJNy1",
    "outputId": "4641ef03-38ea-4dd3-b84f-5756a49877bc"
   },
   "outputs": [
    {
     "data": {
      "text/plain": [
       "<seaborn.axisgrid.JointGrid at 0x7fbbf6d9dc90>"
      ]
     },
     "execution_count": 22,
     "metadata": {
      "tags": []
     },
     "output_type": "execute_result"
    },
    {
     "data": {
      "image/png": "[encoded data removed]",
      "text/plain": [
       "<Figure size 432x432 with 3 Axes>"
      ]
     },
     "metadata": {
      "needs_background": "light",
      "tags": []
     },
     "output_type": "display_data"
    }
   ],
   "source": [
    "df2019 = df.loc[df['Ano'] == 2019]\n",
    "sns.jointplot(data = df2019, x=\"Mes\", y=\"Faturamento\", color = 'green')"
   ]
  },
  {
   "cell_type": "code",
   "execution_count": null,
   "metadata": {
    "colab": {
     "base_uri": "https://localhost:8080/",
     "height": 459
    },
    "id": "UbHv6KIwJ5ah",
    "outputId": "d4c51092-a8cf-4866-ca8c-f50972099f8d"
   },
   "outputs": [
    {
     "data": {
      "text/plain": [
       "<seaborn.axisgrid.JointGrid at 0x7fbbf6d81490>"
      ]
     },
     "execution_count": 23,
     "metadata": {
      "tags": []
     },
     "output_type": "execute_result"
    },
    {
     "data": {
      "image/png": "[encoded data removed]",
      "text/plain": [
       "<Figure size 432x432 with 3 Axes>"
      ]
     },
     "metadata": {
      "needs_background": "light",
      "tags": []
     },
     "output_type": "display_data"
    }
   ],
   "source": [
    "df2020 = df.loc[df['Ano'] == 2020]\n",
    "sns.jointplot(data = df2020, x=\"Mes\", y=\"Faturamento\", color = 'red')"
   ]
  },
  {
   "cell_type": "markdown",
   "metadata": {
    "id": "ZWwQX9DMLpnP"
   },
   "source": [
    "Analisando os gráficos, podemos perceber alguns pontos interessantes:\n",
    "\n",
    "\n",
    "\n",
    "*   As vendas do primeiro semestre são menores do que o do segundo;\n",
    "*   Fevereiro é o mês que menos vende;\n",
    "*   O aumento expressivo nas vendas ocorre entre maio e junho;\n",
    "*   Janeiro tem-se uma tendência de faturar menos do que os últimos meses do ano, com exceção de dezembro.\n",
    "\n",
    "\n"
   ]
  },
  {
   "cell_type": "markdown",
   "metadata": {
    "id": "EEGEX7vNRJHm"
   },
   "source": [
    "Os pontos mencionados nos demonstra que a média ponderada dos últimos 5 meses utilizadas para predizer janeiro, fevereiro e março resulte em um valor do que o que deve se concretizar.\n",
    "\n",
    "Errar uma predição é normal já que trata-se de tentar adivinhar o futuro, mas pensemos como o dono do negócio:\n",
    "\n",
    "\n",
    "\n",
    "*   Se o faturamento for maior do que o valor predito então isto é um sinal positivo pois, no pior dos casos, sobrou mais dinheiro em caixa já que os gastos planejados seguiram o valor predito;\n",
    "*   Se o faturamento é menor do que o valor predito então haverá um problema no caixa já que eu posso ter faturado menos do que o necessário para quitar as contas.\n",
    "\n",
    "Sendo assim, devemos sempre nos aproximar do valor real mas, no caso de faturamento, **se for errar então que erre para menos**.\n",
    "\n"
   ]
  },
  {
   "cell_type": "code",
   "execution_count": null,
   "metadata": {
    "colab": {
     "base_uri": "https://localhost:8080/"
    },
    "id": "NHWnallpLO52",
    "outputId": "8f769d60-6763-4d8e-8706-0f805713a01a"
   },
   "outputs": [
    {
     "name": "stdout",
     "output_type": "stream",
     "text": [
      "     Ano Mes  Faturamento\n",
      "0   2018   1   1130384.90\n",
      "12  2019   1   1466808.30\n",
      "24  2020   1   1735218.86\n",
      "--------------------------\n",
      "A predição de faturamento de janeiro utilizando o histórico deste mês  R$ 1444137.3533333335\n"
     ]
    }
   ],
   "source": [
    "df_janeiro = df.loc[df['Mes'] == 1]\n",
    "print(df_janeiro)\n",
    "print('--------------------------')\n",
    "print('A predição de faturamento de janeiro utilizando o histórico deste mês  R$', df_janeiro['Faturamento'].mean())"
   ]
  },
  {
   "cell_type": "code",
   "execution_count": null,
   "metadata": {
    "colab": {
     "base_uri": "https://localhost:8080/"
    },
    "id": "Z3jy00etUgGM",
    "outputId": "9fb20497-3a9a-490c-b9d4-078c2af83bde"
   },
   "outputs": [
    {
     "name": "stdout",
     "output_type": "stream",
     "text": [
      "     Ano Mes  Faturamento\n",
      "1   2018   2    931184.13\n",
      "13  2019   2   1258425.67\n",
      "25  2020   2   1304661.73\n",
      "--------------------------\n",
      "A predição de faturamento de fevereiro utilizando o histórico deste mês de R$ 1164757.1766666665\n"
     ]
    }
   ],
   "source": [
    "df_fevereiro = df.loc[df['Mes'] == 2]\n",
    "print(df_fevereiro)\n",
    "print('--------------------------')\n",
    "print('A predição de faturamento de fevereiro utilizando o histórico deste mês de R$', df_fevereiro['Faturamento'].mean())"
   ]
  },
  {
   "cell_type": "code",
   "execution_count": null,
   "metadata": {
    "colab": {
     "base_uri": "https://localhost:8080/"
    },
    "id": "IYS0KL35Uh41",
    "outputId": "b1f1a41e-9052-4e90-bd26-8b448bb004b5"
   },
   "outputs": [
    {
     "name": "stdout",
     "output_type": "stream",
     "text": [
      "     Ano Mes  Faturamento\n",
      "2   2018   3   1295271.15\n",
      "14  2019   3   1278398.88\n",
      "26  2020   3   1620383.82\n",
      "--------------------------\n",
      "A predição de faturamento de março utilizando o histórico deste mês é de R$ 1398017.95\n"
     ]
    }
   ],
   "source": [
    "df_marco = df.loc[df['Mes'] == 3]\n",
    "print(df_marco)\n",
    "print('--------------------------')\n",
    "print('A predição de faturamento de março utilizando o histórico deste mês é de R$', df_marco['Faturamento'].mean())"
   ]
  },
  {
   "cell_type": "markdown",
   "metadata": {
    "id": "jfXgRntjVzpW"
   },
   "source": [
    "Calculando a média utilizando apenas o histórico de vendas de cada mês nos retornou valores menores do que a média histórica e a ponderada.\n",
    "\n",
    "E poderíamos até ponderar estes valores mas, como mencionado acima, 2020 teve um faturamento maior do que os outros anos logo, se utilizarmos os pesos a predição será maior e o resultado pode não nos favorecer caso erremos para baixo."
   ]
  },
  {
   "cell_type": "markdown",
   "metadata": {
    "id": "aDMyllkYXBYn"
   },
   "source": [
    "Arisco até dizer que, neste caso, este método será o que melhor representará o valor real da empresa a ser faturado já que está engloba o crescimento mencionado sem esquecer que a mesma possui um ciclo de faturamento."
   ]
  },
  {
   "cell_type": "markdown",
   "metadata": {
    "id": "lPMMl5fqXzav"
   },
   "source": [
    "## Regressão linear e a equação da reta"
   ]
  },
  {
   "cell_type": "markdown",
   "metadata": {
    "id": "ivS9vfOkX6ZU"
   },
   "source": [
    "Outra técnica que podemos utilizar para predição é a de encontrarmos a **equação da reta por meio de uma regressão linear**."
   ]
  },
  {
   "cell_type": "markdown",
   "metadata": {
    "id": "sXTI-Yi_YFw3"
   },
   "source": [
    "Quando plotamos os dados em um gráfico de dispersão teremos sua distribuição onde podemos plotar uma reta que melhor represente-os, ou seja, que se ajuste a ponto do erro ser o mínimo possível."
   ]
  },
  {
   "cell_type": "markdown",
   "metadata": {
    "id": "7mkS9zIVY6S4"
   },
   "source": [
    "![regressão.png](data:image/png;base64,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)"
   ]
  },
  {
   "cell_type": "markdown",
   "metadata": {
    "id": "2MFq_74Ta7VJ"
   },
   "source": [
    "Este ajuste é feito encontrando o erro mínimo entre os pontos e a reta mencionada.\n",
    "\n",
    "Com poucos dados é possível calcular na mão mesmo mas mesmo o nosso dataset se torna um árduo trabalho o qual podemos deixar para o Python ou mesmo o Excel."
   ]
  },
  {
   "cell_type": "code",
   "execution_count": null,
   "metadata": {
    "colab": {
     "base_uri": "https://localhost:8080/",
     "height": 276
    },
    "id": "v7lWMMj1UsWw",
    "outputId": "666dceb1-3347-4119-c1a7-4d901bd6184a"
   },
   "outputs": [
    {
     "data": {
      "image/png": "[encoded data removed]",
      "text/plain": [
       "<Figure size 432x288 with 1 Axes>"
      ]
     },
     "metadata": {
      "needs_background": "light",
      "tags": []
     },
     "output_type": "display_data"
    }
   ],
   "source": [
    "ax = sns.regplot(x = df.index, y=\"Faturamento\", data=df)"
   ]
  },
  {
   "cell_type": "markdown",
   "metadata": {
    "id": "g07qSO0Pd0Uk"
   },
   "source": [
    "Em seguida precisamos da equação desta reta para que possamos assim calcular os valores da predição."
   ]
  },
  {
   "cell_type": "code",
   "execution_count": null,
   "metadata": {
    "colab": {
     "base_uri": "https://localhost:8080/"
    },
    "id": "04_GV_9Iczjr",
    "outputId": "6b1d07e3-f2e7-4598-c3cd-02f2c9a8d53a"
   },
   "outputs": [
    {
     "name": "stdout",
     "output_type": "stream",
     "text": [
      "a = 21002.607947232962\n",
      "b = 1132091.3773123121\n",
      "-----------------------\n",
      "Equação da reta =  21002.607947232962 * x +  1132091.3773123121\n"
     ]
    }
   ],
   "source": [
    "coefficients = np.polyfit(df.index, df['Faturamento'], 1)\n",
    "\n",
    "a = coefficients[0]\n",
    "b = coefficients[1]\n",
    "\n",
    "print ('a =', coefficients[0])\n",
    "print ('b =', coefficients[1])\n",
    "print('-----------------------')\n",
    "print('Equação da reta = ', a, '* x + ', b)"
   ]
  },
  {
   "cell_type": "markdown",
   "metadata": {
    "id": "PQJL8pJ4g4zl"
   },
   "source": [
    "A equação mencionada segue o padrão:"
   ]
  },
  {
   "cell_type": "markdown",
   "metadata": {
    "id": "r4HaphzvhX9P"
   },
   "source": [
    "![reta.png](data:image/png;base64,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)"
   ]
  },
  {
   "cell_type": "markdown",
   "metadata": {
    "id": "TQevBGDahZv9"
   },
   "source": [
    "Onde basta substituir os valores das variáveis A e B encontradas pela função polyfit para façamos a predição mencionada."
   ]
  },
  {
   "cell_type": "code",
   "execution_count": null,
   "metadata": {
    "colab": {
     "base_uri": "https://localhost:8080/"
    },
    "id": "hDs36FLdfZTV",
    "outputId": "54f1d4fe-751d-437f-d88c-1c65dad648d4"
   },
   "outputs": [
    {
     "name": "stdout",
     "output_type": "stream",
     "text": [
      "Predição por Reg.Linear para janeiro:  1888185.2634126986\n",
      "Predição por Reg.Linear para fevereiro:  1909187.8713599318\n",
      "Predição por Reg.Linear para março:  1930190.4793071647\n"
     ]
    }
   ],
   "source": [
    "jan_reta = a * 36 + b\n",
    "fev_reta = a * 37 + b\n",
    "mar_reta = a * 38 + b\n",
    "\n",
    "print('Predição por Reg.Linear para janeiro: ', jan_reta)\n",
    "print('Predição por Reg.Linear para fevereiro: ', fev_reta)\n",
    "print('Predição por Reg.Linear para março: ', mar_reta)"
   ]
  },
  {
   "cell_type": "markdown",
   "metadata": {
    "id": "oovvu_NCiAtB"
   },
   "source": [
    "Como a reta tem tendência de crescimento, é de se esperar que quanto maior distante do marco zero maior o valor . Contudo, não que isto esteja errado pois realmente a empresa vem crescendo ano a ano, mas não faz jus aos meses inicias como comentado."
   ]
  },
  {
   "cell_type": "markdown",
   "metadata": {
    "id": "vLG_Pt4giVAE"
   },
   "source": [
    "Mas e se utilizarmos a regressão linear para a segregação de dados agrupando por mês?"
   ]
  },
  {
   "cell_type": "code",
   "execution_count": null,
   "metadata": {
    "colab": {
     "base_uri": "https://localhost:8080/",
     "height": 290
    },
    "id": "fnMzyamIhsLY",
    "outputId": "b4637380-4afb-4203-a645-fe1002a9c16f"
   },
   "outputs": [
    {
     "data": {
      "image/png": "[encoded data removed]",
      "text/plain": [
       "<Figure size 432x288 with 1 Axes>"
      ]
     },
     "metadata": {
      "needs_background": "light",
      "tags": []
     },
     "output_type": "display_data"
    }
   ],
   "source": [
    "df_groupy = df.groupby(['Mes']).sum()/3\n",
    "\n",
    "ax = sns.regplot(x = df_groupy.index, y=\"Faturamento\", data=df_groupy)"
   ]
  },
  {
   "cell_type": "code",
   "execution_count": null,
   "metadata": {
    "colab": {
     "base_uri": "https://localhost:8080/",
     "height": 243
    },
    "id": "tpMis51yii3r",
    "outputId": "13c51bc8-f210-460a-f473-989ecdaa7fe0"
   },
   "outputs": [
    {
     "ename": "NameError",
     "evalue": "ignored",
     "output_type": "error",
     "traceback": [
      "\u001b[0;31m---------------------------------------------------------------------------\u001b[0m",
      "\u001b[0;31mNameError\u001b[0m                                 Traceback (most recent call last)",
      "\u001b[0;32m<ipython-input-31-343505145d00>\u001b[0m in \u001b[0;36m<module>\u001b[0;34m()\u001b[0m\n\u001b[0;32m----> 1\u001b[0;31m \u001b[0mcoefficients_gp\u001b[0m \u001b[0;34m=\u001b[0m \u001b[0mnp\u001b[0m\u001b[0;34m.\u001b[0m\u001b[0mpolyfit\u001b[0m\u001b[0;34m(\u001b[0m\u001b[0mdf_groupy\u001b[0m\u001b[0;34m.\u001b[0m\u001b[0mindex\u001b[0m\u001b[0;34m,\u001b[0m \u001b[0mdf_groupy\u001b[0m\u001b[0;34m[\u001b[0m\u001b[0;34m'Faturamento'\u001b[0m\u001b[0;34m]\u001b[0m\u001b[0;34m,\u001b[0m \u001b[0;36m1\u001b[0m\u001b[0;34m)\u001b[0m\u001b[0;34m\u001b[0m\u001b[0;34m\u001b[0m\u001b[0m\n\u001b[0m\u001b[1;32m      2\u001b[0m \u001b[0;34m\u001b[0m\u001b[0m\n\u001b[1;32m      3\u001b[0m \u001b[0ma_gp\u001b[0m \u001b[0;34m=\u001b[0m \u001b[0mcoefficients_gp\u001b[0m\u001b[0;34m[\u001b[0m\u001b[0;36m0\u001b[0m\u001b[0;34m]\u001b[0m\u001b[0;34m\u001b[0m\u001b[0;34m\u001b[0m\u001b[0m\n\u001b[1;32m      4\u001b[0m \u001b[0mb_gp\u001b[0m \u001b[0;34m=\u001b[0m \u001b[0mcoefficients_gp\u001b[0m\u001b[0;34m[\u001b[0m\u001b[0;36m1\u001b[0m\u001b[0;34m]\u001b[0m\u001b[0;34m\u001b[0m\u001b[0;34m\u001b[0m\u001b[0m\n\u001b[1;32m      5\u001b[0m \u001b[0;34m\u001b[0m\u001b[0m\n",
      "\u001b[0;31mNameError\u001b[0m: name 'df_groupy' is not defined"
     ]
    }
   ],
   "source": [
    "coefficients_gp = np.polyfit(df_groupy.index, df_groupy['Faturamento'], 1)\n",
    "\n",
    "a_gp = coefficients_gp[0]\n",
    "b_gp = coefficients_gp[1]\n",
    "\n",
    "print ('a =', coefficients_gp[0])\n",
    "print ('b =', coefficients_gp[1])\n",
    "print('-----------------------')\n",
    "print('Equação da reta = ', a_gp, '* x + ', b_gp)\n",
    "print('')\n",
    "print('')\n",
    "print('')\n",
    "\n",
    "\n",
    "print('-----------------------')\n",
    "jan_reta_gp = a_gp * 13 + b_gp\n",
    "fev_reta_gp = a_gp * 14 + b_gp\n",
    "mar_reta_gp = a_gp * 15 + b_gp\n",
    "\n",
    "print('Predição por Reg.Linear para janeiro: ', jan_reta_gp)\n",
    "print('Predição por Reg.Linear para fevereiro: ', fev_reta_gp)\n",
    "print('Predição por Reg.Linear para março: ', mar_reta_gp)"
   ]
  },
  {
   "cell_type": "markdown",
   "metadata": {
    "id": "w_LhuBMKlGWC"
   },
   "source": [
    "Segregando os dados, obtemos uma reta um pouco menos inclinada do que a que utilizamos os dados históricos ficando próximo da média ponderada."
   ]
  },
  {
   "cell_type": "markdown",
   "metadata": {
    "id": "zZDz5tbtmL9F"
   },
   "source": [
    "## Séries temporais"
   ]
  },
  {
   "cell_type": "markdown",
   "metadata": {
    "id": "RWFTT6u2nvxk"
   },
   "source": [
    "Antes de concluirmos, não poderíamos deixar de tentar predizer o faturamento utilizando modelos de predição para Series temporais."
   ]
  },
  {
   "cell_type": "markdown",
   "metadata": {
    "id": "vxoPCtT7oSpg"
   },
   "source": [
    "Uma série temporal nada mais é do que uma sequencia de eventos ocasionados ao longo de um determinado espaço/tempo que ocorre geralmente em intervalos uniformes.\n",
    "\n",
    "O nosso caso se enquadra perfeitamente em uma serie temporal pois o faturamento ocorre a cada mês sucessivamente.\n",
    "\n",
    "Há vários métodos para predição de uma série temporal onde suas utilizações se baseiam em como os dados são distribuídos."
   ]
  },
  {
   "cell_type": "markdown",
   "metadata": {
    "id": "0NVl9_oOpN5-"
   },
   "source": [
    "Em uma série temporal você pode ter valores eventos que ocorrem regularmente o qual dizemos que a série é sazonal podendo também ter tendências como a figura abaixo que representa uma série sazonal com tendência de crescimento."
   ]
  },
  {
   "cell_type": "markdown",
   "metadata": {
    "id": "z4-fzFA8phE2"
   },
   "source": [
    "![sazonalidade.png](data:image/png;base64,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)"
   ]
  },
  {
   "cell_type": "markdown",
   "metadata": {
    "id": "TTQ3c1edqI7V"
   },
   "source": [
    "Ou também um conjunto de dados que variam ao redor de uma média constante como é o caso já mencionado da precificação da ação da AMBEV."
   ]
  },
  {
   "cell_type": "markdown",
   "metadata": {
    "id": "Hf3rqS54prMD"
   },
   "source": [
    "![serie.png](data:image/png;base64,iVBORw0KGgoAAAANSUhEUgAAAcIAAAEECAIAAAA0y6O7AAAAAXNSR0IArs4c6QAAAARnQU1BAACxjwv8YQUAAAAJcEhZcwAADsMAAA7DAcdvqGQAAP+lSURBVHhe7J0FoBXV1seH7gZRRFAQRBEUbLETE/PZ3d3Y3d3d3YiKKEjX7e46Md09c/rMt9acAxIXbgAqn/f/7rtezpnZs2Pt315rz549BNehDnWoQx3aDHVgtEMd6lCHNksdGO1QhzrUoc1SB0Y71KEOdWiz1IHR/6zYzE/2/x3qUIfaqw6M/jfFAjtFgRMEjuEYBv+Z/aJDHepQW9WB0f+kWJaX1LLaRFW1J3Aqw1EdGO1Qh9qtDoz+F8VztGp4u01YMP3IQtexGS7YgdEOdajd6sDof1E8T0uyN3ZUxXGH0pYl0Www+0WHOtShtqsDo/9F8QItCt4OQ8oPP5A0LZVkA9kvOtShDrVdHRj9L0oQaE7w+vQvP3DfgKE5NNeU/aJDHepQ29WB0f+iRJEOhL3OPcv32ydgKEmGJ7NfdKhDHWq7OjD6X5Qk0jV1XufujXvuHlQFj+UEfw1phzrUofaoA6P/RckSXVyaJghq97FhhfVYVuvAaIc61G51YPS/KFmmc3JTBGGNG0UJVIrj4bMOjHaoQ+1UB0b/a2JBisIsXhwhCHfsSIqnkpxAdzwQ2qEOtVsdGP1PieVYnmEYTWNm/6wRhD58UI3MJEUZ4Zo9pEMd6lAb1YHR/5R8jLK0rnPf/6gQhDpiaAMXivMiPmKfPaRDHepQG9WB0f+WgJY8Txua/sH7MkE4fXs31jcmOIHvmBvtUIfarQ6M/sfEMjxPGZrx/jvgjcZ69myqbUzyQseCpw51qP3qwOh/RwhKmuVonlRV/ZWXVcBop06VVXUxXhD//RhlGBgAWIahs//uUIf+NerA6H9HAEqB5kSKpTRNf+B+miDiRKeq2oaYsA1gFDMvCJoiq9l/dahD/xp1YPS/IhrieU5gGIXmGMOy77iVR4wSNfl5CUkSaJoGd29twSf/ntv3PE/zkjd2j18feFjSDZHlcafpDnXoX6IOjP5XBBil8Ta9GGYY04pddmGAIJIEUZeXn5BFDqC5oQCm2ZP/aQkCTTJet75Lr7hSsmyJ4aE02a861KF/XB0Y/a+IZvF9IZRAsiJn6Mnzzw4SRAq80RUrE6rMZ6C5tuCTf483Kgp0iPS69iy8/DLNdmSWJzsw2qF/jzow+l+Rf3OJooUGlmcN05t+dEXXrh5BlC1eGldEimb+3RgV6YaA16Vb7bnnSI6rdGC0Q/8qdWD0vyMWInqG1nieUp3EYYfVDhriEZ2Lf/4lrssA0X87RuvqPKJT6ILzNcdl2Y6gvkP/JnVg9L8jlgOMsgrPUrrjTdg9f9fxHtGl+OefAaPCvxyjkkRXVoLvHD79NMaN+o9cdWC0Q/8adWD0PyWW4UiBDjsRb4cdFh50CHijq778Kq5JMmB0QwFMs+f90wKMlpYCRskzz+Cd6L8H7x3qEKoDo/8lsRTDNwl0gGG8oUOWHz8dwLTk00+TCsTM/26MyjKdX5AEjJ44vSkag5D+35KxDnUI1IHR/5JYGrxRmaMlwevbs+CyK7wuvXPeej9pmlT2gH+rFIVZtixKEMJxR5O2ozEctYbymfmHDfXvGQM69P9e/zRGO6Kzv1WAUUri2fpar0eXgptv9Tp1X/rqO0ldp7dYS2ydBgWMLl8RIwjx+GPCGYxmv4ALsmwGmmsLPumI/Dv0t+kfwSjYN9g4/uDfHdb+9wnqmpEErqnB60qseubpdJdeSx97JmFoiv9V+7S6Edf+Wf2fLSLAoqLQc38zCII/8jDSMnWWR/PJgLIDox36x/X3YxQ7AM3xPMNy+DBKx8qVv1mMKNJFRWmCyHnrzVTX7gsfeiypKXJ7qZcBaGafPdZfmgoA4+jVn2SP2iwhIlWV/X2uBd7oEYeThmmwIhgQCr7uwGiH/nH9AxhlWAH6hU7SEikCT1d7Mh36GwRjFy1I5IpcjyBqZv2Y6N8/9657Io4dzn7fZsFYKHGMzHA0ru2HlgWMovuo0v6bSbJHtV9AQxpgqajCrB8Bo8ZBB9GSEqfW8kYz0PTh+Zc6MNqhv1P/AEZp6BwCrxsSx0k0q/gbn3VY/N8hYCjHUbwc/u1PhyAqfvs1PnBA7u13xA2z3e+pZ1kGXUIMLTgRcEoKFCmQOFL6CMwctBliWJbkOVZTJR+j9v4H0aKWogQBrpw5AnAJ0FyPpB0Y7VBLAvPYYhbyTwT1AlPbaN57T1kDlWJ5Pfthh7aysIpxCKN4hZwzzwSM5uWk+/VZfNnlsm22d6M8pGcYXEOGpSVZCzRZFCuQXJhiSXRLt0CrQoZJoL+uiZ98LBKEPmlymJcBoyIE9OvF9esJYJpJokMdygjsEaOYzAicNc4tYKOgfwCjsirMmQPe0MLfFuiihDc3OhyHv0FQxTzueUwJGvvltxpBlFSUp4cOzr3icsOx23uLCTFK8Qwny9z8X+VOxE8lRTFWpiDCR290C9goJEP5GJU/+1gmCHPipJCopimcekWtwWjGCV1bHUbVobWFk4f4P4ZnGRj2/UEWzSjz7Wbqn8Coovz4U5IgihfON0RRomlcA5j9skNbTasxSkqa+smnECAXUWRquyEF55xjWk57bzGhVTbyHKXp3PsfGARRuHhplFc4CoL8LWSgODfAUZZmv/GSThDR3fZoEpQUOsB++j5Lt9SFOvT/WYBQnqVgVFYlVuFFXDLnW1Dm283UP4BRRVV+mOVjdJ4uibI/kdWB0a0usBeeAdsJqIbx8iuIUUnydh1TevrpmrU53igf5FnSssUXXzABo/MXuJzs43oLGag/xUrqqvnmS5B+bLfdEaMkbtv8F0A7SNqhFoU2woclnikt0VcVmP504hab9vkHMKqqymdfRaHLzftNkUWVZjq80b9DSBocjQOKrj32hNK5R7GuexN3KzzueNYw1cz37RCER4BRx5Eee9AliKrffnclVVq9BGqz5UdhDB3SVOO5pzTA6NhxDQyf5PESmH5merQDox1qUWgkPB/T1bNOaBg5ZoVmezzOvG8Z/SMY1T75MkYQBXN/USVJhV7CdNwN+FuEt9VZ2jCdW24L9+hdrBne1L2Ljj6aNHQYmdtHIpZBYjKmLd16Y5wgamf9asuKxMPH2QM2S2D5uI6KD0OeH3tIAozuPKaeYpOcLMJVMwwFdWC0Q60RzVIR3Zp+FDlw5Co9um1jlFE14413IajM/+FrSVK0TAeGnrAJZc7s0OYJKCrwtK7rsauu4ods1+C43uGHlk87MGDbUT/AaUc9g7Mospxg2uo5l9gEEfx2liPLMkv/9bDm5shfz0+G2IBmODNvB4zGR45sJKkkK8v/GYxC0Trsf8sIIifVTB55JLP9sDLb8vAm6BbSP4FR3XjtHQMw+u3Xsrwao5tWB0m3hKAWeZ5WbDt17vmhnUbVOI537FHV+05pNLQEPgbRvu6KbcPqlnH8DMAc/fl3liLLNBNuZ2rrCu8u8RQpkbobu+GGMHijO+3QFAwnGElaO/3/j+aRaQ6c1Fj9zw5tpvAOve6kjjiC2X5omWV50Bmy32y2/gGMaob51MscQRR99YWoaGbWo9ikOjC6JQS1KPCMaJve8dNr9pxUnUp6p0wP7D6uTlfTPK5QalclsyFGCBuOdegRLEEo732qa4rCMWEAAPJ18xoOMMpwNCUC+93LrqgBb3T77eqbQnFGEBkmu8D+/6Nt+FWH7ZF5umELTTT/x4WVyuiR9LRD2GGDCk1jm8eo9eQLgNGSzz+TZM3wV/79tZS6Wf1/7Cp/t7Bj4qMPnG17BxxUdMi0IGD0zNMC48dUKzKYVHswCs3Cc40cH1IMZ699KIJQ3/7Q0lXDX1mSne9eA7sNlTlgE8rsu0DxtGpHLr6kniCS2w9rCgYTa2P0/538YjEw4PltwggQQ2Q+9393qL2CeuUZw01Pm8YMGVBs6Ns4RnXTvf9h8FwqP3xPVVQI6nGldAaj8Eezyp7aoc0QVCLUL+DHML099ig87ijJ87zzzq3feacqUUxC3bejo/ppUgJPC1J81/EQdGsvvKxZusNzJDBgTZvCkbiobQNlEtmUcG6UJXlac+Knn1ZHEKlhA0MNTQlO3Jwtqf7VwrEORzTAKC0wJD5UywjZbzq0OQLICKxmJw84kOrTrdTc1jFqmO69D9KA0XfeVmXEKIJy7S7Xoa0hRB7Diiypqt64XQvPPE0EjF57NTdyh2pBTLUXo+guipzAct4OOzQRhPH0C7JjOAJPwcXWblOAZubhojVqJUYBIxTP6E7i5JOrCSI9pF9TQ2OSl7ILnv7/CZsJg3lK0mw5kmB4iaXRz+joGpsrxChj2In99iN7dy0xtG0fo7fdDV2u7qWXFFXFRbBgImt3uQ5tDWH/ZGiJC4miN2J4wUUXKF4ycutN2qCBFRyXEtDjaWvl4/EsbYicGgwmhw4JEYT18OO0vQUxisbP0hyruukjjywgCK9fz7raupgoy/9fMZqRJAV+mRs5ZPovDO9BFWdqL/tdh9onGJwExrRTe01u6NIpT1e3eYxGb74tSBANzz+naKtXLK7d5Tq0NeQzjxGFMMl4/Qbm3nS97XnOzDuVfr2raDrdXoyyDKOJglxVHenZC9rUvfd+2jEiODeaadHN9kaBoQzHKHb6kMNKAKO9etRX1kUkmf9/jFEome0wDzzgEMSiyhro7WGoq46usbmC+uPDlp2aNBF8uCK8HyBsyxjVjfhVV4UJIvD4I7pl6Wu26gF12MrWliBSDaTXqd/ymXdHUknrkUflnt0qyKAniPBl2yufBcaxkszmF9hEJ5IgIrfczNlqnGfpbItuPkZ5IEhYNtP77l8GGO3Spa60xpFkqh2Z3XbEWqb86MMpgiivaQCMhjK1l/2yQ+0WG3RMb8JuMN5XcZwnbNsY1eOXXwEDQvCRhw3DWOdeQQdGt65YVhLJ6lqP6JLz5DNRwOhTT4oEkdfUkBbbiVGO4SlRpRYuNgmiEbzR664JunqSZ9g1o+NmYhTS59iwYnp7TckniAR0gJKqqP8Q0/9jU2ENQ3rwAShsKXijghiG6uroGltAgFEjPR7vhZbz/DaOUcNIXHhRDUGEHnhQU3XJ71BYng5D2erCXUED5fjC94I33onEosZrr8gEsaq+PtlujLI8KWq0/4aPaoKIXnpxVcRI8/iWmC2FUZpnaMP0dp2wcNAAyHlJcXlM5tu/CcC2IFbXxZl3RAmirLTcE6Ut80hYhwCjrumNGROAoF4QtnVv1Iifc149QdAzZ5qaIfkU3WLl6dAmxLK0Ktfn5cUJovjLb6NuRH7rDfBGc+rr0qLULv8OMRpWdO6Lb0yiawVB2BecW+vqaVzwuNYiYCDp5mBU4FhV88aMXb7zKMRoYSl4o0J7crvNiDVM+Y5bbYKoKCoFjIagAjOjUYc2S4BRyxu9M4RNZTSzjWNUM+JnnREiCOmmmxzdkjI77sIXGVsBZY7bVvR35nkzLwRQ0pSGnBUOjMaz5kQth/roA4kgCqvKPal9YbIfdGu6+MrbRve+RX37R846tdFSUjwj4C4oft3AURsyFNRajHKsgK/h83YaWbDnRMToqoKILIXak9ttRqxpKTfdoBFETX6xJ0jBTP1lv+xQe8WwYdvyRoysJYjSQMgTxW3cGz3xFPBGxeuuszVHwp6yrv42Km22fEz4oevfYOVwLVEUGbr9F4Jq1WVq4R+A0dz5S2zTpr/6HPpqYVlJqt0YBW/UMKSHn7AHDivZcafEScdXm0qa4wCjfzmM7ccomAtgFJPxdhies+9+afCjV+bGZAk+2VaMpB1iLUu5/hoVMJqTl85gdNvpFP9WQf3xlG14221fQxDlDQ3bMkZ5xGjiqGPLwRu94mrLisoZjPosymobsRjMJXRyUaJkiaTpdr8VrpViBIExTZZhycwLENoqtCKGNWX+11kuQaxcURDRHXbWdwZB5BUXJtt50wYTDVgWf9Pt7g6jSidOTB59ZLnuY9R/9iab4OZjlKa9oYOXHnJ4CqC/fGVMkWD0bXtutxmxpq1eeblIENXLViYlOfz/G6NQMAabE0q4FcsIFSjJnGZ4g4ZWEERFdY0nSds0RvX44UeAX61dfImrR0TsKdsmRoFmgmjO/d199XWOlzNbVW2lnIOBUdW1zpln5zQEbb49azwzmWN1Rf7yU5sgcgpKo5rD/vIzILUwJxf6arsx2mQ77KWXOWN2KzzokOTBBxarqsdDIJ65oK/2YxTHWEbkmGDA699/1fSTkgRRsGhxTMY7Ym3P7TYj9EYvvwi8UWbJ0rgg/T/GKJSKFNgwxVESDWxYa0J9SwuuJIkkYLTfwGqCaCit2KYxyjOaFj/k4CaCsM4/P44rtcHBWv0UU0bbCkZZf5uPs89o6NWniJJikPGt1LfhSqahfPeDQhBlKwtiotzuGyyspslvvW5BUF9TGVMc5vd54N8VL12a9DfwbHuacAYfdCL8qaeqUw4oOeGk+N5TCiUtDU24dmqbg1EWOphA1dV6fXsWnXVuAjD6558xpX253WbEWrZyyfkQKGiLFsVExChWYPbL/29iBDZECgHFf1EYs0VehNicwCQFiVINr3df8OHIgiJPlrdljKpafP/9GgGjZ53lGFHRv4uw7XmjkElB4A0rdeH51LBh9SSXbJ+T2DqxksB/9TVgtHDRsoQktdsXY3TVeP5ZxGhdQ1y2mD8X4k2beX+2F6NYD7TtKgcfxBwxverMc2K77V4kyGmeX2eNTvsxinmiJJGqqvC6dyu87ErwRnN/+z0my/43/2/F2rZ63v/AG5X++NORZRKMbZvoFG0XS3M8sJPiOUnyBNll/LdsZb/cooJURREx2rVbOWA0N39bx6gan7o3YNQ89VTDjPm3mLZJbxRyTSmae86ZTO9eNQ2BlLAV14SzmqJ9+gm4J2XzF3kKUqRdF2JpU7Nn3q727V0WCCdEg1m8BDBa+vOchKK0G6OsEVEnTQyfcFb9RVdER+9czEspgQ+tnRYQs1llv964MBGoZIkpLfE6dSq4+VbwRlfNnhOXFHDNtlJV/xuE3ui5Z0uA0V9/NxR1i/X2LaoM2f0mandbYETHBWRes9IE8flbr4VU1czM8m1xIUYFUjPBkEoIgl6ZC/1oW8aoIsf3nhwgiMiJ0x0zJmMbrMZo5phtBqNcWDXsM2Y0dCJKqmuSQvuWXrZKjKHKH7wP/ar051+SitLObeLAc7Q056ZruWFD6ikmLar0ilWA0byvv0upavsyD6ewmunuuGPdhZcFrr3B2mlkGcelRI7EL7LHYIM2q+zXGxccwfsYLc6HfBbf91CcIFbO+jkuaf6j9v9vxRq2OmMGQxDGjz/rWNh/nbDXgiOJU9cczQssLlVpz6NW+NIuUoaQNEUQVffdQRmGu/UwKghhzcDwiyDQgVCUbRmjshSfvGeIIBLTj42b0ewt1wxGW9m7/iUCjOqWOwM3cCupqkyK7Y+1WxRj6NK773DgjX7znav6m7Rmv2mLGIa0dOeyC4KjdmrkeE9UyNxCsKqVH3+W1rR2YRRaS2BoLjloQN3MO6VbbtO3H17KMmmFpTA4yx7UTsHp8MNzlCzRBblo/Y8/HSOInO9/jCs6pP7/GaO6rZ50IkkQ0W9/MBR9a00Xboaw10Ikjos/aK+6Ks0xJs1QQNLs960VFkzgtNKSJEFU3Hlj2NS3GkbhQjytI0aLCIL/c4Gnbjk3/+/B6F9WABgVhfj4XcEbTRx+CAb1/jCWrbhtiKEgGEcNOzX9mBqgW1lJXNyKt48ZQ1Nee5mHEfvTj01NNdpnaixLRczUWSfXjx1bJyhxQaQKS8CqVrzzflpvH0Y5VhC5xmCie9eqp542Z96rDxhQSIfTin+jYDPrAk4HFgsMpSjMiiUA0PyXXoOgfuVXX8cUtd032bYB8eDg2+qx08OA0c++lRRj7X1Y4K+1f/45gTHxgHv+vrtCnYgPNc1jWZzDzX7bWsEJrKa6837TCaL+9uspa6t5oyCeI32M5hEEN/eP9LaDUazVddpbEBiBj48d3UQQ8YP2kyCoZ+jse+q3LYZCdhmeNW3v6MNqcb+M4ujW9UZV9dVnZYKoffddXdesdpkaC1iyde/4Q6snTwqohiHxdEUFYvSVN9KG3k6MiqJQUR0liPJ33os99Jjes3cBGUhL4KRkD2i/IIUMRmWFWbLYAT/03fcBo8s//wIw+v9293tQBqPHHAMRW/TTrzjFWOONZoYmfC+qqmaM7R+sBOivsmUrN97AEp2KadHjWLLt3iiIUXTz+88h0mq48fKQbW5NjPKkgRjNAYzO+S21jWAUsMgH/LaGJs/mGDDKsbHRI2iCiB0wVTQjmn/PdouV5+8TyzECpdupQw+GoL4oN8fdjBvoLQpGbPXRRxUwtZdekVXVgkrLftMW8Twtq8k99y4+4ghBNxWFD9Y3glUtf+YZzzDa640KYlGpCzXw5XexR59Su3QrCzalJIHa/IqAFHyM0pJGzZtvE0ThZ59B6Jf3wQcJCTvAVqrqf1wsYFQx7MMOhz4Sff8TwOiazVVxDkWS1F9+j3zwpcKLW5E4rRDLsILtSNddhy8EYiTAaLgdnhCMDKJuvPgyjBn8eec32vZW9UYpTQWDzycI+aef4pq2xS7UNoxmqonx76+1QnAwyTESw0ochytg4CxBoFkmNmoExKfRfacIpmtswxgVw4oTO+gg8EbzV6xwZXkrYlRVtfseBm80+PRz4IlYrXxoar1m4nmKUdJDd8n93zmma+sKFyBpj+i87JGHU6bZXoyy8spcYNyq3+Ynnn4BQF/Z0JAUxC3wTBfkBjCKryRSybnzDIIo/fZbwGjRO28DRoNbrar/cbE8z6p6/NBDGYKIvPMhpxq41T92Peh3rGhbzvRTgoNHLOYlT9hy+7e3Q8ABx2WvvQowWkoLHoTM2S/aIiiTGjFvugsKGzr1jCbH2bpzo5oMGC0lCP2H72NrYxS+3Rx7agNGoSF5nqNpCi7eiklvPwBhZMBomBYEToX6grMEnqXJ6A7DoOpjkyayumW2G6N+DrD4/pVazM+WFlxVoHEfzMngjVYsXBTZmhhldMO49S6AVPDBh5t0w8U3a7QolqNx2FtdRfBfIdxIet37L73hVtd1IDAOcJxHdF1xzz2uZbVnthES1SVtwSJg3Mplq5Kvvg05LK6tiYvSFsMox9CiTn7/Ewwh+bN/QW/0tZeS/hqgNud2GxFiVNESBx2IGH3lTV4zcRWFL57jJdsyDzyAHjSIC5PJ1XsUYRP7f/yNApviedOmL7uYJIjcJtIThfZs6AfeiGrb/zsfCsscM520tyZGRaguJovRr7+2dR0ulKk68AvXYAR+2qw2eaN4AV1XZFWmoKj+CAnKfNe80G2laNZmQikwAXBEBQBxODJ8CGJ0jwm0YbbTG4Wr4kNDfrF5XGiBf2S++tvEcJSie3vuXgOx9rc/uKunq7aGGMs2broNUBK6675qw4xs2tSwLvyAAcYtnuch7s7UEi+FK2rAjFY8+aKraaLMhhTZ69Rjxa23a7bVvsyzsiD+9LNFEDmFpakPPlYBo9WVEUFox03b9QW5yWBUMuivv4ey585bkOpK5L/yQkLTMt//v1TGG03uvx/0kchLr/G6pfqbt8IP/F92HGWPCY1dOrN19THcXCPTAfHX31shcF2BNy3q0osAo4WN4Xbu9AEYteP2wYdwBCEcfSxnO85WwihIFCkqi1Hjyy8tXYcag2uxui5LuuwjBA0ue3Rb1HqM4kV0zb3u6sBrLzOibGcwhl/4Denfb19X+IRCkygGqxuifXvPXbjYZhUZ/FIq5A4ZCINPavcJvG5CrbXE4uYEJwhAX1EgRZmnlbU3woDUshlYV5lvt6RYStXTu+0GrVL76WcxRcksnltH7Shac2JsR738Ggm80RtuqDaMGMNsdOTH6+FFQzTfRIlyHRUproxKgimwjKiE8wvwlvcXn1mCKMhcQBG8fn1XXXsdOATtxKiuyh99BEF9UVWt99mXCLvq8ojE0zSzuc8vQm4yGFUM4aOPdUh52fJ0z84FzzyR0jQo/hap2H+hMt5ocuoUvFP/9HOcZuEe1bgeEGxeFDU5OmrHAEFIBfm2LPtGRmkQGf3dFQI2JrCmJV1wDkUQNTA8t+8RdR+j5i5jIBHr4GnSVsWoIJLBEGC0HManDz/UDAMyzMii9eQz4ltvy7ocxVWsWxuj2LpCfNSw2rNPLjHMFLt6hMyQAl3KdQTdCHIJ/g65sgBisfxPPjdE0xRENhxw+veEWkuOHcsqiuMnkFXmSq0R1L7GawsXR+bONxlOxTNXpwB2lc3CuvLP27KiNCO969gigqh7/fWYqsKls9dao02gBIKIdYsMf2+sBgCjysWXA6TIqy6vNvQYzWw0aoYkcEoRn1OukczEVdcWjRlZoMueyCmKxixd4kBbzJ/j8KIgMQFd8oYOzLn0ctFxRL/+NpaBjQlGVuWZ51yiU3Fj0PN9xpzyQlfiKFx+sXl1nikIx7CKIb//Pj7Aml/o9e9R8sSjaU2H4rc1q9uKfG9US+69F2A08uQzgFGgZOY1q5wgiUzQ234IOID88iWmoog0G6Yp5Z/CKD60ejYNo3tppSe3B6MsWKpqmQMH4SLZ/feXnK2LUaoJMVoB8HnvPcAoIwqcJkX3mFh+4IEFMcvzY7itjVGBE+n0qKGNp08vsWwPatFv8r8w6o+Mfwl7Ectpivzzr9B1V33wsShaBs8zwQa7dzd2YO/EzqNYTYv776TMqi3dmHGM9P57F+w1ZZ7kRkg+DEiHT30UoDe6Xn7W69JwmcxUyGaYHp4OQfHOoysh1n7+xSREmnCd7PV8wUU3ViL8FIYC3JYFjsGDWRiXVn+zgVjDVP93HoTM4vnnlJnojbaEUUhRqFPt5CnTa/t2ruHCaZGRFFWZPcuAtijKiwuSLLBhR/WGD8k77yLGtDIDIWQjm07rxFqWdM/9bpeeBZzgff8jYLSwcIWrSUBRcr06b6syVQR1pBrqCy9AynlFFV7PznkP3Jswjb+dGn+fEKOykpi4Oz7pd99DlGHrvF9Y6GuCIDWUJ4f2A3Kpc2aZmgZxaQjv9WQr628UXI0HjGpn4dNWDTkF7XtEHanC8cluXSGR2J6TeNfdmhiVwtV1gFHosMk3Xpd0g6bokCpFxo8vnzq5POF6/p3wrYxRATcsSw3tVX/KcRWq5jGtwCjP8KZivfMuD73rvY8FXtd4nm6st7sR3A7DojuMIMFcAKMZr3ZNUq0TbVnpKfuGJ04qleIeo+D0+5oU4Pd6+Vm7S2eOgOqCwzJbtGc+b6PQHVdEb/SOtQTBPfRIQtfbglF/3KNZRjc0CVwMhsK8IEmbPZ41DPXscyCw1c87q7w1GAX/heFDWiw64+TKXkSgqjAmsoysyO+8CW5dYWU5vuqdZ0lbg2Gg/KQz6i2Lp2gS4OfPqbZerGXzV11v9RtYKMvenDmQw+KcxY6uUTQLGN3c/oB1wbCaqT/9rER0y69q8Hp1XXnX7XFTa++uAltJkBfMTuY/m5kxH6NyYg/EqHvP/aRpm+iHCgLYDM/JNYWRPl2aCML+9D1bUW2WD/BcI1rz3yy4JA+tr55+KhCwcWVe+x5RZ6Fcjbjqju/dLbnzzqwb2Zpzo1KwDO8NAEbTr78maTo4LyRgdLfxDWN2qnZMj+PbuQKkDRgVRb6qMdq7R+mxR5WZdjoDisx3GWT4n/wln1y0bLn3PASt3vjCq7xmW5JANzRYnYnQrmNTQ4dTHO9lNkbyKdoGjPIcrdnJ8RMbdh5TZCc8mg9D8VuD0czXGsnIlELKEsuQGfRlvm2LwAJojk6PHN4I8chdd6UNo9UYhc/AfebDdDh+/HFl335tqYoooDMKXaXZGgCMatOPB6feOe2EJl2Lbhqj8H984pnjVCs1/TjIXuPvCy1eCRumft9MpU+Pmvp68EbhQBiKvPETi4+eHnJMi2EpyH1bMeq6/NnnqtuPLLUcb+4fCviMS5a7sipRENZjeqjssW0X1hNDGYZzz31yj55FTQ1en145t94RNax/0dwo44/IDMcIvL85Dbbg5uQNMSqJqV3HBMEbvfU2yrSQLJAsRZGiIC5bCgMhENZ69DFGc20IPHgu+A9gFD03Sres449lCYKdv9BT2/OIOitJ8ip8ORi710RjxHaBiLsV142KUri0EjBaTRCp559lNA18DUrh07vuHBw2rApY5PfBdpSiTRiVhKJqmyAKjjq8zLSS0JPXsGk9ZmUEHwLsJNe97Dpo9fDjT3OqZsgCXVsPdtA4cc9Ev8EhkkKMgom0A6OymRo3sXHszpXReJrmgmC6rcMoHqKGVI23SpqigqT4X7an7gSBAozuMBQ4lbrmqohlrcFo9tKQbPMlws8ogWfoYJogVjx4n2zj3VgGgraN1ABrO/JRR0cJwjz52JCuRjaBUZT/eneB5QwjfTw+DNP42Q8Gb9CW6V56PjlqpwAvJAUB8Eabrjd2Ut7R0+mIHcM95lmqrRiFjB19NLX7XpWA0fl/AkZXzFtm8uCZAEUpvF/fvrrNyK8L0tQjM2eqffuVspTXb0DOdbdFdCu89TpbWwUtRgsUI2orVyp1NS5iLZPxdsr3RqXU2J3DBBG/5RbG9BdmoEkztCLJP/1iEAQEQNINt9ZpEZthwWaghv+B2giDK2e7xxwD3qj2x/z2PaLOKor2088QxNAnncQP6lsXjbSwCqX9YjlJpkvwsT2ovfTTz1CZmxkq740fS3bvVRwkPRwGtzZGJVlaWQgErJl2UEUrMAqfwbe8bEdPPo0iCOrhJ8K6YcgcWVUDLA5MOzTRb0CIYjwB3/LoB+RtwCiYGqPo3k671G83sNh1PZZrrTeKX0JZWD7UEOne9cd5fziyLLf6uuuI56lQMDVkEPjaqfPOk2ybh8HNvxqMcnh1uOhGUgZYsSInh5pSBJFz752CYYi4sCHz2qFmOiEbiSoHHKRCKHfUtKCmRsA1yX7TrDDgoiWG0/TUwQfXQJO9+IYim1LETp10XPXkyY264fK40oIynfSUg6r3nxa2DUQzZNrHaCtrAw4DN9ne74DwlENK3Ki3bAn08CWzf7MknacpcgthlLH0yDXXkoMHl8uS17PPssuuAR9oM1G1RcUyrNQUYtPDB/958828aWXeg9BuQZTDCnxyx+F1BJG85toAOOMZu6IZSlf09z7Uu3StGdDHPe2MQj2SIGkYy/3J9c1bF9EOhdiwYjuHHUYShDz717jWHoyCS2i9/gb4s01XXxfq3qkqFt2qGKVycKswwKj30COUpstQcRKT3Hmnum49y2sDwCI06ezxbVEbMKooyhx8mIQ88IAqo1UYheqQFCt+0DQBvNF7H25SVE3hmLIK9EaPPS7as1cwFPbAyW373KiPUcPbaeemof0qI7aHa1J9lzaTAvxeL0vrdmac5y0sgFBi+SefZnb6aE/dIUZDyWGDwd1LnXpq2HVEfDYBAdoajPIip4Ua8R1t986UTUNCnwKXbTULCDYa1fY9EHy9yJGHhACjUPzsN80KZ9EokWFULXnQQRDCBO6429QdxdS8qXsUHnVsyIlo/rUQo/scVLX/gWFTc/0GhUzjlHc2nRaEfpOipXbdtf7Y0+vcmJe3Clo27+dfI6LG0UwIwvoNar5tgnzwLGMZkauuIYcPr7Rsr1//JRdeqv27bjFBY8oN9eFY1+4Vl99g2PYWwCjPJbcfBuNf6tprQ4bpgF1BNcJvSzOeflbt179s8sTEwQflSGYChis0Oqzm9tdz+xTmSM12fYyqP/2yzkNBrRZjGNZDD1FEV+6+h8nOREV062EUYCSTPkbrAaP3P0Tplg4fCkx61IgaonNtaRVgNHPpNjdfGzCqqsr3eJ+3br/9K1UjDb0u425k2jDzx1ry25VnVccaOw76v3TzLbRmGJrAFZWaBFE+44xo926hQDjdboxqhjd4cEW37uW65kGA3CaMcoKUmxOBPv/qa4KqGKu9yL+07vHNSxCp+qbUwAEQfCWPOTrk2hGSDPtntwajnMArTQ3gjZbeeI1sm+BfwWmI0cyN+3VFReL6nntpcKED9pY1pTUYJWWWlqTE1EkBcBb+d65j2QovpIePLDkLHGcXDmpCjFrx405pnLA7qYkpGBUgsyzT+gWk4DTB/5OjRjGXXByKRNIF+VCl+Z99Zim6SG0ZbxTvu9la/ILz6FGjat2I13/QonMu0tr3zNXWElSZVF/b5BKdApddY5imnGn9tdVqwwYBRqFl0kMHgDeauuiCgGXFwVGBFEAQ8dx6m7vTTjUnTo/usVsBLSbBFfYtHar578UobpRHqWZ8n6lBCOq//sbwHwryv2nOgjeSPcayrKuvCu24HfP4A+COFEVj0a2HUVmhl64AjELFerffRVmOIUBHpBPDhlRAHwHCShDBNe/HtKA2YFTTlI8/BgI27LtvFS8lGZrMNB4oW1XrCj7HF9hZ9pDtIBqVb7qJg6BeF6XCEmBx4bnnRzoRDfVNnii2E6O64Q0cVNa5e6mueyKe2gaM8pKcnxsjiJInHgfnzgJOYTHWVfbYjQsw2tiUGtAfmj95+OEQF8cgZd+kW8Io2BnkQRADjYDRihuu1iKWv37Wx2jmxLXF0FQspY2fCNWYmjqx1RhlSMDo3hPxTsVBB7NR12wMpHoMLrnhzqhtQYU3cCxgNDb9tMbddmM00eMFEm2oTRgVOJJO9x8QvONWMeIkKsrBwS/87LOYqulbDKM0FzUT/zsjMHZcved5Q7dfes5Flm39m+7UQ7PJwWq8bRC85ArLtBCj6wnqIXtwy8pg1Bvcv4EgEhdfELKtxGqysIbJXnRRYsLuFVdeYW03tChMp0Vwp8DqfPnH/F0CjAqUZib22QfcCP2rb0xNy1r7hgacUea8dcW4rnXydGbfyeGXn6QRo1HA6Macj80VYHQZYhSD+ttmUnbEEuFCdHLwoEp87dXimIIvp8H50baqDRg1DOWllyBqk6ZOaZS1FDT1mqqBP6Du1hd8iOsKgRQc5PLyy+Fvy5Dl5SshkfJLLwWMVlZVxSRJbAdGwf0UZa9Pn3yiczFNewrem2kDRhVZWbwQhoT6++8OGRjPtscbFSWqojrVuw8ENd6BB4VNFS2AZqlWYBRGcnynQQNitPDyiygXMQq1JfjuF56YyUZWNBVNmtuPAnv1dt9FUluDUY6UeEoQEhPGNBFEetyuZMRKVNZ4ROfCp19xDU3i2bDAUrYZPfciceSODaqQZNmwj9HWO3qsIPLBUKpLt7onHjcc26muAW+08O3XHAM3T4GQPlsJ2cPbLKw8KKhrJk88vmrS5EAk6m0/YsWM02Rb36rvYW2TAPUQ2/DlZWDVwYuvjJqWlGn9NdqoGTQvf2VhKNW3ZzU03OkzqiwjAZGfnwLruOoxx0lT9y988hmje6fShoakBKaATeZX1t+pDEbt5B74MLT29ju8qlJrOmCm1JniZ9ScGcCRTDRi7T2JPfGE6teeEyAyAyvKHIzw2HLKVI2k0PP+BIzC+ORdcR2MAdANuFAo1rtHAWBt1k+yrHAkiShoa2W2BaOW/OBDMOQ6e+7ZwEsJHqcjs9+tV2VZQcWJLBWAfANG7UsBoy5kXFq2AhKpvu2WWFeiqqY6IUkSpOBTtC0YFSCS8vr0RYwyHGAUH+NakwL8Xi9L8M/MmSCAjKrKSxZCNsibrqkz9Uj7MCpJdGV1qnt3cPe8KVOaRMHmJY5i/XaA833Bn9mj11YWoyI4s8Cdyy6mwXpYgcK3MeCaJzzbz8Vq0VTSM4buCED0xu0itcobBYwK8JPYbVe8A7bDMM4QvVUFUZwO/s7SZI1naYElbSt6/kXCTiPqFTFFskH/VFxKm0mmJbGiKJZXgVNf8fbbUc2UGwKQfuErz5kRO4EjiV8K+J09vM3KxPRs1EkdfVTxlP2C4I3utHPujBmqrZvZA/55QR4EQZLKisGcwudcELXsLYBROpTu0xsxOmNGjWkmaCazlSc4IvbU/Zhjpxe/9wk4AaXV1UldgqFXgeHm766NDEat1B67g3NnvP0uryhkKzugL4zHWI6Jx+1hgxsuvqz0k/cUgqhyHQeOxGfg2E2uRWml0JQhP7jzAF5PpebNBxxhP7rsOko1FVlkAsFYn17FEC5/9bVimPgsXxvbC9UGjFq2fMNNELWJU/YGjEYFMbSm4darstWiWZ4py87p6qecKlkxQ5PNufMgkYqH7gWCNJYUu4IAVZ/Ff6tzjxjlea9zFxhGquvrPUVE13hNIvD3elmCf2bO9AUYlf74HWLk6gsvrTLMaDsxKtPFhcnu3eqHD43uNi7A0WlGwHs7DCAqg6KNFQcxynAiX1cHVZF37tkMBNc0H2I4AU6mcGXLevVJRWNa//6N0PwDtqMk2QFnPJtUs4Ia4EmRp7hwYodhgR2317r2qi1tisxb6BJE7pLFliKaPINLnizbvuZmccDARkbwgkwAWhISxnnmbEKbFgtD4MocQGfpt98Yus03NHi9ulQ//5Ssa4ASfLs6qDU12bywDmlaDDimt98+pfse2AgYHTdhxUknSLbxb8Ioy4uykrvCIQj69LOhRtefG4UaaEu3hMGJI0PJzp1LoLmPPqbONtMIArgMz6pKesxo6rxzG/78HTBavKzQksF1FRrwDZt/s3yMympqt/Hg3KVfeB76VPYNpiAoMihbfl/wz+yJKKiNMMfgbdWom4Ch95H7Gz/5ALzRIklMcAzuIEIxeJth3bNaLxxy/C5IgS1ajiWxQVpo4rTwrFk+jjqlzr0orAHRBLqxLt2NAIc6+taruqHZoXC4HZNRbcCo4yjnXQiRizZxjwaGjghCGHPq28d6VbZa4I1yi34DUtT2721MP0kyoros63P+gIqrffKhJGC0qDAK46h/g3uTXFhfiFGO9zp1LQMXvb7Rk/HpQ8wDfIcX3iA/a1cKUFvT5N9/1yADJ8woax9GodiKxJQUprp3aZowNjp6dBPLeozIAL/A08xidGPKYFTi6muhcvLPPYez7ATFh2jwSLMYzWZjtah4XBvQD4P67gNIUXZbwijikBdoNhjffnDj0UcauJVfgfntbKj53PzciCxYLCMJNGdbxtU30r361pGcxygwaEO+/HfcZhPatFhZlhYuQm903u+WZLB1denuncseu18wdI3xn2ICtViTGxWWgqakRl339tqr7LBjScDo7pNyjzmaN1Xdn8JqXTa3shiWUVRl7i+A0eCMswzb2RIYJVOdu5ZDcx91TJPjeBmMCgIrCt7A/nU3XU8V4R6v+bPnx1RZ4vgA8Ch79t8maB2JltTk7uMxGnv5ZV43SDBcn6Lru6Kgdc0AagOcMBn+K3HAtfx3Xuc++wxi1nIZb5pJUGG4V4Cv7BltE6QPvgClG/KbrwinHF1pyx4jhDg9OPtHuFxt567OBZewhh2RRSpQn+7WCRyU5EvPmpYVg6g2c11QNrFWqA0YdV1lxungwVkTJoQVKSmItB+IZ914uGq2wlYL4Kjq5o+fiwQR2GMCd/hRihFXVcX4fjYANPjq82nwYvJW2aKAWzVlrtFqgakx4TDUCGA0VFzkSWu93LjFVoRQwlDMn3+CspBHTa8z2hXUw8VUmSzIiXUiGg7YNzpkcGUwFCVxXyXEKDRGNjfNyscoL/GVFci1E0+ssZ0kiy8lRle2WYxaltmnd1O/vh7RixREG0eRTQhMAS4vkWR9ok+vyjPP1MF05i4WX34dRsGiivK4COMbep3Iu/seNYjOxSHOY0XAJ+5a3xxG13zg95IsFFhFAacePdyF801eoSk23bdn5T23Uq69evlUK2pyo8I6pGipUTO8cbvlHHM8DRiduk/xUUdwflCPHkf2yH9YrCQKP34HXnnjCSfLW8QbDYbQRwM8Td2v0MFnvaEO4XO+sS7Vu1vDM0+6VTVwuZIPPo2bmi5sdLnx1hS0jsDISmLUjhWQz4cfJQ2D8ouJweWmOyAI3ygK8SQnVxVBLy744Xt99o/gX68KNKVlScWZJZypb1+JIGe4CQFJhkzNuvwyhiCWwlAELo6k0999C5erHrpd8uQzGvQI+IJ0RSmExZUEkXjwHsm2YlCCTOazibVObcBoNKoefhRNEPFdx5A8nRQFvKWzNkY3EGDUeu9lGKzqjzwidODBomiJDCN8/T0AlHzlBYBpWV5uxMfopheTQ71AqfyCZSvWxyhu1lJLEExpqSeLf83oZdpsQ2W+xeRY1pKd2T+BjyZAqKhr7cdo4SpwJxtPOD7at3dZKBxjeJLhst7optohi1GxEm9t55xwcp3lJP31RuCNAsky+f1LkD3Hdvr0aho2zCM6kYLQCozCL/DQG1M9e5TddrtCdA59+Jn26BNyt57lgXBSwEpieUY0dPX+R3SiSwnJw3ANaSJ+/8Io1jym5E9jwdiAX5A8j1vOYKMjRn+aBRjNX7bUElWOE+P9+lTccSOjqQ691uKHTGLtEXRIsVHWvF3G5pw8QwCM7rNfySEH0wZ6o9k8/uOCapEl8f13ZQiMjj9Bcuzsc3FrC6o7e3TL8jEahN5RAHiasm8Wo2C0AOuaSvD9yz98PxqkwPhLXnjZsA1LYDSwHGymv1NgYwKl6MlROwKDvMceh5EeyuibTwsdEIWvZWYYXYsu+R33LcrN92bNggpcFYTIUlR4XvC7Q/tKBMYJBg5/0I4RP/9iHmpSMTxOpGW96YfvEKODh6VPOSNgRKKiQJWXQ1VXEUT6+msbLTvut1Obr0tki7iu1mp1+APKj7/jSWlPfDGyt8suNEUmRDGLUdBGCsxounP7nU2dCPu8Cyon7MbZScM0ox99BB5c6UcfAkGKly2BMH+TryfDDUCaOKEaBigOBigeH/qETwGjoSaokTqCUP6c52lqC/7f2gLEWTr/7TcSnD5pMq9pLvj/UOS1BZWQPXojgoupMr1iAcRWpeec43Tq3FjT5PESZDNIt3iTBjHKCrJYkANOR+mhh1fZdlqEesZa33C9Bb4yQOSS3ToHJu8NRa7h/8LoRi6Db23kGIUM1UH61U88pm43oPiRh51LL6J22D4k6nGGCVEMzVGcoYovvwDDSUFjII2T+ohHzL1fx1DzDRxfA6M6tDAni6KkiIwd5l3KfyU/+BKarnz7BXqjeTlRURMkxRk5ouGSK5pExd30ONI6QRoihH285I0aXXzm2TJgdNoh1dMOoGzdQdj/C4Q1hS8KNF99SQDn4LjjJdtWKKod78hcI8RoIAAuUjH0tYl7FrgRj8cHhTlFURYsg9ounvu7yWuJXv0ab7uVdvSYP5cNl2v3FdslaByBljRv2CD0Rm+5iYMh2V9ys7EHmtcS3vAJ8ywlivqX32hg0jW13qIFuOi4FHeKAoxyvBBqP0ZR4BDQET1+1hm465iqQx1SqkZ+8iFW7LidU4cf3Wi6CUEgC3LBqwNXL33x+bWOG202FmtRLWI0IxgZSMuyxo2joMrG7srQZBJABl+0hNHYhRfVDh1onX9u+S47U0pEkSTz7XfAFAq++RrG1cKli8yWMAqlgkgTrgVXCeGUCh7se6O4BgAwqi9e4Cky2fqyQ2qmJn33jUIQgVGjRFVx2o3RZQuh7asvvRzKUl/ekORFCjDqgyh7WPNajdHCXMBc+SGH19pWWmIZ/zn4DW+54ip3mfe6dW7a/2AociV6o1mIYFX4f6wtxCCkzwJGG2GkbXjjdW3K7kUXXxQ594zQhAlNqm3QbIiEiqU4UxFeeg5C/py6xjS+BAVSZVbn3k+bxTX8jCrZX38frg8lFIFmBMgm5hJsXdeVzz4Eb6KwoCAmKuCcmqN2ajj7whrdTsO3m4GSjODyEPIItOiNGFF4/kUqYvTQqn2nhjXNamGtwt8lrCGOsQ33ofvAwxCOO1Y3zeyd+uwRbRZitLEBGm5Vtx7e5Mnl0dUYVRX5d7S3gsVLrGg6OXRE43n/q3K1JPDI7yAZbWadt1pow5RkeMMHgyvn3XaLYOgyLzI8hze7s8dsTIBRPgjeqKG7r7wO9VYdpr358ywoWkWBByEOEIXHWy/tLgvaMU2TMSt59NEkuO06YJQjdZX86D3AaOmuo1NHHhOyIoDRcFEeYBSfazr5+DLHTUA0mE2jLSIy1FhbQJA1BUArYWQ/pqBlztthBGJ0+A4hisQgFA7GY5ovLZ4aMSNHHVW7/1T1ykurR4+mjJhhWbG33jE6ERXzf4fy5Mz/3ZQV3Nw7e1Kz8jPBCzAa26Kg4uUwIGarS4Ep5QQh/vITeKPwaesrndVF7eOPcGea4dvD9duFUZbTNMq/YVp1550I07LqzPxmeA2INioMullBEZctgt5SfsCB5YbpSQyLr4Ro5kxWFLjGWrcz0XDsCTgB1xRwMi/h8ZfrN3M8OJIUWLNKVZbC8eWffaFOP6p02kHK0YfVHHYEGU3rMChS4OXRkqmK778Fo9rCmoYUoBmsl1nDcUwmyLN1okgJOGJ99+wziqmFJAqiehWOQowaykfvgT+eW17qAUZVxdp5l4aTzyhU8VlhsI3Wt8jGhLvaBllv8OC86693AaPHHR+aPDloau6/xRv15zuiRuruO8CjUY441DQM4Mjm5G0NRhcNGuqN3jnXtj0e16VwuqZ8/iWwpiIvL2KntAl7hY89otyQU7wQAEfHZwdUeObnbxD0AFrRvP698oAJl18SNnUFB1dWzlrPpgQVRMJorOn6bbeGunYLyEoibxXYWN7i300JH60Ad6IJf7dTWBXQqcFVP/SQBoJYpqsey4QNJfzu2xAEV+wz2dv3oGornhAketkScGUKevdOHn5giW4kcHeOtmtTGIX/g5VkMAoBJ9XkDRnC9RnoDR7WGAzGOQ5vpWVSaU5wNhN143tMqD/5ROqqK+qHb9cgmIqs6K+8anQlauf/DrnP/f0PR2kZoxDL1wkiW1YUW7XMAIKCvw4YrSvLYFSd82usLZt0YbE00fzwI5EgpB49aKBzOzGqkn/ii39rHnoE2qZ6ZX5EFMLgO+MS1k2XCE9neYVfvhTnZfY/uNL0MQqul4/R9c7FVe5NdalORMN5F0GlBQNBnBr3wxZIZsML4ScUKzIKVVGOt9F//kW99KLqMTtL43cpveDCqAGBC0/SvAbc1lT+nbdgJFhU2wgYhT6wdkjDwgHwiSiSImI077lXdFMFU9QFRspg1DCUt9+AGsgrr/AEmdVUa+exDcecmGPHPUyl/d1gjcArYZtIr2//vNtuiwJGjz+uacLujZmXJmRK+s/KxygbM5NXXVpNENqh02zTxMdJmmuXVoqVJK6qEgxj2XYjvDFj893VGIXafustCB0qK8pTTlI69Fhl6qR8XUxyYqOiOaoWofzs/F3VAqRjJN3r2wvncK+4lLYMCOppnsXtPVrMA5gZz4huVD33bHbw0JDjJApxZWTJovmuBCEPz9A82W77wftX4GoxlJf09t67FGpSlT2WJnUt/PZbOLk8ZVJ6v2l1gFEIH5cuThKdckeO9PacUCRKKY7fChhF54QNg0sAHaesxu7RKzRhbGzwsPJQMMaxQSr7qojmiQN1apnGwH6h666nbrq5rnfvEj0K0NSfekLr1qk2dxUYysofftIVpcWtHNBJc+zk6acyA/tVmREP2kqW2EIcvmoJwvnmc0vX4JBWVjoepkrWG+8wBAFGqclSBqMYiK3Rxgq1thSV/PVXCYay518Eb7Tyz4UJWcL7j74r0kJmoIYFjfv9d6iE2omTK3XDE7HacRnXBuf6WxTWwJF1l18JRlBSlJcScQ4eulaz81DgrQsMOAUKk5uL8yezf+EffJjq3TXWv5tw/70x3VJFjmRw+Qyp6sEffsJjiovT4PPyeBdptSeFgSLYOiOLchmOWGVPP2eBq0XxENf7FOU505SffyrWiVhZ0+jxCm0YxpR9+IOm5asWYBQy1kIltCg4X+YpKpjq2aPgnnvclJc8+3+BncfWiRrEuVsg/S0j8HrM2Lnn14A3ut9BpGUqm7f8CDFahrePF40d743YKUeRPcHHqGUpjz8a6dajoL4hZcT5i8/Td96xTOJjdsS6+Prg1beViUYMjOLvqRZoX5ygl7xOXXBh1tkzArbh+hhtdmJqPeHZDMtqtnjQUfL+ewViVqwW96XP+2N2TJA1mqUoNoSeQvb4tsl3BSAnYTfujZ9Eg3kLrMezlKHTL70CHk/RYUfEJ+xZZ0XTnBj88/dUZ6L4wKnesGE5UByOD2VTaYtagVEGKCZSMp9XZHftEpp2gNOnf3lTQ5xnQgDRzPGZtNYT9HNJVjsRgYcfDd59b1O/PpVmzNU145mnzG7d6vJWgWOV98PPRkveqP8Vy0Tc+PTpYr8+DWbMI1lKAYzmQL3XE0Tkm88h2RYD6TXCwxTZfv1dCOoVgggrsoXutl+WNWodRulffpUJovTNt4FxpXN+i+q6BN47kqi5vOAQmf0zi9G5f0BvaZi4V7VmejB4wmnNnQn9SiiqTQNw774XKq2qKD8l4UYE5MYwykJfYmRWZVfhvgGF8+bL738KrIQxg37hBctwdFyqK3CUSMpG8NsfnQxGcQEilHxNHnHuBFfRKaJcjhgtffppU7NEmqdoZChi1LLkxx6Jduu8sj7g8RJjmvreU9kDDwGMpv2CNFcLbRGcDxgNNaS7di58+BE37aX+d3bDyFHVrJz279RvbvqbL7A63INKS06fXkEQxn4HcratbSZGoSFKy8Ciluw5yRu+/UpB9Pz7EKxjK9df7QzdLo/h0npEvOd2o3+PJiacULV0zx6Vk/euknTcXyabzFYWFFz0Mdq5K96pP2dGyDYhzME5f79hNt00/kjPsW5SHzU+NOOEhqgWra0HCy+a9X2E5CUSw9/Mi9zbI7BhhqUFgVRNb8QuMLzlcxxglDZ1+uVXoWJLDjs6PmGvOtNN8nLgz7mprkTRScd73XssYiRPENGnb6s2dYsJUsObgPAnjIWKvBQf4myacZLbtUcFxJiSAMdlj8+kta4gHGN0Fbpx5Rtvcvc/FCSIVbINIY82865Q185V5bherPDLbxWQf6mNCa4vclzIibiHH8l07VakRzyGo1WFXfhHBqPR11+VTBMar5Wlh8NYRbFeeA2yxBEEKcs2C94Z1v1fof1GCrW2WFXjv/0WQFz2yafQNkU//hDTwM/jgwwfaDYvkEMwH/gBAwKJOjdrNmC0cddxxZKKoyXWdPbYtQX9SlqKy62rHnkMLlS9bHFckaG8JO7GhBda52JYDyzeluRVYfHSKCDyz4Xqr/PhDyA++/X3pmZruOBJoNEb1cK/zAXzzVu2NK0qG2DUB6nCS7m56Cncc59h2DI+o5WhKA/IkO+ZGe3dc3mIBPsjHUefdoiy9745qpmCymxFHbYgyIIkheqq4er5zz3vJJPpyy/hRo1u4HA/KmzH7HH/nKCuBY4zpdQRh0Jg5E7ai3ds3R/aoOzNNWbLYmWZy8sHw1ix11RvyNBlGYyCSVqm9L/TpdG7rlRUT7GUl1+ESChAB73F+CBJ0ZSpYVEHkP1N1QIFl8D1ldAwAKMnH1OBGBVI3CsVSbrpPEDD4nSRarrdelRde2V9wkgG/DVen33KiIYZxi1+8KH6dmMUhn+JCwNGB21XCMbT1OgJHG3pzFNPWdBhT56RGrNbqRlJy1r4+2/AG829/HJwq5c14Zaj2DuzCbVaLXuj2JsgqlflebjZaP2lFztdutTUVicEHnf5zRyfSWtdsYLIMhRUTfHX3xkPPgjMyhHBETL0mXeEe/eoqSlHjH7wsayqLXijDAetEopE43vtVde5S6FiehCDI0bnQQpNBBF781Xcr3OTiawnRtPMF14lCUIkCKqhHoIRAGibMapp4rffgYtX9PMveLvsm6+QbhwfYHB2PHvQWsKCSFpMUoDa+PQrYvRnqJ/AruPKZNXLLEj4i2J/CTAqL8uNgDf65tvoky7+M+G7JyRAxj98nYshRAGjtMwr0pKlEMIULligFpTC6VDY0Jx5tqABfGmaJ1mBVjRyzlzI/ErAqCJjCL92BhCjLCcLYh5itGDmPZppq5Bzf6Ubzo3ajnzbLZH+/VaSjCcKpGsrhx4m7zU1RzPS/hLszccoJUnBjKm8+oaTTnuXX8Jsv301w6WEjNPzzwsbTWaj+08FU4zsMVFwLGM1RtuXPRjjuWXLwTBWHHaYN2jIKpaDuoUkKdsRj5wW2nvfYl1PS7rxyefgBJQF6rzHZgowQE6ZAtbV0mYLW06IUQ63B8pg9JRja207xvAUYNRfprapsuN30Bt4mROhmBUP3huImgmKBTss+fgjTtDxqVLoglCSdhkQOn4QkEkcpVneoOElYLrIR45xdPapJ22iS/mppyd3HV9uOCnNoH/8NtmZyLt7JvSs3PIKT8S98trccC0sv/fTo6BQmqHMwsd+qm+62ezUraymJiaB670pYShajjfTF8xfYT39FPThCl5ORCPx226k+/UrrsWXopS8+y5QtIW5UbBT6Lm25Y0bh2sjRHDcBEpTme+/ghQgMI8985Ro4UPWrTcg3Cz2scfDBIEPMpUXeoqkQZdn/GdSM2oNRg1dfP8DwGje3HlgAas+fCehqTI0IA47zRSIVuT0FddWvP8ZZyg6RbKSynz1JTQet+MOdbIMGCURr81iVFb+WIRj2De4eHjFT1+7Kq4SA2+0WYyiU8mzIUEVfv0VnND8vFV2Q1Wsa1e+RyexMDfCSAzLUxT4LfgwZ3jJckhzyc+zPMRoZkZitTIY1STxz9/hmNo77lZtnBDARUgZjLquctXlkcED88ErEYWgYwunnRbfdXwRL6fBJ8mmslmCLIaLC6CWKt79yEwmEjdexw4fVsnhS1Ag/S1yic0SNBnESoaUmrw77pc4fjfGBp8HbzKC/WTunrdViNElS8Cico89zuvXfxXD4sstBIFyXHHPXatOPbrW1lLgyP32hwmhXkmRN24KTRD2bnsEJDX2d2JU5gF1YBi5gNF9967RHI/iw7jco6VNwuA7OFUUtKoqOL3oo09NyYryMi53ee4ZUrKczBac2aPbrAxGRZnndNPr3rMCBpvqGk8ShJglPXS/2Llb/nkXpoYOKzJdT7eYT95LdyYKn30+Ac5ETq4ny3h2NqVWq+WnmPw1joyqKx/iu8KrZ840iK6QrXhLb/dnVVmePxeqZmlF0HvpJcBoCcXFwfO/8Wpy0MCypnqoweo331T07KZnGxGuDYIIlIxGvcGDSqE7cSIMLKSmMd9/AykwgNGnn5Qts20YNU3rMdzfEEJyevmfSUXxMQre6OoJ0tZhVH4PMVqwaJnXrcuqV15IaaqEM5PZA9YRrhKSvJ5d8s45k4q5Cfi3rLA+Rvkdt68TpfQmMarOw239ar/BR9lyfvo6irxGbxQcfjwgc1xGvo0yPBcUdMnH6Kq8lQYf9gYP4bp3CVVWRCmRojkSnxFhFEkklyJGFwFGIT/YL9bDKMPpivgnzp/U3nKnYjsGhGz4NICPUceRLr7QHDa0UFI9iQs6lnj6afaYMaWCmoTyZmKazZQo0wW54LOUfvqVlUokAaODB5QybOJf442CaImJjB+Nu3ePG89YJnijkDFgKPy0I4cshGe/48Ccd+bpXs9eOcGwh8828iFFskcNq7n6ItYxIrxkrMJNYfI/eC/etRc1eLC74+igJEdxbvRvqRXEKK7NBMNYhRidWmtEPEogW4FRqB1cEaKK9tJFYNWFfy7yGE3lJGBF2fPPU5LtYGzYboxi+IyeDPQNQfS6dKkEaFTVerIoJWzl4fukrj0KL77UGzqs0I54hs1++n66G6I8BuPBwkXgTLTnHl2LGMXHw6F3Wbr83DNW726NzzwFblFeeXlcglF4U9fDwPnTdyDcyGVU7823JaijpnA6Gklcen7V9tvXUP579995pyWM+rEuLeBekz16FsLYJWvgPHKGzn/2KaQAcU3ijjt517aw9lorxjTMBx4ABANG2SV/OAIv+JOF2U2JWotRTXvtVYvoVF5Y5nXptuiJh6O6LkPEi224gQArLoyNRMF5/5Mjts3ypKJyH3wAGGWGDq4QRfBGQ2BefingB1OAf/qngnui/zIbK/A3xFnpJ+8IqgHeKM3TuO1s5uA18j9geY6UNfXrb6GxVhQXOq7q7bJr4+DBJE0nwkKQ5oCkFE8rCs8U4yT1oi8/S6sqeKO4Reya9DIYNRTxpx/gmKobbpdNy+Chk/gYFUXBMISzz1JG7FBomJ7ChxxbufACa7vhJayQYHFrknY7FH8JMJqLvCj++gcrFUvcc4c5qE8pTcf/PRgVRJoJx0YPB3OKjxpFgdnj1BwMcu3GqMLN+Q0MI+/c87xevXIDAfBGaZ4nmWB6UM+6e+9SbF2Bsay6Mtaje/WhBxudO4dPmaEOHl4nyS4rBtsxtdcOwTVEliJJMIzl3Qhv7Jg83fVoHjAKw/OmSYRfwRCuyc7XH+OTmpX1UVbjJQVaueSJJ2oky8bRfHMwiouWgqoAguyhN1pQ6smCEDekB+4RunUruPV2r1v3hY7rWSb31kvprkTO7Dm4/nLOr0lZbs9jta3BKL6KFwLY+2dGB/apffUFGEBKqyqSgNFNuhv4iMJTeGepUHa9jz8Br62sIexFoslLLqjeYYcaBh8KrnzlZVk3WsSoyAgBy/I6EUUABYr1ZC5oGsI778IAQnfunrrtNtFx2vR6a3x1wf0PUP5dF/rHr0VO4mgGSIrz2pl9QVqDUV3TXn7FJLqUV1V7ffsvnXmnoYN9A4uaywkvoDcK4fNpM0hVioYZStWyGB0yqFLgPQjDAWHALU1zBeg3LE3hXCXUDAMY/fUnDSpw2TJIof7jdxTF0AHEzWIUhKM9Ryqa9sXXMMKvLC2yY463xx4FO41oVA2X5IM0CxgN+RjliksgzUWffuqpeGuExp3yVqcHGIWPDIX/6Xs4pubaW0XTMgV8pwFiFK5jmuKpM/idRhWaVhoaxbaViy4ythtexokJaLfNxijalyIzy1e46IP/aieS8Xvu0np1LwyFE/6LEDdhNn+fBIFubHCGDQSMuqN2og3d8VdQAEOzw2EbxWoKN2sWGEbOtddATJpbVw/hV5ihw3VVyV5E4wvP2boKPYKkOa//IMBQdNrBDbfN5HoPqJEkhxMDfxdGWYmnQ0EwjFX9e3m7ji9REaPhjN+1yYLjVyyjWZr53JPgBhVJmsuolGkCyCofeLgWjMy/S9He/Uax+4VYPgCjfQjXO1dB1AuODriZcVO57265W4/CW+/yuvZc4sY82+LffBm80VVLloP7X/71N7aibiWMMkpIEMA2brg+Onpk6QfvOnC9ijJHFDftbjCmFbnquspOncuinvfVlzbUUWFZwommz5xRusuYEIADuPDCM7qht3CLieLAaHiZ87rgttUFIdKT+aCp86++CRitHTo0ednlom1v6hUuG6TO2LZ12x0QhQFGG97/UOY0iWIkcOAgsIdCZZQ9dqOCcUJ/8mmZ6FJANnh9+iy59qaEZsCQAzbUTE6gs7E4chSdMiNguSbJNaga//ob0FvoQf2qKBo8Dmh7nuSMxx+pKq1yeU2CwBtfos+GFVn77kvw6ysqcEK5+OnnREEDf5ZqNqgHIUZZcIuMV1+HxqqurY7rrvHwHZXXnFmnmArFZTY0C3E02AwPvZQgFrzysqdZuF0EBaPA6vQgbWCqpjKffQjHkJdcBe6nw1M0XBQOAq/DMuVjT+B23S3PtJIc22Ta8s236n37VVBMClfDbJ7wEgyvi/z8eWA8i+Yu1K2I8dgTeo/ulYFACt+0sUHBN1MZt2CTzsEGwt23mSYq2rl3qFffxPbDQ7oalyTAaLuHEKhw7jvcvifnlps8otOK6joI6oOqKuUUg79W9fnnEUOVGCGkmOntRoIBKw8+1DjzQbZbj4DIxTgh87T0Vhe0jiJy1fi+4uIRI7zhO6wAb5Tj6nHRS8vXx8kr29EvuIIaMLBRkmOMRFoWlK76+puqNSfKc7jTWXvHAwQ5w/GqLPk3YJoIonFVvqcoQVcTb75R7tZn5d0Pw+dLozEvagvPPuZ1I1YWlaL7/9b7KjgT7ajAljCKM318WGA1hzvvHH23scWff2SBg1lcaAvCpp9iAlRFzjizesjwBs9Lz54FQ01FfnnCjqdPn1EyZmxYlL1OnSufeFQzjZYwCkwQORIHlkqCyG9o9ES20dT4Z1+Eeq/fcYR7/vmcie9Bar7fQq/YYJYOMXrLbUzPvjCYMy++EhZtC9wwtPxMSO8re+xGxZia9fiTereepRLtDRmy7KIrIpqp+oRpxpBEkQ7iXipFJ5wUtKIRig1oGv/aazAGsgP71tGUJ0E1i2ptMfiPC0aPq2hs9CSJIpkmGJYVWf3ucwjqS6rRLMqfek4S9AgLI/9GMApiOUpXAaPgx1XU1UY5ldKNiCongJIUjIy4FjjIMZLC83UNkObil15BjMK35FqeBPyXhtFCZT56D46hAKOm4fLgJfsHgGmYlnTwEaHJU4odK83xIdNWb79L79mrIhCEoLvdHMkKcU7zhizOnYsYXbrSsBLmo0+p0G8bGrc8RjMtDpbCb3SPiGbFiiJbUeMQnUKjx8SGDKoRuCgOAJjUpp2yjYkFv+LLL7BX33cfVHtOeRV4o0FA8xL0yot//c3VFIEWA3bM2G0iuMB8YVHqIXDrOjfwXJT/OzEqsLWI0YJdx3qDhi0yo+AKNAL+MITZtLBL0k7EnHZEePdJNYoeo0XStSOdiNqrr682nKjAkr5j286CQN5oTpQg0iqA7NXDz9JVniw32qp47bVyj/55Dz4Jny+3HS+ic088BP7Z8ip0JnKfel7ScLqszddtEaM40UAJQSchHXcctc+UkjmzIahfUZhvif6G89nDmhHjOO6B+zXutS+b8lLz8VZv+dI8y0l4J04vGjc+LKuI0Ycf1FvEKDJJYpvwIQfwz3PqGz2ebtQU5vFnwBttnDjJmTGjyWoOo9glcGIRV7Cum1G8nXr1tfzQHSCmUB96pE42HGwyPoDrzVsrxtTt++9Xe/audDVv++0Xn3WeYto6XEjwQ/H1JEl0Hd6XLDvmWCoaSZPgLerCM89Ax2AH9KoLBDxJJAVJzs2J9OgKDc8eOKmBC3icqFB0oyLpn70FxM+jw17nTo0z7w/JdjQb1DeHUfw3ME41nnkBvJUKMuSBO0/RuPgQEIgUxDVtQRidwHkO4CT18kcec3SbJ8F+se//lSCMCqbGvvQcgIw590LSQRMHDsNBHM8zui7uP4068JAKW/c4NqCbyoOPat261tU3RQV8Qd5mCTIBPDMU9qcfoJZWrMq3zJj17Esa9NtAILHFMQrGLEkMjG1tXJHKSiJXWAQjOrPXFGfgoApRTHACjyNyC7HtxsTqGmAUGiXn4UexaYqLMFJRJGHOXIgt8hatsHGfeQnaQtt/3/KePfNty3voSRH6F8tGhL8RozLPlBdDDounTvF69PnNjHki1wiE/GtWaCOCjkmxtG7bu4yrPezoHNOKMzwZdaP9ulPnX1RpOhEZwjCwn83AKMRjmiwuWwLZgxA2NH+JpyrBqK1dfrnSf1j5o89i9UqK56jsvXfFenRZ2UB5vQaW3nmfbFj2hiRpUS1jFHd+E+oNVz1w//C0aQULcSOWvLw8u0WMRlx31Ej6pJPJVDK9aD6MrmULV9h2zDv+mKIJu4dUw+vZq/yemZpltoBRCJN5mSnLbkRSWF7uQRRl6uL9D5tEp7op+zonnRiyjfgGhYc0WUEyv/4mUFKm4SuO/tq7hXYc9fIrhdFjwt16mHfcUac7ESwpMKQNfghj6c6992p9B1Q7mjd2/KrjTmQN04JoZWMYrUFfsuaoo+mo61EMuIfC009D9+MH9Kpvwm0WKVGSF+fBJ8UP3hfrQtSfdEQjRaU5Iagq5lsvI0ZFzuvWpfGWO8Oi7oLjyIKXvhGM+o/WmE8+owBGmXCa8W8e4YQFTrni/L2PUUFiWR+jKx58xNUslgY0ru1DYXDEGgb/wnPQgflzLshgFIJ6OIYB3Bi6vvukhqOOr7P0NMc0wUj+yBNq1y7V9Y0xfBpk8wSZEODqKv/DtwDxnJw8S4+qz78C3mhR45b2RqHZZUXIzdO//KpJ4G34Z6sNgZUlYdlyAD116OGx/v3LeS7JAkb9CXK0qexhrRdi9COcRVn5/Evwe1lBgScKtGVIH30AVynNL0soShMj0JpsvfuO/OQLTa7lvfgyBissAxhFhmzBmtmY4DIyT5fi/cmVB0/ziM4/S5onsE3QucBmmlX2TBCL+/LIutunb+WlV1ebZpThyFgkOqhP8Nzzqk3H3UyMgnHCqbIsLl0K2SPB2fpjoafJAddQL7lEGTK8/Bms2OWi5Dkac9dt0c7EIlbxBg0vu/xq0rLa86L8ljEKwRojNsh6ZNIe5IknFy5ZAN5o9fJlDkSpm8aoG3U79yJvuDiYjKX97VuKfvldN23vyENKJ01p0h2v34DC228FjLZwiwlGdVmh/OWNFGAod6VnKLSlS7feKXXtUXHIkc4hB9dEnBQGoOsIoi2+Ct8Zl3vXnYzhilCQ1e1Cu47yv3PEsRMa+g60rr4yoNk23n2m/XmRVgrcbdO59Vaq/6Ay28Bdyg87ktL1BMM3j1EZF+5AEQIHHlQfsdIkzViW9PijCYLQ+vdoqqz0ZIkRJW0eBm6rlq10v/wEyFU76+ekKiuapj33CjjOq8Dp69Gt4sqrw7qb4JgQrhvFK61/Nfg3YNTWnLtnip26VChyHOoQ753RkDNqLYyKIu4L5vXuk3fbrVAaTqQ5yd/fYk1CNM+aNv8ojFiEPeOspqgbFyA8WI1RXY7vvEvDCadVGTCM0U2Krjz/Kvi/pTXVcYgAsom0V1gKxKj4xSeI0dJyV3HY194DXpTWVnuC0D5fbyOC6opK51+sdu1RGwwnfd90E7a9tlhF5hctBt8iePxJif59qxkKYggJLID2t7xuey3A4MR98C7281ffgN+L83I8UeRMjXnhGQh768uq0qIUwEUALK9ogmwouua89zpE93kMFRN4GUwT8Z0x0q0muIQmMjnYK+cdfyL8XsCLnoKrhTFAwtXzGyh7JgryzlA8uFb1Tz1Ba5pBsxR4XTvvFD715IDp2BIT3pyg3kc5o6jCr79AxsB0G+bM8zQp6BjapRcrO4wuevU1zDaveDGHv/F6vXfvZa7tjd21/syzwoaW2IAkLasFjGI5WPBRKF6Kjx4ZuPDihmVLdfAKly+LQAS0btWsI/DtozEIunOeepCMOgl/I5Kin+eYlusdPq10732CuusNHlp80w2abbUU1HO8opK//AYlB4xWLVvsqWIYBucbbpYHDA4ee4J50H41sUjmtV8ZQWr4I0nyqjwcwG+/jdFMcLzWhJmMaxtnni3tOaVhh1H6OWfV6baLozg+19d6MY7h3nQjO2R4lWN7hx5ZMWXfBm3jGFUUeuliKAJ90MF1qagHR5iW9OjDccBovx6BynLwRmlRVuahX5O3bKVVXo2zyW9/YOuqaujGo08BRgujlte3d83FlwVVM8azYQbfKQ9a/2pQFJ5hbN298w6uc9cKVUrgCgBgKHB0HYwKGOfzXu++eTffYAEuRUqQqLX8Gf9GienwDz1oEETk5NPrIm5ijTcKP5oUHzW66ZSz6nFShQmquv7SG4DRstraeAv787dOkBNDF/0Fy0WlZRHZZl9/H9Ivqq70hLVeG7MlxLgx/eBD5C5dmVA4lsFo60jEqrL0688Rgmg67yKvT+/qcNjDtwVmXh/fniwiRt94FUxl2Uefw++lq1Z6ogKxBXP3bW7PnqV1gbTIk7gpMWSaD5M8Lav2F7jrY14oGBd4fM/uGm0lkkKi0DSaTK/CpSO/zTgTfs9nBU/xt7bCJU8+RuH3Gq2HUUGWi0pwl5Cvvo4oigRBUjTi7rJT+OQTAKOWj9HNCeqxelRV+Oxz8EXAdOtmz/FkPmCp2nnniCN3Ln3nbcjwPJLzHJO79kq1V5/ltu1Nmlx7+BE1ppV5ZUvb1CJGoUPyAidSTHrY4OBNt9ErV2rQYAsWgDe6MYxi4XmOklWIT5e/9QplG1ZpEUCh8McfFQjqD9in5JDDeT3iDRlaeO01gNFNe6MYV6oa9T3epKIBowv+9AC88Yh5yWXcDjtxp56p7blbYdReU3jIcpYDiiL/OhvqsfzqK5ssJ+Ybnn8Ax7qmc/Ip0j77N42brEyfXmfbEQiPcbbR37loo8Il59k/wRdzzdiVl1BDh9c6rnf8yTV77Fmj6klMhMU3Gq0nVaX/mAuNVz95clE66kE6tinfdy8AQu/Tpams1FPAG5XlOfMBowVLlzpV+NLQopfelDRZMXTl3ofA3ShO2N6QIU1nnVdvujHkIpvpM+tfDVuNZoHy117T0KNnha1H0YMkKfxZjVGeCQIveRo6odd/QMGlF3OuKwmUKFLZJ/ng/xDhA+5th7vlVpEgEkcfXx5xk5m5Uf9eKC1y7vDh9RdcwZlGhGfCqma+9YEC41Z1lSuAZ7uZwlyQusm9+ip4oyXVNXHVEd7/1F+2XJqEUGPDgrdXLLSmbTsjRjR16WSRlM1yoU3vXraWWE1RZ38Dxhm48gavT/fKYCBB4bNEAow2cHJ7vFGDe/Elr1OnxV/gc3rLly5JiUqDawmXX6hsP6KIEtIQ89I8jevceRIxqtnffsGDtVSUJyTcC+ovbWmMZg0D/g//MxRmBXoGf5xzvkd0WhgIeRJ0MSDmBgwFrVWTfpZE/bdfoClzcwpjsow9MxZxJ4yjDz+swXZtiabo9j5HACf5t0KgWoSP0FqAV43f/OBpImmb5lln8DuPrfrgA+R+Q9iLRaRLLxEGDC2IxLwjjgxPmlRibT2MSrwQCiV6dKt57AktNx9yVrRgQQQKD7WTPe4vZYoOv8kAbj278vuvRNc0a9C3WvnFN4LhelMmFx9/jOzEvR12KLrsEt2xW7zFxOs69/5HEM3BT8PsnzwYBiOufe559MjRwbPOUceNz49F1sIo+GgQ7eITn/zLL0EPbDjv/HqoHRgkM4JjXMs64WTxwAOaDjpEmnZgVSQSFziK5UPQNbMG6Av/kUEnjAuZpyDhbP9j7Hhm4uKLyB13qncj3lnnBHceUyNrHi4bxaXX64nVdfpL7BWhcePzXDOFc5e2OPNuwKjdqwtdWgwYpSRF+ulX8GsAo9HGoEd0rn72JUWTdVNXbp/J9ehe6bneiB1Cp55Rp5muhIYpZxL3f/8lH6Oca0SvvjLQu0+Z40TAs6JoEsCwBqMCG+BxCQOt2YDRnIsvES1bF2geftbCKPyXsRzh+lsAo8kjj62KOCmwUWgRwDCLs1fxoUPrrryGtayIyFKKqn/wKWK0qiIibj5GIQ8spRrSiy9DLRXWVEd1U3jvU3z6tmxLYxR82xCV6N6zDmystk4BSwCKrtv5NyZG1/T333E7E013zPS6d64MNqYY/+UEEADAINT2LCJGX3gJwLTsO1w9unzRwrioNrqOeMG56o675HKKJ7PYjjR0jQxGVfv7b8AbLYDRRYZBECpmtRn71r6l5FsF9CIcg8HhlHSJXb4IMXr51fD7z8YAeHxY4FZ4owxEWG+/C+gvqaqzJQn3NotHI5P3pA4+IOhEnC2AUcgfYPQTsBxwpMJffetZEuna0dNn8GN3q/gIMbqwPuhFHPHC88Qddiz2PG/GDGHn0Tmr38PaNrUGo5wskmDEBFH96quRnALIWdnvcyPgM8P36wtrEVDDSBJfiasNin+aLSuyWB+G01e9+klYt7zdxhaeOR2cUG/06JLzzzftFjHKKLqmvfU2RLVQI+bnn3qazgBaTj+dnrBH/YWXKsNGrjDRv4PCw/XB6QTAA0Zpy2GvuzFGEOKpZ9a64K5CtsCw0bDoSEQ5+njh4APqTz5O3HfPBtPEOycMu3rrotXKYBTKCQaJP5zo/4aYFr5gDTtxxjl1o3apgqq/9gph2LB6jvcERNt6O7/iJQ2dfv8jqBB553Hllu2JAnh54k23QmXGu3SS81elFCkEGPV3/1y1aqVLc17nrtX3PSBoimnqwk03Kf36NKUj3m4TmBNObDTsiMSQNLdRbxSuaWuJC85pGjSs3I06JEuRTJik//JGBToEKKehlmLedsOXn/4/UYaoHkq5ekYCf+P/ad3RL71SIIjUwYdWR2CsRsBwpEAzEkmGU3371Nx7l2ibtsQwkiJ/g48J5BcV2WILzwq3Rhgfaqb98JNK124l9TUJV5U++hTSX1VUFBdx/f36BW+vcPOXJXk60aWRIJjaOg23tV6t7CEbFaMZ5rMvat271T39kNeNqG+sSXMCBxTAntOeDLKmwT35tNep88o5cwCjOfMXuIIatiPa9BnSTuNXCoon0mF8SGw1RiXF/mUWjF4r83LiMt7cwm7p2+8W9kYhLUmUDEPBfUUpXRXkBbg90JJb7oLfi6qrPVUQWP8FsyCougxAM1q3JhlR42Y+wnTuVh2m4pKIO5ZDUH/oIeHJuzHRmCsygFEoX/boNglMH+eTWFHWpVdeNQkC6pD76CPPkumonTxxOjdxasUXn0GGl1fVAUaFM07lx40qAoxedIG23XbLdcOD0mXTarVa5Y3KEleSD15S+TdfRlflQ84Kf53tavjKgGbEQpWw4AlKxSshr2UwlsqKVIsYXf76x0Hd9saNKT7zRMV1vLG7lpx9tu44LXqjEDMa/lP5cGn5o088zeR12z75VHLvfQJXXSMPGJoDya7GKGQArAfwx0Wj0tFHwyhtHXFMuW164L8I/v1daMVIxDjyGOGIg+svOJvdbXSjpkXB8rGwzQmaRcDXbfi3DjgRb2UjXcGdTJ1yeuOuuzVAUH/HLUqfPuUMmxaQuut4o5gnjtc0+rXXgenK6PFlgFGBpwGj198Ern2iMyHmrUqqUkhWxa++gXouyV0VldR0zz41N98SNDXVMoSrr1GGDA6kIt6ek4QjjqxRDUdEjGZQ0mzt0aaWPPOM+h12qnViVoghSdwfFhiKd+rhlx/XS/B/QffGji887kRWMaPgTKzBKAj/YGnTNi+4BByH5EHTKl0zncFomKcYhW4KJ/v0qXrgHsXULYmiJVn6YTZgrjA3H1wMdGVbrWaKgCwAprjunfdLvfpWhwJpR5W//BJsYEVRUUKSWsAoGgL+4EGbOg7Fqqr2zfeMv1RbKC3VBPBnVlMge8hGxRime/d9TN++da8+lyKIqqbaNC+BT487JLR44ebEmib34MOprl3yVuCN5py5v9uiErZc5cgTqHGTCzXLkyFXMOqjmZPg88qKNfdXGI9XLV8SFwQYwjHPWdPdMhjFRLAqeLK4KPrIQyWqlgDDAT/K32xhyb2PwO8FFZWeJsEFfYht8I7l9TCqWdKFV4iDh5ULYhprG7ukc8RR9PidmXjUFdDXbt8ghJWOOQC7ttSHHwa7hUbhP/wY1zbF7NQJx7N77F351ZeQ4aWA0VhEPPUkZvwuhV7Ku+2m2IB+uSzntWPJcyswSouKqOQtBgRUzp3r5BTgjMbs2a6uSRl3bV3BCeAnsLLMrvwTiFCUn+NJslIXAicr/4U3GjXd23mnsvPOUGIxb9z40tPOEh2nhblRmqUtS3vgXnCIwBsV33zbBYwarjH9JGrf/Wtuud3s069AUlaPIdCAGJvDD2/qxgTcFCp92OHVtu6/a8jPIfxEHPeQw8WjDqm77mp65NBKTY9Bxv2baRuKkzTtiy/oiTvOoXkgqUNDQlBCgbHt9FHH1e6+J2m53qMPGd17lLJU0l8y+Ffv9QsGvwCj1ONPgMtgbrdjru14AkM6jnjFVRgsQzOvXBpT5bCsCZ/iDfqa0qKEZrgDB1dfdVWDbYm2IVx5lTp8u6a47R10oHbAgRWK4Qc+WYw2K0bXkyeeWDF2fNhxjRAD8AvRcMpqjOKdO8oCY1Vtb8q+VYccSSpGVGBEcFHXpAh/gIVbtnPqmSSY4377l9hmCjAKPi3JhlmVrQtEu3creeoxGFMhZqJEUfz9DzCPkiXLTEVpEUCgTEVlOntzBWEpw7ZuuEPoN7CRptKWLM36AYxqcU5+DMId/5TMz4aC8vk3GqBRMczMfroRgQOoPfsUGBj0OmPV8ogkw2jSmvyDwGOI3XgDNXho/UfvQo+tqKuIC4hRiHvg2xYu3JxYy+TufyDdo0fByuXgSa369VfAaNC0tf0OC0zar9xwAKNQJLBVsGQKYKrK5oIF0L+KFv6Z1vQwuoqrtSUw6qcANUnTpsU89xTY8M8csiasyeScX4FHy599AX4vKijwMYr31sCIkJvryU8tI9qJKocdIU/ep4yT4ixESFzIsc0TT2a3H8okoi7PhfE9DO0SZFfA+hF1R733XtrHqPjWO3FLYVw9ceyRzJ5Tan/BO/gLy2u8RFw55simSbuXeGnv8YfjXTsVBJrA39oKGIUYWZW0uXPAfAsXLbBW5YG7UTz7p5iuKatnCdcI/8ni0w2Cogo/zYIj88rLPVkWAgw0c+GTLwR03dtp+8pLLpBSCW/ChKITTgG3tKVbTCxlWeYt13P9+8ShRl540dYs6F3uUcdQhxxee8+Dke7digRx9RgCFYhBd0jg+cagO3QYhGmpadOaHMQoXiWTT9c1DzhAOe6I+jvvoHv3qBBlF67DMRR8v/qYNWI1w3kaX59Zk1PgcbICqeOdah+jhx9Vs9c+pBNPPv+8DIWlggmwAI4Pgx2JaOH+AjbEBG9o4n33wTHR7UYWR2OexIUBo5dfKfkYVZYvAoySssa/+wFitLAgEYnpg4dXnX9ejWNojimfd74yamR9MuodeqSw917VigYYDdGY2+arjudITU8eeXjxnnsztmP4d5cAoySNQT24CfALMGqAUxpJpo46om7vfZokI472tw5GWZFmLCdy4owg5HPK1FLH9Hic/OAojmIVvro+TnQqf/E5W1NNmaRUWZ47Hxq96M+FEbUVWzzQdEjgSPD1BR5fJ9lcn2dMx73yBm7gkDqGS5sSP+cnGM6Xr8qNSxIkj1tbgt+x3oXgH34xcECDwgDRoGkh7Q1S9w/kYFwgLVu44lIcpAGj8+cmVQVfq5Y5qCXBcBW/9JLg4KGls74D6pVUl8U4GSwExhqcKWxlKmuJtSzu7nsSvXrnF+BLK1fM/smWVMqwnL0OaNrnwEIYgyUeYkS0dmhlOF6RjEVLMYj5fY6naHBBBFDWdttx/fWFSMKXKbBMNCreMxPad0UT7UliQJeZ2T+hH/omLs9alJvrqRLUM48YhaM3UDY9FBNLaDuNboRhXtVj/mxr2Las084khw8ik9EIxHObEdRnMMqatnPXnUyPblCH8suvOZbaELXihx/GTNmvZi460fOLy7yYqx95SNN+UyohqH/jFajD/MoKr6W965pRCxj1K1HWFPWz7yFqWFFSECsogj9Kvv86rmuZ11KvLR+jnCIwiqLJ7+DdhqKGcFySOVoBjJY+9lTI1Lxh/aquvoJLxr0Ju6869jgn4m46qIfvaNuMn3sGO2qnZGeCfehB3XIp003ut1/oyGNrH3/W60yUiNIaVxznUqEZJVFcUeh26VXWpVtqyt6NKp+CqB9a188nG4lKkyfrxx3R4O86GuDFKDYywAXOzx6zRqxmRu96EFyVmt8WOJImAkXgGICyDb7hoWV770c6SeuNN6EH5tdXJvHSsq7JESVMCWwjwwcxS7RgGdZtNwFGvQFDiiIRT4Th1xUvvwLnHAnCWjwvqsqUrAtvvgfVW1xaHIsn+F3Ghk45odpS466lnnaqOnZ0JVTaMSeGdxvbpOoRgQlswtB4HjCaOPiAiv0PBNwbJEPSTJimwxRHAjopKCkE7xjU004kctoJdeN3a+BliNRIf41TVtiBGNZy4kcfD9FufI/dS1zT81+mh7MBjCqWlScIovzddyxN0xWaAld28XIVHKifZieVTW4ji1+wjMCTjh61JY/CcWe9uC8jGAMS513UNGxkNScldZGd9xuMOnnLV/gbVwMqkY7YaGtfC5oy64Ti3wwSDYjt/3NdwSnosFJU0HaFffazJ+wErrT00/dJRdH9ZFojxtATZ59VOXps9ZxfoMcWlxdHWHxZNjj+SIJWprKWWNvib73N6j+gqLwcElz+w7eWoorgf+w6sebYo/Md2xOw8cBWgdM+RkUtpxj6V8VP3wFGrUy1ZG13S2GUhk7KQMauvxo6dXVtkycLpKEK3+JmlXPfx73WVixbAhiF8AYxunZzbCCcq9GNaPfulTdfE9LtCFwAqssyzXMvbhzUN5CORDmBYoR2PlMP5+CKQxbt9uor+MGDwfeSnnvBiNjVyUjy4IOZAw6tWLAAs51f5EVse9r+gYMOrIOg/vNPAKM5xYXg9m0VjIpAhbc+BAtbUVuRKi6BQbv0i09jhqZvgFH8AG/EMJKiGy++QYFV0UJclDhWjXTqUnfP/U2m6g3tV3PzzSJ40XvtXXDwYbLjKNCDYLDaSJPDp7xtxP83Q540KdmrB3n/varl4jum95rceOTxdc+/AjWSxzJrYRTqkaVFSfh5Loyc+btNTo3btVyAcBv7TBajbkSZOFE4+fi6F18FQFSzbAxcIpyi8eUfs0asYcWvvwWi2sqPPhFkf69+30xZ8AsOOLBo/wNIN2m+/yHgI7+qOGFKyWcea7z99ipL0wW+ihGCaNaM5Jj2dVfh66n7Dy7UNfDpArYjXnhxBqPm/DmOJtOqwb/wKo5S5WXJWEyYsGfwuCPrTDkeceTpxyt7jKtKJL1TzwzvPLIRMCpmMNq8pUH2SFlP7Du17NDDFdvU0Q9lwpTvjfpxvb9BNXR3gdF066Jz2JE7VYpqXOCCGf85I2x7GNWt5GFHNxBEAqKHiOXhPjG0BPRhZKEUMVr6wfuOrkL2KZ4iV+WBeaz6+tt4ixgFcKqq/dC9lccctMq2XLb5l47Q0BnOOjcwYlStqLqGzC3+A8iSt3hpQpQYfIO9CKUg/Y6ZPQEEfyK/IIvQoQRONeFQGBygXPDN2lmCDwSOJSVR0NXE4CGNZ5+idyXID96yNc1oA0aNxMknVOwxOTBnDi6OLsp3GRFKwtD+C7PXvl7rBMMzf9PNdv8B+dU1YBurvv3SVjRR071ddqudcUqFaYH7RgJGoaUElhQg+hO1gnKARcW3XyVkFTfe9e3Tt912XH99+SlARfG0bauXns8TRG1ZtScJYUOXPsOHVudlFmYt+hMwipNFfsVt4rq467e/91LRM08LuLsqNBZPW7p98eWh3t3qvUiMFUm2vetG4RzAKJxrWfFLLuBGjoIBhnziccPW62JWbOqUwLSj6pbhbZvfV+R4jmntv3fjtGm1iZg3C585LlyxNLV6PqoNV28FRjnOMISnX7QJIpds9KoqgNmVn3wcNfRmMQo9LyAzvKI6Tz4fAiLokSQPtqpG+/UJ3XRro6F4Q3rX3X67lI57+04tPvAQ0bJl6OQUxJrN1xp+7JjJYw8TDjgoOWBA4PbbOM1uMp3I+PGNJ51Gv+s/NkdRq2c00OkgRYbSNOnFF+2uPYuPOyW244ginsGZ7NXmBd6oMm586JQTq979mAX80VycE0UR+pr/9bpCjF52VQCs54mnJM3fHdVPB73RqVNzDjyYjqXML7+EYaawJDfuRbwxw3PHTaxXVQ9rA/oyzgEojuWc9z8Ijb0efVfphsey9RBInncuYBTyr8+ZZaoaY5jCE89ZROei2qpEIsrus1/o0H0rTSkedaUjjuD23rM6lfAuuJgcPrTRsuMi07jxwAeyF+T15J6Tio853rZNdTVG/X2p/c0A8b/QMzhKU61rL9eHDSsRlYgoNPK40AILCNXuY5QzzeRBh1VBPsePL3AsD8jE0/jObcBoEfbeki8+djTo6AylClxePgTdRV98E9O0FuZqOJ4x1Nj0E5sG9uBirsFsiFE8O2w69oknN4zZNajYBmB0GfoRq+YvjMky+jQx21PFOGIU51nA+vEc+A/EC+isCmywMf3SExUMlWQFOjNbgaXD/+KfLAOpUJIoNVV73TrVPvRgoicReulZRQefzofResqet7agFHpi2gGlBx0u/TYXyp5fkGuzUBc4Q4QYbSWM1xJi9NprrIGDcxtwL5u8Lz51dU2QlNSOY6ouODeIj07i7BMiOotRQS3FHSfKPvlYV/QtjlG4Ds5TAbgjTuSk48DtKC2vxpcdWLroLz5ZMOtn+L38j7lJFfCHccqm53MgXFNyl8IAXDT7lyhv4r1CnseNfq67gYFSeLEkYlQI/dVQbZF/DjayYydOP7V+4uQoQdQ/8ajpGHTMSk3es+HoE2GwhwzPW7zcS0QiUycHjjs+lIylF+K9nPr5f0RVFewQrX+TpVhHLWIUBP42f+/9kc5d86igV1uFGP3gvai21gZ3mTZDgVkJjMxwluPedXcj1JQZi+FiSy02eHDT1deGNdXr3b32zrt58KIPOqh46v4waIA3il1oI00OAQznON5+e9fPmBEbPqjphut43WYsOzFm1+rTzwl/jDfdljQ0rI3RsMBA1K9ceXVi5E6lF15hDx2cy5JpcF4yEzTQ5yIJbcyYpjNPrfruRwjGCxqCSQHCdbD5bDHWFmuY8f+dD9YTuu56Q7fNTAXzAmOZ3t6TCg8/goyltJ9nQ7UUlRbFFQ46ZPH24ys52eM4qAlsEihdPJI46dgwwKhbrxyoBJ4PWLZ29hkc0QlcGHXWj4aisbopP/yY26l7SX1NKh4RjjmGmzixQBMT0Yh8wAHsAVMrEinvyuvCg/s1KkpUZJo2glGsSJw1lBPjJpSfPMMxTRknRgGj/lpIVOYuKsuH6bCqK7fcKPXpUyaKSRH3eMqm4osVWd40vKn7gjfq7bxLIfwNtQduEMJKFnNwS47Cb790VRVqj5Z5tqgEMfrBxxF/vNkUQ6DnKGr86JOaBg5gYlHcYrIZjPK04SSOPbZ+jz2aDAvihdCieVBdy+b8Ad4u9EZvwviPZ30XVRUoLmAU4AJXRDNCbwScHpX398T58bP3VFM1hTBwE2KWNXYGpqXiLLaorlwGQUDprNlej261jz9Km4Y/V76BNjRRKIWmJiftXjjjVGfBIqiNghU5NsS1cCADUdlf12q9WMfhr7xCG7pdQUMYXO+CD9+NGJrKi+nhO1Zdfhmpm+C5Z6YoIG0SBhNZUOoQuMVvvamaupGZlsym1Y7rrys8HzDKhQGPZiR28AEwoNbkFeOGZJYpvY6zovP/8Jc9/fZTUpVJioYabQGjqqrPniVD0VblxDkT96+FH1O2b8W9KyvS0RglhnBuoJ2Zx9OgJ0cieG952mHQKOUP3Ku4DhdzUnvtGTj6xHAOvhN/8ZJlXsJN7j2x6eSTSTeaKCwAb7Ty51kRRSXRp6alDafdN6bWYJR0bOH6GyK9+64SBa+pFrJV+cabFkRttP/yIjTYrJBCDGtIjGA5xk03QaWUOKkYOj16bPsd6i+9lFN0j+jacN8DrOd5hx9RtNfelGWpgKqNYhQ/5N2ot+u4wksvVHcZ3nj5xZxu6JbljRhVfNZF9d/ixuyLKiDKWD0xjJhjWT2iHH6MfNgRdQ8/bvXvk8dSaY5f01GZWMraaWTjBWfULJyHW12U13qSqOM6iQ39ax7oFj/hNBgStBNPlJ247R/BgW9rqN6kCZXHTQ/HUsq8eeCXla7Mj/lvf2P7bV/JSimc4vGbgeECMSd59DQYbL1O3XJV2ZPlsGk6M05kBvS2iU7sV99rssEahnb/fbGuPcub6tJxVzzzTGWncatkNhV31cmT2GkHFwFGb74z1Kd7UBCiEhto9rljKDzPCjIjqXx8lzG1Z/7P0Gw5xIYoxKgPT98Zxek17IusZoUffljsTFSLrCdxCKQ1VQC1IXGcrXm774YDwI4jS1Td48SAvzCaFmR2Ge5LXzD7B1vF5W80eEZluL64+I03bd13i7J5ak7Qc3QjcvARZL8+TY7bHEb9qjNt77BpFfvt0xBxeUEKLMM1QHnf/ZDUDboK2bHsjpm2aSg+VgCj+Kx59lxaFzX5e5yvDO2zR7XneAoMJTB84MCWEQT+InRhTTM/+gzMoKKk0uszuOaW2+otKwrtnq2FtdQsRkUpsdvOZZecay9eht7o4hwHjAMqA+pxdWbaJNZ1xYsuZLcfURzAV3QUv/FyxFRtikkPHFpz3XVh3YxC5eP8FHrcJIOP9Cr+yzxKnn1GjGoGy2yZ9w5kBAXgmTA+mCdwqpsYu1sxQYRz8wGjZMSWX8KH039bgja/6Kdv0poKZoZRwCYLzmq68epb0BdKgk1pVoHBDdJnTcW65wFwVspjsWhICpGcBFxpXwWCKUCkZUW8KfvXn3RqhOhUeOvtvOnwtp7cY/f6Y04IFOBW5Svnz/ccIzlhTP2ZZ1FOLFlVCaZb8uF7jqajm0FTgNHWZqA1GGUMQ7zwAmPoDis03autjHUiql/HfmJkrrEuRuHSggQujKlffHFT316NTjICQaCox0aNqj/nf4ygQQGqH3yATcW8444p32OPRscx0eo27o1CkSIRb+iw/OuukyeOrT/3TEq3YHhODdyu4OIryd/mQIKLi0o92ceonwT0Z45X02PGBc8+v+GZl41uXfLqa1MsjKj+VcD8Ygl3h+ENF/+vNncVDEG5uSXANfClhA0xKoA3asSPOKYWQu+pU0krZvsf+xjVvT12LT3hhHA0LS1enAKgLFoW//oLDdfN9ChkeHDc8O1x0Kw0F9TkyMFTgcVelx64UZMkUZbhnHAsud1gaDzx828k2eQsU7vrjlivfhWhxnTEFi69RN9uxzyBSiZcZfc9yCOPLIsnvJn3h7oTtYIY8zG63hsj4B/+D8tLrCSx8R1H1l5wiaFaEsk2AaVw4gRvYtJQp1gNUFM8Z9jc448LkHmO9iR8VR2yIaMsRnVv1zH1kPPhIwpk1WOkAAmIgXhY5hbhRiq5836FOEiGw0WBq6oFb7HsxVdULRNdbtwKwVI0MzL1wDA4gG7UXduHWi2oO1ozvAP3LT30wMaIK/JScOUKaO68r79LGBZTgG8MrbjsCughGj62ygbZtTHKSIImf4O3kgPws2xREhdh0SEGj8kKPFO0TVN78AG5a/fKMOsNG1Fz6WVltp1oJUbBDDguseN2lTddqy1diYHqolW2KIp8OzEKx4M3Kpx3Lr3DiGLID3TsV19wLc0JhhO9+5fdfbem6BbLUtDBsaFx3ShiFNoOjnziibCjGQydtfP16hOTzubH/3PNfzYpOAA8I4hRKIg2XG/48EKCaMLH/AXSMcXnX4Ei/7YSH7RZ9u0nYAZB/4Vim8IofG8Y+t33Cj16VnFM0t+uH2Ig1pbsx54kAaMwhpFyBqP+4W0WnCdQnGC53vhJZWeebfTuW3ztdZxmSKbujdmlbPopZDluWbns1988W0+M3qH83PNJO55oaABPqPDZp004Eod0GKlaffVNYzRT7ZKuSyeeII7dIw9y1oD9pPLFV7XmMIqdEJpW5CAsMk+bUbv9UCGSjogQ5hvRsWPrTzmFhlAXauqpJ7lU3DvlhNpdxlRZluY/8rBRjIIxaJrXp0/uzJnmnhPKTzmJiSZj4Bb17Ztz1fX8goWQ4J/gA2bur0ESPBeA/gxhTq9eDQ88ZT7/ptq1c3F1ZZr3vVEQxLTRaGLIoIYrzq+tLAX8rZi/JKFqYJmZF16uI0GAwTM+ZZ9qgnBGj6JpxcTHZ7D/sLri7TKy8IzT+GhSXJUD2Vj162/xR+8VCSJGdK9qCngip7M0vs2bYgJxJ7nXhDKAUdee+SzO5IZ1zT3qkMCoHaA+xY8+Y2WLt031lhtj/QZXUsG0awk33KAPHlLGBOPJqDh+t9D0EypiUe/hx8HUKmQp4WN07aAe2wG7lv+HyEk8HR8yvPaqaww0CwjqKZYC/qE3RuMPeKPAEZY1bP71NyVgX2NDGj367Fs/UYhRRrQ0b+SOFZDzIdvnQhydxSjDATnnL4FYeMXSP5PKaozWNnidOlU99Ryv6ZafpWbbFIXeqBXZY0qoE1EaiUXXuUm0WjxPK6o3Zc+iY44IRlxFkML+G/OLPvsmadjMqkL4mzzheMqOGf5sbxBvN2XTAYyyiqa/+zEcU0MQ9tkXVkVdD/dbXZMlOIQPiDRnWNr5Z+ijRpcZgIkRZWeeWWJZbcAoQycG9a26b6a0PAeasnjBckMQBJES0dVtrlCbFICPgeDvrLPIETsWsfgqobIXn3ajmlvfFOnSM/fhh1zDdKGqGX/Ay6wbFQVFwDd0lj3wUL2jgyuFGM0om6qfD2gyPzaiFRn3TsHSt2JxJpgTTpcDGcElkL0BfcESGpYu9QSBtBT22RdsgvijshqunvfRW8CEMNmSNwq5MB3j7P+pI0bXKFKc4etwQRrLOqL9/HM4NyprMVoKUhvZL6IVwrk5lhUd19tp7KqLroj3G5BzzdWiaUYiLj45efIZQhVOJS+dPceLuskdtyu+6Apad92mYKxPr7IHHwDL1f2bsQEcZ1unlrxRiI0kSraVA/cKTdm7xI544WCqE1H+5DM6hEKZxTFgW1krA0E1Cbgzg2M4xxxRP2YM58QdGJplK7r7xMrjjuF5FQpQ/NzzuODp9FOrR4+GAErFubqNYhTanxZlr1unosefiE6dXHnsUZwbT+CrU3sU3Hib5PNrybLFnqJkMSowTYrIFRTB2JL/1Y/uGx+Ce1hcWoyvtUBnDEXH4nbfPjVXX1of8Gfxv5/tKKqBFrOBAJfQ2LuPB3fM7t07WB/MPs0NhiiL3uid8s45m4vExXzcv3bZtz8lTz4JMAd/lxYVejL2I/DFFVaiIzFvl9GlRGeP6JJLBj2Zpw0tcvghTePHRogu8gcfC4olAEavvsIdsF0hS3sw1N89U+nVu5RqTCdcbcTI+tPPqkmmvGdeCgJGaSoisY1+UJ+pI2wEqHpwgfzblBy+zImK9xtUd8OtWgaj+BAoBWE3lBJXAcEZ0IVgxIVyf/ARLjPAFXO42HPNUxWQLHi1oqV42w0th0IN26FiLYyyqsL/gvvSr1i6MCEp2K3h8k3hNLh1Dz7I67ojcA0yL9B0E7QvXBe9zbUEYYZqRnadwEF0EsGlglCS9Q0AMKqq3u5jC06eLriuJEpkIaIz9+PPU6ZDLsJd2tT992/S7WgYd1+lMm9XhRPxNwN5YN94I921S9lZF0K1zw+TUEAxDB3ENwM4DCpCZACj1tS9mUMOyU153pjx1UcfVWRoSV7IGoOfkawyZ60tQWTCwVjPzuXPPMUtWwlDcskfi0xwm0UKrK1NGM0ciRi1Lf20GeHRo/MkzevcqeTZJ6yoEa+piROdC5982lYNDYcIbCPEKLBd5GUdtwGqufOuRkt36dV3GrCS/xKkH2Y4kRONXxfGaxo8GGl5FqDXAkj9mhRxAhlceXzxTwkMXfP/9CSRtjXmiacdMPsw+sK5775hqAYdRoStj1EsFfz4bUMyoWiC33eqeMiB1YYS9Uc+PMQVrbfeBowW8ZIHHKbbGdGDwLBx6ws34g3eLue6G1PDts+55FLZMG3X8kbsUHnu2WygETK88vuf0paWGNyv+KrreD1ih+nYoEGVN92ED87h2mq20V811yq14I2C2VAizZrSlRdW3Hl7vma5ISrVrWv5Y48ZqmrTNFYBHJQxOBTeYsIHGRJWbN9J4f2mhCMQ1LOUYsUmTS08Ypoq6ljjr77OJRLe2adXjNwxaOgyRYWhyf1+vYEgMRG8DDzrtVe8aQc2HTaNsyIpiPU6dS6+5U6pFLdzXj7/d8+/v4YVLzBB6OFzcO+y4pUrkx9/YQLUCvLj/nMvGdGJpNqtS+X1VwU4HPALPvxYV+Q4OGnZUqwlUYTRPj56ZP2okeB5kQX5UejNkFtBgIO9nUbmXHgB50SFEgwTVr7/mTdyTNGksfB3yaJFnq7gdvqAAlZhFdcbOKBk+5F4WLAOp5Z0LXLYtMZJezqdu2vvfiAplggYvegCbdCI5ZLg2Yb42GNKp86F4dpUwnK2HxE485zKZNp7+Y1GgqijyZjMNa3BqG/rYIq8SFsyZ8C4I4gBmoz37Ntw2z2ypstgu+CNctRf9g2HQ33Bb1Vjv/gaqmhJUYEnyP4jFcgvEByFGDVF8EHKiW5e/4EVMmI0lMWoyn6Ha0QKclemZBVPgAuE2Xjv3jV33i4YuiVL9YYOeA2BTeI4ua5YhlSNyKidZYJodCMOeKMbKoPRXXbIP/M03XUESaYzzf3uRynHDf46F7Blj9+1TlKTrIjc5PHeCwoqBNrH1QOvvAge4uIlGHUuee4ZU7cdSBWu7iMGaCoJADspMWBI3XXXNnmeN2U/5pCDyzQVX+DsVwJ6oGvkp72ORJEJNsU6EWWvvc4sz4H8lP6xwJJEVaDAeWseo9m0Viv7KbYgVCD2IMu0Tz2RGrPzSiPidetc9NQjZsxIVpaBW1D20uu6biv+gIGHCjwF1BJZyXF1sIobrg+YegK8hLWSXSP4hAYYUhz0i5/ufaRRgU6CGG3R4UIqwQgtK3QD0qcKgqfffvU0kbF19rFHYBzN4UX4fNm7r9iaKZNYY+tjFK4BDYOLwMDiwP/QzB23py48s8jRYwDozJyBI+iffAEYzaM4j+eMTT6ht2lBhjHBSMTr0SPn1pneyFEF510IVQROcHr40IbLzweThAwX4LZPcqJPj/Kb79CNmE2LsRE71l54XthwHAqXWoR4fyF5a7QpjIItQioUBxijFM2T1RiMEiTtAUYfeFDSNbBIn1xo7tiovg3gf1iBBYxOGBM6+gjadiyRwQcND5xWfsC+Aq9AAXLfeU+Ixr0LzqkfPKTGMFQAKPar5swUUhck8FzgrAUffOAdcww9dUqjHU+rBnyy8sEHtSrcUn7J3F/XxmjYMPhXX4BxMre23vsGn/Iuys918bkXP7dAj3jM6UzUXH1lE3j+kM6rrwJNnI1hlOcSQwfUnniiQhC1f/xuiNCbacoPi7xh2624+nLNdsWaRq9L1xV3zfSIbgvuugPSzJv9o2cqtOA/+kwJtGR6XTvnjN8dL9dU64G/rCnxA/av238ft1s37fW3RFHnLUM5/xxlu1GrgFaOLr/4ogg5b6iMQmUOHhq44LLqWMx7450wmHKgKaLwDWiUfp35GIVfUgPtFRZ5IqfyQmMoFO3Urfq+R2VNxTv1uF57LYzCfzIYVVTm+1/Al/kzb5UnKgJuYwWtiIKjeJkVDdHr3aOw90CvV89CSVyDUV7XmI8/BYyWlBZ6goT4RUDxif79q2+4vsk2E4Xl+kMP16tyGio9Q661BM1NaaY7dDvoOfW64WZ3O1hXPD7I4Y3erujC82zHEQWJLMeX/yx/892UEwl+Nwua2BjUt4Tl0/jwJfZUCFP9gAPNgHUN8pnHgT7LGM079vDgziPLJMMDvq4xNjhBFoTaWkiz+JnntHgyddiR4tTJFaq8DkYzmVlX8CH+AEab6gFMBR9/xq3ACYfiX36H+lb9p0GbwShcOvvXaq1OP4NRrEbLsE44JrzHhCLD8fr2rnzobgUwWlYMhc1//R0YCSRwXzKlFP33NUiMFI/aRPe6q68K+qtKM4PE2sKL4GpfkSYpSCf8v7MAK4aAt8PXy0+2XHDGmg8YDkyHlCWyBO/MQFgm/PiDp8ucY/IP3AedazmHXmrOi08Zmi2FBTi1WYyyNI+v9VZ0o9LfM/+VVwRD0f0cwC/KFY0vv5KgzzaFPYFT/DmndRJpvbAr8KEodu1FDz7pjR5Tctb/RMNSbcPr36/82otEFlet5nz6dVST4z06F995r6K5sqRbu+8ROOHYesNNkgzJ0VC3mInWaKMYxfOxIGCW0PQQJgBBFXwwg/W6dSu9517O1HFRiF9W6Hj+zZksR32M2vGdtms87WRGtwyJDimGc/SxtZMnhVkcuHI+/lSKJbzrrmQHDQaMahBAwSU2Zq+CwDfiC6f+/OJL75RTxAm7V9gJTzGxjp563PK/WvLzj3HAKFoW9h9gN3/LtVaf/os52fv6Z8BfcUE+1BN+7x/Cxt1oJ6L2hmsDiSScXvDUk7Rm6njDYV3B5XE1KR3t2aXkRnwGqe7LT2VZUTMYpWlv4MClN9/gmjb4fl7vPitPPQUz8z3e1ljx8YeercBQCw57IyMwRhQ+XLbvAfB7eU0lWKGkKYl99qk79JBo957qK28CRlnLlM4+Q9pxl1xVS9ua/C6+3D+vssSMmJHe/RovuroCMPrRp8Cd8upawGh9FqIoLJQsu7c/UU0QXxlaTJAaGoPQYUoee15RVZlmQv597GYwKqvM7D8SkO0Vy2CkhN62DkZFHkYxr1uXnO1Ge736lMJ4xojhMHzJCKbBv/MeXKKwrAQwiuuIWBH84eSQQTVXXIlZvf8xEgpbXxET8BUmG2KUVo3YgEEB8EY1IyaCBa2+8F8SKYpKbde35JYb464rQwzrv4hl1auvpSPx0KfY68ALW0myXojHx1txTbrPayidwAYjZuiR+yCHKwzF++ZzcBVz/1yeFsQwHOObAVhsSJPkpQshzqj8+ddY0ouefrY6fmytLON78DNZyBy5ruCT7I8ksfXVCLhvZ4k5iNHSn+cohqYLMMStg1E8GIYK0xRFiKbXKunq9BGjmCOOAYwef0RwyqRy3fKGDKi/9zY5YqaLi3H+5JvvHVnjmHAICsnR/hsIsdalRDTWs3/NhRc2qYbb7JoHuAjEKJzMVDdC5BHYfy/LclyR1tYJ6jGPmf9nZj38jIGryAdZoVYWg0vx1UYwilNffenpKu/Ywsy7pM7EchPvGxc/+Qh4ykIY5402hlGSEoKSqn7wggqGUVGfxFkvLgxUgcIARr/9BqC8qroJ/AB8tUbm3HYI7zcKTZaPiOde8saOqzztLNEwFMf0evUqu/5Kxcdo7kdf2KoS69K58L5HZM0R9ahy0MHBA/apAxeNxqGIhITWKcbG1TJGsxNJ4CjjijCa4SAr5Xfczhi6i49S+McAOHlWEfiAIDTCaARxfSIW6dm74dJLKAsqm25SDHv6KbW7jqvPrMz4/Gvejaauv4Yc0L9WlXHKnGbI5tEPQb1ClaIP8ufc37yzzhJGjy43I9Dh8ZPnn7VIfGvxgm++TChq9g6syLGGLU8/Lrz7uBWRuPf9H9DZ8pcsiqvgAfriBc4x4p2Imttvb4A4Dqh0392NumH4kxN/2Tce6XujTY3gc+U8+Tjbo2vD008rmoYYBTeEJCHazbvj5qhpiZTgDexfMGJYumf3onok+9LnnovrhuybaZCTQtAlILo8yedsRZWnKaQiJSfu2Xjs0fE+ffmnnlc0U8XXvp8s7jI+V9bTuiJ98TkMAGUVxbZpRHr0arj55loYYL/+RgCTLa9KytAa6xgr47qx408DKlWwVFyU6PoAZLvo5RdFTZFpNrwxjEoKvRC7x5I//khrKr6aI1sFcAzPCyKwy+vUKW/8RK9rl+VQ25IQBiMFbxRy+/LL4IjlVJR7vEjiRBLeS4wMx60A8CHlc88FvtCffGXJCi4NzuBztbBbyWq0R08oY1iWUv6F/6p8XxwvcY1NHvgLDz4c0QxeFJgG9ByXP/dCKpFk336bxbt5RHlDvSfJPD7hyobRYNFeYTRloiY98xalW488VfZW4mqk3Nl/uLL2V+jDcwFTVj75FLz+4uIK142bF18hDxveIIhxjEJ8ZY5cV9AdBI7WIQGWDZUWAZgK5/yh5+HUQemsn8HfUuHq/rsJ1tQ2PnMVDHqnnZlTVetJkl+69dOHP7BNTD1y2GHhKfuUmo7Xf2DlLTeJEcvLXQWVuer7nzVRCTFUCAN3dDnxlprASVHHHbF9cMZpNZoWhYrdMM/o69C8JMkFpRB5kEMG0hBfipQBh2YziUE3rrPHfSY5QXMtfCAJtwITgiJ4DbSqsj/jMnswP+njzzzToNyocOvtQvfOK12w7U4l996vG7YJwbh/8XUy4F8DcA8YpYyoe+Q0as9danklCfYFo78PclZTlHm/wXhWVFLlKTy4PP7H7RGUHsZARsK72fNfe8ubOLH6lFP4mOO6ttezd+mNV4OtoRV99LmtqalORNkjT+mWa9kx8aST+Im7VUua5ycCcGttHjYd1K9VGX51o/Vz6f59ym+9idO1CAIbP4b/AwIVXgxj94LDRNaJukSn+muvbzBMi6OaFN2ZcXb1jiNrQkEoQOU3s1g3Gr/5hvDAAfWSkMQFT/iU919X+0ssJ2qhZfjUwZ/Ll3sXXsTvuEM1mBeEvfDJqy+ZHLq3Sz54P6oopG+WHFSSpMbGj688+9Qmx/H+WA4dNff33xOamtkEgEOnQE107lR1x+3ViNHONbdeV2MZNlxrjXGD4OKCIIC7UV0NjkDe268z43ZouuxqwzQVaGNRpKEs/XuW3HN7DF0MzdtpJN6H2WNctYvD4Py7ZyqqbQX9TTd4rtFv1KUXXwK/F5RUeorSKPHJ3caHTzwh0X8g9ciTmmFbpskfeyy7+6R8xUirovTjDzA4lxfnR3Q13q1b7T23N0Zc7+fZOCoUV3oir/sVlqk06POMokcnT4Fva8ONniTKtQ3Q8Uree5WHIHMTGBVlOhfflLV09izPUGScnF9dfhpqSuYoGLo75e+1r9eF+DNEezIfAr8GXBTL5J9+Cti0EoJi3xslGZ6y4/bo0VVnn1UFFTt1ItR87KLrajQdH7xZ1x1FjOoGUBhYH2YZxChW1DriBIkrx7vAJS+87IgqJfNCsBEys/Spp1OJtPjsc5y/sUtw2QIYliBOCrF8I7IRSwexuxA1+Ruu4fr2L4TKLysBfOR+8qWiKDjDkAENeKOOrtz3sN6la0FjMGG7+jU3yX0H1vJ8fI13nDlyXa3BKKPI/PLFUIrShUvMUlyAVfLtd7KmiQLUBm56mz0XRlNZoRfhXvGLvvnew+eom8EothB4K5YWO/AQcuoBhVbU6zOk5JrrxIjj/fkntGbhL/MUSQKs0TxEh5gsLniC0SbmWONGhU84sdpW482GouhaMrwsqktXpAlC69KdrKxOiKzmzyX7h7Mc5e/oI3JMZVnyuqsqaupjsoAZCgpiiMe5+0/xpVhgk8Y7H6U0o8GKiNfewHXrujwe8bp0KbrxLg3fc4437daXfxFWI8OcFCRxBmDl3TdSqh5lOZ2B+B1bmuM1cbkfFuSXeJogQ4YzyqTQFkFJYZiSSFy9MP/9j7xJe5YddywEoBHwT7t0L7zxBlbBKcFF731oyxLURsnjT+qAKSsin3euNWJ4viR5OLfF4U1LuH5rsrHpW0x/KZMMdAaI2gb3r7ruarxDQjEkLubGO8BhFvfdTnOKDVZMCazlQvcov/PuBsOKcPioTPyCS+sHDK7yvYmSWb/I0VjynjuFvn3qeBpf6knjqyngIpjhv7LsF0LS6Pm4yfbCykrv0kuZYUMqDcdjcTyZ/94bjo/RFa+/Zun4bmM8R4LxmkoMHFx8682CZScXrIS2KfxpNm5J5dsuJ4gceIKQvfvvC6Y9b+CgxsvOKYd6BPvLWLavTC/iJImpqMAUvv9GOWhyxXHTDcvCdACjTY1en24lD90bM0xR0LwJu+MTkzNODgFBevZccumFrGo6FCdDYyhymPa95utuwILkFnqaSqlyepfRDaeeGh80lL7nIcUwAaTiYYeT4IaoRkoWxbm/gskWrlgSk5Uk0ani4ftw/ezvv4PvU7A8H3AGNIfKztQWBuOKkezbnyeIptKShKwIVfWI0Y/fEzbtjQIB/Tmv5Z+Di6EJIrRCtgIAozyEgWEc+ZZNOxR+/04hRsOcj1EI6h98INq1W2447IkKpg6wiMTtHXcsOvnUkmTKG9Yb94U64EBBkSNQCcjOv1AK2KVFCXIIdQtBqIcYXX9ShZNltqgYDL343Q9NxcS9GTAznZc8+VQyGhcffwLGjARg9MsPoT6hLFCgUKZ88EtkadegLzw3PGi7Mt30Ao1xGAtfeEkGM8jMIMExEBRHbfXMs9TRu+TzYtoyrdsfFIiulSwbFYXMwq9mexDaKLhqDB8GR3v+XMhD3qpcqwKJn/vVN5Is8QIbZHDRbfZkOFhR6V9+hlGn+PMvPN3A0mUKudYF4A8I+ihTi++zf/Dgw8qdqDd4+5qLL6Njce93XBRRNG+hKUlhnHD3MUrzYX+NtBR37YkTwsccU+Oacd6faltP2JEYXpXUeQsht2Ak9NxfJUVUaWiINUegPxrSJW7WdzD+Lf5xVlSV8V0o0LSkENZs8Y03wCCRpK+86ehmoxHRrrhG6tFtmZfw+vUvu/omSdcdnFfxtV7FQfIyRekq8+330GpLly2NCDBksybDk+A7gkfNykLBCuiVFYtXxHTpr5fFN9sAmxS0DbQeV9eAfe2bb72pk2sOOyQYtyIO0jPvjls5NwZ/LHnjLVMQUvDJq6+ZuilrhnjTTYm+PXPBGmU4H83pr0tvOhutxagvSIkRpeSQgTVXXx5CjNJh6BcQTIVlktWTo4cs+OAjSpU0kqdVAwb/vEefIkXVACdWU9OXXNHQp3+1/672Ygh8IpHE/XeJvbpX8nQCeyw4CND6yAU/85BrzDi2vqKz32M0sSBEetdfz/fqURRJeCzedFr48fuOKMEf+S+9rODLPSGcYXhJ0Gtrkl27ljzxf7S9BZxVVdc/fmmQFumQUpGeIQaYYWDoBsVu5TFR7MYO7EIfWyywBRSlu6a749bp7nNuzv6vdQcUfZ/nfd/n//m9m82dO3fOPWfvtdf6ru/a+ZJiuObxYlxbsnmzo6nYNikEBLcMxln21BMUQN7gwaHLFpdbpsOzVItmo4ojJ4NXiIPoklIDkGv3b+bqpQ0Xjg7ZtoI7u4lMfR3p6Ct54amoYUiyRcaPq/D59IcfVpOEDBxQvGo5pelRigPOQkmCvxor/usjj2Cxj51Es1el5nMHN1x+Wbx3P+beRwTNUG1bnjKtIWNapWElJYHft1cHszywJyqhqyh7/mnJccmunYjpB49D4CNjN8uplmYhPGJEkHkTWEherq1oUnk1eLLizV9ImvzfwSgv0dU1cP8TH35ALJ07A0ZTHEFumR2yb+kyeN3pDxGFa4FRztbFRx6OduyYBx5CkIHKwANYN2qPPK9y0dKipgbS3lczZqzToS3cyIFnczQQ0tSifkzwcAgyoYQqwGgw0AzsDxq85cl/JFlhjp4Arlf89beOaCCMMhRp1fbQU087zcS+736pbTswA/6152MGjpeEsHP0dO0Ezu+azGWrQ+cMLLccEgom2p9V8fCDiqFbGPqgdnEQrcYiatoEavrMEghybd156lWAmFKa8VIwCunfdI8B5OCcTSBq6reboYT5RaWRimpAgaNbvpNksELW/zcYVfXQt98CBvk/+YQYJtz5X8Io/EJZWnxiuj87p9KNkN4D66+4loonktu3w3dL9x1y8LAZIDOUDKr+B4x6lpOWRmfPrHKMyL+DUbhal/WffwH9oSEw//SfnK6K9OlzHvErbFhigqbsps4QrHltYxxYs4yD1Q1hsR5g9LkXmBT9d195TTHtJst2bvqH3KHdYZIgPXtV3nSHaOg2TtNPTcyANm65cyphLUVaiuvuDdfofc8pZ/go3JeiRdzfOgWjjCQU4+TF8l37bENuMdW/yed/mQClBFFiyzA4OLTjNzJ9ij8rMxizPRdh9MSD9/JAR+BPb7+t8yLoz4n3PzJ0k1F18ZlnYh1alTXWERknNUpgAP+qmf5F+k9hlJMN75zeNTde32ToURwxRHFRISnkx5lDlQ/cEzaVSJgPAzEGa3/7DVrSDIYNAC+79Y7GDl3qK1PHze/YqXoR95n1Qse2VUyAwK1B7jjKChogBoBOow4rEqsqAsMZGvX5FqASu3iRrFsngqaCevmx/3H3li+jsgqCKHr6KdE0NBzxw5EWoawYXG7lh59ZbtQpL4OGL/3sM4DRU5sAAPFJdY4UP78hTJrJhaOZuXMqMR5JgWxKaDhMxjMmz2mSyBTkgQYfP3LEu/WWhp7dKoEsoIxFtq6WtG9V+NKLLrgyxSLTZhRBQP3Dl4CiZGJ6Tc6ssG7GMS5mGSBAhakFc6+8Cq+HDx4luh5W5WT/flVXXxfpNyh45z2yrluOZY4d35CdU2ZYcQhLTh4Hsla+Y2tUxNKWvPm6BOT6CH5Y+PteogoajxFdS+uykiTlYt8cKDq7e6eum1pxGYBUxbffyqos/XcwKtDgn4B9vPxq0jZxutqZMCooTGqu8tHLLseSNzQQFfSeFcMCo1vCHbdHO3fNY1gI6sEDAZLyXtQeN7Fx7ryqfTgzv/61F4A7550sSwqKBEEJFOMPGAUgYhH3ocChmuqkKOHYRMuT/0iKyqTOLi7Z8YsraNBu8AjSuv2JBx60owlnzT/kAX2jnVqr69aKphNmhCZguC21w8TQlqEvXxIcOaICaAjDJfsPqbv8GsqwIgzuB4jKLOGKXq9fr4YbrmswTNdQlPfexQVdTQ3gulRQBxDSfzUfEBoAFTA3YFKSbH76PpQwr74GYBQc9olNmxRIoLdALP+QNgC35Ya+/BzYXOM778Qg8vk39gm/hU01PnpM/fyF9bE4GTLcv+rSUDJBvsFJacePnYyqEpeCUQmwBwdtsItcskwzK5tPSy9T5ShA/6mbnZEQRhnekO3PcftKuZVPuOdeyTLAv56SGBYCd04M27rx7IvAG+Tb7gVRcTJOqcJOBM1S7rmX79wZ1MB86WXdMpsM077meqljx92g8H0GlF5xrWCaUYDRFBPF1HLnVMJfRF6zVdK7r3/15RWaGaVoEAuoA/YrIF2ShGoEvrJtv5iGpJ2WXAqA/7OEQb0sCbnYE3jgwGEyZ3ZgytQG14OoET45uf5h3nHgzfFXXjEEDtDj6MefmZpBAYy+8RYoZHl1KVEBQlkNQeBfN9Pf038Co3Aj0Gzb7t2n5oZrGwF3To0bAADyVCXiWuk/bqhytSiNh0vCrwVffATkUGUEv+Jod95d37ZjYy5uUVWyc48WjdgvPM0hjPohoEtNQmEoWggwKsVqjCAnDx+J/LY3KjBRwL83/wlAtk+WyONPyBDLx2KkHgOoXd9tichq3Neq4InHZUMDFw92CNjL5J0EhS799kdP05Ua3IWo9P1/RlVVS5EgkA28wNeLNrwaIkkyI4ueMKXOsqJnOB+wAJGnHZ4xJIndjTv3HC8qiT33At2mVRXtJ7KkSDJTXd3c2nfyjTcczVBUB+5TAlWuLoi7sVjO/Ka0sSHdSFDA3RhWEYOH98ITj3yMZ2kd3X2IqFqTKsT79K644Wa3/5D62+7A08Zd0xk91j97XpFuRaEo+Xnw3IrvvorBEwH0N74nmLZ3shBEUbL117gmamewUeD75pe4MBwiJnrrT5Lh2AWlALilW7dLqgSk49/CKIRtHPq8fUDxHBsXoPwBo0ATZJkpxPG93H+sgdfjtTUtMCoFJFp3+JvXNHfunofnLkg0D3EmKwAbnTqNzp5V//pGoY0vVIQz5Ete+afO49QWgNEWv4tKA0DEiFBBCmC0ojwp/QsY5YCz7/wVKlV4eL/H4k7KIZ4HGD153/1RQmKrL2EnjDaHD7IuvpSxXIEWgqmatSREaVuPLF4QHHd+WcwgouKNTvNnzq0xrEQLjMJFkhhuqo639pW/+Iyh6aKm8Fs+ATZ6oq4mLosQRUGR/gUkgdyg9CkkZRTdff0FqbWvjPHHynHXnvxPPlJ11RRo+UwYZdiwbgXfwhlsgVdftU0bdRASVPK0fba0JPwStLTEBaNqFy/BaSRDRwaXXRQEGN30KUDbkdyi2F9hlArjGiDRsvTZ88QxY8t0BWEU7vn3hPdnLCXyzltQQXnwiMDM2aznqqldZlJPR7zigZ7bln7nveDb3EUXiUZEl6AaOLVTsF3n6mukocOhQZkXn9VMg9ZM88pr+LN7HQAYHXZe9erLBMeKnbn1y5kJHs+KwuGj0OJVm752BUUJY2iCCf8KSZJqkc6X/vSjqUtgqi1F+lf3+h8SwqgiSkdx+4U9JwrIgnmN6ZPrjGhMQjZ68unHeMfGNxtetAQeYPTYJ5sMVac0Q/oMJ/CVlZwgmiymYFT8v4FRQVAdq8+A2ssurdGN2B8wKkrSiVxAq4pLV1a6WowVmQBOcD3x42ZV0hWKxxmCjz4d8LWt34OnDlQfPOw6tvn2a1ZbX6m/JiYKEvaw0hSvyhX10Yce1kYOKwWN7N71AC8kHEt5ATefz9VN8uyLYFS/QrNVIKvdte0noumJ1h1L77qTt3BxKrQhB+Rr/y7AmsJdB2OGKfrrEu3blL3ysqcqJk1j0AcEEUI8uOCNtzkSJ4sWh4ef12jZgFwgsj9gFFAEXJIKfm3r91C14xU13pebwVmVVuQmJNACmalI4cvGja5qSKqTXDg/1Ll9EU8l3Ri54mpxUJ8aXU5g3xLL6hqz42e4+ODP2+D1yI6dxDahiWK9epbdsc4dej51wz9Y0/QidnTYiLqFy6tbDjVJbTdZ8vE/tRB2KJ/86AMNGGsxrl6t/PpbgG79TBg1DO+RB2rAQny+hi1fBg3HPIxju8U7d+O40X8DoxDspWaP7b/vfsOB4Pt0XJySAqvI/HH06kcfuBdej5WXEQBvDBmksI1nVVr9B1YAQxQE+BZYmxjxrOwcISu7+o47lF7dyyJR0qlD+dXXBkXNFekwsJoWDEV/xjP1ATCqkM8XLCsD9pcai/tLgqhT/vEbgI/cwgJXAM3mw5xI2nTKW7tWJ6R51UV0xlQ+a4Y1Y0YQmg8XyyPona4gHbLMyMzp4alpdTGTaJY+ZxE77PzjpkX+gFGBp4qPg+UUfPllRFF5TRF//RH8UFHuiZgkaDRQNRz6b7nfnwkxFMQELh/Ps4s/8xjdwVetsM1lVaAe+e+/p+mqAaCeAuDUl+EFaK8pPfskUF3+6ad1w0ghROrWLa94UWrCE8MELTVx3ojqiy9m4jFywajg/MW4LuCjD4DzHi0ua1Zw+qwoQFAPXg7CYiyLaDvOkpXsiJFVqhLDpWz/MvGUpcVeeJZp18G/9LJA/z61ETcCrup0EXHcVGB4z4pedXWTz2eNTw/KOpFAQYCxsjgPZP6C4NQZUV8r/2MPaqYqqqq54qLwwEG5iWZy3oWNi5b6XSchpma/pm74lwSKKljKQ0iDquqbYqyAs7JS4JGCUXi6KNAYFZV8/jmnSzroSMsX/8eERT/jDVoEy4Pdpjb32l9cQpYtokaPqdQjroITs048/3gLGy166gmVRza6b8t3lqKFFE36dS/gRu6xvTENfDY+H51diy6ebqZ/nf4zGIUoR/eMvgOrV19cresAo+GUHGhVsX7DoY+q+TNrbC0qKmxFFUDPkT2/OiIYu8ADL3vyhUZf64bfEUcajxyNuKb5zzfdVr6i+uqIIMoY0bOcpEaewsmGebOWB29cAzZWVNuUcDz18ScAPcsVg7zxNhjVdmCjqRh5547txLGSHbtW3367YJsGA2CBa72Vb7eAbeQeyccVolQ42bFd6VNPOqpqA+5DNQSRawogjL69kSfR5iuuDPXuHbLcyOnDmjCBAFNRKuiKtukDAPGCxkBi5z4QetWRHZYiG6pEl5TBryfe/9hVDEGxvFvW1k2efkTXouC3194ldWlbpArNLI+opMjB73GD2wO798DrkW3biWWA54ie3aPkvgfckaOoa64P6waw0ejQEfWrLm2Em4Au1GMfedGbb/DhmmY09c9t23KqEVKrvvhaMZQWNtqibYxlRVYvrRl4jt2uTePbb9WZjn0Iw/9SgFEgeqloGsLcfw2jKjjn9sdu+ofoeHBBAP96CtFYTRYgLPL5Dj32MLzmlpUSDXe3FoJCyI1IV1xqDB5aLeJ5qBhcIoy65sLF+rSZ5TOmqVOmFjUTMn8JN2JoWFAjEkQblPIHjPICU14LSsIC7hcWuwCjWJYzEoA4uMZP/wkUL7eswhFlnHvFKaRdl7ybb1YBWbJnVc2dT191tT1iRI0iE2SOZ1SQYZt0Mzp1CjNtcr1tNtuecM31du9+x0UFrgS9xaorirh9MzRuxeFjLqiKLokH9gJaFR86GJV4ncJJ7v9it6QUjNJhqYbhaYgT776ttkdHvyWTKqxO0ca3VVlWcb/IP9ho6nrLdu67C2BUfmK9bRhoNqky/JFA5CJ8hWJDhpocObz28st40PNRFwbnLAQYjb+F+3kfL62CSAg4o8jRyEaxdxHuzYi2661YTQ8aWqer0T9mvP41gT6HLCN2z7r6zt3rH96gt/FVswECXKHl6akCCECiPZPMm1vu88X69a3nOCKDvbABnqVikcSEtNKchUa7Do0P3qM6umUY1oqLQkOG5CcBRkf7Fyz2e25CxCVJLTf8W2KFiDJ6ipA5oQawvkWwLQn/Bu0lSDzGiGWffkYZsvFX4fzbhOjW8h/uAW+wHvhPk5VfcPr2oapqsmopf+HocsN1JFxCeXzDE+Aq4E3h+seVQBhMeM/2XzzNCMPzdx4FGD352w+eroJzCkK7wQ1bxJe69b9N/wGMwm3AghzXGDaycdnSWk2Lp2AUEiXLwnc/gDqy6ZNFXQWNFE9ib/GRk0cdQVYAHg3NS63JqfvpO/i84mSB65jyZx9BoYsrS2OcpISBjPK8rCX/sYYe2J9yImQn7ix5/MCh5ljMuOdeqV3bEi9J3n4PlOkX4OTHcex+74GDJOIlevQrv/oa3jU9AU9OB1qqvP4q8IICYIuqylIM6da15t778UglILzYnIJQj2BU9MGHCrDRNbc2dOhQZXu4E1WLyBBDQRVZiYV4RtffRuwuYKhkUSHctv67byXww4rIFRZDGxR8/IUtQaDLcUEm2uBPwFd0nX3uKQWqhuPaeEAmK2uBN99BzD2BfRoHtm0juhlkKFxk+dCj9ujx1CWXUp4XNbVY/4F1l17RZOpx8P+gxK1blz75pFhVFQea8/23jq6qIQreF218RzYV5zSMQstQpmWPHNGwYrHarkPwuWf9YFe/7gCrLj1wGHgcwE8IvDuuocCLT7VmC4zixuMG6dW96KqrOcsBdfFDi55WGtZQqd/Rq+976WV4PZRXQFSRxfENMApPX7iQGjm6XBabeZyrzIC0XFu75FJ7bFp9/976VZcXeRGy4Xngm6EAGwHTpyk5pTAIo4LAp7Z9BBiljh31JAmD9hb5n06sYZivQFO2Lq+qj+JWBjgyTnr2PHHDdbjR4oRxJYuXhR96zOnUqUKVCC6DhpjmdOEZLqwazReMCixY6NdNx7CZux9wOp11kqYIh3NZ4BqIEtTXXgf3n1tW5QKEKCJ/7Aj4niN7dxLgRlhKSkmF9aeE1pLgq/D1FGkPG078phsr+/Soc3S3MQBNXPbaq5qsgnxSF7SIEecShUzbXnMdVFa95x7JNHEw4Aw5wyVAI3DHXIpnNKV5QP+qa68R4s1k4qT6rJl1gFPPv+i1bp1X3UAEGdceAYym2CvoXQuMWldfT/foU2Pqfy4cOCOlWAGYoRm/4Yaac86u2fU7OObC40WeBJziVO2gLEBkZaBsF6YXtm0FF1SWV8d1XobHCQwbdcigwfmXXWF171Jxx1oxFtctK7poMTv6wvIEIekZVGZWfTyChyMA8py+5x8JzYm33I6d6tfeEPCsBBQbnpdKLTCKpqvroNsF77xBm7LdMm+n5cv/NqH2UxIVkjlKx0kmNCA+wh8DLct//S1Y635/kFxxMT/i3AYvlkjN6jn+8ouK6pGOZxU8/riWCvgObt8WkTWOl/j840DdKr/arCtqE8c0osf8v4BRiQp7nnHe+U2LFtdrCsIo6gJDaQr/0ceAksrQkaYKjkqTd+2EOhyuKicsp/Ecjp+89zZcUPs57rhzIq/Ytg3h88804PBlJXFWkkM8HeYow26+aIV/zIi6uBUtwQGT3E8+Ismke+31bM+zSyKk+aNPoJ6/6xo5hhs7HTpwhLhuone/wssu5U3N5gRwm7ik8pGHYx3anQg2EhAtr5DuPWtvuSOoG+5fYbTkw08QRtfe4wftt70IRKaobSmlw3PWWJEVAqJpPfkslLxE5mNNNQBM9S+9qqiapkhcXgEi2uffWrLMQojCMCEWzzGmAHo+2gjIeyxAERWIIMdKWtNLbyFVKcZK7fvxp2ZFqw8GAd9rn3jKGj0+sGpVGIImTYr0GVB/5TV+YA0YgUvxdu2K73uAKy4HRlb4808R05BTwzL5r76iGGoE9BstGkyPh5gRJFPwyINst56B++6jXS+y9WdQkRLgWZzCh9gQrgXFSPOUOsDrHzDqmGRY37KVq4KmDRwnmDJw1GK4yNTCW9Gr73r7PXg9cLIA2ZBEATBL8YiZk9N0/rgSVU7ifigpTHBs6Zprre5nh1r7lFc2MK5Hfv8F+xYOHEkqQIpxfhzcG/7ToiAcPgL3hCiPOrQ/AgwOnpfS2D8Sa5jOI+uVDmdVNQQTgGs8H1RV0qfX8WuvZgBGh/YvvOxK8fV3wLOekHmS2mfzVKiIRQe1M8iI8/wLlzeqoG4G/fLr0F4naqpbuiCwepoh33yH07V3XpCOg8AlXigsBOedv/XbiK4DsIVpqmWg6W8mBFIHC5OBo+l2fMXqkqGDGiOOXtcIAi9+8SVd1PCsKlCmP74XZoKG461aAZpm3nWXYll4vurpomIC2UGZ4CuUyCkK6du36trruDghaVOrMzNrE0ny2BNex3YF9cAfcW4ZyBFiJ6hiGJGEEQ3A6Jupjj2qFDkmnF44cEZCWiBwimbGL7+yflC/+hAOLRR+/bPcIvaWIsB9BE6keNJj0PFJaXDBsUPHooag8ZQMehO1SfceJ+5eF+l7TtENa0QnKuh6ZHY2M2YcLrWYND2UPqky5rXA6J/rDk4nXMHVGEx0aN3w6nOabTgp1WtJoIagOGB7rGWDbue++TILMApV/C83+S8JPCffJNOB2lLzo428Jsdw4jCAKSVqOvMxznLdx4vk6kv5Yf0DrpNgcBg899U3VC1BOnU78fCDSmo63YkdvyZ4lRFltbYIfq19631D02mO9qew/v8ARkUmFPXMCy5syJlb3sJGUxYXdnT9tVchGJd79tI1zTE0+YetGAhTfuAICrpBTd/0BRhM/Qf/xPYrLovbuvzll0AE8kvLIiyQLNBZnrJdMnVc/tyskK1JLM6ezX/mCRsimtWXsoPOLY+TxOdfwYd74E+7cJvRA4VFGNSff2HTksWNjukwnB8q7trKP653e/cpEMC0wNyt2Nm9q665PmjgmBiu+hBFoRLXFBZ98ZXVHCWPPUv5fOVmxOXFEGh+Sulww35eCHJig2hFH3iE6tSmWleidAiAr2TtWsMCqJbYI7mAXMVbtroSFBbgE2wY/9GKEtjyJQDfbggoVJwOyUuaf/3zIJC8JhyI2/fN5rhu0BBQtGlV9NxzVkYGvWhxo215Iut0P7vitjtVQ4tD4KnoXrfu5bffESjE3aqKDu7FHTNVHd4f3fCiYCguwigulQmCloZwWlLhp5/yvQdU33AdFYnGNn8N+FKWX9QMfAJkyzIQduMs+Rb9hdY8BaMc7VhkzMjKuXMaDMPgU2tgMKWU2NKoLXjSzu+p4yJwqhZQNokCTBOjjjF9etOkqVWO0YycG6guT3m2eOdd0KwcMNDffjNNU0n1kue/vIGxNJNhG3FVaApJJUncgV3YEOeye3ebsvQvYNQyIzffEu7Wq4Ji4ywXEPgQwOjggaWXXoLdhf26FV1/nbj5OxcE4q8lPOen2RBAE5Ydpc6JSrL/gIrLrhJl21FUdtNXKLp88ASnzixjTFdbsEQ998JjqhHnmIDI6uUpxfgcDAlQH3eNSkkq9b8lpfwW/GBpoMYQBDgkZ07BhedRcU+vb0r42pY+86wh6SLNU2fCKM1RjpNcOKfR54tcfz3ub0+lZrmkiooJ3tAgPp4PC7wAjPvs0ltvUQhJZmbXTJ5U1kzInfdaXTrlBehmTgHe9lcYZUXNdO99IORrVy5wQKuxhU+J8FRKRVcQ9FmxZSsazxveZOBikBMvvCwaxhkwClArMHUB0rrL8ZtwRPHQ51/GLUUFVAKtSOAS9d1PPB0fNDD/6mtV01UMgNEsdsJ4XGoxa174glEFwFj5UysbTtf8VAKjkwoLU/byVVTT8Nyg0y4kxUZZXAYXiwOMFrz8YshQnf8VjGL/SlhXhI8+AqKTd9stkh6BME4AfgoR4dv/BD08KInkhqvFfj3ropEEi0OpJza+66ixZNdzCu++l8svBNw8uW83ETF+YIO1yfatKp9+wdSBzYIhYMFO6WRLrf5d+g9hlA3HPPPCC+uzckoUNYHuOgWjtqo/+ThYDpQbQlrX0OVPv4BfC6C1OBaQRDB09YstNAT1G56HmlRWVCZd09i8BawoP7/AhmbCKEukbZMM73/0itWqY3KmRXqeU33lpQI0Uk5Ow+gJtRES+TG1130oSHYijB4uLSGembxwfGjxAqADXphtYmkKYHTVYn3kBZWCRHiJVly976Cqq6/mDB1xP9WiQkUlBjVffmmD/3zxTShqhRG1eanpDBgFB9nIC42Knbjp5spzejSZRkSRyMgLipcuFh0XYfTAMWj1op9/j0gSxwKXTlEhIBkQEfyOI2l7jx4nuoRKbbrs3Q8KvlbFAk5dOrRlc8Iw2TAF5KXw+efsGZnsoiWNrhOVOK9bz4o71hmpvtGgpJm9+1Zed23liRP4oKMHk6ooqjqyzscfD8A1CKO0DvChSNZxPKSo+PCx2IjRpasvYmOx+FdfAIyWFxSBECD6p3Dhzb+BURe818SamZlh8DRiSntSF8BP3tbYzzdBOXd+/xPc/+Dhw0SVcFhepIWoY06e0jA1oypiEgWUjQHyHorY/Lq7wWFAnCGWVcuy4reibr++4qpFpZ7pclwVrlY+BaPStl+V1NQCZufvmvKv2KhtJS67pGHwsCZZTQCFBJloGhl+buXKVQ0kQc5uX3zv3eYh7Cc5WHiMiGIjwyGVTml8C4wm+vUru/IaWbGjoiT+ugtg9NiePY6i4DXg4GTDOn8UM2d5jeEAtfcDp2/CjRMr3n5JcHRbwA1MgZK0yAMTyiR1b5A7LdRJbEBRElOmlEydpMU9FdhW2w4Vz72gqzoeuZoK6lu+B5hARRySkYYLNK67RnBdAXAExHCqMbAVQO7QTAKFU/1Iz57Fd96hAYGYObs6fWIRmMA/bpN6dCkIc828lBqcxwl5f7JR3XQfeiTka1slAYwih/qbJFMwykuKGZ+RVZUxhW1O4NTmq68xLecvMCpKVEEFmEbuW++SszrvX7/eBbojUJLAh03EoF0bPyRDh+ZdeaViua5rxufMEtImVgLKz11IIYx6BOISED8U4MwENwcCsPNXCNHyjx71ZBks5Y9OZ3hFBx/muXgS9LziycebTM05LZnTEvwXCR4jcbSmG/pzuEgfbt706AOC58QViBIM7pU3QQn3mwZZc510Ttc6x4mFcAHVwXc3Wnoi2a13wR13UgePQGWPHDpARAlgm+GpRLculffcJ4Ox45NTFWmRYKoW/zb9pzAajHl6Wnp4elalqsZPwygdMbXb1gAYgd1SOrgpU3vvfQDNMkNLiiI0OafJ8i87QEY163H+eV19Q1KThJ+2AoyW5eZGaBlPFBREmmJI57OO3ntXxLNEx4pOnlgxKxN7wSZn1KRP88dIsgWemurIzz/Am9+qa4ihmmmTGjNnYi9ViK0HPINPZkxpnJVZ6TrNNBcyE/KQYf6ly/yahjNdoB5gwHl5AA1FW7fHIm7iw3/y4MoUO8JJ/j9gFEmk0MTzlOU1X7q6tn/fJtVQXTM5b1bJ6AvqTEeXJGrPEXAbx3ftshUR1Az4RQuMUqJIH8VN2vdu3wHF80P7WI635lapfedcDTe42vPpZ45hMuAMoAxvv2NmZTPZ2bVgZqw/2qlz5UPrNV2zATJMxxsxkrl4VemJ4yC6wqLCmCrylosw+uCDDboaFxgAJRP319CjH34KkHSC18m4tIo5s6REIrHxbYCzyqpGUBGAUBpnb7ASKsbp1vwDRr1ocs7MhsnplG0mwfxPXYBAxFoGnQogjmxFv3Vk/z6ii7zI8OAcVDN+wbi6hYvqQCwykCNOYgUaGu6x9aC+XK9uuj8UEfmg7ikXXyX16V1nqQ7PV9Bsywx84OzqF18BFQUewe74TfxXMMo4dvOihRUjzm/SjSTYGs0jjI4YXrhiZUMiTtq3z7/3Li21Z/DerduIqjTSXOAPGOUFcB+kc4eyO9bJkmlzvF6QC2I8+uP3tgBhB4AsZ1Ac6dqtZu062jDjHC4AUTgRgvqS9U9SuqoJYQoH/1MpJTEUnkiBnkKsAoXBGfCq0jxxXNXceWrEURqDyXadyh9+WNcBRjkoR0qOmLCjz3bI0GEluM5teRAjJ7AdXLl3+gq8BtkoUApOIF07V9xzJ8LowkX+sRcWgglcfbXeu1exICOMAlS1rGLCTt5TMOo8+zyEg2US6wGLhj+cEuGpBE0JQT344OSEycWzZvNww/nTCyeNl5zIqTHpVHvzvBzadwSklHvgt/iIQYWXr2ZdU4FnSWLYHwI57/piCxk3vmLhQtbxPM9KzJjEzMhohLtddDk7sF+5Z+LIPj7qrwnMCvjdB59Dc+eXlSREKUhD9U+NxZ8Bowl4dP3DDzSYhoXT5/5Fd8qZCWQmQNZN+77Hra5nq+vuANM4+dJzjq24miE//hTo4QEvSm75B39Wezw5ogFXEh759BPb9ZoHDqxc8w9xD05DzDtyBE/oE3hWFqyBA+uuuVa0jGYcwWMRPVsk+P8SRnkuEHX1SenhjOlVCKNsi0elXF2+/CKgFeATAgFasW3nhedxd2HbighSENpJlaQdv4OC1t5xC/G1rQkEAEbFX3Y4cM3hIxGMEVlGFuma1MyeDS/GLB2P0rz+GmFA36pknIwaW5KzIATUcT8enrWnqox8+w28+bWpkTi6njEjMHFqSLVJWGzgmKAqJi4cWXXRsmrTjIchcEvIo8ez2dkV+p8wKufi1pAlv+yIunbk+69ln6+0NhhHP/+H/sF1uFsNp6jJZUtrR15AmRHZkN2br20c2LdK0aKywu45DG7g6M7fTdyzOIRstCWJAleJ64L2fLoJYLQOzDoaTV55tdDtnDwPI6P9H35smxaXgtHid9+1AEazMnHbEbYp3vGsmoeflDXdZNmAblljxrGL5hcd3A9xa15JSUQVOYDRdu3K77izStNjEm5EoGIPnRG9875aAGVQ6KxZ1eNG+5OEvP06+OfKmkAzkmUBQnowUITRltYEFQb9TSEpo1ux5UuCo88L6GpSAp1OXZMyK8Yy2bfegHIe34/9mMf37CSGCBiKC08kIzlidO3iZdWukZBB6XmJEVjPlFLTKsITJ/g5ISmAfZjKUy+DhE8YoiWy9aeDekpRjI+xPx0uprf/Iv1LGHUdkjm9cPJU1rSjIQoaDzg4GT4if8myBgsHWw8/84QnYHy6+58fEF0PAoyejpQRRmWOdGpbse5+QTI0htVqK4GN5n3wnqfIcHNKFs2KyjhU6u33PMOIA0umWBEcXuv2ZevuC5iaLQQZXLEFkJ/iTbhdBEhGCoJiwBv4CLsyuNiIYZUXXaR4ttwUSrbvXPrIQ5ppIIyilE8lHPiSFNJvQDHA6PIlAcfEOdcIo3/aJsob4npaAvmTrmdV3ne3DjC6aLF/zHml0KyrL5YG9CtQdNx2XsThwhRYcuGWkXrNsJ9/CS1O5qIIoy3y+0viBF7AzVsvKF1xEcLoupvqenaplxUvBRGpm0EQplBbcdXpyarC2PyZDdMnhzUJcFmSlUAxLsPbt+13Mm5c5fz5jOO5rhXPSGMzpwGMJi65iut3TrVnEAlJ8p+z1k8nCC619RskX7uyxqZmHuKG1GgCPvRMGI15Pp9/3R2NpmVKCKPw1z8F1JL++jv8Rpl25MZb+HP6Bi2XXH0NkLnChsq4YVmPrtd9rQ6bDll7B9++dYkXba7BUOPgZ5/qiSgZNKjq2uukX36BTwpOnoRQpoljaEPVx4wNLFwQBA6LXB8a5f8CRjmuKeoq2ZnCuPQSWUm0wChgUzyizZ/VAqPBqpqkrlmPP4YboDlOhGFx83NZ4g4dA+Rq/McNpE37coRRQf7lN4DRsj37IKjHIQoIHgpximLelq8jhsyalvDc82obX0HEggCkYOUVtOnJh1OL6wuOky8+B5PYH/QDjGrzF7DnDi+0E4QC/sgGBbp5SL/aW28Km3YMnLUZ19Om+jOnV6pYYBxiAhg9itOAC/bsbrZMe9tWMPLi0hoCZOfP5gd8ESiR5XSzOSuzcNw4xk6ohmY+9jB/VqfiYChhGtr2nYBuJ44ccmQRdJsHeGhJQMD9OANu9yuvxR0nBIwDmnDWnIYhIyvjMfh8zzsbXduWAkEIKEo++cRZskRKn1gMAVG4LtKmTekLr7qaarCs33LsjEx+zsyi337B3o+qSk/m4VZu1+61115XCAQEZ9sCetFh2/Pmza0YMjwcJ2TZqvqhgyrATl54HlSqtg5P8IemowWcFfgnjMKP05lxPe/KK6hhg/yKkADlhYqcVhrGNNhXXgZR5xbg9v6Hft2WMGVAZDzui5MiA4aVXnUVbarR1PnkANWcY8ivvgFq4F91SZ2kNIs0rWjm828CXBZoAsAoBt0pnaEUzXrzdQhZQPjid9/wioI7fZwSfksSGNskE0bnz54tm7ZKwXf4kKGRMWOr5i+q0xA9D736YiSWhDf7nnnGUuRwmPrj9FMag2OcQJP72JOqYqkAq03+WNu2BesfESBe4fmwpsp7dkH8dOy3/bioiEeWzFuO2/asyptv84PLVELARZuA8ENKSQO3fihn+AZZA/uCsqqsyDLxfv3Krr1WtQwuRDd36lZy91qIMsW/wiiIH0RKzukLMJqYNzvomtFg0I/rTUBup6SNMSVGDSLoKOnQtvCJh4GNRi+9hBk6sDgWIStWcEMHH9fNfwWjrAjh+hsbWYDRUJOLm1uk5HdGQkjgBE5Rkn36V19zHdecSL77GgQrpbU1zQARUEEQGZRA1qTPvsIRC399/Jab+H69yiWaQLAlq3WHcCXFgYMnyJQpgekz6t0IEKroxAv882ZRAKNXX8ue3b3MUgBGwReknviXxDmOeu1N5jlDyjg2zgkN4ELOgFHwMwijsZjXsZN/zQ0Ntm2IIJXUn1Mai7mlsym1OrflE/yM44K2FbvoUv/Awbgb73fbofBHCnJjdsS+5Va941n5UUIeelhq7Ss1nGQtEpe9X22KxiPNw0fUr7489AN2VRUUFhKZD0Ac5uhqZhaTllZu6iQ1H+L/AEYhsVxT3FVnZfJj04uVFIyiwjLhiKekjaYGn4tB/ZEjccuI335HNQTv0WiEZhooOghNe+QEwCi9ehVp36mUCjUbYssIQ/m+wy6vyaBDqsQdO4i067ddUZzBYDd9tAlaOl+hSeduJ669VfKSUiF2hO0/spd88inw/yN0kEQtY+lSfsC5+UaMhLh6PFA7nOjWqfyRhyCSi9G8ZET0mXOD6eMLFTnJQxvjatEWGC3cu4fohrY3ta/M0QIiqWd4UWgvgZaxIzUxfkLh9BmSm9QMTXnjDaB4uXV1EdNwtmM3xckjx2wJCFoYaAvaGyQBLFIkvvb5Dz9qOA7wbB4aeObspjETmmK4J8KRt972HEdv8iMj/vRTZ9lSOX0Czg0K1kdatyrZ8JqnqzoYsGGpmTnhqROLfvoe5FDUUB8FHXUjVr/+gYtXF+s2eGxQfUpiwmYkMrhv4+IVdIyQSy+r7tGtAGD0yacpX+uGRo7wOFvgz6D+VFv+mVjVlG+8mT67c60hEzBqqAI0K/6BAzYqPP8MeLuTqdj50I7txJThViGJo1jJ6z+s7OoraRN7adFBAb7apvzqmwCjdfc/zqtGgsc5xc5bHwKgn9QkV2LxmIMWGFVV++UNAKOgA/LXX4qqavwNRgWB0SQyaljZRatcy+bDLEVxYUslY8dU58ytT61D2/vB+8kEIb7OR25aw3me3iL/liRKQI+xm++JpxTVksAqaCHRvVfZrWuaLD0q8EHdYL/+AuK+0hOlniAFWBoAmI9FvXMGhi+9otbQ4moY6Gj1nwbPMo4Tnzm/dNHKasuKAoTK2M0e631Oxa23qo4lhRiA0aJ77jQs3G70rzDKBiH4aNf5pM8XmTktaBsRUNRU+HJq5hNcgpvAszzAaFgg7dsXPYkw6l52KT1kQGkkSnLmNI65MF+zoDX/AqPARUFJZdl6+z3G56tpanIl+TSpB11GiokqDREqiEPmEx061a+7lyWJ6P6dYALHDh/QBUGAcmCrsEHNMl56DWywjKKTr79it/Ll0Q3NHEvJRvX230DgB8tqSEZGeMb0pkg8GjHjEy8MLpwXBtZ8661aj+7lEk8kqHrL008l+A2aVYhEtFlz5Asn1ShyjOcgKMEeMKwBCgqgEXgIF425Pc72X3V5k+3qGGkhdCGWCRBvp5aFoKuB6iKQYsY+F77JtZM5C2rGT2jyzOiRPGjx/Tt2xd2ofcP1+tlnV3gx8vCjMsAocNV6JDd7N38RiUcSI0Y2XnIltRmHT/PLyojIh1gq7NrKkmXieSNPQqwDIobC/b+HUbRAQATbXLZEHj6iUJJaYBTET0XjVp/+bEY2wujWXVY0Gr3iisoe3QKe69FMIw1WJ7QMijUsnk/OOqtSFJKmzO0+CCZUuPU3U9IUuL8gC19/BxZ4pPhkTOLDilH7K85YLMwvJu1aHXz4Xj0W5Stw1e3unTvI2++Abe/nGBKxtMuv4s/qcdiIEI4PiALfWIPdW6+/ZmmqS1Gs6cjLVgtDzj8JUdVpGFUO7AMELD18qNm01JIKuL7o5+0x3Pv9D/+DMMooHA2ke9T5dUsWm6ojmZr0yScQBpYXF8Ztw0odoXHieIEt4pFDuAAWEyg1R5sK6d6j6IY1jGXh3E7HJhMmhqZm0YBuEIpueFl3IqEGXKue/8VX+sUXS6POK4nFSWUNlKrw7Q8NU5UFhgIHftkqb8zYkk/wOKnc2npb4v1OxBg4sOHilXW66coUwzKawNGaB9FQ48MPNcSbyc1rarp0DMCDHnmUat+qgQsnGC4MAJTaHPfPzTLOSKxmi+seFDq2q5IFhNEWIeB1LOOa0pOPWL62B6twLcCe7793JYMCQ5E5Phwm3Xr6716bOgQUB0tAcJRuKO9/pICINn9vapqJ2y0owpavoFkL6+tdUcDT1hBFGUrT3CefhpAFdEZ/730WLv4bjAKpZ3nSs1/+mpujtsWEBQAPxrXIlMm12bMC9akNU77e3ByPkpHDqxYuCjiOI3B4kkKq7OC8KD/2hR175x1N1RmaA/rpXnhecMHyRtWyAFQNXXv4Satb24pgfUIU6mkWkFRwbPOC4Q0L5tbYVkTE3ZEDoOEtBs9zrKHHhw5rSpuoWrYTFhhalEPB+FntGh57kNMNcFbNfXvl33aj49l/DepZTpSCqV1oi3y+5NSJnK0mKRoCW7g1nmjSIuxT5EcEgwFLOfHic0oiId94g9yrx9FIjMzKlCanFal2MjWmDZIQ4AstQ0wAvbJifoSDulW1dXEpBTogQFBgXuJ0TRd5E5qfg2CLBaupWf+k4JpqbTlob/WHn6jAKtCKEUYhRDDvuds+q1sNJye/+xaa5mRJSTPEELJRu+lrgN3jdAgIQXD8mMZoNGE7yXOH+VesYAmJrb2bb9fmmCxjUA+2cwaSQpsyoRAdce2hw2uWLaux1CiH44zoP1LSgVfs3ID2jUbtPn34VasaXTMicv6g6BdUJmq54WrC6gm4ANffUqYkW4bpKTiIh70ljknGTSjOymY9hy1BZ39i4/vEixkXrRCGjQgk4+RJPGWyyjFIavxw30/f40l2Y8YHl61q+gb7BnMrawA6IE4KmZZ4zQ1qr35YEfBo2HT/FzCK01xMa/lyeeTwYkn8A0aBIjm+jrWrrwWmRn+8WYglEitXNvQ/h3IsF4L6FIyyhYUQG9ZPTSfdOterStLWmH1HAEZLtv9uAc2DYkqG8eZ7QLsOV5fEZOB3SlMBrrY88eU3pEOr/c89bsU9oRGNZ+8v28nb7wLi7KdpYKPq5dewnboftSNE4MOiJJYVQXvnb/rC1BQjHKYNS7jkGqPvsJOCDBeAaABG1QN74etlh480m6Zcj33nxe9uFAwLQmkcX4WE7Q9BEBdieWdwv5rLL5cVA2CW+vobwNzignzPtowffgDwOnGsyOJlXFiCbiYlJQ5cuUMGDy5dvooFisSzDEmSYcMbcxZKUdxs/+gzz+uaWV9dBWw0b8v3xkWrueHnFrlRUojzQ0s+2GSamgyMwzKV668wh44o/egjgKGjNXWWLAW8qDFiZHjJgjrD8mQcFVFFnmlEN1v0+Rd8NEkefZiCWB7utvauum6dGhQ6ArFwCGAUkU4+c8Uzgg3+YDVXvvMhrk2rMnBLsoKLMlv+CkGTZ8qP3Ku0ar+vESFpz/c/RHgzSPGCjHEq6daduWetohkGQjREXaJf1Y2PkBYVFhZEJFGkqZCg0t9vgWYFNxAXRYBRpCEAo7ruPfBQbWp2h/LBR/8CRiWRCYZJ+5759z3kOiZH8Tj2FbFIxpSaadODJehQ9333czM4jOxMauL4atuJC6nDTFrKT/NUA+4RfuydjYqh49i2YShZ04OTZtSoTgyoh2WZF1+jDe+fp3HNAuunOT88I+Za09PY7KwqRXMEOkThYptTfaNwX9uJDB1GjR9jOq4WFpkQHicTa+9reno9Z9qgss2D+xSuucZ2rL+zUWC7J7HDqrJTdzL6vCZLSfJiMDVp4S8wygCQi+HG1AlxLz0nx2PyjTeKPbsf9eJk0sRQdmaZ4sQh/AX0aJnwBGwU/QUtaor58RdA7atr6xISbvKGxs/xrGlH5k6qeOOFkG6lerRogNHy51+iXV0P1gAhqHvxVUHFTbXRt1F0SNW8q68Q+g6sU93EidRZ1tt+bpa5Jkn3v/s+WPdB1yRzFlATx4ajsbjlJQcNDSxfGU6S6H0PymC5DLJRFuemtDQhJhr7E8CP8M3delbecnOTpTkgmzNgFK4Og/MLC+FI1BoyVFy0pD5iRXFNezR28Gh07ky2va/ipx08JYmsUCeJ4Zpa/eIVJ5pqI2Ee9J8xcY/KinmLBNfhQzxp0+boQ4+4gOwrlvLDz6sjCfLck1C2GlNsThGXnQCjiXjzmHH+JcsaP/kYPjlaVU9oLkRzQd0S7rzb6dz9ZJgmnIh70v9HMApX/M8Z7ilSYsy0LlqhDh9aDNFuC4yCCFQz6mtTcf/TQEOol97wk2Yya2ZwwlhgYadgVOTD/gCAZmDiaNKrq1+RHF0MHTgGnxRs3aGZhiayjOFEHl2vdmqfH2pKQEsAtaFk4mt95PH1pI1v94ZnjJjDNiInOvjdt+TpZ3nwjYpCNDF86x26r+0uC2CUCUiSsH8vwGjRtl88TREZmrJM6fo1drd+xxlc+o0wqijq7zvAekuPHUsqmqB4AKn16x+qtjwHPNIfNsMAkvNhQYr06Vl1+x2CqquqENqB/aG5xw7rUUfd9Cm46/xjxR4rA/WBIAukBP9ZLsR4OpmYXpc9i7VMT+QocJjn9K5aeZmcRDaa/+TTRiTO1yCMnvxxm3vdddbg/rkWwije8NOvLEtBhgBR+z1rrQGDql7H+RzFTQFPFgNuxBg3QZo1o1q3IjL4Y+wMkXbjbKfCgydidjT6yqvASgosg6y9s6Z3L78hOiEuGMRtQXD6/ZkTnlKdP9jZZDjaky9D2xXIIrhlpJUtF3AMHTXUO27guvXMq8ddRw9+tdlmdH+IYSWW8Qdibdo1PLveVTQNZ81yQRo3jhPLCq3b1hxvCsaBhFHARmXqtx1Q/pLcvISM00pOgQbExbfdXuprBVWW3n039C9gVGLwDLWz8p98zrJ1kUoNfUXAjLOp6dP8R7Cr7sieo82uZ15zjdS7R4Eh4/3BgOHu8F9Q2cLUOV2ff2FbCnapeVHhooupQUOLFBNUJeQ63tj0+pnTS02JiBDUsn4A6ohrLckxx40pVq2oRIfCiFOnSsxDmR27f39x6GDZctQQHwqLclM9KFvFG6/Ipi0JYvOQvrk3XdXCRlvEfCoJUvgwrqmtOn9C4oLhtQYEtkJqmcNfYRR4GRD2BpwJd/jN11RCzHXrvG7d8p0YGXdh7cUrGxUn8geMwhfwiBqWAavUJeP7rQBzJUWFuG9/iw4LAitL4JhrVl1SbXtxgZf8dQCdpa9uDNmqyTYmu3SueOAhWddbjubFDiLTTM7J8o+dFFBdsxHHe49sfI1oMoTw5nMvQEi0Jx4jC5aII4fWJpIJw072G9Kw+jKBkOgTT4Bd7Kd5InOMiHz0jwQaJ2mqEUQyXrLhVdNQ5dSWiaedE/qbFhgNehF79NjQzNn+ZjeqMNGsiUAICrt2b/T5gu+/Lwi2yYm1ht64fRt45aM7fjdpGYJPWhPJuYNKVl8uImXRSO9+BVdeToNzzZpRlTYlkIjHNjyDfYMRg1Si69276zcSiyQyMuk586o+eBc+OVYfJBAzUlxIMblnno+0apsHsY4oBlHOp/uZz4BReHMqo0bi56wP//zn5/8241WpHQOjhnXV5fagAYUCl+BSk1dAAajUfk6vf6y1aRN+6DGcjjs9nZk6JezYXmqIKSzyAX8YbIk+ty/p3SMIAZ0h04dzwTcWfPOzoiiyxDG6Hb9pTXBQ/3rgRCLwJoAxm/QZVLJyWXMb3573NyZdjBHhQYe+/Dzy1FOsr1WubRNbZ9bd7/ja7jZdwtN+WRZ++QlUp+zQsYQqY9eKZYi3rXU69TpO4WALIgdOYUMYLTt6LCHJvJV0unalr728ynItMBWUE1YWYFRUgMfR9lkdCu66lzcdE6B//xFoksKdv6muxX3yMbiBstzyCCsB9QHLPSVTsHhXi89ZSF04qsG1miU+CJFFh46FV6+Ro81Q/qJHHzVdT6woBZ3O3b4jcv21xoBzjusOKSiBUhV9/a1rq5LMsLrKPfKgfHbP6ldfAXda5A9FZCnoRo2MDGXqxErDiiKMsrSp6B99IAGzqKOJYqpvvYPUVWTJDdcX9epRq/JGCxuFwAm3d0QYxUJCWQFaUplRDe2ljVCv/VQYZ9q21AIy6E7MVm+4PNCjZ14IV0Mc/nKzwxr+EM2AqQaD8Tbt659Z7ymaTuH0nSC4dLAKgCzbiHO8RVEQd4UlKfT7LqhXydGjuPS+RRNbYPT6G8rO6my3asO/8UaTrlmnYBSBELMss1XVzb7W+a9t1CGywG8CjBpk7qzwpPTA7l1QnqNHCpNOVLz3frG9r9iQCM83QtlbbiJpXF4ZXHNg0+cR2wAiAyAYvH2t0aX7MV4kIuNXFa9v//qrrvDbarOIEWOApziIjFYtlkaOwNPSZYAjhN+WAiOMmrYxsL8xqL/kxaUgH6IAHfHAq7J331AdT5XV5uED86+7zHIsAA8Q46kvQhIkesc2iMaqZ8yNDhlQrIsxBpwtcCm4DkMKvPQUjIqhxjAE9UfeeRNg1Lj7bu+s9gWKRsZdUHPxyirVcRkJY9kWNiqwCKMQI2qi/iOCS1FhMR7Gl0IoVhKFSoznGuevkrxYRBRUP659PPn+Jt5WXCnc3LdvyU1rFNNqOeIFyhG0LTL2vNKcxbLuqapM2rc7ctv1oPghw9bvvkdq4zuaTJKlK+Shgyu9SERSE736Vq++jCMkvmEDlPlgiCLK32EUFA34rlpyAkPP9ze50JI8jWdJtcAomGhqn3nAiJDn2WlTA5OnNiZdN4Dh+bHnX47QOrCowEsvsJILQU+TrUlfbIKIsPyHHRavaqIQ5Knmc84uvel2x7Et1SXpU+qys7BTK3NaZUZWECD+1ReRndgKKcXtyXft+Z00J5qnzQzOnlPxOi5xPuinIYRHGJV17u2N4A+KKyuJJIMuISFtqcbp1sQfaDynbL0FLzhfmANoAdMBeiFBYI059QY+acktv+IaXpyLwTi2fO1NSp9+J2mmGf0IA8GvVIdsOe+XH6X+nfz33lIPdRg3tHHpnKBpxlK79eLRKGEBmlnu0Y30PrsMCKAk+k/mA94Vf7FZ1mRLZDTNiS5cWDZ9vF+Xk5yoskzAtqNTZxQOHwyX1X71OTE0TkJjPvjBR+bD93AdfIWeQVSt7rFHoOZ7BRVsI6gq0mcfgb4eLinCvddoWjJN9oHHtNZdTgaCSXD1oKmKqvz4LZCv6uIyTxR0L+6kXShNnxaSTY/DFYfAaMCeoXlVRaynGbuDL/DMi4KEJ9IGcvOhFpXffwd6aHz0gdXeV1dRmWCBOHEQYAgUhxkA2NVjV19mDO5TZ7kJWmmAGAPC/9tuEYCNtvadeOB+KeHpZfk4xLTz98QdNygDuuYlDVJ8FOAm7+efbFUNQMl1Xn3pCalL26rn1odb+Uqa/HFRqLFcff5UPu38+oga4bkmlhVM3X36qSafzy+aQK6Vb74Fwz4RrCVrVldc0L/JkGwIFcFKsBEZBa6HMOUvmeENi//4Y3j0rnCAcLKR6oICIBBw2myUvuyK8NCBFQrOvj780T8N1WbCfL0gNdTWgtgL3n3L1lQ83ghwNeWSUzMW0C6xx4uCu0viiTyMJfcfiuDGyzi8in17hh296oqSnr2Vdh2Czz8b0EwTGBxyrNMZVKC4FJqy7tOPLF3BlZc8Q0eMyIrF4fRJge3bgAYeKqsgpqu8+zrYSQHNEVasATjC4rO0qHJ5eALliV9/JpIVDkmMbcnPPZXo3LqosY5AZFHXRNr6qp5/wrM0leKaQmK1EAY3ZF9/Fdfz7ApW9VguGOCDKfNJVQyhH7hhU89udW7EDjE6GEQlBhBNX3+hgkVLamzUiKLLlxvgjmlwGLSKS0ZT5QHS8BN2NZZcf1F0QJdykScMhzuk0iyFR6KjMWKUgGsuhFCdH/tG331HSyaURx4lXdsVS2Eysk/VrdcFZNOC4DclP5wPBACETpEVRdHZfwCEXHvoaELBzlFsV2iXr37ELQsmjDHicYOXwkW4927ld5s5E4omRc8bUbF8lWE64FwDEEyE2QZeau5/du4tN+qqSUdNMnZE/qKljA7oZFk3XM+c3f0EmPY1l4YH9T3uJWO6GT27e/1NaxhC9Ddxoe2hYJCAyUD4dRp7QGoShOeyaG7dhmR53yFbRuzHFVx4FY39uLg0gJZB5TwnkjmjfkJaYyxGdu5GOCssJrSR6NAtcNedlG2aEN0omvfSa8CL8z79UFRVlZWogJ+c1bHk8QdjniFE9OhVl4aHDiv3kmTc6Lp5c+hmor/3DoSbeZpMCgtBH3bs/J1Ek5HF89nMyaWvvwKuIpdlsG+UYRsVjfryS7i4pCgvqgKM8n5oR3DAYDQYNrSoAiPyCIaKADmsV8uqwAg+ilMYFnPKxk5n5tSHkOE9fMLj11SOxQ6Iq29wzulTTiGMCmHgJaJ+Alc+5B3I9QYMCC5eVgOyHjSIXXhxjWHHQGRgTrTANEggx6CvE+l/blBNOIqoF+SDkdR8/Z1i4JogRrPI+LFFC7PDtu2wApSHsvTkP+4QW/ng5tzWbUTT6xXco+Xkc+/adzwgtml9Elie6dQ9tR6U4wQnABuldTn23BPJdr6CpjrCCzJoqqHLjz1n+NqUNPoTouRn+aCqyT99Dy1RUVgKn1CqEb14KTOgj2o3uymnA63PczixF9exNjZBsZs2vKZphioJVcVF0Lo1X33mia72wbteW19DGbBRWQQRgQ8GxgSslGFCnuk+dK/WuXWBqjQzWkDB6aIFDz8ougnStnXeuttVz1QLcQZY3v79yTvuYHv3KzJtchD3xajc8YuHm/5Jsmzqz74s+zo03HWv3LZ9TSjcrHGe68WXLuaHnR9QPcOvVtJC2DKiTz9ZCzgl2kBXrV17QFxVBcVk2cKSkefLakTh+AAe7piiMOgU/55l0MbNX4GvOlBXQygcpYHYG7PAq6YTufSK4NABRWoKRt9/KwYsOAxGLPpr6uAr1RvfcHXFgntjjz8oAwNhhEBBoHn6lRfUE9gtWP3zz1HdgAAB3JTIcoJpx5dcVHH2MMPXhXr2JRo3jsGd36Q/sqyIeSkN2fqzrcoaz4gCS0WM6Iol/glpwS1fwj13l9c12xHje1wivL+6ljACzq7DmrKsqIq5uPVJ7o6fiKjLQZnWNeaj98HaiyqLCUDMCZyNn7f564gqGGGI0PmAQIVdR7v77nCHjtVhyYO6+HFlFNwMcQlUwzTdbp29Lh3kaFILCGFKDVVVwE3Kv/qah9KKRnzU+SevWOF6ps7gvAgAOnRJECyrhvj2RwCjZWtutXt2agr5SQhgi28Ic0EKdxIKsXw4NcIN4ZS/BnuuCt9/T0gk6EcfS/jaFNb6Sb9+gX/cIXOWHQKrTskQ2A9OP0C+J3Oitf8gOMLig0eIJOroLBneNKKPPlEHtjNycDQat2heykU6lrd/l6tBoGXGxk8sn56FozVhjgoj9Q43hkmnNrmPPhg3PMFQkysXy0OGNiqmm4zHLl6unndekDSTm64RB/etsKJE0ZNduxdcex3THPPewp13DtU1EFmuByLCAiWGDO+kJhwC1Y2PN0HxqvLLIpIghYBw4DAjSAajPnQHGMLxru3OzxGHj6SSpPn9D0RoO4ojipc4Z3jpFZcqsmjzAVXS7LvvBQ7EvvOGbRgaqzRUIocrfHVD1NGUiEbuA9bcutDwyIjhxctX+AnR3n4HiPAJ4AGpSXv7duwkbrMwdyE9aVr1+g2kTZcTEJ0gIWT9kkL//Cs0aPGR/R5YO8PTYQFCOPDJYNcMBUJFyYMDE3GzfkYGhOBoGTTTZ+qaqWqWplnKGRk+0XUbHJVp2ZoBn9iy5si6pfEkbt55qzXknDJLJZ6jO0A4o9Ejx4AaHGz0k5lTuIXZeE5cr/b+W28JkASxDN3SPdeyTZ10blPp8+ljBzcQkojacgi7S078/HWUwD+Xj7vk/D55d10r47c0y1H45rj30osQz+L8x/JcknB0Eoev7H31rcS994X7dzlJgN01K5veAoq3S/JD0VSSdJ9c5/TueNiTCaCRY/IkGnn7jUgriHODJGabjm4mouS3zaDT+8P1JOZacJP167jWvoOERDyLcy0hlUXHUuOWrOPQyoHNX3gJJxZ3dc5P2vsKN2/EkY3PN5pdfbtFmjiuArKydNs0MIPrJknnrWeBt/5GLAI1ieOhBb98+JYB3xrYPf+BWyRCYtW4199vJUfJE/dGz+5xAIqRms519Njv8G3D0hRC7C8+A6gqvOsWo0u7PFsgUduDO9x4iTZsSH4iTjSHgWiXOOSFBwFGD4OKx12vCiPZgpKjzavnVY+7IAQBF4jegmLplq3bwLwsXf5bbo4r+3GR0o/+IuJGQWiKY6qQTYMjCfeKFfTk8/KhIuDJv343QhIRy3AipsrhuOfOHz5tJrFmSwa3Ijm67pqOY9q2acNrKlsRcLwYQxzf9nks4RJLkS1FsUCpo+Ti+eVpE8SeXWpeWS9C9R1Dg+tBoyC7th2P6IVHwUEeOAmyiSQ8A1pHhxjtH1dUp40q+QZ7tQ6pPEkmrBLsdvyqPI+QpB5xDM/WgWEm4noB9p9+WXKAxOOyEWFjRuQ4rlrZUXoAFNA7/ju8P1B6AqoIDgtPKnQUBWT4+tNKJ1+hKpKoo4LaembE0yPwdCDCJEJ6tqM6+nBarmVZkbhSjU127PAOaM9ExCYzxpZcuYCBm9sm7WiCo0Djm5ChRd9+R2rTce/6RxIdfQeTJjEtgERQG8fWHcdwXSi1EXENCwTL4oDhjh+/NAlx33qJdG57hKXJgHMKHnvUALUzLdXUgTW32Kloqgooacwj9Ri/Hzy4FxTV9TTDM1DZrl5G+Xzq2W3L4X0sIhVgafeWHyNRy0kmyMI5RZPHg7Umoa1dSweBhxvBlH766p9wuZNsjj7/hNTBdzCmgZWROWnhrIlh+MPd11O9Wp2EN81RkMaxh9eBopLvcMuhneE6uLPuagaYg61DNiybdXWZxJs3PO50bZcrcsTTTQBoS7UAZOACW1cBYWwNDMcAHbhiWfgCxAfy/P0hCI/gDYmRqRNLl2dKAAsxByt1w+X5wDZefgTEE4nFogGE0T3ffQy/OgBJmz8BQP8tYZBB3Q/dcT1HiPHDF3DB98Ql5chGfyk4AveIXLasOmfS8ecfi/frvjdmwfds19YTUScfrXJP3t5os+OBFaJOWipksBwosW1q8MYxDMxoUJZlQnZ8wtQ0cepEzFMmSqdz6pM0Ln08ZH7SeGlKmjR5ojg5Df6kTZ+QO2L5j53miBnZasYEeepENWNi05i0n9rMUmfOPXpOzqEuU2JZWbvbzC0YvFqaNJ1PP49PGyOmjbYnZRzqOH9Xh0WHz5otZU3SpowJTJjyRau0slGLhElThLHn85NnbGufXTp8vp4xWUqfLo+bLqVNyB059ZuzcrZ2mNU0caE8YYw+den3bbMqR88tHTJrW5tMfeoiZeLEsvPnf9tmWjg9R047T5l04cn+c7Z1WixPmSNPniilT9KmXpB3/pzNneYxE2fJEycKE9KktPT60Tnfd5zHTp4np00XJmTkDcn+qf0SOXuGnDZOShsPWYQrJ2aq4zPEKcu+9mWVjp6pTp0gTRzDTpy/vcOMipHzlKyMgv6Zu9vPpqdMFSal8WlTxLQ0MT1dTJ/EjRulThpXfO6cXzpO06YvFKZM4jJztrWbVTgsU88Zu7Vz2okBOca0DGrMtE2+jODEKwv7L9jTLcOaOpM6f8k3vkmhtJnalGHC5OHKuAl15y371je19Nwrfu4yXcpYrKRPlDPG5feZu797ppU2Q504SRk/R0+fVjJi3nfdFlLpk5UpY8OTZnzpy2EnzC3qPftg90V6xnRx0lhx8lhx0gQoG58GRZ2Yev0jT5TTJ9ZdsPRb3yJm4gph+iRx8iRp0iQBXjOmyelT9pyTvbfnbHXmNd+2Xlg9fIE6JUOenKWmjWcnZX7ZflrNiCXqhKnQUtLEscLEcdzECey4sey4cafzWG78eGbSwk99kyqGZUppi8XJk0GRIKvTMsrPmb2384pDnS+u6TtbnTxJBOGnQyEniHC3SWnypDG1F0zd0mFWIH2OnJ4mTpgkTpiiTp6QP3zann5Z5cOWbO+0NDxtvjDlgsDonC2+6Y1jlkFphYmThPGT+LFpfPqEprScXzpkhcddJE1Lo9JHyWmTq0bN3tZmYfC8ZcqUifUXLtriy2SnzpQnj+Anj+LTM6SxM+X0qQXnLt7Sdho3fQY/dlxo3AxhfLowPg1exQkTlSmzvm0Peb6WkclPSpemTqPHTf+q9ayG0QuFcWBBmbu6zz/Zd5aaNkWYMEYaP0GcMF6cMA5e1YkXVgyduv2sORXDr/3VN0OZNkeYPI6bMFmAPH6KOH6qBJqWNkGekKamp1OTF29utbBufI4y5dyi87O3tZ8ppK3e1X5u8eAMcdoENNhJaVjNiel8+lg+fSI/cYo0Jb1h1IyvfZn146bwE8bx4yYIEyZoU6fu7Jq5pd0lP7eZZWbPlDPH146a9G3H6YFxoDZTxYysgwOXbO2cpUyaDFWTJk6S0tPoyXO3tZ3eOG45P3WGNGla6chZP3eaJk7KNifP/bXjtMMDZ5vZmaWDl/3SMV3LnKhn5/zQYcqx/nPVsenVo+Z912Ealb5QT5+qpk9RJk2CrE6aJE8Zr6ZPNaZn5A/P+LHzaCpjqgzqlz5OTBslThwlpY8W0y8U08eAxQmTxmpTphzue9lvZ8+3cpaWDJ6+s+OUSHa2MTFrT/fZ+3rM5NMylInnKdOmHBmQ9l37mUVD5hqZ0/kJMwJjFnzfIbNh1FIjbYo5eVTtuPGbW01gp13xW7dpxwfOlKaPqb/goq996Vx6RuPYuV+2zgmMX65MHn+8Z05hp+zawcsPdRprTM6R0mdIYD6Tp/jTl25pldk0cq4ybrI0DpteSpskTkwDQODTJvATJ8ArNCjCyPiJ0MQSXDB+qo/Lnv1HFmaeyi2/8qn8x+d89ixxxgIpZ37u8Nk/dcxks5bys7L5WTnS3AWN467/1rdEzll5YtD8PT0W24su+77t8vIhy6Wc2fzs8dysdHHWZCF78ebWizd3WLG36yXSzFV85hR+xsLt7ZYWnb9AzZkszcr0T1nxg29V9eiVwux5XHaWMDtdyh4bSl/6Y8dVm30zxMxlwuyJ2qIV37SblDd8fl7/hb91XSBnXSZkTa4Yt2KTb3p4eo48O0eek7W39/xdXRfL2Yvp7HR2WpYwa1L1hAWft8oMT1/CZ2VzmdnirLmVI1Z92WpZePoiYWamPjubGb/sY99MMWs5P30GNyOTz8ziZ85kcmYI2XPYzHnftVriH7uUmzWemzGVm7bk53aL84atknOWlF2wZHvHi/iMhezMBUx2Dj99Pj9jHj9jPjM9m82aXjfm6q982UzmMn5eejhz3jetZ9SPWWIvWPRrhxl5g1bq2UuDUy/9vM30hgkXFY24+KezZokZy8PpV3zXajozfYGUPZWfPUWZN7dp6jWb2y05OviKHzpnC1nzuemT+OysggEXbe+wQM5czM7I4AEl547NH57zTbscNXu1kDVFmb7q21azqqYs2d9n4e9nzwHfBoWhZ2YwmVlM5iw2C8o282+ZmzU7MHXld60z6yZcycyYxWXNBhFxWZlc9lxl1twD/RYf6DNPyln9fbvZleetUObP4aZOE6Zkh6Ys/NI3KZC2WpqFeiJkz+Ozc4RZs4SZs+TsHCl7TirPg2zMXvZNm4zKMZnc/HnCrLnCzLkgWHXuil1dVh4ZcOUP7RcVj1wpw+dZOfzMuaBR/KzZ3Mz5Qk5Gw7i533dcEchYxM1M46bN4qbNlzPnHuu/cGu3hcUXXrytyxJ1zlIua7KZc90Xvlk1Yy/is6cKM7K56VnQ7uKMqXXjVm3yzQtPXilMm0NnLAQbpjMu+tG3sHb0RdKcWb91zzrYea42czWbNYObCXkylz2Dz0lrGHfJZt9sOXuuNHMZN2shl5UDmc2czWbOlGZN+abDgs1t5plzFkrgdGfmNKZlfuVbHJy0XMxcoM1etKf7vH09F2iz5rE5GVxOOtSCy4Y8T5i5pPjcZXu7zasZveb71vP4aRexM7L5aTO56ZnsjCx25kx2ZjY7M4PPmsTPyA5PuuJL3zz/xOXG7OzC8+f+0HY+O37NtnYzSs6fw8/JZmdlCFkzhJmgD7P5mZk8WGvmfGnOfHrq0s2tZ1aPnstl59AzZtJZmfqCWV/6lhzqfuXPbRcLGdlQu+oxc75pn8nDF6dnS1kLTvRZuaPbKnM+KMA0LmuOMHN6/fiV3/gWhMCbzp3KzskUpi36wTct9/xZ+tJVP3ead2TgAi07q3ToFdugSLNmK3OX/NhhTtGoRdrsWaFJV32FZb5cmAW2M53PnNGS2cyFPIDGnDn7es07dvZ8NXsFlwkqN4fLyoK/CtmZQvY0ITsLisTOypJzFhT2vnpLx5X23It/7TbjaK/l8vQZ6sxFxwbO29puvj53Dqg3O3PZ9u7Lvuqw6mA/hBd29uRA+mVf+2YGJl8jZi+TsqYyk5d/32pRddrdX7fJLB5xkTV/RvWouV/7piuzl7NTL//alxNMWwhVPtJvyd5uy0+ee/O2bjlqzjJuWg60BTcjC6zvp7MWlI9dIc0FQ57NTc9hMmaxGdlsRg7maXPYaTns9Fks6Bi8TpsVmplDZ+b4LEX/I5vqqXzmh2d8rjmC1RxJPPeo1a39STlMbEUyJSXhJj55HQLYE8DJH7yd7dEKh5jg149eVpM2BHGsKcuOylseGTEIiDo3YxxEmiRi6wJLOvkOfvhOPOElmyNKLZ4LcuT3HyG0VmyNhiDRU0SRIu18hRB88bUEyD88ok+Pgofvjtx6FXXB0GNA+GOemdqvZH9tOURhVtIhmen80lm12DNgi47GJ1xn23cxCAAbq4hnSqYiJSKxbz9wfL4SSUh6rpAwpSqcIrenvBiifs3RZEdXXVMzXTkeEwtw/+k9ebtiMTcaMRVbIQN6nrz3dhvCnOeepLp2OKyJJBIT7AgXNc2IaUYxLBViUeY47oi6taYYIkqDwzDtx13fQ73JeX2OXX8p7rdShBHWLxWl5KXnnc7td0JkkXsQYti95fkkoomGRMUixt7U5K2F0+PnDQ5iL4pGNXvk6buVbr5CCFJcPRbVZCjJbTfU9e5eAveM2pKLm0gVfPyxs3B22cI5GIVZOm8agq0rGEYZkNW/5UhErcUV0z/u2ApiUxw3EmyMezYIXAaBT0srXzQXd8eAWGnjBiUeEWyBSRheBfZ4/nZ4Z7PrqoaaCtUl0VJ4S4MYWcHOIswQ3xku9mjnvvNyOBaPwl8tRbVVGdpuypjQpUulIb1rHrhLglpYUDZNT5UQo3uI0D9/X/T5ChvqiWdIoGygRRBW379WGzms+N51dr9eua5KTJuNpjocXnsRbiJ5hgNho6uaiajwGx7c8nsQvq6zDmiv4/Is6eLb986rUEDSvU3Rq0+xUAyIrF3dc/WIbZm2F9mGO+8doQIkoksWRPoQcUNcb0WijhfFzpliiOI1jsQsmbjyflwhcqiigMRBM+IkK/3o3GmNJJHQFcVQeF3SMMtK0iO3X01dOOLQZjyM61cotqUbrqjYgm1JjiV7lhKxNM1VQzFdbMJ5Wtt3/URIIvnFxxBlH6jKJd18xz/aGPU83dDCKZsSTVmyVA4lL4PEhJSOHdiyyW6OR2xTjcfhnvBJxcP/gNdyqhED868+0Hy+4zwDei6SWOLFx5SzOpx0NWJKegRsy/V24lToAw2lxIzotiODtMf0L5g3E7Wo51kH1t5GEWI+8zADUoW7QVDfxnfo2acZkrSO4Nm9e6qLoOpyxBWi9qkMuhF1tWSUTBhRf/WiShCRY+pQfcewPV31TN2zUq+G7dgG3PPRW0KtfLXwuMFnN9x6KXYXJKOJB++uP7tdfnMM1JuJRMi40UGfT1m5SEiCiRtNudhR8zs8OmonY5YlBgAxfv1wIzm7U+Gzj9iE2KmDizZbAinApeS/NODOE9LNVwfTziu8aw0Z0PckiRJHFWyV8QyOA8BpdfSVl+xkc8yzlailRgwtaqieASLSPdP0TMODXy3FMzHY1x3ddHQfxQthFjdv/x9ziGM5WpQt6fH1TmtfXWMgyUrwOaOY1mMPMr5WJ81m8vATNTj3G6f1HPvgPUFSvTDfiEto+FBQdAcPBbQlMzIcyzMZ2V8dcNv6yp99SQONU1V15y4cKdp7zAqbTQGOo1mH5dgmjnTsjkfFMQwJCJwRIWf3b7j5Vvui5Ur61DozSlhZ+Ak7uX7df5TIqsSLpG8/7sprJNOLBCSJEWRJ17/dZvt8/sPHPFFjaYGDAr/zFthncUDyoBiq3EjhhOfDm7fogiZTQogWGUpkmmRJVCPbsA3Kc4+7vKYyIkVLyT4DDl+3BupK7rlf6Nq9OkQng3JjkxBk8SyAEMOEQ3wgrDccRvw9sXUb4T0qFz3Er/v3kagbHTWqduXFbDyW3LkH6lt4OI88+VKsTYcTnEy++xnkU3r0RELCPYgowRR/z3V8bcQLRtjnnl8b5qICR6uu/sCDuJ+8bUcp0RRoXXEjl17e1OOcOiemUTzNhqJtWoWfekFLyyjNXiABhlFyKCwHQyIdElh8Fam/ZUprLML5JQc++pxoJqWi+e16eC0Ti8u6mxwyrGTpCk7GU8Dyn31aVVxVFBlNUXbjSrCyHTujjMEFRS4k8EGeCQqhIEcHOSrIsUGOCYLaCJzmgBurv/ueWj7mBgQqdRmtOt6554ZXX8L27+e/8WZOsY0gDyXkQzx8RQgJjGrpL22wAAgqKcLhGn6OSg3y3LqWH3SudPV1bu+BtaJOOI0V8YydvIcfBgCmKdxHXaQF0XLZ93BvqsPl5YRj6RADN5cCEunVo+qhR6jNXwFWHjuWG+d0mlaCFE4Tl8ISQ1na59/gmrHyWkdSBD/ovKYEOSiVyGuKYEBFAESCtY2E51lVtL/4OgnKeaIoqmkGK+KxhhmTgparBwWLEkHmkENhKSCb7sql/ozJ4U/xLJnjTUHCmzQOY+Kd+YDIB0UhKIZxpoFUfxz39j720/aYF5U++BSUpPzQ3ubWvrL3P7MZW8L2wmVpXMps6RAO8yqcqjeJ+K3X3hA4C4rNCZa1Zxdg4sGv8InUoQNRw3OffQ40p5ESCM/Iui48hyebNTU0ER5aMLUr8BtvQN1Ly2sjTRoXUEO6oz3+NNjOYX8TadX+xH3r7TjRnn4aOZNiEhWdSu5TLyqRuJU6+Khw70ESVoMBFnfBC6X2wmvkG0PQbiLpclbputs51UrSokYJYmrHWoEWILP4hleCkqDbsfvXNUKLp3x2/f33NVpOglciT28I+3xVfiopKmwjm+jVv8nnS0zKCOnNCpT8669ASYqO5UcBjiShTtFI167Hb7mdtO98bMNrScP1/5TaFq6hjuzCjY0KKitIJC5edSV97sCmq66JDxhapjskDNbLhiie8jOkXeeyO+6TFZvgzFvcYgIMm6VwOr4U4uQgJwUFIcjzoKsMK0i0JNGyLyyEw1wozAXCXPB/ygGWCcmmuP5JrU2rysZgHO4Z5vy6rdx6Q7hnzwo9Sja8CjWsCKaWYXz1NS+pbphrSsFoMCyag8+FBojPmIG7JTFSsLoh0c5X9twGVdNjoqh9tgka7HhRVZSShRDPhEG1JA7uOej8k2AkgI9gk6ZHevUvuvEf2qK53NgJNYYLVhT6CZtw18FjRFLDFJPs0bPurvskzbGCEsMIvKRL23cD96zad9CSdJxJo1rGO2/goosA79GcKLLAQprh0a+/ykhqNMwqDNiWoAcEwHdn02ZQrJOlZRFKCNO4+SwZNvL48lVIJ+99MNy1Z36ISoakQJMYZHA1OguvoDdhhSlDTnF006dE9IIHEFK/O3GMeFbz+UOpFSuZWNTbuRcs8MihPLLh7Ziv9TF/kGz5BuRTeLIwoaghilNDbGRvnutrzfTtmRg1Hgw5JrIAN8ozz4A3bjAMj0Kw1bSItWRF7YChNV7MYuQGNhxp177q/ke5UaOLFi5XvJhH4+ouMDkpzGn4CniB7//MgEQFWNr9735INMNvICrV3nmt6FmcpCfOHdqw6rKg5hKgCc88IwtmI8/7dUXevh0wpRTAlDO5MK4Ex4qHUnNUU5kJoZGDo6U1F+pVfc89DaKbBJDFz6Hcjte3T9O117MjRwauvp5SHQPlxrNh3J8AZ2Uqpn3/fWz77uUNHCi0zHIBGjyLRm6/K9RnQMPSVeZ5Yxp5NQ4gqFmkW6fK227ldZel+SZK8NNiwLBD774PFTlSXUMkXqYYmtb8tJW4YGTDzTexly91Bg8q4hTCKWJYACSyKVYPcW5Yt387qAD6HD4WFZTgiSL9t92NtOCEWROkR+NsdjBpurQ8Kgk4zvMZbj2eV1mX5FiBF5tnTK+emk7bUSYo1VJCU5jnMQusbjfPSK/NmRnYjtNdf20INjOKwDEqw4Ges0EBMgeWiNNEePYkwuiBn7d7rhdOwWjhb9tAVXI/2mSyhgbWSzNsiBFCjBxi+RArhWiAUdYvQnOUvPaGxptcgBd43XvvTQDNgnqc013+wzeCEyH3rKtr3TYomB7P8KoivYfn0VeWlMZYLRQWQrrlPvaIdlaHiroACSqmX5AEjSrDgcQDb+A2wfs2vOsmifPi82ARR2WVSKgn+Y89z9ixpoMYe/22Y1eSVqgAF6LoUJjBVz/Oqw9X1yU6tKl57TUDWG+Y58CvA1PBma+Y4Y3A8HJI4g0rev891aB7mgp3O/jhF2HNcgXFfncTC+ZZVU1kha9uSnbuDAWIjzivSXQtMOZNOH27KK8syit+WaRMkwwYuHfBIgjjjr/0CrGj7C8pmlVdRX5DPN1dWkLcqLTmJmnIwNpLLjX7DDmgOYRighTbSHNNYZH0Hth45XUBzYsyPEBOmIbq4CtDIShBa0KNKBBXWKAx84wRYnyp2Qb/uwxXAruz5aeeBz2raWpKiDhvIWzZ+uUrhaHn1nsu+eJDHnjfSYwQy7f9rEJ4h/MSGcDDJltzR48CT24vWKxZnkGL4bpAvGvHioce1Q1H1w3xpdeM1q3LGmqaFU6Gp0FZWYm1TJI9u8Z3VoEggabWRpzmCaPY1ZdIWXOlzOyAoSY0jduHA7UHduxstiS6tsFt4yt5/QXHUW0W+BAf0iXzCG4+UrhrtwcwCNAjG+bLL0I5CyXGg2LQEOl5oKYVd6ytVcwI0BmGVxgeT6o2VPPtd6DNagINBM8ComlDbx49pmjWbCpByG23U33OLpeEGAuMg0/NdWTxlYEfYpDHIGvfS28Ry+V+x/24fqgoJJ6TTJtQP2duqDkW3f4TwmhhCXn9PaB1RwMB8uknoBDFBSVElnD/CV7UykvMNq0b2rVLjJ0ID4orrN809NdfBK3Kk0yH4xSO5R3byV4QGDGShmg2LDQITKRv/9q1t8rp4yquvEq2DRujCJZnaYVl1JZJnX/LEhcI4uY3uc8/HfGccB5yZ+bilaLrQcRCep1Tf8UNftslbX0n77+PtywdaqjK2uatgCkFRw8lVRVilSBoF6gIzl75IwMo4KxAhsTVjl2YG24KGnYCV2liSEC5ltutc93t69hhw5quuIoxTQMcP3wJaCFPq3ARhLm33CF071Mm8jGBwykmIsCY5j72KNu3H5MzNzphbIDXErTERDQyuHfNVdfwumVAfVIzMHnLUJ97Hijn4RCF+/dwdADIBTjXjGlV48dqXbpJD90X9pwoCgYTfAd8oCRKSu5h4GgFv+8iboJcMCHc5+wK1YhIbJARw40MKBLocPjkSUcRBVO1X0f6llffRGSWNhQyO7ti1IVhXBjB+QWaapmlC8kwyKgxFUtX+fftBod9tKQUkR3sAkgljfve41IeBtfTcyrPHsY1aSf3QgHs0OZvAByLtv4KoJD73deWokh0as7N6Zx6z/I6PEIDwM1d/1RYMGUuJGlW5Kpr/ef0qJcjcLfS9z+gEza5bU3tWd0DtuHwYUOU3R9/AMXLzS2xKA1niTmWDRxt4KBqVkhC4AekARQbKjVzQtXwAXCTss+/JHGHf+MVMP/9lkqUFP99ZaPqxtkS3DHj0O/bCZgORGQUTQEVxSOUgTNz6mE88Lz85x9NTRHBCXCpvaxOqQhOI8b9AUEUpua98CxQhMpCXPN94Og+Q5FlIHu/bgdNyz9y3DEUtrIC2jQwrHd0xBCKkVxZF197C6ymrLE+KUMDC6zrknnZFeePwFp/9hlRrYY9B+H93oJc8hNuRLKrpgZgNLjmTrZP/9qVy71x4/IcCzftR5AEMiDHz7ugaeXSGttpBnBL7TXQoh4tWg0p9XrqN6wB/Pelfv4vE8CoKFnyBuwJrWxoSODmYgzlWMaCmeK48VXRCNn+A2hV4FfsgyjbuyeqSRpYEUcDjPoNMTJ+DIXnXy813KjJq2xjON69U9U99+uKIZuaft/9fNdudSzTjPv5c4j0IZbSdfeaK/1n9yoSuaRA+SuMerIAANuISURBVD2HTLjQv3iRNnmGNCsnZOoJyxQPYifjoZ9/SZoSXYOnM+Z9/rFmyYCDAdwsQzSPHgDKULBrdxSoZ1jwA4xueF4A7UzBKCAglXAi5w6lly4q1y2AUfCQMsPB18O27rz+GgBuHRsiKDuKMvVk2qT8jGlhgNFbb6F7dSsVeJf7O4wyQPkdPBT790efch2X2vo9vN/WWAkwGk8bX5szJ0zOgNH3PgFtPl5bRz78EKy0pKQCYFSkRTpI8zWlXvt29T5fbNK0Gl1LKGzA0PX33+IgqhINjxNAuqznuBkzm8aO421XDwkNuhIdPrLq8tXqBcPKr7te9mwL4mGwPQ7nuCk0jbTszAwJIvLUUR+5zz0JMBrYit6bn5Xlj0Qiit7cp3fDdbcw0Rjp3KHk/gdEU1c5CgJ/ZdMWKHbByeNJ4M4cGxDw1FWEgz8SwigYOkvHPLNrD/qKa4KqHkEYxaPHKNd2O7StufchZszY4MWrads0UooKX8G1VRQfViLe6suahoyox1OncKYeUI0WGGV69GDTJzVDCXnDCQmBmEnOG1I1byFtujEGjDeFo5YpPf88KMPhYJgofEDggoA4mqNdchEEIvA5c/BQTNFkeGZKBikoYyRJVGrK4qC933zj6BC0tm4cNkixbFNi/ACjfgrgAGBUOHLIUiTB1qyXWxaYBYkucNDic3OqRo2m7CgENIEWGAVdEHhO18ngISVXXEcf2g+NfigvD+wWl3SB4MDp4gR9XA/DgOvURC4Fo7l7fyeOGdryDTwxP/V65IdvdVXhT8MoipbmcD8lhoHQljfwPLi8R59skgyDCwmmY6dPDGRMa7AxQM574Tk/SZKrLys/u2/AsyyB0kTV2IM7S5zce8jAhQLg2MzYnNnVY8Y1SZonQNwNCIInSCsfvAP2DlcGd/xOEhHu3TcN4Ae6RETshT/8wpuiHWEqcJrd7q3fRSDuprA6GJhRUDMqLIryT9irVnL4EG65k9pgBBh1ao0AVgM8JjhOcA8Io88/5wcetnkbGOyh+goCslEUJvcEVP/w7j2GpaglRWAjtXOn2726NwTCMdVUH13vdOzSCDxAxY1wadOJr7ku3MoH5an45lvixti9h+D9wdIish3NcE99PfHiodvu5budXbFkQXLChALPPg2jTFg27IwZdNa0YtdtbjnoBXJKPf6aQGCQT7/9jzbKS7FRS375dQkIWl1tvAVGPceYfGEgK7vMssnxI+A3qv/5KRQ371heXBIkEGYLjFpKdEYG0Chr+UWm4xq8RAeoRK+zym9fa2mGYBvRS1c1DRnSqOsJWQiwQhA8ITgtQeArqry9+0QNmALFgDrOyqQXzLcmTFKXLZdNNQ4QUIzsKfe771zPEgvzQOIHfvpJN4AQ4KxmRuf1wpNgNuVbtkRYkQ/QAVnXn3qcb+urlliAURqizqhjZc4OjxsVclyP5SWWk1H5hYBlOI88HPC1qhGYZojngY2aZvOchRVjx9JxQq66onFIv3pR8BguGEwJB2GUxb3JgVvEPdKu3fGbbrWi8fC3m6GEexk/8dz4jOn01Kk1JJnYgt1qR6qqyD8/AqEdaWgkb+E84byySiJDiMdRYCSBegKQAUqcPbvWNBIAYJZufIIDL/kBNspBYMfQQCIunNgwbRrvuHpYbFCF6LjxtfOyjQtHVt11l4zryXGbFR5IAYTX4AtAJ3Du86mEUIqRNG5fkL/uNrU5QX+CZxbFxo0u9ZyEbZIObQvW3ivF4uSc7rW33cHaps5SAU3mP/gELisoLiKKDLF7CE+POKUlpxK8ScEoG/fUISOUhYvqnEgUglaB40Ue0B9qXf7I48y4sY2rLsatlVJcNoUKfAMjBHQvsXBJ3bAL6qJOnMfz42SJFj3def55tUsXaei58SWL/KprBPmGRIRkpNfOyGQMM87gbHYkeXC/e+4FjDtqgpFQ2JdAQyRry3feChoSGzasgpVbdks6VVp4OgdgzQqpCZjVX2zSc086Pl/DgH4s8H0ZIhuJq8AeZFwXtHuHCcRHl42HHm5s075Klokuia5JViyqHzYyBE/hBEpA88PlnhDWSALp1PX47ffJRamA/dAhAkwPmFpqo0m4KEV2EEZZTWT2I2M9fmAPcU1663YobemmTYBi+/bsslSFTUHnHxlpHcCRGAppWrR9u7I776mQdU8IsbabaNeq8o61VTGA0dbV96zFPeqXzM8dNpKK2eCWOEHhDx2FJsjbuk0VdIC3sKuTiaNL5szjDFcFdQH7wZWwYhPQeaBNwMEPHyOuQ3/0TxDLLxDC8dh3d+jVd3UnyjemDhn7YbMnQoAkSCBKCiAUYJTxK5rwES49KC8uiQKFhzqCpE/BKAYroH7Q6HgqqqF5G9/G3tvX3gaEKZF5Igo8MJ/KarSLb79RPN09ehCeXrvmWrtT65qGuqTpmGvvVM7qWhPmm8HFQGMC7r/xOvBlkFvd1u3EcOj9GK3uzD1GfsRu4j11dcTyAvc9pnY4q2BmZiwzs9Ixm0/DKLSdNHc+lXZBqaY0M6faB1OLivy79J/BKJRSNJR33oNSllZXR3g0Y8rz7OEDapeuKPK8ZGrXotonn4Pi5pWUAfTISHsZkecBRiMzMoCNGisuMoE3cSIVCCd6dam4ba2j6pyDeyLUjR8fMmxN5IMMKIIIIAjBWZiFAJkLK5QkUJxuebOzwcc6549WL1olukZMEehUL2Tel5t1x+D37gLx7d65yzVkQDYQq6AJWjEuhin+fJMnG2qYDyiG8eTjQmtfhcR7tAzEh3Mt6/JrG3t1obyoi4v+uJbDFYO2Fbv33rp2HWotjYA8OZrSzejFlzcMHtLgxMlllzSdO6BBEgFGQyEAjFMwCuqBa/ddg/TvX7ZytUiI+t5GMINdokBcLzY9k56a0UBIcvNmhNHKcrIJz787XFlDXnkDnHB+bT2RRY6CJuT4YEOyZw/a5/Oyc6o1IyFxYUNXP8Wek/wAHePBsTAh13aGj6qbnSPYjkHzTbaRyJxRPWGcNXhA5X33KZ6rgBTB1vBEcojrW2D0FJC2/MCwUlJJuw5F626X4830cy8B4Woe0O94LNJsGhDL59++jncipHvX8jW3coahM2GAUfadd4H+FJaXEVGGcB4PCAL1QFBqiXRS71NvGBDvyPPFWXPqdNNLrf7jMfhCGC19+gVwKk2LloEPOA2jABR8PQtBg5WcNK0ifXI4AWbKCfAXqIRjWM+9KLfvIA4enLz4orARAb1otDRv7hz/+SNrbYfgAX+pMVGA0bvv0XytDgGMQmDDMbiaTjGlJ5+AYnNr7+WtWJwTAYegvU7HZtD2HNg5qFPFu+/SG18FyVP9+4FgHSCzvMRXoKZBKCDt+FlTZd3Rnbvvrva1qRBlCCBYw0wuXwowGtAslUUYxQTBMhAwkSe+VgcfecLMRxjdf/AQeEpgowA0KaxFw0I2KrCMLrMQzgP6A4x6JrPtF9Dnovew22ffnr26LINB4+JE0A3gpKl1+/hlmQ4rhte+Y/nt68o0A8gwADNoV95b7zIWIef0DV15KR4COGtm6fgJfDJi80JQUsNFpXDzws82ybKlAZNTBDJySPnlV5p2BGldivaCrvCGS2bNa4QAqKKORD3hs4+hML9QYUJhBLPv1bcV02NqqgD6d275ypM0AWA0xcIRLTnOr5nc4487HTvWNPqToghokCr1mTDKQAZmzRqas/EdYKPsbXc0tO3UYFtRaHRRCtbUAwpXvfMWE7Vi338HkFr34rNg0RV5uY7teVdcQQ8YRAlyEvdvYyVFp776EgAKL/h9N4kk5IO4CmNvwUnyM7KZ3Q0NCKOPPed0PKt8WkYiM7PctpIA+Kkh4rDuCJdfqQ/uXWgYzUAToV1Szfj/FEbBaUqG+sGHKki/ssoTxCA83VATHbuwN91YEo3EgwGQZvF110Nxm/gA4UEnoZlBAYWgpUbnLwKfplx1neXZJgQNNJsc1Cf/pjWOGxEEOTHsgsLlyw3dkVOaLUNczHPAWmTQbGgPlsX9J20jvnQpmz7FHHaefNU1TRDkyHy4FntSTnz8iR6Nsp9/DW1cdPwo0QB0ETVUTRChqL7Wxf98N6boCKOqaTz0INfalysI0bDCBnnB0uKPPFALHMS2TR6+iEKlQYiaFbv+hqYuXRpiUYuigxxDOaZ9202N3XuU6TFy6SX+4UOqTTOScmSp7p5UBhiVaCZiJ9LTi0eProkmyJt4nsfvpkPMqDZrQfD882uTyeb338PupGCAbPkGACUXnOSTz7jt2xVQFHa0gScEGxNFq1//MLDRpSsrVCvBsWFdFrdt06C+5VXgqy2IxSKOO2REaMHSOtvw5JDf1BKLl5QNGep06VO3fr0EVB80AbQUkYgBLQarxXCtBUAB+sDgwJRdmwzsXXntlRIh5m13ASMgXTvnRWzi4DBC7hPPGHac9Opdeu2Nsu26UC5b095+K+5rVVhdSQTs16LA5tCmUwwUXiGdVj3WsZSp0+TJ0+pMKwGNC6QPggxZgpYqfvnNwOT0unmLhRYYxRswIkNbgGiCGh87pnrJXCFmOgJ600ZgsoZuvvKW2KqN3LVz9KbrJdugBK7Bcd3Vq/lBgysslzBiIyMGWSloGfpNa8T2XY8ACgicH8gyaJFkKi+/B3b4+769MeCSaHenWw0fjV4QCgcX+F97jbtkEbQakHHZ8ZyQEhI0/nheInUGn/DFxwFdjjh67OY11a3bVjkJoAV+1bBXr2g4d1hA0T2GDUFQn5IBLUlUILU/1msbkikgPvDjj0RXQT/BOv8QEr4DvdM1fivO0zp04jhxdHb3ftCN4g0bAO8qTuTGBCkMMHqqtKnc4gFS25zbZ+GxCHWm6WoCd/wIwOiJPYdjRjR2wVj//CyeJMiktOrp0+WYozBihSQFKsvhtiWvvy6rlioJfChMOnQtuusB27HhlsEWtotCU6wvNrk+39cNNDENeguC0S5/gIT8qBuff+B6DgsQCe7hjQ880ZQw2AA1aEksbTnq9depg8/OE7gkgDV8Am2MLgutGh6QCobQ3mhNNb/YJPh8zNy51LALKC9iMTQFOEBzjq9tyeOPhpMJ8vK7evu2jZu/Bl9YdSjXisRiS5aELxhO2TLYAuizqKjcrh1gWWAjtfsPEc2icnEN6P6D+8jXuFnwjjBNDDvwxAtOa1/DuHHxRYsbLSMB9kazYZoNqYZy++2RDt1OUAIBIpyS7v+c/iMYBTVnJUP7+EMA+8LySk+WQmCGtg6etubue6o9NwJRlc9XtmAelLuBCzXjkA4PiipxYsBUIwsRRtWrrzddxwAXzSCMFt5wk2u7EDs0dz/n2JqbbNPT8CBnTkIYxeAPUZVmZWCIPMN6lrt8RXjkhU7/wfKNN/gtQ1VFthF19MS776leRHrrHVD0k+UVRBUBhfDMMVXgUx2mha+8YiimSoshwzTvWsd2OqtUlKJBBdCR1bTI23g+6DGIy6DlU1vOcALPaGb8siuCffr4oxEdeB8wGlPT714b7NCp1IiRlcsbLhzZ6NgREAsoAio3UtlU3yjXpBv8a6+BFz3JCWT9U8AfjzgAowk1ZyF13qjGZHPzBx9AsQ8FG8nPPwOgnCirII895bRpnQ8mJwMVBRjlKFEy+w8AGPVWrKxUzAQYpyYBjEKseqK0gkgiQGQ44njnDKhfdVmTbToSFTKM2DXXV3Q/22nfrfGppwVAE4i4GRwxTgWAyC/OhFEko/DPdcnAXvmXrGLjhFx8OQQNULbDiRgx8ayOE+ufBBbe3KNX0VXXS4ZjM1TYVuSXNsR9bfNqagkn4xFrKYVDZnQmjCI0cKxpaDNncheOq9cND0+0hGYVOUmGRsnb+FF45sz6mTm8652GUbAvRoPompeTA/rlX7XaiFkuulEhBIoAZPyVd0RfW7mVT7lnne4C3lINbsS59nqh81kl0RgBGgg3YAW40rjhRrlj9wMmwiiQZTRfWuJzayJPPFvFckRgcBg5BZ1nwignCkaXjjX3PBjs1UXq0j7RphWrWUZYDguaePQESAOUX/nkfb+heKYWve6q+u7dayNJg5X9uu1ecXHDoCGNqhFjcBtiJOksG5blEDQuaNenHyVSb/b+/BOxNYASkNtpYbG4GwPNMeD2t+HJFofzjhPL4PbgeRBFDz0Msio7nhsBGAUSehpG4f+pASqJpXXH6jMgfPGlpY7pWYr5+QegcvsAC8yIlzGrdtJoIR4jw0fULVnERW2dFutkIdTUkGjvK3/yaU0zFVlk8ACxNsUbXvcsA2AwRKf25AAkZTmVlRLVAQcKpxmh1IHbuxoCJIgwmvfFB7Zrs7X1YHfHXnnXFk0FeM9pGAWfKXkRe+aM0LSxeZqRxPqmulxa9CQFo2AsYVBNmqd0Vf/qCxa81NCh8tyltOMa4XAYOCYvRLv0rLv9Ni6RaH7kGaZDh8o9e+DRBb/uUd1o8/TMumnprKeZSGs5UZa4VM8JRFQlJZXEsMKF2G+7Z89O8uVH8GYfwxHTo55/GfxT9ciR8SVLGwC1cBsdLhzmQpalPrHebt2psDHQLMm45VhLrNDy+u/SfwajYCuKpn39OWhSQXGpLSugKCAZwP7C514MyZISiZrtfE0XDIPi1smiA2Yb4ugwxMhCEwT1F18MMKrdegdovw6gKPLNw/oXrb4s4kSYukbSpn3u+idczZLBYsBDgXcUgBkwsoCtorA45sNHHOW668MDh0T79TXuvJ2xNEmFQBf7bvI2vCInSPSBh2K+Vvv8NIG2SW0tLkKrNgVI205VTz1FKaZC82HDsm9fy3TuUiZKkaACRJKSFX3brxBQn2gsJzInSVwAKsoLYcWKzVtQP3REyHV1gDAI6k1DeeoJpk27clYlC+ZVj72gwbZtmmUwqEdBgykipIZEv6jUNSFNPv7iC9En1yudfEVJD9iotPxidvBgnBm3cSPI7SAXJj99CzB6rLSM3PeY17VLEUs3Q4wGMAq00bKN884XAUavvwY4TizMhGSO37cf6FLRkaO4xTI8KuZEuvYou/K6sGXaYpi23OiaO0p8bRxfu+Drr4umrmAXtgBeHXQVt2QGDnQ6nIefmMBtWQ4ZfX7p/BwaCjZ1RmkKRo9qMong1JN9r77qunEycEjNRZeETcthQgFLUp54JNG63XF/E2ElsIFUn8Z/gdFUghhCX7GMH3Juk65FcS4er3ACGwxjuPrlt/LMWdWTpjJepAVG8Xrcnwm3jEv26VNyyw1O1AR2pOAZdWBpmvjeJxAMASUMP/mE6eiiQAVtT7v3PmAfxRYeoQMmiiNShq6tXi30HlRg2AQZEOgpHr1JM6Ks6hHw7QwNrZwq9hmZZ3mISIb2aZiWBUourF4FHqtBMxxKCQu6njrdFiiq+OYG3H4YYPSyi5v69K/1cMZug2G7118e6NOvXlTigB/ARoHggIjBTI7j+o6CH3+INyD07PryC2IbIDMMBlBYIDaEUfRGqs5vwS68QyWFxNS4Izi6Unj3OgCpkoLSpIQjMdhPgHqGkkLBww+AbNOzhwxjl60odQ0vojsP3Vbj85U6UU/WrYuv8Q86uyoWI337Ntx8nRzRLIhAZI5ubIz17lp99126bsqy1HC8GMnpx1/YpiohOU4JBJAU/BLLUAj7LCupTb+kVrtUN5IQzoXK/fYLopt0KAxstOjFN4Dig6nChdgrhkLgIQIkQ/s3XnMZiDGaqm2qCn/CKNg67iULMKrJ2m9ohiBz65b7BN3AU2GgSSQ5OnRkw6pVUiJJbril+pzeZcW4x0rBlu8MoCbjJ5TNygpHTAOHJHgRIh2BJ63bQPXrK+qIooXKcOLQnm3byIe41dNBVSe6Tb/6BlS2etDA5muvlg0zAjAaTsGoYcpvvunAzauqmhUZinmKVv+/g9GUaGWA0S9Aw3ILi2xZDoNvaaqDAuV9tMlUJMnz9J6d6Y6tobhhE6TAMyGWDvMIo47qXXIJwKh06x2qY+Ke8LKI+zNefKntxbmW/s0PP7IlDWBUBPaEZxYDMwAYBURlUzDK8p7L3XhTqEcvr0c36967OFsTDVVKTZ7PffpZOd4cW3Oz3bX7YU4iFN2UglEBbhcMk3Ydy+67LyQbIGvatqwb1zA9z66RxUgYh5hCgqgU4jjViQO/4zlIEgsMFQ8GUc34pKmV6VNlxwEtQhjVNPHNN6GlawIMWbygGg9bNk2gBH+BUQ48AFC+BiBHs6azI4ZTd69TenfMS0SJERNXXEwPGoxbsr69ETTvIE+R37chGy0sJPc87Hbpko9BPQM0H2EU+P0Fo4AbRm64DjkOEElZ5A8ehuuLjhwGGAVMCsXdSPsOpWtuDQPL5sGcnMhjuOETWDv9xtv8v4HRVGrBU5oBdLadRPqE0sxpfihY3/4Hzh+J0qgFZ45T8Q+983YkQZqHjmi4aDVjmjZLBWxFffi+WIezjoVCBJrrv4dRy9BWreL6DQjalsdjD6cCjjUQAIZV9M338vwF1RPGnwGjLKBJSORDwaZk17PKH7zbdE2I1/DcYVAJiHk/+AxgFDQw/OKLpg3BCFaZW/8ksLZ8yyQAldilLnCGoaxaJQ8YXGjbCZxVk7JZUGBQPBF3Q4Sqw7NSAcRfMheLmheeCxFAvEtn7Y3XaJ+vkpdcVqEEQ9+6A8oMgpVf3xB2VMs0vKXza0ecF3CjGgXxh+XdcKW/d986WcXjoBFGcbCaVtVwC3vatz+WOr5hz0cfxHUV9xWE0qSUBhPGbQijwmbcsOpQSTHRNO4YThUquO6auK91YUEpkSEqg8tB1PA9/CYKHitGMY5njR4jzZ9f5mhu1LLnTmsacyFjuIaqWbfc2dCpdYnjkY4d6+6+jXYMG2I7nKPAJQb3q7jxes90VEWp331YB6//+16I8FW8e4trgZ9ciKcDVjAogfop4V8RRvdV1pEAwuixFIxSTQFQ5vJnXpQh4EsVDCAU0QdEXlkBEWrJqy9Zsm6mGhj1Ai45VXKsAvYIIRNX1F07oQzAG9wNb0F4rrPg+nhWVaMT0+qyZ4qgnMtXlYw4vzbVj1fywceK55Bzz829ZJUcc1WEUVQSXlVJr94ANSV1fmJaTA0Of+3/+Wfyz7fAcPZIKq4xeetdKHBNv96J665h9BSMpthoGGxqyxaA0aLcvIgsneq2xgKffvO3BJ9D+g9hFIibqn77DSjxifxCixcCkkyX4m6SJd/+TBRJdh333EECmH0rn5iIueBKcC4WwCjv9zTnhjVQN/aBh3nbMHDLNqn5wvOPL1hORxLqQdxqM3frDkc0FHApnHAKRkUAW5yeizAKkrdt/r4HqK7dYp3bx554lNVl3BOU5hNt2hc++JCRJPqSldQFQ0plkTBsUxi4B82LTFhSm7v2qr7tH7QMCsTSjmn940a5R/daVYzwTBC7QkU1wAE3rHj3E05S4KF+jg0JAgfIdeHY8lnzVAdjsBSMqsL7H2A4UF1LZs8snZRWZ1oGBMWgaClbRT3B3mqMXBhFp3/4EnSocMpkMmJIXsRt1hz60ivC/XvXgUK8hCdu7lcFsutXHGwpKiQ332b36VsA8aYMyAb4xoZd15gwBUzaXLu2TrfjgFWSJOYVo+f/9Zc4BIAyRyUdt32b0K13N2i2xjGNhuG+8SJ+BcjUhx/zOsJo+K8wChCCh9gwNI6mIjFlw14ksWCef9zYmjgec7Jn1Sp8LTxOaITRIx9+EHEj8ZHn1S1eSJu6C2Dt6cK6tVqXHkc4jmBn5mkYTanJnyn1nrZs6ZbbmS7dahwriqNLvAJhfQX6rYLdv2iLF9eNHcVE/mSjGKmCBvtrSDtfw8vPW7Zmsim3KvCUoTIffw4wClgWeve9uAVOlqZlPfT2OwA3uZoCmB5qCUZ1S5s9i00b2+AZcfCIKfjGEoJZoiigaFC4U2U+MzPRiJE2BnTYW5gR2PQRhMYNwRDhZVo0jK9+gM9B+ZUnH6Ud1dAMO3taxcR0HrwdzQd1y73jFn+PXtWC3AKj6LBA4JrG/IoTP08cPx4DHwkB+6svxDwbitKyvyrOowCqgMfQCKymyx+lenuqKomisMdx5knFJRfHW511sqaRCCKepIK8GjCoJeNADfwKDMMbPyE8M6vGUby4Z5/Vq2rlRX7DcjTVevYJcAY1Oi6Zrb33Hkb2TJaTISKQleTIYaVLFrpuTFM16vNvLGiRgtyILCoAGjiYjlwQhIJBp4S+h5Nkdi9OZ9xzMp804IZ+v//4HQE9D9GJVr68R9YD91UBEeGLqVBSlGRu6264beHuPZ4A6gmO6r/CKEYKAsCoIqonT4C9gJCFrd8LqiKnNII19OjKhXXnj8BRsqzMqskZ4RBL2reueWWD5ZikT5+jN11nRJ3UaDYLVsvqJhkzCSKqg+DjBcHvxwjg4DffJN95EwztF9UgihX+Jwq5oVtn947baMPwsP8lxUYVRfnlFwC0vMNHLEUKpUASU0ox/0XCRqbp/xRGaYDR779DGM3NtXmhUZToo7tBp6t2H8YZxbZjThoP/sTr1klIxB0at+DEdVQs12TJ5u234+6HDz0qpGCUVZTmcaPzFy6XksT99Xf0hHsPO7yKwTtOoEEE/iuM8oJl0w8+HG7TJtLa5zz9BGNqaBm8lGzfqfie+6UYsYE8TkurBAJCsf4wxYEaA90U1WSPPrXXXd2oO1FQCMc0r7lK6tO3QRNciYGrAGMU0QR9rX50fZVhGhLrB3IAiqAo0UHn1qy8RLasFIyCN5aZb3Ff5Kqq6sTMGSUzpgUcF9golWKjLTCKpph6D01KiTzpgNsDkrRxdYaRNBz66mvpfr1qSDPZ8BLA6AFFIIdw+l5J3snkmputPv0KOJZgUA8ox4YdR8+aDQGstPb2WkWLwYMADkqQuVdv/TmiKKLE0kkc8q6/5yG/ZlgM26jpxucfANBAkCt+/KkAtv5fYBQw9E8YRbhmQ6pmrlpFjRtbn5pTvevBh+F1768/ETzHxXf4802RWCIxerR/6ULGNjyBCUd0+dY1UvdzDosSwfgYqn8aRv9I+Av+Z3RNWbsu3KZthWkArxQYDmCULcU9lYv3/W5ddHHteUMBvBBGW74PspNkproICc57G1VTx7OeQIcg0jfB2r8CVQEnUb/pi2ZThnAWneD770PzHWNpwkkBADBWCBuWNTObmTyuJmIksepgsAjhKcJ5KkZryX9LTMQzsqZDXBl8/rHQN1+D8OsARkWZlU3nyx+AKKmtfcp9d4Zd3VA0d2pa5YxM2XYh8Apoprf2Vn9PgFEpAYCYmvCEYgYY/fZbKPCxvKIYi3sGHtnwNO6kl+pmQBjFcIs/BaPg9j7ExVeHqquIpLC5BaAkFfNy4u27Ha9pIBJcg6DZAkCQ/8BTwXPc6Rni5CnVjuwmYqBRJ++6l9JNW1OVjW9DdfIF3DG24vnneNHVGF6QGFHTktOmVU7PkOyIohvaS6/ardtVV1bGJZTTaRhlAD2BKIMdoeRkmduH0zD3nMgjqa31d20H/qQzYTbRpnXBQ49Khq2Ba8Y1FGi2guMaz22wAS4qqpt5haURRtFGQO6nawEwCrUAGOUARnNxbiLIPFCUF5NkbDa4GILuG66uO6c7ntd//vmFC5fxokF6dC1/5H5LEkjXLkfvvtPzrBSMQtNyrOkkF60Cz1EqMITn/Klo9cCmr+Jvvg6Wslu1iGiEPvkMPmzo3C5x7128abnYb45LlcKipBw8jJHNbzscGc8/QND/bxJcAE38H/eNyqq27UfQ43wgvZLQIMvSvh/B21TklTWLgmJ72oIcsGGr79mhaBQ4fGrMm4WIrClmRO5eByyJe/opwdJNkJ2iJCenlWXmCHES/RjPUj5aUBZjRQlDFT7YwkbxOBlWEOnUtvyCYBjhF15mU5PC9FdeoPEkW4aGEL5rz4pb18oQRJ97bmhuTqXjRkKMP7UEgYYrFCM5ZAS1amWxYnmAHZ6hX3a53K9fnSY4IgZSMsVJdsLu2i141ZW1luUqXBOLnSyMInu9ejZee6NkGi1slJZk6qefoL4luXnOjIyqnFkQPKrQBqEW8fwlQ5BBa25y9eUcwGjm1EAkkjDd8C3/kHp0LI7HyNNPg2kd0iRy7CAofdXxo/Grr1OGjqiSpBYYpSk2bDvqgqXwV+X++4KaFguDeopSeQ1oQN1XX0KUqQPXbrbggopHHvNrahwKKevSD5sB6MHVSRA3mAqeyX4GjEIluNMwivMBsP+ODTque9XV1LnnVlZjf/xvm/DExMNbPos34hTr/d9+Q1w3OmFCcE5Wo2fFBKYpaqg3Xi2c3eeQqv8dRv9AptOmwpim9sh6UOsqKDDiOCPyIp17LAEwmn88efFlVecNEuI4xASqgjABGVhPeR5Y1MmvvpRN3QL7FWld4ihLC325Bdw2VDD0ww/NOugFzcsKlRo+PgyGLcjARrF33bJjE8bX5cz0Rw0CVYboGkAaux/x53+TGIgAliwBJ1S3e3fk+++AjZY3NgGMcgCj736Gm2L06C6uuY6K2joEm+NHVS5YpOIx+mxQ0SP33sV271lFsR64dwAG3OKdYnWN++f7AGSHq/xxniWtWx9/9gkNYBTaAarawkZTGUFF1+V33oS6HITwX1K4ghKQUvmMjHiXficDVApGU8I+lQGAEOwAs8SI4+bMFMePr3IhdtLhW6UvvsppOqBoODWGWVSC9L/4nXdoxTUYnpVBu9XY/CUl553XZMYUgKo77hK69WoKMc24zQYACjBKwFBQZJYCiWJPCFiFRJ/AzbAPHjhEyvCGu3//lag64GFz17Oq1q0TLAuoaZjF2Ay7A1xXX32xMnhkMa8kKT4IAItdPrg/9x/OoAVGRaCwsqAW4ag6yCrEikC9oZgQowPMOffdU9upXaksk4H98i+/UdA8MmBg0ZrrZFnAwjz5uGfqGih4KrO65163FlBij8g1qxIL34L3n37hvPYK4ONhzQLcD3+F2343+HzNjzygmDYoGI6+QhZE9chJQNuC77a4BtDhP9X5X6f/PzAKIlAUddtPAHkFx45HZMGvKPqWj8FiKyobopLAW1HpikvAmTgjh7OxOHaFwFegCcAn2Ir9yMNQN+7554GNmiLHqloyY3LFlOlcvDn68KN8h465AboZsAdn7OPM+SD2iLEyztZGFQPfxulWeMNrgEpQT2PjG7xjiCGK5mQyZAhzw/X2XTcDWcj78GNT1kCtAxQdxq3FGcowoiPPC82bV2BFwDtxnm2suEgeNLRWkx3sG6NVhqcsTx99IZ81IxCJORJfx3CCJFCS6HboEFi3jgf7x7XyED9K4f174enFR48ZE8eXzJ/PmbaMQ0woHoTOMzI0ACsoSmoZdWBeTlgzE4ZD3XaL0LVTQSxOnlwPjXpIl0nBSdDywiMHI5ddKQ0dUS4KRMIFMOAbKctWV14OPiO8/pGAacUo0GtRSJ11XPnFZ5KmacAUIgij+S+8GNTVBOidqNH7d0NkBK0gfvcdwOjf2OjfYRQXmoSbLNO4+Va219lFRzBk25sakj755itaHS5pPQiMIxFPZGRQczL9ETvGso22pV56CdtnwEHbJvQZMIpKByaC0vhDAWnNMJ54pgkYtCxYDB8GDixI3PFDzeCNivKjV15bM6AXE4/qcH2YpzgFwgtWlZij+0A+J37ZrgNThlYSGUliaEulN38L6gcwV7lzV7MEDoeC0DHYMu5x4gQRlXALjBp2YvSYqsULg55JIAgMgxr+72DUccyLljIQGykG2boNxJhXVU9E8OS6+dZ7wAOk4UOVay+nIo4uKZERwytXrQY71IDIKLp33z1M1+5VFBPjgY1SIk1D5iG8ef11CFSP1lPAPEjbNicfuQ976cMCoM2pXoYWNgpqrpni229gXQBGeZUpSi2pGnVBrEe/4xCiymA2oGZQgVO5BUZRiz3bWrJIPO+CKk+PNtaCbEu/+lZTVUNSmINH8Nedu0Fv8z/7jBEBcVgG5KkZ0cuvquvXv0FzLNNKLF5SM2RovWbFOSEI5KLFn6XgMCwwqQ5lhFEqD5HuAIT2BbjF1559ewBGcaZNty6la2+XbcumqBAoFmSQpiRHxo9mFi2pNWyHSo3+o3akhsj+hFEGMj5PFqVSPO0cYdSKWjwobQpGDVN/FQ9qLK1pJN27lq69l/OAll6Qu3olHcJZOic3boRGQzcMTwQ1FxRpx4H42nX1kgzMmk5ttbP3488jr+Lo/GHDIrIW/hFXNAGMJh55SADlB41J2S8liFoxTqct+uR918CKgSH/d+n/D4xCQVVZ/X070LH8gwdtReRkSX/rbSAahX46Iot+IyquWYMdc+kTpUgUeBAaLwexOR/2lObnnqcAEd58i9NVnaPDshLLyqyYMDkIXH3pktILR9VphkbTYQw0cbpPAKfIcTK0XkrqoGQ0BMUb3wcSBwVQPv6n6pkyYCxEK2NHM+2Qola98qom2wlaoBiuiWH9ePg4QycsfUpaaFpGse0RcOeuYyxdpZ47qkJT8dQQkVJ4rj5qeYsWBM8dELQigDt1FJ6pAmGJ62tV/9hjwBFOwagiUUcPg2YX79ppjh1TsHIVa7nIiE/DKDbkHwlKLVK8ZhBfqx3LV5bjTuc2c989coe2xwBGH3oAGvW4Y5C8XMCLo8cOxpYuDV84rkRSiIwqCFSGtWzt6luAfDVueCksa3oYVE9kgjxoQOF7b0qyrLJAs3RkbW++6VcNFzSTkf0FBSAi8Fj/H3NnAeBG1bXh1B0qSKHFXQoULVasuLu7u7tT3N35kQ93LxXquu6+m2TcfSa2u/O/Z5JutwK0pUAvYZvNTmaunPvc91yVfvzRstW/wCjH0zih6zo33aKtP7z2YxrfmK2R7zn/nnuVSPlO/W1SGKSC/fZP7rtHQ9br4FhGc+0jjmO23GZOKhXm60G+biDeeJvPhXx2CAIPR++p5wijIpMThCTDc6qq//YjfPaihoaOcy9sGjI8mWs38D3eMGZXaGUVflo3pv8GyVk2eRo1ipLYIIvNKi86uvQNTZtFe1k1c06npCVQxIraNJ1WqkyeMQMKDlUVboxguR2jNi059WTBszuRa2iZUWdXAqOCbtjvvChce1GJ5YW//opnzSqtC3UVldl78rF4LObttR17/BFsyvdlwx8xuo4mgRFGOd3277uX79e/Op6AoIswykIta4EX3H+H1bNXiSBnLDMcOqjqykt417MTMvUcoX7kVRSsHPrPdvhnnkLOzGgGRnWmvDHVu1fjqI3CTUYtQqEACpFoijKWXhFG4Q6IvBc4x53IbL5VcyZonzcbMJrz++xAkoOkqjU04YbFr7xBXtRnn4i6HhgcIwmsbmSuvlQeOhRtdjYVhHANx+/LuYGBqsYK8JFpVSf0NC8lIUjzGJVlNjq0Y/J334flNK9o2vSpIeS2bLVvsGHxhefqgZuGf8PCGwaAFKmxob1frOaJB5FDJIE5UaFYd8coDzWKyICmHHzPNg6Vi91glJwNPZG69Qij0NRvv0vGMKO4Pdar+sWn1EwYjt19+sHjk00kKYr+76MA0hpNIJrKPHN0XXVcC2yUVIhcsuHnX009Sv7fZAdq1EhGs8qaQJKHHlIc2yanIMKoIBqJ1s5BvYufecRyTOefwChVE2B00k8oj+Kp0z1D4WzLu/9epkeskhVTqsyYgXn7XcCofuB4Npv1YSIIkqAqYtKWgmdpfXr8xVdES7dEgTHM7IEH1OyyB2F0x23nQdm5ns7DCyIHjGWkOAvXSII4IXmBZ/MKa3rsm7SwDGQx3nnDooOZRbQfnVvtUIc7v/wCGpAclQzFFACNo46BFlnX2m8vfq+9Sl0/1AUxlbIPPUrfdrc6wijkG6uoQquruVddgUpSFXSmJXo0o4E9LEhX9cxTjGksVqNyspwO3C/56it7q63nn3yq5PtdajSvQAshb+g0+qLp3052ps6yIQBsl7/zZrNXrzlBJrz9FqjIea4ZlhbjKXOmT8sefTSz865VGp3NByODjmHhLV52A8q+4elnWNO2CFDAKJlFycvPSapq0HCKgToz/9WXkqYVwCxFJVlbgyxC2yb+/JNhKnB2/hyjIAwD9+DWO9VB/aqemIgqNzVsDwcPqLz8cqWIejCnTpsapjLu+AOTe+1a79s5hm8zAvewo9jtdyry3SUYjcTLUhjFC39QTPnV12EVtWwr8haShNV04+dvkY1FbS3hpVe09uvfks3AsWJls/2g8XN32qmsIxP+9D2ypW7uwgDplIVWQUgQRjXlu5+o9FEHFi7qFFSG4VtUuaWIZsBM+u47UkaoSaitphOO3Ljy7LMYz2tH9Uf9WEmMohRlzTGcjKSbUyZRx0tRZWiq0Cz+o4/AQtwDd48ffpCaCmxAavDw2kuvUQAJJFO3vQfu5/v2rW5LAqNw6mkrJoFTAzd73eXKiBE1oprx7HDEumUXXSDYnpWUxWjBfQGjMMU8Rp9+EuJxejwONZqsagp69a7p3TvcbutyS4EoBokW529UISOPnsZ+Xd8+7Sxuw1GNQdDx09eg/8KK6g5B0RO0Ig85WX7PPUhL1dRJtGGQgXZfEHXTv/cupU//xrZ4J2TyFpssOPs0w3JpSgzMBS5a/sUBo2IBo5LCRkdFTfnq27CCvPspwKhhEEY3HlV+/llqys8iOtH8HF7StXkzYYoLfvzONRSwHpGPen6Wwij8z8K8UVySFGEVTXscoDkZX0QsIowapvr19zDy6k++g+Co+uRD2c2EBx20YOyurdEEm4UffQlKW1GFo3yMcpOylXpiVTk6Rmzasy+nJj6IyPzuRhj98Tt8CIz6EyeqwCgET4RRTlZVUWwf3K/09qsE30aF+icwipxRjd9pH8OS36Yga9jA9W68Wh0+JM7LniIwiuU9+TwcIu6oY5lMOksdK0QERC0Bp/75F+DaNL7+pmwZjiwylp09+OC6Hce0pp1wvUGVV1+X9TxDIsuj5QiMnGCR6RJNv6e1D2iwZE6z4h+RXKKx2k8+zJg6ClmQTfvJl9Xn3zJkJJs2ZWFoFEWgfS/BPkjFjG0edZC1045Fhh1qghCknYMP1XbavcEy0jL8FJrcn9Rl56knEPMquHIoTl5O6rzW3IhCLXv9VcZYjFFVTlRSd9WCd990Nt187jlnW76noWJC0XUPVJ74H4ynMfyEpKKYqFl3HPbBu6GaZ/pBeON1Tu+eC106Phv5OfeH79OHHdq6197NiORijCYdV7/xHpR9AlkHFx6tq4zippVFFQ89WOu6adgKQ+J03nuvy7aJdktWdK65AV+BE8RNn+5Y6l9gFE49CyxaiceflvrEKq+5JLPOOmWd2XDjjWrOOE2dR0fTTJ8zLwwy2kEHJnbdsTLttzNCk+n5+x2Y2H1suQ+nfjFGu0aQKfndMGpY5oe011kN15KT4TBCjRrGJzTgXqZL4eVXtvXr15oNfEQGGB27WwNcqoam1BefI1uKF5W3i3QaOYvqBg/Z0YSf6cxI+H3NZaWdSD58DkWMV9Oh6r9+8FFo2ng+sknWtHDo0PJrrpYsKwA42ajOrgxGownnDg+PWpbnz4YBzP59rmdpiucEd9/ZOGCgffyhyXF7yKmUIXApiKOb7wSyDUgwzXYmPqL07lnZmoBTT2RA3CAVA6fjwjOSW2xVqxgp3wlHb1hx9jmCl3YBTZqgQ91yNI2ARnAk2XK5iQ/hob/zXChrTG1TasCg2lgs3HVMlSF1AguLXfoormBFlOfQjJ7nXHAhP2xEba4jfPcFuH1lnJhDapNqq2tDyjVdcDow2jx3JoSbanCtaC40y3jqaQVJaGzKMfFw2OD5d9/he4FOugXRIv8PlQ51gRElTkV2IGPRitOIzbSPPslFJztNnjuTpmEpVm6bbRpOPj6eCgoYZeEX2do7z3toLItLs5oCFi+HUXpxZMJUKNQ9oZBrVX7yhYyTSXVhFEJz2hzUmoZnXsLdan/6XgNGTz+1btstG2bMoa6h76akDJqRkmcohXz+5D+Jtt2b9cgTziP3OX1j8x0PbS07hfbfaYzFMs89q/m2Q7gF9wE42kA0OPKYypefESxaGfUPYBSVUFf16b/Djot+/Q22xaHwzj/d3GSjNtkIaM9J0/u/T1CBW884pS3wc8gmfKmAUcN85XX4YtVvvSOaui2JrOPmJhxRs+NOrdHG3VUvPp+ykRcwDdRz4DDCqACnvoBRKlzNSnxGnRq4j/XlZxnHgq2iDWcVV1IciYgF94MQARNgxGi7VTj1Wcc+7gh1++3LDLtTFUQ/Ze93oLzr3nW2mUbWyUJS4xlNst6n+bB1TYlQVfGxoItKYx1cjKIPPpB0vYBRRUo21Ie9epc+9bS/+Rbzzz/P9hwNrkCkRpcEMnP8j/wCXGj+B20LC0HkOtzD98AUZrqp8NrrnL795rpeWFsDXsz+9uvMweMT++5XBxmFhhvmJUgJ2zYenGghVq++qpkm3BYRZqXbiFXtbbfUpNIdkqjGyaxnf/iuZAGjyCaVj7f4vcmpT86b48IlhnP05xiFk24YzAuvSr16tE44OLXzGDpTbJcxTYcc3DKN9pGcsbAkTGWVIw5jx2xb47s5jm+z/ezuY5sOOKDG90NUmO5qFC9KfmSA0UuQVf2LzwG+ysYGuCzkXquG/v7bwGi5ZYRXXdPYt0+z73kiDzWa3W0s3H/updettz+A6pxTWd0BLEq0sQir8Kyt8pPoRABy6isrO0SZ51igKsFQJkx+8RXfsuH0UjYAo4MHVt5wHe/6Dk0XQazy2uevMIo/CyLUpS0b7MJ5MPV5v0yBqWue4992e+OAQfbpx7ftvJ2QScNzwl+r735QNmydExKaZT/+mN6jZ3VzW7tME2+Qt0Qr3+s85oi63XZL6nYq5Yabb1J2wkmc4/mUYTR5gMQCvSh+suWIDz6IBE6XBGCUrWtJDVynHhjdffcyUw+pHSjkb/7/6D295TzXueJqZtDg6mwufOTeFjBCM1M8LE9p8uxgQF9u/z1heK0Vxe20zZmQpLNXbe3/PkSLW1pfl66j6R/zX33FMSxNplkxVHUjjOJnN4zK4CNl9Ycf5eaSbfy+cH6o6SwwusOOTSccnQi8LMAOc4d4heK++iJnBM2K65TlNlJH1AWJOKOWL445LUBA04DrgVFIImiUhTfc26CaWTwUV0qSrGh8WTmyOnHdDagL9TNnWE66/eqrExutX/3zr9R3PHVWWtGgLyjkGUo94chPBJl3aK+1OROfcO692wRGUfV0k51GIxZQo+mXX1Jd24zUKFkreJBktbiZkg1ncSz/LKwGRqklVFV99jw0bgt/+Ml1dCmdco86WNt5xzrdycHhkE3j8x/guSevO6/NhcvcDaOOYbz/MXKh6v2PVEOFU590vNyxx5dvt3VLES1Vnj/5Z1fTCKPIT8QeGGXItFTkisyrEUZFxUj8TFtYw7eSv/smR0vkUWg0wyIJFcsKKgvPmUoe3yKRhPsAwWnbOvcsfdNNywQ5VETBTdnj9hN32bPU1TMylV1S5VhV0lEYqNhzizt1XecFBdZUVYFPir/6QtE0M49R+KSNLWHvgWU33etvuvnCq6/I+o4hsdEQ83IBTycDob0ySUbgvesITz2K3JuFJvHS6+1eg6elc2F9I0xkxuefZPfbiz3w4HKLVt2gvuCOccsy3ngR+Vn6/vu+DteWxIGYC5wePZuvvrzFcumc/RoSYrO/+kIzdJfMB64kGwweJMV68cWLUgYtq+0+/X55jDI8Kxma/sZbRqynuMkWuYMOo7NdDz00MWZMFdz5WOzHqrrQT4nHHsXvuGWj63TA1mw7HLtr25GH18FF6lKjSC9yYemMoA901f3xe1TXhaUNGZ1WqAm6bb/4NFyTivZseNV1VX16NdqGLwptoprbcVsUrj/+cOeJN1IDYtWJ5k6RjgVv4oQGmUtYMjOVxqa0Hr3LW+MZQWrh4Y/wCZNGY6c+9KhiuxFGUVvFsGes7K47BS+lMfAxKc0ksP4Ko2SxPPmvqqQy1XQM/cKvvsramu06wRWXVw8d5lx8TvOWm4jtWU1koO9qHn5c0EyN5eKqZT73LMml+sZ2DV4UbXIUR51x0x27jysftw9r+25g53bYrvywCZzttpPLSccQE0ZJK1DZSZaj3HMXLOR3k1x4timeG7ZeWyyW2/+AhZ6HVhP6ntrmKGMRCv2kqP+e495wa0u/Xo3t7eFFl8cHD+QdN4VSYZQ2R0uN3kgZvj6Ik2huCEUpydC2hrJiKz//RsObpUXu3Hmog/O+/d7WLMQcTCF9HM0fwNOAUT7CKLJF0IhK37/zbmoGkWhWUTH1R2tObs+9khMOjAdOOyIE8ZJIsp7TueseTQcfUuH7nii1IuqLY05Rzv8TvVAzaDIlPtSs9gP3q/hlloHH4DPKEUlW0X7Sad78UUeiOBqLS3075d97n7je4IYPPkSTU19alJVVGlWPshD2VQhkjxIPE4X7+Mjjzi03if16LnQyoWqwc6gNaI7FgnfflWyoMQHcwOOokrJ85ETRlymefx5WE6OKqs6dj2pf/O13KVfXg8Aat4s0bt9Sy2unY5wN4Tc6bD1x+zUNnpWFqEOaChjVtU/olJuqjz7V8hh1g/YTT6rYeXv+m2g7RTBLkVGEBYzS9AiUZRdGBQUCXzETv9FujMlYTP3px05TT6BWykQcBo0az2s8HHSBzl6nCkPT4OGFSJ5pXnaxs8EGJbzciUi6aWePPdm99q/wjLTCRau3WVGR1FKaB7fgl8m+YRpQQJqqlJV0oB2b9KulKhrHE0ZFMZHkwnVGFF12fXrTzYquvzadckxaY0iPWjagEKCDaL5jhFHYtGfxzz0Na55uWuEFV2gDhs1OpcMmMpE5H76f2WdscsKEGsMNUaloJlaE0fffAm6KP/k4bWq4j4D0dqacPn3jl17c5Lhp0L+a1rrN/YH2HIpmsCM2fGbYMKjR+qoyYAsRYXjq7PpjjHK8rkn/+zTfFZA+93zC6DnncaM2Kpr6C24+qa4pzGTN009Uth5dY9s53MOywx22bT7hhBa86cJolOJlAlUTWdanTUEa588uajcVYplm208/hhhWdXSEN93c0DPWYBgpSWwV5dzWWzUOGBAMHiyddk44bGCrzIaqaMA35YWEzCcthZk+Cxg1+q9Tz/HtAm0QDBXLBlRVpt92JzBK9ILNCXzYK1Z2/z287ahJuNw09W5lMRqRTePFRBP16hR9+qlva6bneudfVLfhSPu6y5tHrieEOU9MgEFlz7zEq4bG8nHF0F98DsZfW1NHGKX6SPsWs1463HLroiOPlN2UlvGzu+1SdcDBrO3mYBMFjKLuCyhxxEt2Xe3W28DiGY4WyjLbDIxugHYlc8ghpY6XRYtIV3XDKN2D/hNcy73rXgbSrKM9PPpoZvQmiRTtjMXBV3PNzK67JdA49enfJjAhyp2lzU4lyVBmzkW5zJs53ZhG4/gzZ85xZV2JNDukMmlBmmdLGBXyGIVR6nSy1q+vv+lPpvOXZpdVhKgcmpPZZ1ziwHH1vk1rxlAdVM1gW8OB6xTfeJts2R6qAtWQqOmIYt49kMKGAeGBvBo3/VCyVVQ2XmTyalRVWDmRGbIOt9lor9/A1obGDsPVn3/JHdwn/tRTQEplU1MOrR6qOxVd/o4o5ei9JHG+F/aIFd/3oHHzjdLAfqVWKpT15HwakySMfvCeapr4JjCKGCLmoGnkkKxcWG2MKvMXIccrvvws52i2HxjbjEoec1KtYqUhejg9voi8g4bH7mt2DIc6NmAakLBi0tbU7+kw9MrPvrJ1Os2DMHraGdVjthOevD/dq195G9OOLMtjlIS+lKDNEUhXApSFeaNQo7Np2yvUQGX676GhM4RRyjBgFJmnirwWwUJb3GdEHQKubtx4jTN0aDErdSqy5GTd3cayB4wv98yMxmoC56iMhgdH3vGs/31qGIaOlBqaOfkXcjFmznIVWHQBo22s2DFy9KLTz23fcOTCG68LfFOH1PtLjEZNrgCMvkazAicbVnjWReLwkQv9VNjcDLAWv/1Waved2447ri3CqIhoyXKLZZqffaAi0777tpOACPtnxTDnDF5HPOusOs8LNFkop1GgRdOnpE3FpgqAzJIym27Cx3pXNTZ0qFIb0L94a5IVYDSaN8rqOvfV90AA6mH2rvuksNO97gZuUL/533yOm/9W0ximUvo5p2ujRyywnQ4aHFeyW2ySOPNMzrY6IC8JoyuuIUg0bxjWovkkdn6b3mEpJKp1z7nvHtCBeH3P3WgU6zQtIwvNrJAZtVHtsafY/Qdq6w7ObLFJk613aqIu02A0ioi1VHYunciirb8BdGiITIUYBUlTQdi3f9GFl8iuj/oKjHJJ6ila8PyTimlpSQiqlcYorInEoYgy5zjaC6703XdVWzNc2z3r3IaNNzHuuKVl0IBkeyqVrEfBLXz9HdEwdUFKQpO+8Sp17VVVo/VCc075K7KMRSttik8/Xfcz8CSCfcfV7b5PwvYIo7TonH7SA1E2+NXzzBtusHrG5gYmPCe2NdG+3sYsCuWEYxvQatJkVFy1HEYlTvIN75GJcFyKOjvCPXZT9t2/NfDTopgECW0zNeHwhljM6T+gWRVCTXY4WQFG4bsXUV2e/9N3+v+9CR4tqqjOkJnybTDcSJCRXwSMolEvYBRShjA69fkX7J9pJ6rZFbWhqDCGlx5/SNvYXUp9p502CwYTJbWK9Nbstz5zDb0w/rP454oCfQfFE1dZSYWJgiZUeyKMyqzMZDfdCnYSjFgvKcqBbLIffoxWn7/xusyA/uUtbWlRSeaJVrhbPiBLZc5zw369qm65g7/xemnY4Bo1CAHrMpqt1YKM/eQj29R5RkAlhlMLjP5JFFcQVgejSKmqyItKkfVlH/+v3dItL2UMH9Bw/kWNmp2BBpeV1mjzhYbHn2gmVsJu8SXyEeDU67/+irpU9dl3wKghsIzttZ9zfu3WW/DnnWWO3KTJCLKUa4vVKLRAwT1Hcw2HkYqTBh6LaHwQNZCfNQveBI0HRv5vMmrP8quAUU+hRiNFEu0W5RjGPXcb/fqWtBCpGSfrbLN124TDqz07Q6tmOROKFf9Fzeys197gLMtDuwRX9DPa3LC6pCynoDQEBvhRpYQkhttuX3zMCR0jNyq7484UOfUc2uuVw6jBvfUqnjJdVsLTzhE2HF3kB2FrEzlWL7+c3nmH+GknNxtOJy6XRAaKwbCNT7+w4Mj88HO7rqPMkgIrdGSd9TZgTziljtSorC6kUaCiWTOyyNWo2nC6lt1hBy7Wu7G5KdSVVug4ntYHEEZpW7zlMCoIjK4xv/wGKPA0Ife1TC4nTXzEgMh94zXcfGpjW+j7+nlnKBsNXeT5IUdTIHIbbdx0/gWSbebgjnFSlNAVB0FRtEoaSZ/37Y+BqdHsCs1xb70dhVgJjD5wH4RStaJ2IB85Pjt8RM2N91gTjoRS8HfeKWGbng73E36GiNSxusIspAqgbLJ5E893IgEsSzv6p7Odw9cvPvV0Pkg5EIGizOb383/tJct0lSR1D68iRiU5ybSqMiy2+PXXVEdzfNc/4aT6LbbVH3mouXfvFtcKqspJq77/P9k0EDdGM9V33oRfVVlRmTVkFXnMsYbKS5oaDui34PLL4WQzuXTqkIMTu+6RtJx2SAPiVGQneNG4oiD7vn3NNVbvnjPSDjDKtDHZDTclp/60kxscOoKF2IZvRd9AIKujKsZLhmM/TbNT6QzX4etyZ53ZaLsBjAGC1Hezp5xeg/wcvE6roWQVWeckhYPGUdlK2itv4Scf6vfdqw0cXJ0U2ql7CoqB9r4Co4nZgsQC8YRRciylyKmf9cST1g9f4c2MhibCqOt5EyYkd9yx1LXbeQkmx1mO9dl7aJjnzi7KGQpuEMX8LwIukjUYIzwMqjqQ3oRRReZsrWOH3RpBvY1GxS3Xgdc66Sc0Nvxpp3YMH1bNsVlEDUTrUqOFEGEUVWxg/5Ibb1auuUpef1g1fHxJbaug2a/1sZj7+Sdw+fAwhbatgQXSlwrfXpmwOhjFt1RFKKfjUErfez9nmqYdeL1jlbdc32QFOdR9TYirRrj+8O+/+FWTFZUmkVN3gyJIcUPl5s+EUc7/5EdLo6kNnGl1XHZFy8YbK7vtJYw7iLfSRmToKHrCKJ0sSflKw+ZAIUyMHFqtrZ5mMtahJUF1knXUDRrZwP1F6jWPcoC8eX0xRlmF433bfOwxo3fPyvrmTklK2ml7882SRxxe41gZlVxFThZbGUnMdcCkah9/jHFMtMlJRfZepV0wapsa4V7hZnCWBWDUEjvG7l687/65ESOL7nnAt2yYCCrqymFU596jxbwLRC484VR2s60r0kEYb/B69ih76qnM1tskLjy/yXYzSQJTnObam/a3vwHlTT9P9lWDY7gknNhsxtpyK/aQoxpsN61IzozpiPaC+Qs7VVUBRmEKlpHZfQ8u1lMCRjWplahHmxkjQtBXAOiyGIV+01Rm1mxEjAamfvg+TLWzb78Oqs55iM4ymyMqoe/pl5yPJnMR3GcOvqrUMXzDqiuv1WwrzUlJuA5RrVtBQOGoqtpAkw0XfPyZqdrIL8l0gquugxYoQp1/8gkOBcpzoSmpDJMZ1K/+/kfNF19CTKS99tFtW9PRfHIaJ9LEUl2Jl5D6FrbfqVHQckhNkqpPPN2e2WTrkiOOFDw3S42QwkUrqYveedvVHY4Oy4OlrAJGqfbKEue4yPyFzz0ju0YQeP7hRzRss5PxzNMtPXs2m077/EpgtOzzL3VTMwSuTdOl92lL4/KSkjxGBY7xVQ4tddgrNuf2uzOmkwyc1FFHsduNaTONTlg1yoJoEb3kPEY959JLrf4DJ6X9UJWYhOBusnUTMHrB+Y1QVcSiPEmXBHovQD241ktvirFYDSyqT6z1jmsbNNtDjZAFxrLTV1yDRiu1/gZcLutCayCDyEFXEw3N2Vivkjded8+5pHnzrVuhi+j0BypJVAiKlwy7lRgFFT+PUUXWqP+k6P77rOhonClMWyiqXMaxTz6G3XzLUurkEdp4Pul4+k03+kP6FrHxUKOBYCYP/T8NSB9KiWpx1DAXMAq3wDHbD5iAljW10y686wWSbC6kfc7qx+7ZvunopCaFtMyKpnMs/QjcSOKCbLjuuvOuv06/9GJ58w2q2p1ORW2tI4yUx2Ly11+5lgmyqDQ/jepd9PiVDquM0ejmnCaLFdWwlYq33k1ZtiVoaHCKH76P0Z1AAGMp4aKotvOaxSMn4GyTywW1FxeEltaa9nH7TKuqSaGF5BnetNqvuK516DB76HotF1yb0jwNuRgZOqCDp9HUNqhLKFI01IRRhTDaTBUSzUhzeXko6mh/wA5UDJohHBVBvihoc1LcKo9RzzKeftoE+utowg1jBNZmm7HHHlljO4RRXCCJyaQstncgXbX33snbZpqcCyX12HPwkqpYLoQ8oS1geKjcJLytAw8o3WGH3LrrlT04MWVYcGhlUCTKpKUCPori1IVRHhj9iBbzLkgmwuNPSm65dTWMnmtN9+td/chDmS22Slx2UZvjpGjndDlOvVKaVFad2mWXKYvKfUWT6fxCnkkH9vY7J/c7qBHyRtelycTZ4uKyUFXUqBuUt8zMwRPgnrdxHDCKck6waGMQIqdlxRhV2EWFXRprFy0MHT/+Na0H/fmW2/FzhqiGgadecZE5uMcszw6TSTSCHeuMqL35VsOy/D/HKALLMknqMJn/+uuqbLsyx1tecMGlDb371wCjzz+FTK5OorKJcms81SO26NGnpXo6RqHloPG662o6fCA6/Q0aRdSUZDnpCH7sbm2SmoWwTiJpfNL123fcpWbcPi3IPRG+g5KMdimc/8lnOdViIcVXUY0i0FykIAXzXvDEE2iZfN/1xo9v3nV39bVXwf0mzQxn0wzimT/8ZJrwA/ikbkgfvAdHrbi4NEW7HQhghwabbaWdkGY9+nin5cDBTJ14cnL05tW6DoxGBkqGi5/AGvHf85yLLjSGrPN7ygVGOUYKNt8W7U3uqsuSrh1GIFoGRpQaVBHJsd77QEHFlGn9btXzj7OibpBM5VnN9u95BB6xNXJDuaPDgcCk9YGoWmpbW6J9wDo1TzwWHHjIot33ZCzLynfLC7T96XIYjSbEm4TR0jvvNj6nqYdTYWO8wmQd/9STuVGbLTTtDlZogbX7vj/h4KZddi7VtU4FJUC1csXdPkuHfB3G5agvBYwiJradPv50iCfroMNsz0eDK1YuRG2tG7FeZsftWUvrgOcKi6amsnugIueCTDh82IKrrtIvuVDdYmR9B2S+2lZPA7OVNMTyQ9oyIowCSv+CGsXNgT/IvOpa6JTq195wHNp83EaePv+Mqlo2z+oSo6Ph0VleT6L5T7K0Jgx1FbFMiFKrDtGjZ3Uaa2GQRbrZfsMtVLqxGDPxNVcxaKyNjAk5Tt5ENApPXZ/AMBpCtLjwReJsEulH+9zY2BQKKgwI7EDFoKlnNBWZcBtZFY3UA+MgkmCb5isv4SkL6pszmsprjr3pZuyJx9U6dPZYApoZzwJGM9lUrG/iqosYxw4Eqckws3c+AE1UrpkZGsKj7bzA7JaMmznumLqNN2xfZ3jtU8+lI4zmkb9swEdLY1RyNeGTDxH/Ba0N4bHHtW6zbX0mCGWufciA+nvuSG+2efLaK3g8nVIqtcICBPBZVjS9g1VcPIUFDQQmcO099ubH7tXkOr5psd9/p6PaVNWF8J3xTLRElpU96qSWWM9mqEiaRMszjJBAeYOhMJPoRRIOrTcYmseoKidxh2jSfk0iGbpu8ncao//tnHPw81dZA0alqy8z+8d+70ijUdHjbNh7QM3d92mW7bISQzO0I6W0wsDxSY0maS184VlDMj2RYZ0gdfLpFesMjQOjrz2nIZPb4qGlGS1t1Jv29FN8eybcZrtvjj+hKvAdtK6AUeR2iYbCVVD/AHPgfqymd6KMGSmB5tp2wvGHsdtuW+ylMigpWc57LTO++CanGWiylVXHKAyJy+bI8brznibTgrft7zsusc++wkfvI8KNghhOnQPWT582wzUlDe6VYfAf0y7xCxYUe5qqommXBNQXsZK4P+ulV9stRzAt47yLxREjSzWtA/IJKgC5hgih9kZqVPJc76wzxPXWnwOM6qCXktpmRwjJ7C3Xa7YBzZUnUfcU0Hty2mz7Q+pGr62iXRGqPvufLxpw1hIobMkwnn8HlqztsF02l4060KEHJBE04cWOEaPqrr86s+2OpSeeDNfchCKWaNIF9XiTiiGD6sKojGJ2/bBnrPr6G4VoQ7/pHBtyMpO2M+edza07YrrrdgoKMAoNmd1qdPWpZ7CWk9UgpThaFbh0zP80RE/HV2jaABwsOzj3cqhR/dQzMp6vQUc3VuX6925FA7PfXqJnpaP7LnfzqMi9VDhyg5JLL9UuPE/belRzhwuMJptpEUF1LGZMm9ypq3nrijBKDF+FgDJcdYzyMAuprgHWU/fiy5br5ppa4FGWvvWarhkWx8oCq8GI1SR8RIYXW1naRIgwykuMILXAi1FlQ2OjyZ0cZ9ip2+6B/HFisfj3v1iiJsNwRR64if6jcTq0SrQ/QoRRKlxJYWSatlYLNdrShmYwj1Fch2YSqpy6VkmNLsEoB4xahvnOu8DoouqGlKpyUDgbj4yfdkqN4wKjrSoLiyI1ms74I0YJJx3f4rm+IDaZbnDpFc29+tUbZgolmnfqZT6ecdrPPqNh2MCOXgOrn3/VMywVZrnyGP2KBm3mNtaERxzZssPO1Sk/FLnc0CG1t9+Z2WBj9qZrOMtyaBsUEXSHEGC5ZFyEDueNyO2jbhLftQ88mN1hTLPnwCGQvvjUQLWpb+uQZRLmEUZzp5yX6NG/3lBSIgCa7wAl7UMMWaJGEWjpM/JNkGSmiToT63v2rDCM0LKZaqLVlH0PDPv0m6SaoefIN1zp9IjNzmUge7Wm5naw75FHUewGMpqTosJaYcDHEmMH0A5Fzz6uK7aHNHnp9LHH1W2wUUumM3z7VTQDpTBrQ9UbW6CsS159WXZtTzE7E3wIj46ONKcZW7SOBhitoTHMlsMOZlTDJbEhMZC3jps+4VRuw/UXeH47EqvKSkUJLpv57Y+hpqMVWTU1uvgNMAo1Wn/DzU2mnQocb+zY5CGH8t98BYutTMTDnyYjE+bMX5TWaZEkY+r6Z59AjRbNXxQQRqPZaYaanEtTxKd/8nnOsATL1S++Wlxn3VJDCxWqGhFGoxfUFDDqe/4ZZ4gjRy6EU69AzxrZHcZAamTuuQucDCgNVDm6943SG7Tviml/+SX4Xj+JtheonPJbp27r5IVwvGxqn38Hb4zbZx8vSHm0YTqtsRahRjW1Y6uta049sX306Oprr057jk7lCFOFpVFNRJRA9yUYxUdOEPbrW3nNdeJHH4ADk3g5ROGkHf3qK9TefWbbNlpZaCa9sbW9V6z0wQcNx3FBUDQIK6dGuwIljYqMAmu59q00Jilee7Xjuga80raG9hHrinRg+wQ6Sy2693I3p++LiPAmm1adf4567unGDps3dvihqjLN5CKU4YbTf+/UFJCia4iJxiKXCagohRsuF1YHo2AcLKaxJewRq3vmGc1zw8oKqk4ffUALn5HtVClpGS7AjvvLKApgFDBA24JMJDjChlE2wAvPGq5xz8Nw6FIDeiYr5qcEFRZOZ+Tln0aTz+gfhTQoGRiNM6FCWjQQtAgch2hajNHIB8EfOSXfr0qZL9JBeACGzMm6pn/8GVhTXF6V0gijwYgRjeecXWV7WZ1v6cJokA623jl5wKHJlO/ycosZpE48qXK9DeO+m8ETyLhgUSLnmeGVl7f0iUFeVb76nmVaeoTRFbS0+H0ZjDqq8NP3iP+M2orwsAktu+5ZEQSdgpAdvl7NNTdm191QuedOwbEsgU/gntE9GBGaEYni4J0jafiU8VzziGO5LbZuCdyUbRsfvUMYbRPaYebkvNLGYpmLry2HS95uOjJ0GE0BijzuFckB/I7slWQ22hNv0QYjK2SrU1VaRdoZc8rorcIh685w3BD15NbrwZR5jh+igjU2otzLnn/eNHULpR31ZBVuuGxABsh8hNHKB+9J0MROlnGD9KGHtG65bVN72P4x7WZfWtfQaahaFZ0BWffm/6mGrmpoCGVqI1XaSEDhaMMfBe4XvJBesfoTjxctX8O90SioHOd42nmXcAP6FQUkliVTchbQjJaZP00CRhOwxpXvG0XIVx7kFzDao3frZVe2Gm4q7fo77cQccywz6VeaTNrcGH71HZz6OcUVOUhOmeVNLfX1lzTENHdBSgFGIfFZ3dDboutn/To5p2qSbllX3Kz36VNmqCGuoBqRfyIwCjEUYfT0U8VNRpdkUyGXZGSrfaexcBGCRyeyrqPBF6Frl5RjVKz0j6IY1k+/QI02vPMKLHNBazxUDDFBLGQUQ587BxnbfPgxshsEKmdFW1XAfW9zrY69xpbvMTYzbEj9c48FtgnicRFCaX80anqpujKFISbUMFH00uHgwRVXXSO89x6S/4NihpzCu3biTdrfr6iuOpRoO0d7HvV4lH/xieGYvILbULb/ZcYvG1AKBYw61jPPIR9aHr/PcmxLVBNsW3b0BhBh1skni2nfjjzY5e6Pr8ui44XbbNtw+snqaSeYu2zb0BF0qirbTHuaFMViidmzIQuWjNRTVVlRKNxwuYA/rTpGoTZFGTKwV6zxiSd1z8sVL0L1KP3huxBNG0hJGY/EcNBN+I8mdEbqB4HigTuQA8zT8i/49cjgBx6XYzF/6BCGae3gFRXeH3VB0oW4PvoKXAzasIuGcSDwZYW1PKR/XixWIYqhIKN04NhHGKUegAijVFxExq5uAdOyvqJdqSqKStO6zmtWatjQxosvrLdJjcZVVpEEOPW8n/L3PLBtzG5SOm2LYqsVZMePL9tmZz6TDqIowcrxQM4xO+64HSUKprS894lj2nCd0P6uLEZ/JbEws7okHH9w017jalN+uyikN9yw6ZLL2oesxz/8gO5aFs/G0f5QK0hz/lnoCZEwipTSiAH83ONPTW48Ou7aAUzqzVdgTNVJhXYVEsVkBHulTQjLq6ITMQuCJSqEFckByi38JzOyg4gt3GmXVtlElJpSlM+Te/YNN9hgnheE2UC6/3aihq6HyPVq6h8vf/N1w9CAUVL+K7x54RNBdTN+j551t97QrDl5jKb23qtxl7F8GLZ/8REoU1Jb36FpWmklanvVOx/hrQ4RCu8FFrMYoxIwqstcSwth9KLzLNenxRoRRnkolOtvRj7My2VDOJCWKs+gDednTfkdIjcJ36eww9PKYXRx4DNZf8A6zedfGNc9P+N5W27BnnpqYtZ05ENxTVXHR59Cli4orw015B9tW+P+SGAtmjHHVTS0AqrCqobGfUZTc+YsKMnCKDXbvPFuqO8FlgaMktyjHIpeEUYF13VPOI7dfLPyDLkpgmq1j90L6Qqee0a1bY0HFZHPy2OUVzXNmUxbxzc/cidiNVPS2xVFhg8IUaMaVjXNia4+42zVClyVlEeEUbkt8DoPO6x46BCUZt1Xn3mWpkIBQcCAo9TzQ7KHMBqVAmEUlRM+8ojh9edfwr1F0xJ+layQUzlTE6JlEXOm/NShK6ysaj/8EqBVnjbZMzQa24gwusphMUZFzbQ/+Bjpqn71Bd0wTAhkXenYfDN45c4FF/iBm9+KabknEFh52+3ceee2E49TTjzG3HOneNbpUGS2hebDFcdizPwFoa7iy0rUnxipURo1IDh2hTWMUYVDVVbiCdhx08SJuhd4c+fCRIon/xrquo0SRh0GKmnPL1wOrVj4HgJVY7xDqRJJaTiIMSxt4tMoeGunnVRFDgU6Gi0/nJdnKF4oRNRRRRZo3ijKUZDiboD0L0DF0w3CKOCCcgZG6e54IiwMlgn4RmqUMAoD1fRJk1CoFdNneqYpKGZ6yJDmKy9tpiEmvg1VFF4pMOqm/MNPbB29iZ7JGrLYrBjpPXav2+dAJZ12yeZoRjJgyVl6+vHHFXgT8Aj+95Wrw0xEGmGJkrlUwEddGKV9Jzje1oQp0dqP0uJwv/0a9t2/2fPTnJzeeOP4GWeHA4axTz2m24bBs208NCjZMW30R2oU0oaDayUpQiIT+Ked27b+etCtjuNYLz7XEovVchowimcyKAVkHSKski5vxNe7AW4FkaQP8bHE6ilErPywY2TNTkONOmYY64V8DkdvXOR6HWk/+eBdYMRsVQl1TS6rQsUre+9Ny9Dsv8IobNP0c86gIfVXXlJjeSnkZBCkxuzcsP++fGd7x3e0+GJRVUPOMIwFZTCnyvc/hTDVo6aYBpTRiCpAJfIAalQSoplMVVdcQrstonDpU070PePBh+DSzoJwRnE4WvLXH3HZzHlzQl1ZfYxms/7QEY2nn5WgbZo8e6MNuXPObi2iGWZVJYuyb7wLp3JBfTMwCqeH02RrEq1NXDRtpgWqoRaorGzryusvwPaKqxozGjSqbdw5Eep7ukmtEbJtGYzytm0dcxS79ZZVgRsi8aqV2Wc/SI3U66858HtgESvGqKDqqj1jKmwyftkZ8N/L3LQnQx0ICvw+WTMSJL4qL7pEsTNGhG81wmjc93KnnQHHBUXQNHWKb6gQIuRN8oADTchADUQsu6bfw78U/CDcaGTb2efzr7yGdE2TrZDRAGa9shEYLXrjJc3QE7ojPPM8uWvAt45vUjUkpK1qKGAU7qxsTaee6IoPP7BU2sWLMc3sbrvBK7dvvDH0HDPKjxU8AdF3nPbdx7JHHSkfe5S5z1g2bbfLEhtnwx49SmIxtqQYDS3siBpsYJSKgkZC/kGMUuecTEsLwz696u57QHKD3PRpaCIWzZnVoVkGbR9Nqn+FGKWAd1TdiJSESNO0XngFX9cOO0Qz4OshDSRF861K4UWm3x2jchLKqE8fNCNFph0ie4FRKiEBziyHwsKXUfBdfaPRxHBB1tRps/Cgyl9/zRq6pFjZ3gPqr7m6xXHSkthGG+XlMeoF559fM3gI56UCRW2jg7Q2bTjueMl3DIoJbkgzAOBb+W+8CkvFDeOff+uodNQBbA+xXTbgo6UwyqPRTv5OG3rOXrgg3Hvv5kMPabH9NK9nNtu86aST2/sN4l58xnJ0XeASNB2SdgtMwMUCRnkBGFURBYWPp1P++Ve0DhrAuqZn2/7jj7ZBStg2JDNyNY9RggX5AuRMIR4rBFxXiMpKFFE9esd+uuisNt0zOKXVd8Kh61UBo9tuXY6mK3CYRx9AxZgtCWgy5UWlxL6PP3IMaI8/7RvFx4zEBO3O8BHN551Vq9N2KrznprbZqu3wQ9vS6ex3X6HyLywuy2q6Hu2YW/nVN4pl0cgdFagMuACXCkf7u8DXl6Ixxhm3XS25Xp4mcFagRrXn6BTrGbyC9pixNfmzL3DZ1JKSUJNp37aV7xvtFvhMxh85On78SUnbczK+vd56yfMvaq6lZWOL5sz0n39JQsMTT1InpsyxhqZPmULEnDyFTtqklAusaRt332/17teQTHRALBiG8uhTcL3nKWqImkRphLVG+R+xRnTs4IjDmB23r/LQHkiS5gf7jcdTnLffMkyL+sooXksKFN9DQDFLmqItnI+cTIwbqw8bHg/Q9vMcKykM0kz6A2VXf831vBVA0+K7eTUa97zU5VfUQRMMGNi0sMjTSFEAG/QT/8G5J4FGazeWOPWpTLj55i2nnCY9/zwcsqmmSWcaCryuaFQxr7tc91zdzjCXXBasu84i2jwXkSXxRE1eFNtVCLBgoihuICcrKlM9Y/83fYolS8Boi2Flxx9SG4vx996XsRxqyBbnydJB4Cw7u+9+8cMm6IcfYu+zd1va74AejAthr95oP1orqgijUbuCoviXMCrRqLsc9u1Tc8e9vJcOv/0WTWv5wpK0SmcirRRGUfIsLhMkXXffpgm67LVX+E6A1qA1qop5y8gHpGgJRgXUF5kJUuHAQZVQAa5Nq30AF9QiOLOsxIJZyAbEACpGoiYV0UVFFFABZy0C+Cp/+CY0dFkxcj361N94Q7Nnp0QhqbAagJuQeccLbrga4Gg0bCi7hGXkNhjaesVFvO+Y0aA2bohkJUzL/L93UGOB0ZrvvrVFnbxNaqYLcV4S8MnSGGU1PT6bDomcPW9uuOfYxFFHttp+SrJzW2xVf9RR7b3786+97LkmLfGishOYpJRgRBB1KYymAu+Km1p6xhKocoaZevB+FuKo3Q9I4xcwSv93i8/yUesK0Z/I65I0NfX9R1JVUQj/jVHi6XS4zbaNwOguYypAWNcQnnoUCnQenwzhVM1bQB1wX37jGgYyGuX+J/NGeUarT2e8URu1nXwC8jbDK0La9UeN5E85MZ7Npn/4EU7uwvnzslBwv8+mvsXff6WVuOQow4ho/w7qmhPptG00eLyuh0fs/823HxumA7lGi3HwENdT33kXamhKCx0K26rr1jvvI59/q6oOFera4FcPo+m0t8VW8mFHx1OOk/PsIeu2XHh5Yyv5g7MmT7YffQw6sUXgQ3hpwKhpqNOnAWQlv/3qQk5TMy4ndD84/xp++PAmORnCRXJ0/vWXoZqL4kwI4QfLgYWg2MhlAGsE3rEzhxyc3G3XSshqVhbNtDP+UGDU/OwLRTdZWMXSFQSBihofgdtlZahN8aHDnO12kgLfkXlUChkYpTUqZmbklj++8FqbgYYPhkQYBaHijuPfeScHjK4/srmxLSPJJAgATvxkBZaFOpFgfbSmI49RxDGVC7fZrv74442nn8TjpqS0kKZIiYpldIzbmz1s/1bX8cyUdNgEdedtF2T8MOpYo665CKMrnfdRKGCUUF4Nad7uQts6LI0pNhhmx3GntCL/n3zWN1xg9A92qhdY20offGjLQQfZBx1ojdu/JpPpBPeTYti3H1X2mlpy6oFRqsaRDf/zGEVeyIKidg7oX3vTHYyfa//kY5RBRUl5WlRQwnEI0pVRo+T7A6Oa/c57qDZ1zz7r6mhPKA34Y/e8yGO00DcKJcxKSdcPNxxZE+u5yPNC3AmuLhgDr5qTkrDFqGHHTzg01KRStcEnEj9rEbzFso8+yJqWKmjZWM/6O29lA5S2yKqcLgtcUhFs17//PoCjUXc7ZUW01FT/ng233sD4jksYpS2j0Agk4Ht++SlEB27Y+PPPrqgh/yNvpxDnJQGfLI1RTlfjRTSCPGvqtHD3XVpPPCZpumnJDLbdrm38wZ09+nLvvuW6loN2AJbM0AuJAk+BuSUYDVLuTXfF8XTHDSBCb7k5gSIIM93V6CoFKitBkNFQ6IYC9UcbechtQap93L4twOjee9bDA3B17vmn4VXNS7SGti3OpaPH5nzznQ1ligbsz6ffM0pbNm1uty17xKGNtpNBc9se+MOGMeedmWzPpidNRm2cO2d+YFn6ZOp2rJo5xYzipEQYjTJQ0KDA8hMeOVVw01lFC2j/ETlJbJQF0+Y/p4mu05oSwBOj6+JLdCj55JYG6smlnvjVw2jK23Vnbd/xrSnXy3purz4NV93YItFu6vO+/c665/5Ez1izLOVg+2gj4ZbMnk3O2c8/2oamIu4oC9tvP+GM5OZbNmlyBzLD1rl33kIbPK+xBTIZ1qvCQpBx+AkjQWbBQ9pvv8S43etdJ0xKnOmZRxwJ7Npff6vrZt5d657PyCV8i2oV2p3a2vZogZ81/rB44PgwH1yKOBCmBU20Q8XIiFKbwmkSfiWMMnBonnoS6tjdbPO4rHciZ+DT04ghUCJCxbPLY9RLde46NnnEEcJjE91esd8DLRSBUdLRzmlniJttWOJa8E0zm27WePqpCd9pp+9EL+qg+wvHaNlQwCjyBiwTWFlhGQbOGSpTk+Wnz70Ufljzm+94KlUZYmHha92DwMCROHRCfN/9zP32M8cf0phKtaM+JYVw4JD6WI/m+gYUBC6DIqXcwhPz3CR8Lg5rGKMKR3tlqXLnoIH1193EpjvT77wDKVTR1JJGdtO5HSgy2hruzzCKgMiiUhiK8xat5K346rtAMaNzWbtdHAXq344wunikXmGcINxoVGWfPosgkQBMmGKE0SRRk7wi8h3Q/pEUxT+RIEX5F9Mpr1XvvJO2HZORwe7GB+6WA4sWAkQYhf4SLdd+4SUkp1YxadmSJkJZ1Ex8QDJ1m6OzKmhNvcDFVU3/hXYUxl9bfpvkSWjXCxhdthTx+1IYpdnY8Wha3+wff+7cbUzTKSewhgOM2tvvyO25FzDKvP+e45g+gR+uKYgmQw6gZOE1dcNo4N7xEC2gtL206/pXXg1jqgwzWXrUamIUgILehx+XYEU6SYeREl7aOvp4tPbhfvu2wql3dO7lFxHz+S3NoWlxU2np1Oyp09MaOfXRzr4kiVYQECm0B5m0vttYfv99G2l3dCnRnsoMGRK//IJEysv+TkdRzZox07Us9adJeF85d7qrqHDhgVEUHjKAzpIhi4kwKihJVmvm6QRQDhKV+qtlXje4SdQZuqi0Emo0bpjxp15FDKexceqCXG2MQvgfsLe+6x7NKc/LeWg4G265uy0a5Cz79HPr1jsbB/Rr0ZUM/CFgVFWE+fNxzcLvv4kwinwVVNsLxx3YNO6AFs9DY8zYhvgRzS2dVVkfYZQmteVdKNgqUshabmrvcfED9mpx7TDJc9BZxx4PR8r9+RdLM6ivksC4JFA7gxdhVBab6CRhWkR70pktgRlIDFKKm6NgqIpAl0bSN+orWYxRy7TfehOW7O22S9JLuYgziMFHGGUJo9FUSvrmEozaXvte+4iHHMY8/KDTNzbD10I0Y7zI2K708GPt/WKLmJaQ44P+fSruuc9xbdAcxk9OIc0b/SPX+w9CHqOEXoIbSg9ySga4JKHN9K1rbkMtqP/wE18xPerLW9GdBT4JG5twWGLPfcy9x5kTDmtBg8jLLCOG8C2QXc3N1O2Q7wZE6mEdIOPyoXC75QL+tBoYpS4cTUsNGVJzxTWJTHv4Am3SXBdPZuBdFzBKY+t/oUbpr6Koa9rn/1NisV8WLEjTkYN0/TIZgWzEVyKCAlbAqMy6qXDLresGDS720tQLhr+CUPk19V3NHb5EtZpeZGeyKre00gSdV16Bx+xFO2zXPnS/4C+NUdM2/+8jtPyLEizNc5YkmFfpa68puu5wbIRRgJqLw/GZPROiQwRGJ012kf8RRvM+y1IBvy+NUVZTEtHyienffBXuuG3DGaeIppOSHWvM2NaddoRPKnz+hWG7NvVI0dhQMilB4KOcllKjqcB//DFCp27mMpnUpZfGe/Ssy6XdqDldPYySfSMzyYyiigct7Kfk8y4iNXrEIQnHzJka88rLiPmC+vrQtphffgGk5syanQU7oh7oKKErCPQhnIOM7x54CDtmx9bASQGj+NmzV+sN1zf6TmbuAojcRVMmu4ZpffUNWrvikoWBoipRJgB7HHXdRDSlcQo4JxIdsYZWM2proEGAUUHT2Zl0YuXvM2eFqpIwrMTEZ6nnTqAVaHFmVRaDdgt8yvcOOZjfbgwDCHppFHrd7fe3wALJs/mfds01teuu22Jr2WhmK6up4vyFsJmib750dTiKZI2qacMFLj/8mFYnhas4y+C//BxpnF1UFkLHg3/gIuKDMiBLFlnTzo4dyxx6YKPvAqOgqn7McXDqhclTLajRaOLaijGqyGJbPK9G7etvaPaMNKwF1CNMUxFIUpK8OdRN1AtJhNUi8KapfEVb5cePP8nyszRpNI9RehI59SvCaJA58FB+n33Y++7wBvcszpghXSMyhsF9/RVseObc2WFdE3TGvPfe9yzLwHfINpD9VEUjZxHxiV5/GQoYhQVI0cbovE5JEdtEsdW03Ycn6iiIrya5su7Sx5GxLRsENh2kjz+ubcwYd+xuzjHHQCAHvMRwSjhsvdpY7xqOurYRAB/KWzKTFYXC3ZYLq4FROFTIRl4z3CHrVl9yeSKXDR9+GBhtYNgsTJkV4yxx468xird0N0lqa9Gn/mDISkjDN9QkR9d1C5F5Ad3AKLVDKDA/FW63Y9M6Q4u9TBiNKeIaPDRJF9OYewFn+SKjx9BepTwTT/eOVTz+uGw7QVwGRmseeYhdBqO6qX7zMw1AV1aGluG0NIMURR99pkiazrFsHqMin1QUbsFCWB4HFk+b7km6guq+khhVZdquFLX92y/DbbdoPPt02fICzbN237tlyy3wufzt97rlqkhnNN82wdAhKEsPMQlx27TefImJxcp5KZfKuGef2zp4SEtHlnbCXi2MIuArhW/hH7ImQfAC6eZbhVgsc8ZxTMpMOSb7JrnJC5E5rsN8+QXN7FlU1NkNo/kbLBPoU4HXUm766BOSW2yWSFk+r7S6JqpZ2+231cHhmr8QWCmZOinlOsHnn9Nob3mpj6Yv6qHjcWfa3AkmkOdmNJ2Y1ntH4oHqDhmGqGpsGZ0n8fP334e6xloOe/dDVn5AjJda6Ajy1cJoEPhHHZPYYkvR8V0rB4xW3fdIs0dzRUpff1O+4LyKURvF4dPQ2l067lBauAgYLfnyM0/XgSTq1VO0cIMNF5xzkWoHZIymLnxPx1fMnTc/NFTazyEfGTIeup41rNyYXfjDD65NeWGSE+A8nXYmmva2GbN9UqPkoP8BRkUpwaZ69IZhqM8+xTlaQF2vEUPzJI1EFTmLtDQIlY9WB4mGKUydhoxqvPKanOXSDYEF1HLEC89Cdc5jFDTuwqiTTh9yJLf7rsJdN6bW7Vudc0JOpP406O/KUnB85hdfeL/PQfnO+WVySifVSwlHiKKRj0/h9ZcBX40w2hVEvATaICJp6u67r6O2Lpw0x+F15w/vJ/DpVHDKSfEdtvN33Tk44TjWtV0BzpPWOXyDyh59yyQ+hFdDc+qi/oyVgXv3sHoYhRsl6IY/fHj9uRc3tOfCu2+XevduZoVchNEEypl6Gf7cqcc/9KLml6Z6miwr09lHkSUVruwKZFwFNUoYRbnCwdxtd26DkTXw7rswGq2ph9kTRinv6Re8kD34VUdlZOPZwf3q7ryLMV23mQcf6598QvPh+MDvWoxR1ZR+p/3ciubNyzlWOprXsui7XzVR0bpjVFaEomLUFhnaZMbsIBrig5ewEhjleU3KL5+Y+cn/ws1HV116oeb6GdPX99k/ueEG+Fz86RdDM+gAJxQO5ae4PEYTruW//zaeXtHGZ7NZ79TTWkds0JrL2vDDeCGxWhhdEvBlvPB02+EefYImJJxzCuOZjmW2vfMu1f+y8tC226Kp18WV5SHYQRKHimGF3V70CTCattOnnIU0JlKmz0tNro0KUHv/fW1QoyXlhNGfvjN9P/Puu0BVaW1Vh0S71NFKYhQuIKGQGo2EDBpbam/pRbZG9gGb5BWZjdPIz6SPPwpNQ7Bd7sY79FiPmRoN3Letthr1ff+MU5kNN2T9TKAH5J088zwDP53s5ynxlJNLttmKyXg+DBNARFYUlwAfpZ985OoGMAqpjGeF/fvNuvm2lOXBQkR8PGkSvj5r9qzQ1OIyH82Uo1eeGIxu5bbZMXHCUW1pN4QadBz9zLNR1sn583O6Ru7C0pncHaMyK6R69U0Cox98oFuqDn+mcO/8KwrLYtSQppNrVfnw44FhR5NeqO2iH9QlCFcatrBkpJ6AY0PcnSTtOoa97XpnvcG1GTuEG8rQdIAkw6Ao5z37hPXhh/SmvDKkAUJ6KgUqsm6vP8DeUmHxV7sF3A/xl1jDML/93EXDOW+hB2eEBiGXyplCgD/jue555zBbb+HutB14yqC5FoWEoofrb1Qf61Viaf8BRtEaSboZrLde/dkXVYcd4Y3XKIMHt3FSDn+DExphNL+UCEVAZKHyK9wgCvnfCy+qF7yUYJQWTk5QT+Zy2UbVpKBGaYQrySdhxHvto4zcuMHujlGoUXyzgFFEYnFJ0a8aPtGljg1GNF17XZMd6I08END4zFOmZ3oSbD3CaFKRFF0oppNpS3/4wXLM9t+n4H3x9IWOrOqFISa0IlxSlvnKymyvvijClnnzUqJGHQgCu3yPBP3ehVE0wzInaFJ+56HZH34Qjh5VctXllu/lUMH2Hc8PGYLPhUmTDUSDRix4aAHCaH4VEzAKQQCMSmJC153PPqJ19A3JVDplH3dc26jRbZm0HR08Ff+bGM0HGIeuJ995B42KdsE5jO+ZttP2AR3tPa+kNHSc5pdexJ8WVlWHqqwU5o0iq1fw6KhAOd1zUudflFxnncaU4fNiA0QoVd2HkoGfKa/G+7Jvv9JSmezrryNdFfU1oYzGCrlK3TWMwsHGCaPU2xBVPyJpVMZ4oECD9ZyOeNDJZVNfesl1XckN2Muvlfv0m02Ti0U6j2v15o16nn/x+eyQwY2pbCDTbk9lzz4PpIa9evITJ/JHHlUydhe5M+uijFC+KjBKe0iWfPi+Z5jAKK/LyWgnnTlPPtsRnUkh6poQncsyb8pU4L5JEhLIuehF/RdIom53bLVd4uTj2IzXiabbcZQLLoQaTZQUd2oaXK48fLqlAG8pKwSZuopTffuzsZgyaUpKp5Wk8cVXLnU95QOpOrxkTUGcg1js23c+lg3TxN8gR6n5ygeqkIgXC1mUxyjy3PEzJ54ibL9N043XWBsMrU05IQwVGKVdtxV/081arrpAuPeOVP8hc3ghRKwijFIsC2XX7bUygWLQFfAbxBlHG+PLshxvzHz7P0DGg/mRS9I9mYsDrnRs87KLhM02dXbYNnX6aUzadyDcVSPccFRjrEeJZ8KpRwkQRnHxv4BRmryHJtO0vI02bjz1zOowDC85X9hw43pRy2M0r0YjyUkr4ikPop/0A2HZKCJPohaAtBeNgkf5VPhbPtAni9UoCVJGE/V058H7sxtvUAaMAlM0AEXcTNKtiLX4Fp6DV76kcEdkNOs5/sYbxi84r9ENMjUt4GPVq69rnmEhPRFGOcKoyidoanfFh/8zXN/5+iuaA1hellZUg0yKJjwhjlCjfF1D+4B1oBEa5833BTXqguVWUIr4vQujKCF8XZX5aPb43Ndfy268cfWN1+mum3EC6dAjmT698Lk07Xcb/mnepYpmPhQwyonRlC9SfAnTtL/7xojFqqub/GwqddihbdtsA/fTzDcnawSjsAxg9Esa+2auulR0HMOwWj/9FL/OLl4UpgLx8ceA0Vk1tIWg/JcYhRPjOe5V1yV69KrLmIEgtRoK1Erlcy9yruPXNwM9FZ99oqWy4RNPIFfL4224LcQFkkOAUXlJoaVMUVdp9IyuF/4XpIQsMoYsybSYdcqjjxiOy7k+c85F7LARxYZFS1cBhlXY/X5J4F3Xv+qKZL+ebCrjCQpwX/L6m6yXC/sOqrr9VuGQw6r23VtrT7uEHoGTVKmEts6reP9N1yKMspoWX0Tb48798POcapNxgm7z6CS4Od//FFp6kpa3o1DJyCNTF3nd7Nhk89azTpFTTg560HWVCwmjdZWVnboSbaqLsET4R7/SP+TZ6Xam38AEGuPKqpDmQlMfYpRPS1+PJ+U9ZCIpQc6bNddtYzMSzcxFDtEFXSHCO2mEPEYFiXED4/TT2Y03bb7iCnuTjap8N2SkJFSMLCQcTz9kfMv++zYceYKz3Q6llh6i9UP9JRlBVYCMoftr1QNVZzr7PHovSwpkKMdFJ1/Qn6JLugdKOq1wgw2vP9zacrP0mWezvm8LMquYnZtt1dxvYFHaC0FQonNEjFWN1WphlFVR1qbtbjy66ZRT64HRM0+XN928QjZykccdqVGKObItTj8LLW0hgYgminHJC2ghIRe9yefxsoHKsGukHkUcV3nBUydObL7qmmLHz+LLi0fqEyx8CmrxUO75/iM8ofBA8CWd0bfePHHaCS2221HVBIyWvfGO5JrAqKJyRh6j4KNJZxfXvPiK6Gfd119TcBnTFBqqTUYuUJtHK6MUvi3eMWxjtmessajIE3WaK0t7li5XjPi9O0aprGSeIYzOe/Gl7MYbNdx4kwIP3QuUw4+jwZxYzJo5y1W1BIoG0pIX27owykA00ws2mVRVZRIt+ysrrU5l0zSwu/vuUibtIZmisHp9o8sGWIaqJqdGx37deK3qBpblJL76Gr/OXjQ/zKWNu+/2e/WdERdDeId/ilF8JFBHhONGJ2/XpK1AlJKa0IH3L73OuFC2cR+t2sf/M1Lt4UOPSMBrksspCsw6KkfCqKJwwCjakmVtBL8LUhLCC6i13LBnjzm33agGgeT63NkXsCPWLzFsYJRapdXDqOP4t90cR1uSCnxOQPJL3n43kQ7DoRuWX3O5csBBdYcepGZTLjANKQBfo7QKGC1/5zXXsjToaLS/M2jga+ZP09KajvovosUupg0J53zxVWgZSJ9BGC3UEVIBkM+jNms+93TFtzOCwDiOfNllVqxPRV1dCG2LayhHl2R1wcKhIXAf1Ii+A9tiMS4ebzdIuUO9ruD6qFKBpHmYRockajJ5+NHymqipXpJDS2EUCJMZxxfPh3jaJHHeJfYmm5S5fpiUuQR1u3C2L193pTN8aPOW2zonnFjjO1lqIeBC0Yt80+53Xt2QvwmVPP4jeYMQ/b6CgA8lwfOMq6+Uhq5rb7ZZ+uwL0MRa8O5kq2PL7RoHDlmQS0GNUtWEbVCerWJYXYxKouk4W2zddvTRFcDosUcp2+5QpZg52ALNkCAThaXiKrS0BI+opaXkICCOlODoTf6Fy8kKFv9puYAcymMUvjkKSkzICU5sllVHtlP0JapbKF1EjeUkyDdC3eLRzK4b0yudNsfslDxsv1rH66hogK2X/t+HtF4IMehy6mVaGgyRVfPwo22ZXPj4Y0koC1nIKZK2eN4onpiENk6yncNHJvr2bCsrCRAv2l1qRcWIj5Y49WgpaBEUgI1aVPzk0/66w0ruukNxDM8NlONP52IxxMqePzejqbQrDyo+1EQeozwdHUJznqhnWkwYhjx9Jo0Iz56XDduzu4xJ7jOO932T4yOnPurXKsRgdQOiqqpsOW3yVHb3HaqTMS2Ln0Rn0i5aMDvszOpXX2P0GzRdMEJoeKLdn2EUriBvO+6DDyM/61JWAP0qxKnz5KNPTce0E5yLPH/rbSloD++8F8yq4sVO1O4Io3DY/xCj9J6KXlB4Q+EF0wv7951/xSWc42qupx19fHyTzWod2uqYZ/8GRu+8HWBqTKeyzTQ2uPB/HytuZ7jRZvXnniHvvmfDiSdqmawNUJNLqImVtE1q6Wsv2Zapoqh1Q/qWjuOfO7MkUDXYMO1iFi1vn/v+R6FpoZTzi50oMaQoQSs9HL5BzcXnGq4ZIPmuK193bRDrVdbYBIwmiBioW0thkUydjwwtyOQGD2X6xOKaltZQC8gqAcdlrydBQAwFTAmj1EmKxhBWCreB3PYlGMU/kUvOdalR6FfHEa68Qlh3RP1Z5zlbbUmbyQOjSZmBFkF9evN15ABcCv/2+5O2rcFFJMWNF0fbmFJkFt98jQTEjiL4B4FKXBKQhzffKA8apI7cKHPplZzlGGjzVKtj2x3bho4oi9QojdHAMGCoqxq51ceo5Trbbp848nBgtPPg8cLY3esLGKUTz+nCgmrDT5RJ9MpHDmWYD/nCX+a1oqq/WI0KkHEKjIGT4zLXhquRXomDRy9FGEXZEEapNaE2ZZkb48Wm0sa+ewsH7N5gOx3l9eStv/eh6ehGd4xKCuf7cDBrb7q1vrMzvO2Wut69amwaYeXZ/BATeYeJSP12bLyV0CfWWl0RiCqSGtXR5QI+WhqjoobMoZ2TSh970h08eOE9d6mO7ti+cPIZNCYeixmEUfhueALA3Q2jkKK0BQelFBFg5y1CEkp+n5HrzOV22CF50MHkqgD0wCgLZcQhyX83AF0ttBC79PY7BD2QVC2P0YXzZobtGfnSS5R1R8xllBBRonMq/hSjsATL8p56jtRoCooFbSHdedHnX7muaSd5B5+/9roINXr73S29elZbTgh1F+XYshjtbiT5OyNbZM7HH/xcOHTdktNPYSDvbc854sj4FlvUuV6Ixo+lUxhWB6O27T/4EKJdGgS5BpqpVvHV11YQhltt33DiMcr2OzScdZaQSpuoSORtqGJVHTUPLz1nWjbtV2aa+vv/B7+hZEFdlnopeFGThOg+c996M7SA3245ls9BVQuHrldxyXmGYwCjcEilW26hbui2tlADRpF+XLUMFiMLR1ak27ODhzFDh7R5QVqTkiT/8hd3ux4XrxpGkW1CF0bxJ8W2heuvFweuW33qGe62W9f6TpiQ2KTcJosMquJ0OuECbaH79v8cOrcA9ZJHVlDPPjF9SUz+jRBVSsGx5dtukQcOUtcfmb7qWmBUz2N0u53ahq9fmnJChQNAFZmj+a+rGrnVwijNFxYtz95+x+QhBy2CGt1tZ+GA8TW6m8Pj87uL4krqDSGAoPEptLT5yHVFMfpsBa/lQtTSUO4XgEwWA1Oi0cbo5hFko8fRXCgYCOwyUuYwt+435lOBcdxR9nY7lJpOWExDw5WffJmyaNPy7hhlfc8fODh+4cUNUbdv48CBzX7KYyDxWCQtGqnnGDzY1Dq236auV8+WRlQPXSOM4ol4ztIBHyyFUVppgaijFpVMfMQfOKD8/vt41zRMVzjrfCMWS/foLZaVtOvU2Q3Tx/Vw4kjUCwBohNHoPgkdziNN7in55Rc/7AhHj2aOPTaZglNPu5EmqVs1Mp+/GWSYFUX19wfuFcRUQlHj0UbOC3//tbMzq512Gj9ydBGrhaDbXzn1KDnOsKw3aefgItekU5GrCCXFP0xyLBX1Fk79wpdf4bJheMONbQMG1KUyGar/UVEKdH4BjTFGJbpUwug9/U8zBaC80qlwu00bjjycCYK07Xn77t+02x61XtAps7B0cTUx6vgTn6AFJkGQraB1E2W//eZBNe89tvKQA5RNt6y95DKQzo6aUVr0X1MPLVb1/DMQ2YCOYJnm88/SOHhtU5bm/tIiZSFBMwqmvfhCh20TOgmM0SsaDxVVNRw4pPy6q1XbNAE74PiNF7Tdd/xa40Pq1SIDX5Ly6CeVtsJqGscHHc7I0frOm9Mc/mieeuTtdbueKiKuplzseuziyhmFwrWLP6J/Ck49GjPCKFCDRN15p96rX8mJJ3pjd61P+SEQzkhw0ujylpqOvtHhHD/+GqgqvoDqqUdqNOou+HcxGgV4J9L9D6ixmDlsaPbKa3jP1ZHtmtM5Zmx80y1qUm5IfiwcPfL1kIZVi97qYhS25dk7jmEPPpAwus0W8QlHVhpeDgXSHaNRo4efVGLd47XMrysRyPgLGCUu579Ot6GbRxiNnrEYo/RLHqPdgxD4xpmneaM2L9bMcFER2frHXwaWYi6FUZlJpYJRo4TTz0giaacc17Thxkwq47B8G/KKE2jrTzoSRZQ9u2Pf3Wtisaa66jSE8kpjVFCpYUctKrrv7mDQwLqJEyXf0U2XP+8iOxbL9ekvVJR3ajKSQt4/DRlFGCUduhijEtgqsDW0tXvZ99+5iOewYYkTToinMx4eIdFBmYU8+puBoG/nrrtmzoy5JmMmVIWbOYNiPvXnzrBdPekkZvTmJYqzUk69KDCWpb/1LjC6SBIyhiXOp2Zg0a+/gxKqrEJZz3n6acbLhBde0Eaj+e3wANTom8gEhjBKD1jRzSmtjCjHFUVMO+377cbusWtDJpMz3dR++yf33qfK8XMyqXNp9TBq2d6zL4kgvudnS2kT+5IpUzwvHR64V8m43fWNN2288lo+CIKoqeOgN2sJo9XPPOMaDpohxrX8u+5wBvVtSDI5wIiLFimLZACTn3487TioLYRR2Gv0ohyU5XDAoIrrr1MsS4VShFOqKL4k5BQIWZ5BoUQRWyoFSBd8Mk1o8dPBhuuJh4ytU3RglFP4ZmQaVcjF1+OfqCLhDcxk8Ys+zxtN12tJQK7RfqOFbZslVDPbNh960In1Kj/yKH/3sdUZn07YZmjHA6ROVpPhlhs19YolSitDVW0BykXeiDBKf//3MYpKBIw+9gTtJDd4UMdNt0iBb8FN1pz2Xfdo3WKbcjj1IgtHGl4VPkYkoy+tdFhNjKK6BBlr7J7ifnsRRkePqjnx1GqTMEpOdQGj+e7k5bIMvywuxZUP0bWLC3npG+a1av4/sgMKdMHia5cEwfeMSy50NtigUlbDefMhf0q//bndlGluXbQ1CQ0xSTJru+52OyQOHJ9A0g7ev2bnPTUv7fFgE0JhaxKagZB2wn33LO3bh2mqawdgUQgc0W2Zh1IklseoqoR9+lTdebvXp1f5Y4+pvqXarnjp5UBJrt8Avq4GGEUGwg/CF1FtCmoUWMnPG5UFCEO+jcapyj79nx12hgMHsGef05rK+NTa0HxpqnzLR2bVA5omVbfRTqAuMYbCzaLRkqKfv8105uSDxrfuvFuDlgoFSf1zNRoF1tSNr75BU1EUb+mAzpo6B65f9fQ57YFhCqRGy558IhnkwrPPaBoxoiXIAaN6dMO/wChClFLaMcd3M0cfou+8bVuQ6jDd3Pbb1044POm6WYWBVa4mRk3Tff1DORab7afDeXSwc9G8+aGb7jx+QsUu25vrrNNy90Oi5VoQ7jAhRRYbGztjPWoenugaLsCR9OzggrOTo0c2y5DtMigq0vw7WpL/+8QHbcNmkgIiR659BFMkGL522Ltf8S03S77rUDkifQoPnSvKbaIYX4zRpQJygJFbZCFpGvbjz8XffSdpOZbCaxoL2YXbLkku5dRijEZSI/r7n4YIo1Cji+eNCpLjyA/RqbElR07Ijt+/LXDpuAE0pRQRuKpybt89EwMHF3NiqIgwWiLw4iGmvIGsdPb/7RA9jQ1c+fGnYHv6gP7td9wpp1wDMbXc7B77NG+7U1k6CEVEH6oZ5kG+LqrqKsRw9TGaypl77i3tN5aOch02oujM8yssvztGIaaQZWjoCKaI0VKRin5fhWhSyN8j/1om4P6LP1z+j0uC4DrGbTdZEICc0DFvPvysku9+6TRlcxmMen56732bdxnLIWl77Fx30OEyMEqjlxRQlWEn4JoUGOHhE5oGDpQTzSFiwNBS9ARVh6UDYrQ8RjXCaPVNN7h9epc984zpO6qXlq68KhWLdQ4aJNbV0rogWrlA7ltBjUZTnWgPYNwHtYUVWniaUVD09hsGnPoBA7kLLqy3PT+aWsKiLkrwBinjVz/gy1SDeZpBiEKVuRZLa5tF+8mX/PR1JmwXD9g/vuvuDbof8pIWYTRfW1f8UNiMqZk//ZiOxeZXV3R6tv/rNDQbLSVloSkrvIj3pU88waZz4cknNo0elfCzvkCzffOZ9ucYxYe0cUlSSKb8zHmnqSNHQI2Gpte+zTZNRx7N2W5WRRogqKg1WmWMGqbzxkd8LDZTscKpFOfyhYvCVCY88cjKrUbZffvE73+UMz3Agle4AkZ79Kp+YKKnu5rItfl25tjDG3fZsVkzO2jaMEpGFBzaHnvaPXdpusMyPIsqg/xBtUEOUv8UMNq/6Nab5cDz8g0iL1OZIqVoTVfUVlFRt8kKx2vkqVgup7QL1Ami6dShLKwhjBaGmJB3rs899iQwWnHo+PaD9o8Hdo4ljJLxszzrmMZV18X3PHiKEbRTByzaflgloh3NIl8u8v9swMNknk+78jPPurGY0atn5s7bBc+hyoX6st8BjdvtPDdI076uUSSjF1ndKkRy9TCKcma9tH7gofKee1R2tofrrlt93VUtQPtijBY8vMXzRguvfLz+osT+wSA4tvHwA1aPHsVJrnPmTJot9OvvWR3mzzIyAweIjrRDCmynfcLRVZtsQketbTC6+eQzRS/lRkTBf3mMQpNyKc8+9bS2AQN5tjUkIYSM/KsJT0h9REdG0zuHrFt19eVBz1j1888bkDKuL95yKxBjr7tusrmlQwI28BzyEhO8lFgBRsUm3SY199wzAjCKN9ddD4y6sNk1iNGoegI9gDPNCTY0fgHtTTX366+CtC+OGZPYf78W3wkVSY8OEUFxL9uKRIHuhGwzVPX3OVCd84oWdHqW8+UPEjzlpgTtGyJqSHv9Qw8wmXR4+JHl22zX5mX8aB4f5d9ijIK2hbt1C9GvuFJSWCnpB+rlF4t9e87KZkI31bnhyLJTz5WtIC3BVxDokFqIJWTmqmHUsL4jET2nlQ9/m4J4VpTRJjCd55xZNWQ4GmPh2ZdZ07IROZXnFUVqawv7DCy5/T7XcU1gNJXq3HnX8sMP4S3bjVoa6kAMfGTjbzfeamh2NMsdGI1KCwmkqeo8/lp0//2i5+iEUUGjWbO0I3dUv1dQySlhyCHqQ+NJeDMi2gxSh5ERLGUHeP83MQpt5Dj8i68i7fX7jw2PPDye8nLQ0ZEahVsMM2BZNp1g09T/RHFDLHATsv7lYv6PBzwPGe5b/OtvedHOltmHH9YgTmEHnCTMminMmc2rtNwFOYUL6YWmbpXiuXoYRbawbkYbf7iww5gi1KJePSvuvoWxnRQKkoX3S/lJ09QlsS0y2a5io5Avuv8CpoJtm08/ocViC5JMOGMGmqaKKTOympSE4UUYTSYijJpW5pyLG4at0wqM9hpUc+nl0KduFHsYA2FUxFckxne8yy6LDxpQJbLgiAY5EQ1mLpv7+H1pjMK3YVSjc93hFRefn+rRo+6VVx3XhuCV7rgDatQcNize3NbJa7QzDy8ynByPMIoyjjCad+r5pKglLA/XVz39rIh44s31N1Y7LjCKx6wZjEaBYhGd0QK3ktdVeWFZZyw268tvUmnPHLMTf+ThzWm7Q4JYkhBVOqaw8L2lQpR3vKqryuwiYGj2tMkp33e/+A5lMa8pHvICI2i0Nvf+u1m4V/sfWDJm16SXcSJeIIB+HHwgmQWpVkQQ0hFIMK3GdVzhrtvNWGwqOKVb7cNHlJ1+gWpn0kAR8EUYRcasGkYF3TB//g7Ka25Vc/jdD6iHFaVVnbaXvvLyulg/1EzhxZcZy/JpkQ8SmcfokEW33eu6ji0LcdcNR246/6zTZd+ziCTUJglpP+zTd/bFV8mGp6Jso3qIGKEu01HCPJ1EXfzgg/CfaANNQTAEUSevnoQq9XuvKBRoGTGZxicip5BCnpRdgfLr72EUitmyhTfehjCv33PH8KjDmoMAnijNqMCfOPLJkpLA0MrwyDlDzMAM6oKNmtl/ue4jveCia3JvvIWyQ3llHntMDzx8yqE2WoYGAR+BHk0cLITG6lEKSM6Ks3lFYfUwisLkvLR6xHHGrmNrLQVFXvn4Y7zlepSJHG6KusREGIU3SmNMeYbmo4VMzL/+9SCYpvn+eyLqQ2NL+Pvv0Bel84vbNQWWzeUxGqlRxnQzl9/YAH3XQSqv8o47GM/2oi0CkATCKBgaV1nTdp54TNhlh3JDy0EC8izMBHWhu8VSwLe6MBp9HTWeUfXODTaqP/MMSLOKV1/zLKjRQHzgXqhLY8Tw1gTTKSr4Er7MLVajKGTCaN4/kqBGJS5NB/9WP/BgMswRRu97oMmwHKoVArMGMQpnExoL94JnpKhSSRWeNfejTyzPymw6qvmcM3nPzMB9/NON8igaAqdrslpEXy/97Uc3nfLfpuGmMkkO6RxiNTW4D3P7LfFcOtxrXPE++0lu2o5EAQLoR8cwyawGpZC/W7eAX6n2RhjlgNHHJ4LI09szoeN19um36NJrNdVLRwmJ1OiqY1TT9Dkzcc+ZJXXhl1/CiSltS4a2a99zdxLlBYx+9D9VMxzKH/j1isQw4cCh86+71fVchw6008L+g36/4Wr8qlOFFmT8AEYHDZx/zgWa7YO9DCyHOI8C4xXaJZfmw8196inTdWl2fn5zLw4mFPUv/nmp4h5dIf/JMtWN8mt1MLpkwhN0sWWL73+QhdVtvlF4yolc4GdxW06gDgcyVyEZtb+gEcUBP+hJJAuWjcy/ECjHeck12Pc/ykUbBAdPPm14Tp5KsiKq0dpxWYDepyU+ICq5DMjlFZryCsNqqlFULT9tHHG8usMOFQLNJK969jnVQNYSRlH1gVHCTfd5o11Fny+6fzkroyAYhvnZ53Ak51XXhVOmAaOL5hVlVUrPEowKhNHU3Y/FaXpjBkkrfvY5OqiDKEbJp3SxcqLRbGaV5qRs1DE2eMUz0cp+KIA/7RuNvk5Ot6aHI0fVHX8iMEr7n1q26qXkhx4ARvX1R7Qm2U60ixEdupx6wijqksjTqVNopUCETJbkwC23NgE90XqBJidajyAIyX8Io7IqlUbzxj/62PGs9k1HtV12CeeZAZIfOfXA6AoLNooHYVQpo7M3ir7+1My1tz/7LBOLNapKaBiypKfW7cvdcUuyIxPuNrbs0MMtJ9Udo2hWQCRgdHm9j1/zGEUV5mxXeOHZDsTQsULL6uzdp+zKmw0FGEX7BtZTTV4NjKpzZkH4z55Tmv3oQ9hPWZzr8ALtflomAKoKn3ysRBhF1SCMckw4eNiCa29xXdtWJSbRFvboPf2+uzOeq6L4EVs0yKkgXH+98hNP5i1f42gSNA0Po5Qh+qFGWZoONefZ5yzf02FuNO2S5mmsFEaXD8uQi/JrCUa7Xn8WlsOoCjX6MS0LrtxwRHjqicnAA0ZRDfIYTYp5/RQ9hb6OB6z8w9Z0ALJQ8YDRDz6itS2xmP/c85ZjkRiR6OwZmo1OE2YjjMKOBBm5THMXlq3JfxxWA6M0PRdVy0sbJ55u77hjZVM07ebNtzw9wujivUgINwL1jeK36GtR9lGG/ncY1XXze/LOqkpKOn+djApQVF7jSuAU/NFuGDUc56VnIVoboyWb8997X3R1i7RClC78EASmcMATfoFshJHQLCgy9uUtHJ8sj1Hd7Nh869qjjoCH2/ThB4FuMprFPfEY6r+00UY1EGi0mT71DKI0l4zUs9GEJ8SEzp2XWzK5oGes6frrWrIRRh9/rpkWvaxpp34pjCpibTPV8Hff11WpfdiQiptu0D27HRqKGpE/3CiPPpb5pCrzLK1cKn/jHc0LwsefAIZKTaNd5BKKlho+qPGay9iwPdxx+6qjjtfspTBKiz7+GKPRD2Ipb9viBx8ghtMVHnRGfs6+4y7T8mjigySgnqAIUFciYEVfXokgqKpSSms3F8xYkPm/96Cgq3gp57sdTzzZFouZsRj706+yqrsScp1l8y750PVKL7nS91xLlZL11PBMf+3VrG1p0TwPRFQARrfeqvGIoxJ+yhX5BE3Vy6tRYFTmucjwXnjJdl2FFg1QX5nCkv3A2OD1rHTco4Cru3+B3kcfLa6Z+defhQijS+aNAqOmJXz/LSKZ6N8rPPcM3rF9WvdC8zkIo3DXlrlxHklLf/bvBTzRNthPaR0zyst/8QXHNsF4fN61MIEce0RycTwpj1c+nquHUVQtwU+bJ53pbLFFZVUFVYz/fdKpGgZhlDpocVkeo7T+N/qVQr4hyjP0P8GophnTJnuourNmdXzzgwY1WlXnCHJC6I5RkdFt+7MPIP5bi2h2y9xvvqWJjVG2InOhBRBYMLFQANHnYAhqzworJz5ZDqO8ZnVssU31IQcDo61ffJHVHTxUeOpJVHt51KgaWQ5xDdgUUbuAUeiRPEY5Kv+kKLWms6nBg9ouuaQhTVsIVz//akvOz5GRU4X+RzAqqWIDrYYERg1TbR/Yp+T+ey3fzXFJOPVoV/4Eo2BYqyJzfALWUvb8K3J7GD74YAvo73ntmsxbTnbDoS1XXsR0ZsLNNi07/lTdDlYSowhRyUQYtSzhRzq8enJTbWiaeFbRww+7TqBGmwwBAlAgAAEJpZXOGmBULqa9RYp/mea/9jLQX83LaU12XnoVTj3tOTt5ms4JusQVMMoBo+uXXnpF4Lq6IrUtnEcdAp9/kYFrQV0fqL+CYNnhrmNaDzukzXXTPAsXuAujMjDKRhh9+VXbc+DOoxJFiM5jlHqf/26x4vurdIsIo1RDujBqmMKvvyCSbO9YeMl5gu+l2CVqFP4TYbT7U/J4+q8C4mIbyQijOpz6V16ybZ2FJQBmSFik/HCRQN0O+Uh3xXvlwmpiFBB0Au3ci5yttqgqmgt/p+S7Hzt0U5WiU6simoAXRI085vHFPDrzDP2PAjCqTZ8JPs6fOiX36Zcq6lhdg0fjRezSGLX0H78B4Gq+ps2NyuD+e4qm8BqRiSCFf2mgYHE7RoAt8PGvMAqfN8IoB4yO2T2+3/54Sv3XX6YVi1Ft8eUXc7GYssUWtbYVomAlTiPtQgdbLaVGCxgV+WwmGLZe27nn1gUe4rngzbdFTaCNwf+5vlGAqJlq+IKXXzNlLuwdK358om5qLs/mJzzh2uX7LikQB/kkjMNRgbamhx5t9jLhbbdWxmK1oLABpaOmttq45dwzubQbbrxh1bkXqKa/NEY55Q/6RikQRSmIpslPpnVWP9WWhwbt9jTnxRfScLjhkkYriVcHo7IiN0VL6X+arD9PCrTECwLPst//P9RJNMbCnPmBqvsgJDAamUe4/sYlZ5/nuq6my8lpvzgwuV+npE3DZKKFVHh2Kug8YN/4vvvEXauDY/BhAaNICSKaoH0Uf4eHZ1mAbhIfRyO3BTW6whz4R0OEURZZTxilhb+aYfIzKJ8TsVh47RVC4GfILGmZqyLIrEhLdgvfzYd/O8ZLB+DRNJjvaZMd1HrvnbcyjgmDhesc1Uoy2jymujTeqmF/dTCK6sRIvOvr51/ibDiyYubvNE4yZbon64gt6J536vkVYjT/+o8CZIVatAjSoPznXzs//gJu+5zqGldUIBB4mYEr1YVRdeFs5HjFW6/hZ8vChRlHVhUQSqJJElE96XKsqEpQcqkvBa/Cp90DPunCKBgq05WCbnXsunvbnnvR8PRP33XIZgIYfZEwym+5ZY1lFjCKb/MiQ51NqGdCAaM8dS8k8X8m4268WfykU2pcmj0z74MPVM/wqUvnn8RoK3WFL3jpdZNPQjtXvPCi43ueLBorg1E0P46Kb9XfeV9dZxjecF11rHfCtTOayMhqsOVGzeedzaFJWH9oxeVXaoaXxyjlH/Ch0M4JtFHeiu+fx6go6Tq/qBQx/LFoXmgaeDP/xecDzUGugKCrjVEp2pFk3hffqo890Irke2lfkbjPPwMfUS25kuIsgzYvUqMUCTFcf1Tx2edDjaqGxn75PxsmN78kY+p6knwLciaDoGP//er32C1paB0oKI4GKBE71bZTqiJG29FOfestF62CRHuREEP/W4xyeC6Bh4jDyoTR6YRRaPOO66/iAj+a2yT8IUb/69CFUQkYfe/dtGMm82qULLaAUbpsMaL+cYyiOgEIbOCZ115ubLZ59Vc/Q99Vl5anFdR6ojtVpOUxuhYEQVGUyjKgat4HH7uffUpHuDQ3+JzKMsAoST8uQRhlDcNpoKXT1ZdfhZ91zU2+jhznVCLT0hgldtLQCm3NQaMrK8IWPlqC0Wj3e1R5w2kfdwCzNR0Zwv30XaCbvGJKH3wIqjZtt9MCzwuRyQWMSgwLvQyWLcYoPspvnZXOOFvvKBx1eCNPkyUW/viraxs+KmRh22aC+t/P+W4Y5ej42mhvqvlPPW3FWeRk2Vvv2IYZxxW0pv1PMQoFLUhM1sv16tF0/c21YRged3TzkOFMkHNlVEwjvd2WjSccraTccNjAuhtuFvKDqWTT5NUyCocI5Om3ovsX1KikaXw57ZH8090PeQ6NEE569x1HsWiNGfIdPIb9ripG0XoytLFA3SefKhPvgSNfme30HVP/aRIwqsRiyZrajKpqBTUKSaaGG29efOIpuu8p4OhLr3o0Pba6nYyIsohGglN++8knKNtvXer67UkuyYlNgtxY1RRecessSQ8baDlp8UcfdpgmWo//HqPIXqQNZUsglSQ0errOLaQur2pg9Nbr4dQ7VPLRdvprIUYRF0Pj5tA65uZYzHrv/YxtJpAqnrYQI5v4m1m6OhiFHXASk/KM6y8zNtiw7IMvgNGSikpHVAGSaJY0xenPMPp3Y72agbqdWqiOlb79gf3FxzKMINmW5jUgAJEGRlnCKLCIlpfUR9MRx+BniyBmFZorp0YA7cIoKiIBdPGLx09K8XIJwwdLYZTmWcumkx13YHyTkbg/P+nnjG5yqqG8/wEw2rDtTnM9t4BR3I6VOEZO0vmgNAeKMIr7RPPJ2FTa2WVPdfzBDRxhdN73P5qaanPCEoyuibAEo0ifAeeYxojmP/mM1ZLMUlX/OGNaEMuLDxH5A4wiAzgpyclMxsv2ijVeckUdMNojVn7+BW0WLW1gJTu19ZYNxx+r+m44sGfNXXdLhhupUdiUlID6jk6Bh0hYsUzowigKyPLCS85pjMUWXXIFsqXkw/+zoEZpGvPqYhRf4Dikuu7td6S7bqEpHNmQZolOm4kcUHrGEk1NHSyXLKhReL5quNFmRSedagOjpm098LDbN1YSb8zJsoqqQ60gJ3pu7tQT+C03LVatdjStLM+ZbvK1N9EyTZk/O2QY6kH+34c5wiiSj5ivBRjlSCOhLZOSiqqa7ML5yF5gtP22G3nfs6jkkf1rMUbn0okDMAzrvY9TttlGow/0l67X6odVxmiUpbB6xreNu24yNhxZ986HaJOLm5t92mMXeRmxMxJq9JN+LB1F/AIjXhU7XlOB9gJLtAFVJY8+yX/0HtyxsnhjStIlThYVvmtrEj7JcpYOg27ZbjuIgiaP9p0FPwoYRdVeEUbphaZj+VThg6UxSlPUTDtz2OHM0IEo1+TkSTlT53RD/fYbxK1mn/1qHC+kr/EaRwulgVEm2tUfaF28pp6n3U2B0d3H8Xvs0VxJRzAu/P33duhojk4R/rtnMXULS6tROMXJzl49Kh54xKqsR2znf/1tYJnA21/0jUYYhazmwvb00MHs6efXJ+m0j5m/fOsphioISc1Ojd2t6aCDVMsMB8aqH7if051IjQKjy6rRFYQujOIbOs+H2fZ7b4O3Aanofv1Z1nBRBDREDiJGTj3Mb+WFejQ4ZaQhZF59re3OG/gBveV0zpd4eWEpYKf068NyTMixKKgCRk0j3GybkiOPkoFR2/Uuu5zfcGiTKoTQcKIMFtLsxHSQufAcceT6pShr6vXlJduR77nHj8XC/3sliNMWgnO/+rJD0xmOp3HatQCjSB5yl8bqWElVdbahDpGsgxp9+F7F80yeWn7qOVk7MaqrfAlxHxG2Pv8qtK1EhNE1E1YPoyIjs55t3nmzse7Q6pdes2KxOU0tnqQBF1SL8hiNrl1BbuIDYtF/gVGaFiZ7gwbUP/io+AHN/a4W2tISnRS+BKMQXdAqtu31irF9+3kDB0u5TAYEJhFBAVFffYziK9Sa88Bo+qhjmP49UQ/ZGdM6TY0zTPUbwmjdXuMqHbcbRkWQlDBKiysWY1QRaJVIkLIPPFTcYUxjbTNk0cKpUzKGZnEC7Tf6z2GUS3b0iJU+MNEsrkBs5/0yKW0ZrMjpf4VR/BWM4TpT/vrDmXMubnzxbSYWqzDYEOwBRlU72H3XpkMO0eER4/5PPiFoeYwucepRN/P5u4L7d2GUAs2skq0g9wTt6DNl1tRQM6MFfjC6PEZx31XDKK8aNEX3qWear7ucHdBbSLdDjSoRRrX+fXlgFLJBhl6OMGoY4RbblU84QvI81XYzxx3XsMMWnKZ2iKrGK0KEUTntOxeeHx+2TpmqhYqlchzjOu5VV4mxWObi0+ujzQl/+eqrtK7Dt4AYXyswCpcs79SzMmG0njBajwg/fJ/ieCbl8NqLUR4YLaaDWxBh64uvQtP4bzFKYhMVmzD6wL3G8GFtjzyGNr+xNQE1GvlMdBEYSvlIcFlRbi6+7F8OMADBtrKDBzddfk3i1bcR7RKuJRBpZgHfhVEaQZM4N20N6g/3LRi9uRJ4PhxCZBTdAuYk4BuFvtFCSrq/lgv4rDtGFTplXjQt/9hj2ejIEGX27FDXk+DHlCkQIyWHHlFhFTCqgxsAB3IbUUJOLoVRMemlrBOPadt8c27BQmilBaXloapqiOE/h1E6YY7vGDSk8ua79elz2xHb6TPaEXmR/6sdnhZjNMz422zbeMoZrUcfoW6/sZTryHB0oFvCdNP7jqvde19Ws5AnlS++yC7GKOUf8BENMa1wTX0hoEQKARcgu1UllUrBV9Z1kxV4CGaiELmdCHTRSgcyG48OMU1MfKTxsouaNxrJpLMu0lnTArZq6wwRZTVNs7hZeOeU8Y4Tbj92/iETBNdVU0G4396V48fxlmWzEk/zRilVsufot96o9O9VBeai5RPEpnQqdehhbTCJ7XarLqWu+fk//typqgyyHCXPiRInqpGn9x9hVGKoGSJXCt6bqujJhiZEsiIWyz1yv2o7MAAycwj3tROjmsI10gTe2lhM+OmXUFcTPNCX/+PfDquDUVRpODCuZT94rzF4UOOd98ixWFVrPJDplBiKVETaP8PofxQoaqlUetQmbede0vzcq3wsViy0BFAnQNUSjFIvp2AHzqhR8PpTO+6mZTMechxVMbrF0hhdiYDrlsEonmdb/gknQo4RRucvCDUtaajqlMmoliWHHl66WI1GGAVCSOciJxEDpeDU04SnpBtYZ58aHzmSWbgIanTeouL8UZr/GEbxD+321D5gUNmt9xiTp+cggWfN7tB1hpx6XBphdMWdsosx2u6ldxzTDF4M6GXcdHWl5WQ5ISnzccNN77dv7b77QTYiT8refJMGrSOMIgCjf7KmfgUBpaMocjKZIOUv5ef65qcUdWF05fMnwqiVglN/z531Z5/eOHJkMpWlafGVTV4sJg9dh7FdX0KhsMgfynjXDXfcfeH4Q1iw0rLCnbYrO+KgVt8zk3KCXBbcT1QcW735JqZf7yqobxZ0Fdp8t2PXXaphEn361cwn3TT/h59zGuUr4prHaDSP+L/AKNjPyQzxMxqpB0YlPdFECzHKY7HsxAfzGKW1NmsxRploHQScevHHn0NTQ2ypG2KNZOZqqdEIo7ZhP/mose6QhquvlQcOa2X5HJ1VzqPi0/B13uEFAiLffi0JVCtt0912h7bjT6584TVQslpuyxJ6IHaWYJQTFM5JpbfdHHLV2+8QI5MxcEE+IUjQ38QozE3jZNv0LjhPisU6Yj21RUVQo4xlGLNnAKOlp54Wt9xOMJujfX0Io8hJugFNfqIe/jxGecKofe4ZjRtsKE+dRhtnNLeF5LD+s2oUEekYNqz26pv4b3+EGp1dWhpqKgenPmrYQfs/xyjfHtjjDxaGDkGEW2bO69Asi+eQ+Qnb8Y+a0DBmTBNH+xmXvP+ORudULItRPOUP1O5ygUiZLyNqfggEBYRGYeWLLwp8e8YeMCBx622Np5/YtuN2mue7aA5b6PwoZfjw1iDjihz13iocZTxawV32LN53P/jpJsuFm2xQdvlFcNmVpNxMe3XkMWqqjz9iwofgOWr8IGMzTrjOoHnjDu6ADbz2EjJhzqQpMAyyOyT/P8co323eKHlFGsPSwn+Iu/C5Jx3HjehJObuWOvVQo6102kJTLMb/OiW0UKej3tyoZv3dsLoYlQTHsp9+3BzUv+GcC7V1RtQwfJZOh+TXboyKYipw9h7HTTiy/LGnRDiPUiIjKdA4S2NU5p0gu9fuNMXs6OOkTEbnpQQQge8jQX9bjVIjaNvO+Rfi/tlYD2FhMWEUzufs6eTUn3Jaq+11QCDzkMgSi1pHzjI9LY9RmjWTx6jj21dc1DJoHXbKVAsYbWgO6SLIrn9siAmQFsX2dYdVXXuT+PmXhNFy2t6c+kaBqshR+XOMshnXP/wILhaze8d0FaLbiPM8Mp+xHP+ICXW77tIWna5R9PknNm0iRBhF2rs79aspH1BeeYDmwypilMtmzYGDm66+uvWoI5I7bSf7gQ+gtPEoL22TTbhUzhL4hELzVCjjoUbH7lU8bl8O7Vw8EQ7pu+Ce2zosl2fVVhrpijDq2uqjD+mx2CKBD2VRASB1aj+mPvQcMDr50guRtwumzwh1bS3CKB7ftYoJGE0SRiuB0ReethxPW7uHmOisrhZatl4fi7G/Tg4tap9Qo1dsrasaVmOICRYJjMJhMZ95Sh/Qp+nEU8xNtmqUNF+JtsUsVHkSUxFN16LsREwEz/b2P1DZb3zlQ49LPXrWy2y7qKpITjeMwjHxnCA49FA2FnMuvVj1PJ/ORSKfELf4WxjNT3iSBF53rIuukGOxVN9YU1V5qGhJTVHmz8rAn73wUtmicwTQHAGjzB9jlLU97/ab2vr247/8FMp6kR50cHzUlbaGzqmPwlJOvQjlKIfrr1977fXa62+iwi+obwolNSHzGiKHdEEzErEK3+0WCKN0+mDaSZ1xXlssxkzYi3HbgyTNkpMUlnHc3HHHlW2zZX2cZp7XfP9NIJsWYRQWREuK/2Kk/i/D38RoKmNvvAV38SXcoYfE9xnXGvhpDZGR4T0IW28rBRk6iKkLo54X7r3vgt3GJvy0F+3kUv7i81nXZmUpAchEQ0yKZ8svvQQKz5KFEKlUpdZos4Kpv04Kd9upePNRwGh89sy1DKNLtibRJZVVqRe7NBbLvfIiaW1qYyln11qM8kkyrRLY3u+zQl2hkwFX25yWCauHURGyAhh94Tm9d6/mgyc4m29dLum+LCZgTEswSnoqP+9pLclRREMIPP+4E+299q298z61T/9WXe4QNCkhgxEKMMrJNMQkCbob+Kedhtqu3HxdwvcD8BPVGAn/mxgFFCK1zuu2edlV1GnQN9ZYWR7KGqso0oIIo+dfItu0ATZ1onF/hlEeGuC+e5OxGPfV51ostlBx2vkIo/9c36jEs5oKjFYDoy+8DIxST4IIjHIa5Uceo6hzhe92CwWMJtN26rRzkbGtD9/ThlxOUpuCbzG2lz3+uPLtt2TaWok7P3znSl0YXYl5o38Z/i5Gs87GWzCnnsnsM65t/3Ftvp/R0BwqqZ4D2DG7qX7GFgWIZbi7EUbdcL/9F+22e8LN+LMXdSI5H72fsi0RJYdM7MLoyy878NwlPpQkTlXjU+lYgd9KysPLLhJisXQslpwzJ9TVtROjKmHURISLEdVXX3IcBxjFhbCTtROjgioJSZpGBowmgVFNTuQPxC5c8ffC6mAUAVLIs4w3X7QG9mvaa39nl7FVipGixb+oLN0wSuO2fzR0+x8EioZl26eda2y7Xc0dd6iDB8fhZQoq0AglVcAoNI8sMp6XuviiRjRcj03koEZRBWltAU1LpDGU1cYo8if/0mzzmusgIYHR+tq6UFAYSRErinIQYtfcEFhWjpgJvEgMLZBaMUYl0/EffxwYZT94NwH3SrV9Gr2iS5l/BKNw6nnO0MNNN2u++JLE/Q/l+vSZxYICCruSGEVSPCu47Fo+FmsorwglzWQpW2SV5203fcZp9VttzFfRttAlUycHshFhlOxomQlPqxP+JkYzWXfnsdLRJ8b33jdx5CEJ300bENFaduB6jXvtr3oZi6b6Rd4GIujYnUcfVb/TDi124E2ajqZxwc8/+qahQomSnYmyKiiOLn9E219OTjSHqsIYhvD2+6jkP/Fy+NLLXoz2c2PL8v3OVN3WBowutVEehLdFOzmUxWL+B+8Gjg0tCiNZSxeDkgwSJZm6TRBhZn4x2qfk6rfJy4UCRmFVK29Y0XWsY5pvvWr17tWy3c7B7nsuNMwAtZd6x9ZejCLwjmdfeb222Rb1112vDR0a18UcdCYwRxoBugiMBCilpOumb7+tKRZrfOUVwbEdfK6sCYxSrhBGBd02brwxr0bra+pCXmUURSynAfeqa260TTsTYVT9UzUqGnbqhZfYWCzxKm07VGc6GUWJylH4pzCKeqwb4aZbNlxyKXPn3dmBg2YJCnxSRNGg/BB4it4Ks2YxRk3Vf+ixZM8eCzU7BQFHoxLU48Y7TubMM2tGrp/fVat0+lRf0s0CRgtO/RrAaP79amHUGTOWH394fOdd2GMmtDluoHK8qmSHj248eIIBqEpULmiEyWFxnM6jjq7fcbu4nXK//RWO/7x5s31T1Wnf+AJGZVfXP/4EknNya1Oo6wnT0iY+Dnr+aAfhPJolXhGLCaUlBYwi89ZGjLphj56E0Y/e810bfoMq/fHWJP9tiDAKzJNpxWLxBcWhgYwtYHQNRLSA0fw/hc/+KuCxcO5sw/rgfb1njBu9aXDAIeWen40mpS8VKfy29Af/eRB0U7/5DnXYiLrLLtdGrFdjAqPAA+oYpKJAcgvmAGtwrcyjj4JNlZ9+5piGxUm0D9waUaNRd7Fk2vx991qxmNO3Z2VDS8hD0ClCdTmUS+mt96um61O9p/1GGXzrDzAqGFbq5TcZOMgPPQVN2ui6nSLHLlkMumbC0hjlRd0Kt9mp/oyz4tfdkFpvxALDDKPWwYpk8B8PMSHgz2hUBZlhxNY2hkWrRWhAjnJAkuVmLryier1RLb/Tir3aokXtoqbnMRptt/h3MYqAHO0KhY9WNnDplHPgwYl9xjPbbqOde0aTaXsqx2lq+3qjFhx9VNxOW8SNaO0J8sFyO088pWH7reNOyn/nQ8CxtqwkoyuGLKpdGHU0/Tvar/M3SE7DaHN848KLxIGDS4OOUIp39I3NicWkEqhRJDuKAIwPyv0/xeiSA5bpMDCZ89vD/oPg1HtfftzuWoLMq3+yw9N/G2B6qH4qLZxbAMFRVhMaGqo56lf0x78dlmB05W0L1+Ux+tGHeiyWXGdo6sjjay3Tj07QXhLoPf5fqzgq8I7vPviYvM66zeedZ2y0cZ2ndgpSkuWjWBJGoVmgTBXH8l95TQBGf/jF1hSoQk4SWJIzawKjgLbliPffawKj/XrlMcpBjdbQuqCy2x5QLcenhpLEH21suiKM0romYPRVWgvUescDbI9YS+C308FtKE8aqY8evAbyvhtGIdZhi3bndjvXnXWWcPkVzgYbznXsELESIozi4j/DKP5M/5EmtGjlE+6MJgVgQeWEU5+5+IrqwcPrf/4JTn11UVEWGKUWjS4BRtkIo3KUEX8/UasauMB3D5mQ2GlPZpPRynlnNJquK6IhkFJvfZz86TdNMZCKJIoVac9j9KRTq7ferM0J2t94143FymtrcpqiwaUpYJRXbEP8JsJoeVmoSEkvaD/0UGbH3RrcbOio2T12bIGTUVaxdmIUWkNCYfi5PEbdrz/J0SKmtR2jLBypWI+FsVgNMKohL6N1V2skM1cHozAUYNSx7E8+AgjaevfPnnluS8rLSSQclkQKb1D9/5Z+WPOB1wzlqRelXj0Txx+vbjqqVmczopgoLBLIY5Tqrmhb2nv/J0MbzlyQtkwF7pokMYDo38QoMhwv5IptS49P9GGC/XpXx3k49SLQ2FgLp772kac9k84soYGHSMD9IUZ10/+Q9qlKXnJVvH+Ptlw7NGwLFSg59fldFP9+3nfHqCDLCc1L77Jn/KRTxHPOtTbdZH5gh3RiGK+jclOHzl89FMabzzqBsjQKKBRBMO3gmhvjA4cnP/8cRlVZVxdKCh2SA60qUWcRh4T/+SqmfzLwadc/6ZS2bXcVN9hYvPLiBifwJY4F2xVDkjWYDBUQ/gPqEUPTzZ1xXt3ojWqDTDjxCadHz9rWtqxGpyTQWkpgBhjVVX4a6e7JU36Gg0nnoW65WfPhxzUbKUhY67RTEgTfplAFjyisDRhdcqQd1RCJT2XCYcOrYzHzp69DV0fZoOjXXoyiyrhe2KN/Gfy2+tYQLb+IKEcOROGivxFWD6NQ9Kxtu198hjrcHIsFF1/ZapmpSDhQrPI36v5zrQm8YShvQ0T34CccoW+1Ra0p5+AgIw+iZKHGkhqFZIASmjXHHzL497rmUJJYqiVyEsazhjAqOrb41EToFHtA3+oEYZTGWRpq06g8jzxqm7YDy43UKEOdUivAKI3Ua4b92dcW1OgZZ7FD+iazWVsUmlCSPA+Mrqle6aUwKikJxXV32ztxxJHsiScZu+5aETghtep/uTVJt4Csi+i5+Eceo0762lva+vRPvv8+UlTZ2NwhyUoXRtFmQOdK/xFGURIZJzjjzNZRW8vrDJeuvqzeSvkCn5QZSeYbJZ42uBI4E0VLuBF5y0ufdUHNqA3pLK9bblWGDY8zbMagDgyZ2mnqhVdkgWVohuy0Zx6zAk9Kp8OesdKLr+CsFGs5whtvBLHYx62JEGmOUrvWYRTVBI3EiPVAJf2n70LHhLuG2gM7WUv7RlFlPD/s2b80FqtvaA2piaYzIpGmNRDR1cMopAFnme4332qxGJxK+/rbGuGUUW7DoPJVPgIG3qxNmYkgWLr5AW2R1zT+UG2bbapsrR15GVVOQAAeKdVt+CygAa9qkuqxElwZRmXb6LDDqBH+uxiF5pUSjs289AygqQ/pX8MKoaSyis4m49lDdln0/Ze6ZNIaQCDpz0fqVV39dRa0W8PhE5QRQ7hM2hOFZlQ4OvicHgcnK//8vxOWcurRwMhWZp/9mUMn8MceZ+yzd3k6CMjp5mkz8VXDaBRI34uSJkiW1XHrfS19BgivvojWpYERM8jlPEZp4gEYREVCio7y8t8NwGjg+Jdd3jpkfX7oMP3WmysNz5cERqQNYWkHBlyAtKOQohdvuumLLm/ZaP2aTDY875zk6NEJVc2ZvA7E0BT2wtkVjGt1brV149FHc55tOHS267zHHku5uLHaxrG5eTMtWQpoKwCKwlqEUShqVANZlPx0uMmmJbGYPOm30DJhp7gQdF07MQr2J/wg7DukAo10SzJUVA6FIUXr8goX/Y2wehhFLvGmaX33owqPEp7pXfe3KUZA00SXxmj+tTYFwVCN738x0CLttqe14w51lt6u8TBMpIkAB+MgdSQqvISXKioGhJDAcwqXiCCCKt+F0ci8VyIgN5bDaNKx+Zefy8Ri6tBB1TxhFLgEMFRZ79CtAMKLwWMJoH8yUi8rujJ5rg/o7D5W3WSkkM7YIh/H3f85jHIiq9regeOT++zLHDBePfrIprSfRvrIqV8tjCJHoQigRg0jdxdtLN/63JN2LIamJUsYpc2VCKMsYZRmuNMGSv82RvE8IXDTV1/d2meQ0m+AevedtRFGEzQ6TwDNb+7V9WItN7jsysT6w+qhMY85omH7bdtcJzCQDuriFaIdvoimfipzwXnq4H6LUk5HEx3N8tv//V/oelS/gSRVN3G3xdWSOoLWGoyiDKCmpVQ63HQzwuhvk0PD5FiYCMqMMMqsbRiNQiJIh/0GQz5XtiVCRWNVTpXp1PQ1ENHVwCjxAzJJ181Jk6FG47GY/8QzkuN1ohJJqPRLYVRYy7JT0BT1p2l2rEfD6M2C3XdrVaWsjrpPf4KmIDWKd4RR6uTCS2Nh76jodGwKBEHU4AqgWH5MaqUCrlseo7bJvUMnlEgjhzYSRuUkMMWiqsgGC/ceGYlvRvNG/wijaPEVXZ5RRMtdttrC3HJTLp01kQjc/Z/CqCBwAmN46oQjErvsJuy9t3HayQnfzokcmiEADoBAQgtf+5PQ3dKIiqKiCqKuZR99SorF2h6+V+rRu1pWOiUJHi3tvkUHnSLfkHtLZtP9mwHRFZDMO++GqZs9+4iPPxZHWyKJCeAwj1HEq9uLNV3v5lv1YYMaHTscv2/VvnvzjqVoXAsvxZMyT0e/iTQzwwzY116yYrEZIhPOpUlOv/0+I9RNAAukYiUpgZyHxltsnGhJYJD/IUYLE54ijKqKIKWDcMwOjbGYOGtmqOoMHTOFePEyLycppv9+Qf1xiOIS9zPhoHUr0Ugnk6EM/4+njV//Q4yiMkuGbv42FbIOtuW98rqqG37k01Os8jdCRlL/Hv2yBiK6hoKgqOrshV6sZ33/gblxeyUMo11HDcUfaACdQ6ZSAkEumC+9FPJVaHE7QyZNKYnaBVycv99KBFy5XN8oY5vCu2+g5ggbDa8T5FCSGEFi8XhGVjiRzr+kjARGxQJGUToIy2BU1sVFlZ1QcCPWccfuKgRpM78ZFM+zEUbz/T4rH9MVhu4Y5XmBNTz96GPYbbcTdtrJOP9cxtaBUcS164DlP3xcPgn5kP81/xFHm8Lzuu4/+awQiyVuuFYcMLhB03OoroRRGv9GjsGaSO38JxjFy7Wz95FYhsHLTz8d111gNBlhFEKBotftxRqOd8ut6rr9Wx0r3G6L+SccZ3ku0ljPSS3AKFrjCKOyYrVVLoINzPnl+/DHn/Hm98q6UNRQ4rT3OU0YEdTFzTVui7TDEcK/kaz9d8NijEZnq0ZCAhjNpMJdxgCj7KxZwGgiOq0PlQUYhRpduzBKFVxM+Olw3eFQo9UcE8oKX8DoH4TCN1curBZGBRo/1HVj2gy0pQya6C8/tk3D5AUGN+x2FxT62jb9HjGRqsrdPn1bYrH0uHH18CV15ECUEflMyAfAEjaBF7x3fC5yDDIq+gv1itLfVzrgkUtjFI/jLEP6Hx2nHh+1QZmshyhj3B4kYgiS0SOgKwmfCdCbFdl89IDUJRhFNdPE5uYUbtIrlhu3DxOkHDwJF/G0pp4Mek3kfISGJRjlLdc78SRp6620bbe2rr0q6douPFWRhpjQDCSJKn8Q8knIhygPKSBPkxLEP6Ob8iuvQ43y511oDl0vrpsOMitSo3hRAUUxofrwrwfkIW876YmPN0TH89ovvsLoniNHu6WgXJEc2rlyyYs1Lfe22+V1BjTLfLjR8PkXXeg7jiBzDYzcWlCjtNrMAItcWk+56K47nNffDPCGl8KklIjkB5RdkgyHbAYvaj8gdPORyUfr3wwRRpdMeBIkCUjNBOG4cahHjQsWhZqRgAGszRiFU++kwlGbUt+oTCcRoEQkRBImnbfJ7qFgcSsd8l9ZRYzSbikKMPr7TFqyBtv65dsMrQGKMFq4isLah1Hqh9OaGzsGDOJisez++zfoRgYYRaRZZCaqQFdAhaDeSggh2nhO5JnCXyH06G801LGSAYlfDqO8Zciff0wY3WRkpQqMCiw5hGL+YLg8RiF/ZTjReYxSdPDgLozyUKNwrcR4ayY65DZ3yEFJ36ezMlCSBYxSB8Xfz/mlMIr/bFc/5TRx5Ehtk9H23XfolmmLnC5yxmKM/qH9UfwXB8rJKCBhSaqXjGkqr72pwJxOOFHacHSbRUMteHjefiKXJvr599OzWoHXbf/p56BGNWD09bcE3QVGaevYAkaXCsCoc/fd4roDGloaw+EDF91yU9ZxUGSJpMQAozypUehNWxYVL5PZY4/E+H2VG2/We/dcEAShAF8e5UyH0Se7iW88p6uC/gd5sBijNKOkG0Y7998fttdQVBJqWoKjLnJcstaqUdZLhZtsBqe+ShZDKBE4E9SQR9aYL7l8wK8rDcNCyN9hVTGqAaOaps+e50E+wNOZ+nPOMFTqvVlKjKDo11RlXkMBHqKqJFrCwYTR9sMOa7astMZGG7FBRSBlBEt6EbIijlIgEZaf1h79Ncrowg1XIiDxS2OUSGPq4g/fAKOJzUZVWRbUKGBFu9CBkJELT5P9aTco4HXFGGXwd1EB2uDUwxfOHnkk7wGj0M1kGPlVTGsk26kG8QIiH43UC5Lr82edy2ywfrDOEOvhB3XbciXWkAijzMpjtBCoQSKMigJjGNp77zpwbg4/gt1ky2bXTZHdIB9oSC+fkFUTCGs08KrpvvEmxDIwav7vU0uzPBSDHOF9uXSxhmU9+CA/pH91RWk4qFfJxIlpUJdmXUjU9UEDbDTPRkXdcFLOzbeJvXu0nHx6ZpNNFmW9dlloFVhAFoSGVeYT3lWOa6RAVydEGO2a8AT+qKog5dzOCRPQ8jVXVYWqGo9GavMYXev6RvMY9VPh1ls19Ig1KLSrFrWBUVVe1izxyb+CUYH2Idc1Y/Z8v0cP8EieOTWt0XhGHqO4T9eLro9+ri2BpcPgOocPJzV6+OENtp3O943mMYrMWPKKYJoPi/8tBGRX4XYrEZD+5dQoYfTn74HRls1Hl9t2SCO8kF2gKbl7uJjUKA0AC7Q0YIUYpVgrjCLnoskSmWOPT7q+S/CHgF5zi0Fhaaj5rKBEaCeM+oFyznnJYetmevc2n35KNAwFKlqi3ah5gGJVMYqEJWXq/NVM9aMPrJ4xYa8949vswAQpr2BCS5rhNZOi1QqCapn/9wGaKxmi4asvTU23qBioqKjPp5CcQmAt03r0EWVg35q5tGlT2RuvB1Cj4Ccjal0YpcRIkmpIX37fEYvVDxrSMWFCa87L8MlmWpJMtZGckvzj//OwPEZFUU757UccTbvMAKO00wcVlkpqYO0bqY/yM5lKhztsD4yWa3JIMVxh6UW1e1VzPn+XVcIoqi+DplVTzXlFqT69wSOmeJGr0JQ+VCG8EL+uF+65NmUnYiMxpp4atTGqRObIY6pcL0tbzAP/4IVAJO16IWMob5bLZQRkV+F2KxGQ/uXUqGAa4pRJqGN122xR7DghR8e6wYHFJfCW6D8oQI7a9wTLrwijcPYhVpW4adLhFrFY6tRzWizfQRIijK6xbZvzGKWznQmisEbZc/0LLhT69/F79rBeeY2zHKSqBU+LMIqEFr64fMib2lKBsphj0RoAKJb6xSdGLCbuMkbZYYwapOlI/Cjz1kxC/l7gFVP+8gfYDASpOu0nx1CMaNRRWkGigFHDfuGpTO9edb/+hiKu+frblE7TQRiGJBCyC62gIgg6oCTI8UQy7EG7t4U3Xi9nXB+3Y2hoEc0oTGCtSf9yGGVlxUm7x57MxGIVddWhSbs2F7YmEde+eaOkLqRkkG7fc2xLLLZAV/MYZVFay5cgPvl3MApvU4RTv6Ak3ac3G4txpSWuojIRQ7u/ENH8m7UoCDRK7m2+KZyR1AnH17pee4RRmCzwQ5lBAI1eeZj+Axgl39g0hKmTUceattu6xHeBUVqRjXhQe059Z6hFLMWEhp74FWGUlplLUtx10z16JmKx9FkXtlmeyxB+YRxrGKNJ8kajnlGBjtK95FIxFvNjMfuD/xMNixWlVrROUa8uHtslHpcNeVNbOkSfiWpSkhRL/e4LLxYTttxC2W1PJUiDMnn7WRsCrxryd7+qeYzO+NU3ZBstGYpscRq6B9bUzRefTfXuVf3Fl+lYrOqnyYEkMzyfZJAHkYaF30s9MsCRwtnpcNPRpfCNHryPCzyDg2oijFLNx09k6NqQBctjFG6Tl/FOOh1NS2V9bWjSp1AAmrhWzhuN4Jb0/fZxeyR6xIpMAxileolkISxTgvj1X8OooKpacUWuV09gVGlo8OgkiQI0o9IvvNa6IAhsJrDH7OAABKee2mx7ORVUEynvKC8gjqBJ4eDnXxFaVxgKt1uJQMXVHaNEbcnUuBm0pDq+4/ZlaT9k5SQ+ByLh3dKVdB3L0oRMqFH8ZJbBqMLTMK4kxrOpoN8AeJrpS6/gbBcYpeq3xp36qFMPBgJ5JLmeeO31Gh1/ErM//UQzLE6gE1ZwAUmtaERoxY/O59tyAV+hJVuKLk/6rh1qdP0NpAMO0jzXWnyfNZOQvxcEWZN/mxkgerGYNm9aTpdoiCkPuEI6ugJh1Hj9Fb9Xr+p336N9SaYvcAU5wXHJpBgXkJfRHiuUtXJSlgUjFZx7EW5r/t//cq7D0DidAIxSk4qfaxNGl9ooD5bop9yzL4AcqW2qCw0UEyODtMJa2TcahaTv5cbvK/aMlToWDTHleyARCgXXLaAKFb60ciH/ldXDqFJWne3XnzDa0kynKy9mKH52vdbCwGdTzi5jOBjuaafV6naO9quJGqVCIEFXEKR4/VEo3GwlArJ1eYzqGjebOs4adtmpKuUBo3TWk0wz8+DMwlxRefKzERMUH/I+yFfvwijtJ0QYTaRT/qBhfCzmXn1D3HG8JM11xXX/SN8oIoUfrsffcqsVYVT/6UfbsBBVtAF/jdEo25YNRGae9tQERqdPykCNDhqgH3m04Xt2ZD94aJe8XTMpWq0gSKo4ey6kJbJaLprXrsqmRNKS4lRIyZLAmYb51utBr571zzwDfV1RXpPmZWoOk5SByE6SoeRxUAmKmic9/iQa9cqp00JNj0ftd/68LqQfGbrS1fKfDIsxSvNGgVFBBEalwLcvvAQYLW9rDukMGYYOsI+GmNa6kXoEqHzPyx56oNgrVuw6UKOolAWMFsqtW1h5GObD6mGUp60nVaWyMdO3b6JPfyveloowimjh1T3gnmtVdpLxZgJ3/GEMlMW551fqbhbOCFlr4YJCyKdkmcSsXsCdl8eoqrDzaH/i8j12q0mRGgVGIVIIozKN4aIS5R++5CfIyEYbjsCiJXh+uKvIBIEzfCM49eat9zbZlr/GMRqhk4+WIeKGNCnL88XbbzVjMSCPnzLZMyxQHelT/xKjKwz4BtQoYqtpQvE8oBles3HqqZbvQI1GGF1yQ/z6XwWUHldVnIum9/FV5XSWJ+LzBxYiWKb1/jvpXrHW225N9YzVtTS0ixrH0Lla1FMhoVmk7gCkh+ocAF1RGW69xYfxRIh6xQksBCmPd/TUribkPw4RRpfsNyoItHGq5xlXXgO/ZAHPhhoyg6EzLddijHJ+kD7qUKFvbJHn00xtqk9rKJarg1Fcp3CsqijVTe3A6KAhXiKZUmRyKJe29UhKrE0TnogFPLWix54APSVedHGd4eZIGtBE3AgU0Q+EyIjXTMXFfVaAUYldVASMVu69Z33ghqwEdy/CKF/AKC2Xoud3/aSmsztG0brig1Ta3WATSCT17vtbbSO15jFKihitMyKGWxNGHU+8926ILB/ImzkzqxnQV1Dt5IeSASyZn/TXgewDqeIMJFZVpdL5kHto3uTzz7PSgUMXUBmsHRiVhbqKzmhSBN9YF6KM8v0/iP5yARjVP/7I6xWLn39ubujQxkSiHX4uMMrRREWUDDGUUkY+Bz6RJVW2HI2lniXa5oRFLlI5Ij/XMowK+XmjtHwActqztRtvNGKxIp4PNUR67cUomSTy1U+lj5mg9I0V+6lQlFB9Vll1/lFYZYziIrzQakKN1raE/fsmhg5zeSatSF17Nnfdh6rJ2oZRENP3rDPOAgjEyy9v1NxMhClau40/5+0bYUXVYzUDbrgijPLFJcBo7X7jmn0nZMQ4ioEcOUGVRWUxRrtehCcuGgHtwqiI5lTkMhl/s61gytqjj7G2HkQ1ECW6pjFKgj3amkTibUea+EB7LIYMhHsbStBZMtCtRZADKlYRo/garwsio6pCVUnea5YuvVBP+zYtOsSd1g6MSoraRsfzEkbZRCiJGsvyLJQjVNiyQTAt6fPPjb6x5FGHdm6+eYsgu4zYzNL0dLQ3lCZkJqUs6vcEVHEvK8nKhfnLUQ8O/kwVh+4W/fyPQ4RR+Bs0U1kSZMKoKLiWcvsdeixWJoihTPgny1xLMUpr51mo0RMO1/vHSoM0MErJoXxeE2HVMEpX4H/6h0PFqYu3D+7futFofJJR6Ty76A5LuJm3+/z7tSJQDHnJ9szLroAa5W64odVMZdDqqxEmKKKLGbAGqyxuuBRGCUyCrgjllaiWFQcf3OR7nVSDIEvwF1GmNSK0phZX4qv4hOoa7oPfCxil3xKykMC/qUxqx13hWKnPPZe0DG+NT3iKYhthNIpeHqNPPALv2+jZK1lRFsIxAUajLUMRzVXFKHICP2gHFlnlK0qgcGka8vVXKynbjdoS/NdlTmsqRasRoq2LkiivOPSyBGqQkIBPmES1KVyyJAiGIX/1tRnrwe66c7jbroxumkhgNFSYyFtZ3ryQtjxJ0ZZoSRUf0gJg6FXqMP7Pk7xUgHFS1w2EKC1hokEmXUy6rnTXPahHlSIbInd4YJTTIowmkT1rTdwRYGMwS87Npo84zhg4sD6dCmn/H7h05OOtgbDKGCUpRbVdYBSuMeEPGdS4xbYtipxTChilGEcXInSBYK0KvOXrt1DvHnP9zU2q68E0FBKCZNDdQ5SYNRBwk6UxSorE1ORqUjfFhx/e5PudLLlvaMJZ+klNZx6j3QN5gwWMioIstikoOUFKZdJ77ydDWb/5WlIzTUZgaMLGP6FGF2PUsqWnnwJGhd59GuprQkFiCxglowAREcOVsKRCQBqjlbYQM5pQXu5GC1vlW2+VUrYDSyLOLkkI3uRf/3KgJ0KLG1ouFmsFSU2jE2VAi5joBNblg6Br6rffW7Ge4gYj0wfsz7mejSLjeAYYxfWoQJElINAQG9wTesHjR1bgZ4GhyMPuaf+PA2FUZmmoXgIlaSNYk08YFvvCa/KwQR/aFpkBh2TkVzFJDGFibYk7ArS0Bp1kZPwJZ6oD1ymHGqXFEDRRL1645O+F1cQoSjops21sZkC/2l12T+hKewGj0A5LYTT/WnsCIsbotv3II8Aof+udST3CKB1TH3U+dgVKAP6PLPpvBtxhWTUqiLoqNTQDoyXHHh33nY5o855oBagELQoGAqPLPnk5jLKo26l0+uCDoEalD/9P1kyLjabCCbSm/u9HPB+Wwije27b0wnMdkI39+zc1N4aIMAObWKxGVxmjwIvEJSOM1tZ60RiOee/dasoGesCRrqYtuiWsi/5dU0lbyRA9Ep65jVQ3IuGamqWDAOiIl8Kcp6UDYfSnXyDT1D597KOPEoLAiTqs4dajXJbCKBUWtd88MIomCq9IH1G2RDawotv/FyHCKMcpyAbUFZmTFQVOspBk9LRgh6zCslwCv1LkeQXuP/WT/8ul9CeB8hGmw8iK+Nxr3AlnTjKcHEdTBrsb2N8Kq4dRvCHTZ7jc4IENe+/NGkpOWbzb4NIYRSy70+k/D4gPq1vpp58Geri77hV0P0ADu0KMLk7p3w24w9IYpbqnSkorOYllJ/5/e+ceI0lRx/G+4+B4ehwqKmIwIBqCiokkGuJ/gjGSaHxeCCLgi2gi4Q9NMMagkvgHopFIQE6DGokvUPQUEAVBICfcAXdy3u3t3j5m+ln9nO55z7IPv9+qnrmZnYWd2du5nd3t7/bO9LOm6ldVn/pVP6qvtCvJLBmFHW2D53AEO3bNQ4+qG6Om4zbq9Q9/KARGf/+bOIgSHMmfsnXOrIy6MFp0fnIHYq6fdtqRXG7e9xxD8IYnnhfrH6OyhFscldmzxw9XZae+9L1bwmqKUQiBqUmVLthwpZLWo/hzpu3OzcAHPwLKlwrTBc/zDA59r/boFDDq/v0faKd9Tat87pq4Wo1Yy1DHujDKCemETyrHfqZPyqxXRB0ijJLujB5KKatFzrMNlw/+TtlTU95YTkzAuTOcSXahbDGMGBVTwjkC2ougapWqkyx4MhdQk1Yion1jFLUUhsSBOs+Gz7zmjJH3XzZaiBq8dqxc0aHGKGRFSSCHmThwyzcNDsjGx4eY7e1lVqaU09JGWUoIoQujwhNi0gCM9uz4hFVOpmG0FkbV1Wt5ZAsZ0uKLYFTUqvVPfQIenL5rVxxGCdPBQ3SZIHnkYuKGXrUAo3acOD+9m9est237b+DOe1jrjjNWdBX7PTeKNBGjqKICGB0FRm1NC2/7oVuJFUYRGIJtTquJUV9i9CBMXQiqrpn3OSo2fMluAaPin4/RG9W02k03NUqlQD49AfMZ2J+HpIc1l1j3mhOrYXO2ud+qC3GR5xyAU9vgE2smMAri84QvP9HBQqmWF5kZaZUEdegQiCUJFSrPZwMcz/TYbK8mRiGYB9CRLDCFmN22beTDV44kxSKaKFnKF2C0SYShEQpCUMz/+neori/d/l2nnNSECUYsUh+wZgUMLAPpwqgLjOY4ONMzn73KqhTrQmKUJ5hcZLV8egXHdVgS/0cx6gCj7CQKdOqvvjqnaWMPPRqGhQRHCA53bLQORc52ixt61QKMOmFi79yJBiD/2rP3FqL50DNse4JdOZRLpLBPjMrz7PTC0CMYH1OPCYk77rJKYZxiVJUoNaHQrxZGHW92uq5p4yeeYFRLFZenc9FSLdog2WHoPP44b5/QtOS732nEsQ/LyRqm9keArSSo+ZQ8nNrWDpNQQZAC9TyK7EQwQaAol1Gn6AS0JJvGdH44pFokOeFPldDmipUQ6hTM0B9GWaB5XtwIvNlt20c/+enRYrFhAqOQKu5p5CQLViiiKyOUBdsKYnH/n1x4oz+6NSzGNV4r6Gf80H6F9HdiFF686zlu3gGM9l57lVON6/JlBmiggFGwQhpNOV+p9RZiVDiTrmXqQhSTyg1f1NHZfOLJmu8nMg/xr7cOVRncrmPBKIKMYuuXHHBaP/e8/VE8H/KarClvoccPYt9+MYrDEWtg1JniENSeprk77xWlKOZqZQTQkwBV0+ph9GXe1nrySVajVnHNnMszhenWdiHaUWQ/yRHNE6TlJ3dWo8hFn7cNoy3JY+loN+eHV4y8ejIaX3KsCZQrLmIDot4ZeyRzuDDapRW2Ns3SF0alQYkDmDXyZ0/fNrHjqrEkmbHkqN2MXmflHy4xkXoQRrseKgI9d3w/KRdqgByHGRqYYIsujArhujkH3ui+664WEqPYjd6NHO4dR0gWdVpyIUZtU3dFISrd+FUTXtLTz8x6biQTgu2DwiiWw8S87z7E3LronaNBYZ5P95uBY8YGX2mHOPaBOYVRdao98Oz8EXijPKX4q197EqPSAi2AYlFN8v/4Cg2FmJmunnyqf8bpbqNRQqo5ZvOiN3jYThRZTz9VkrfW6vf9thSgqSFG03vqWslIlS61rRlKocOWliV+8U9hdTFupEnaOFKW6Q+jDrtvxGghqnz+mhd/dk8+CKryiUAZAj9UUD0GePwko2YVPOeZZ+D4jN91e7kYloE1pL61fcWFQDswSp/NExxDfP7ETfuuv06U4jq8OT4phEaeo3JjN3mcjG4634VRYRvwRgtB6eZvcATyF/bNBGSdLg8cGEZtx4+tB+4HRnPvvuQgMMrBpS0d6+VAebzskB7Xg5gQPq/DGb5sNV/ZvBkYnfrdA17RV5f+2wAq/1dJwKjzcqN25uuMM880phtljy+LJRVRDdSVoNaEaIahtXs3XFGkZfzhR4tB4HMvXoWTm5sf8msVE9WfwIejZan13Qc31rOUZfrFKKT2R+drJnDLsKdciw+WlDZhjdp/GCQrpuWFnrdnLzpoB+75caEYlWkDXl/uw43qSwi0DaNgRt50pwCP2Jo/dcue676kJ0kFAKI9LQGMwlWVvb+FluzEaE44hu64wOi3vzWhaSMvHayFPn5APpI7IIwiVpbwY/vBB4HRyQ9cNlKszoMlwpmQ70A2THjYBE6vYkLkS+vkUs4zyyeeEKKX8MddbsGTXWaF0TRflE3U/PGW6ZjT9dqb3mq8/uz89DS8UdtjlWHOwv/niUPuwwkKAuvZZ9Hd8dlLeLYS+HLsVN5TiY2Iv7y4QakUrVqi+lIHRpvCmgyjkLJMXxhVkjvDstYUJvnqGJSGVkFSkvW9n17egMUk5p2SK5KDBxqa9vivdsITjG05HF66ywCExIOANIHCqBgzvcNwTgr23Ena7utvEHEpsNxx+mR8Lp0Pg7IH1WVJeeGphdE8MGo4XqlY/953poCesbEZj/egTLVhlL+5aNFXgfamLoxG4qG/zQKjV1w+UXt53uIr5xAjeKNLvNKuWwqj+GBEXd21K1tPijQt/9dHwnJUYFPSgVGEjAlrV0HAaKNWO+/t3jnnolNf5l0/bNd4FoNxajqkKvFBYOx9Dp36eNOWsd37ar7vccsrYhRrVAKHWhlGX0XKMsvAqBK80Lxpeo4Z8RFvwrS9FqFwtVeDVReTeMSLdCdxnOrOe63x8WIIKBlwrXODi6SsXfhlVXmwNGk5OqZI1Hdc+/wvHvT9CJFgh5nX5632Z+pboiXla8r56nbSx9bRqTcdP/Qrt91mAGq58Xk+AWFNcme0C3zomSlCznZLBdqbFmLUi8QjD8MbHf/YR41CqQZnVJg+GHEMGEXSHAGMOtWtWwNNsx79VxIJdOrl9aXhwCiyo1qvvuNd3vlvC+r1ksSoypS0xWtNUBDoz+8pa1rplG2jL47VPeQnov2KGF0bUtDsFtane2xgKTssG6MkE7rJLCJpEW8PhE6KXLGckAchRDbvWAbqre0EsfB8wVc2wNOw9HSPAQiJByJR72TlgU14wdt1eRLUT2asKKLxZa3EfvBGBb1RLLUbjUtYZi1VG0i00HJzwi785ueupj3mmHMIkDdT8WAdAckZmUFdkmH2qC6MhuLxJ+CNHvzMjvFSo2pxZYBJnhttnh/vTUyKBCX7Mp7uebUzt8MbtZ/bXeWbveQeKrVtC2r+uAo/iUarXK9c8m7jgov0er0ibIv3GDBH2G60YqYi5wfm/hdrmpZs3z6R12dcNATI2qMYbe539Ig1oLToLKZ0jw2sY8Wo1KuUhlfZtDpikyovMXJCAyu/sC7dPBh1YBSLtDXHl5GEkjFCRbVQN7GTEADsInlBS6LSqhCAH452LHKe5xvjc/ffK8KCb5u6xCiC1+VDpc0rw8ekBRjl+MpP/HtG01687guTUblIV8zClrCJ0fSw3oQ2WGIUtpEYPet1BU0z9/2nEuIH08SuQBqORYwGHGPLSSqVHTv2feST/ymXa2h+mxiVbVubsDdHq9pf1zT3vHP0wJp30X/owGh7ohYsZlqTWhGMriUpiio15/E9WIyyIsov9S8xill+4oPiDOeF7b4CRqm2tay/gCn54+th6Lt+3rYnHbMgg+T4+APCqBu4z+6BN/r81270y9UKfguxsOmN8vYlepd9QKHpjSqM+rWzzwFGjZF9Mx7RswKxP3ZJjDrCDPhhz+ftOQ5xJHNLbl0YS2wIfPG///KFKO9420gc0UTSSm3eaCo5z+sHzflMa1MkyYbDaJcGjVEpmDe1MOcWsTbWoUrBGwWylswLuYMc2MLmqUmfh1iRYxYlpYFRa+UxilmwJHD3vjAHjH7z5rBQSHh1kd7oMjHa4Y36tTe8mRgdPTDD8VmGRbQiMMonrcSkK44Qq6+cSIXRAy/NaZv0Sy89VKqGlmXwSXkOfS23p1NT6VLbmkxrTRlGqeOC0aXVyoKe8wLRBoH8tCpaAS9t82jee8qzBiuQp50Yhefpey/sh6v1r1tv9ZI45JmI5XqjIA4vMfFCDSKuB0H93PPdTdpkbnIeqeo9nEGL3JS4dzks0BKn0bGz7zsHDs5u2eJ88PJ8Ugnku1rbMQor8kPOD0saMx2LMoxSQ4JRiAjsNSNalVDNtCYGQp+2J692SbVjFKHlHd87NIpO/XM/uK1YLGI9XFR1bnSZGEXAtL7QQ7/+lgvszZuP5KdmEffewxm8aEjakkBdUsCo9b9Ds1tOyH3m016pFrPTgOno7fdoI1pX6pH0IWowMi1PGUap4cFo/1ok1waAUWKN94c6hvC8kXF4o0/dfWcxgvtr8n4xcJYvsgcRluGN8hYu+M56IaxfeJF50tZJ157zXPUSveERItOjNW3fs+CNbt60/8s3FIu1CDaSGPbY3vBMaAujCA8FT5E00xrWRsTooko3rwsNBKOc6DcJ1zk8Nadpf/jDA6WQ78fky4MACPUi+2VglA4px/zX47Bx4cX6yadM+c6c73trtEAi2r5vT0zNa9qub9+SFEqxPEGBzPD4KiN5cqDTG80wuuYFgGwsjCKZiyrdvC7USs5KpAtBAI+o9hKjchxTW8QjoyXbqqHowJMnDjlIB2CAOR6ijlxSCzEaNS5+78Qpp47FhUrvgQybYHMOiuAV//LnQ4cOFxzXB0F5qpr3YKCpkSlLE9daSJczrVFtOIxuECE3Vy5DiTuERYzyhlWEa3kegAooyNsBeNsVMCq4uR8idGDUlhi9dOz000fr00U+FkHndw1K2t0SVhS5fL6D9JSdAwczamN/Vso0/MowmmlJsWDQz5QIaDIALKWLSjDIVc2PPtSOUeHoSaHxnvcf2X5Wvt5IgFGUyXS/tSZYBJFnnQJPbXkLW1NZLVuXQl5nGM20pFg2OstHysyUn+nUnxRG6clyTo/jxmUfzL/xzW61ljh8Z/salqQomwFUq5Sg8pbgrJatSyGvM4xmWp6Wg852EcEWhybhzVKuXkim33fFS+e8Jd8oV+WDXGu4QCL6qkLhU0FUSa3MtM6UYTTTKooYtWw37zqGawSF+le+fuBjHz9cTcqe6SsKqf3WrjKMbgQdxSi+sIxsbkntkSnTwESMmrarO47u8sWTbiycuOYbkSx/KIEZRjOtAaUYVQxdoCzLMw1YEqMOO/U6385v+1be9CZ8w5dvxF0PyjC6EQSMQlq61KksyzMNWChgnEzbka/Dk0u8WQjf6wejC5RuyLSOBIYiZzWVwQuU7pIp0wDVgVGWOX6uq7KXViepdFWm9SVi1Lb/D/4fUDlxJIXOAAAAAElFTkSuQmCC)"
   ]
  },
  {
   "cell_type": "markdown",
   "metadata": {
    "id": "sk77H_m9qgve"
   },
   "source": [
    "E utilizando a lib statsmodels, o qual instalamos no começo deste notebook, é possível predizermos o faturamento dos próximos meses informando apenas esta coluna."
   ]
  },
  {
   "cell_type": "code",
   "execution_count": null,
   "metadata": {
    "colab": {
     "base_uri": "https://localhost:8080/"
    },
    "id": "ffVPt0-TmbYO",
    "outputId": "4bcc07ef-2945-4a58-fe83-260b3c3acf77"
   },
   "outputs": [
    {
     "name": "stdout",
     "output_type": "stream",
     "text": [
      "Predição utilizando Série Temporal baseado em AutoRegression (AR)\n",
      "-----------------------------------------------------------------\n",
      "Janeiro: R$ 1477049.8859095967\n",
      "Fevereiro: R$ 1494716.541591109\n",
      "Março: R$ 1506096.954010885\n"
     ]
    }
   ],
   "source": [
    "from statsmodels.tsa.ar_model import AutoReg\n",
    "\n",
    "# Fit model/treinamento do modelo\n",
    "model = AutoReg(df['Faturamento'], lags=1, old_names=True) #old_names só foi utilizado por conta de um aviso da próxima versão\n",
    "model_fit = model.fit()\n",
    "\n",
    "# Predição\n",
    "yhat = model_fit.predict(len(df['Faturamento']), len(df['Faturamento'])+2)\n",
    "pred = np.array(yhat)\n",
    "print('Predição utilizando Série Temporal baseado em AutoRegression (AR)')\n",
    "print('-----------------------------------------------------------------')\n",
    "print('Janeiro: R$', pred[0])\n",
    "print('Fevereiro: R$', pred[1])\n",
    "print('Março: R$', pred[2])\n"
   ]
  },
  {
   "cell_type": "code",
   "execution_count": null,
   "metadata": {
    "colab": {
     "base_uri": "https://localhost:8080/"
    },
    "id": "BVXbkTeWnith",
    "outputId": "f5a24507-a472-4a57-fd3a-892b63861719"
   },
   "outputs": [
    {
     "name": "stdout",
     "output_type": "stream",
     "text": [
      "Predição utilizando Série Temporal baseado em Autoregressive Integrated Moving Average (ARIMA)\n",
      "----------------------------------------------------------------------------------------------\n",
      "Janeiro: R$ 1535951.973508485\n",
      "Fevereiro: R$ 1478161.9988451726\n",
      "Março: R$ 1516848.2485993775\n"
     ]
    }
   ],
   "source": [
    "from statsmodels.tsa.arima.model import ARIMA\n",
    "\n",
    "# Fit model/treinamento do modelo\n",
    "model = ARIMA(df['Faturamento'], order=(1, 1, 1)) #old_names só foi utilizado por conta de um aviso da próxima versão\n",
    "model_fit = model.fit()\n",
    "\n",
    "# Predição\n",
    "yhat = model_fit.predict(len(df['Faturamento']), len(df['Faturamento'])+2, typ='levels')\n",
    "pred = np.array(yhat)\n",
    "\n",
    "print('Predição utilizando Série Temporal baseado em Autoregressive Integrated Moving Average (ARIMA)')\n",
    "print('----------------------------------------------------------------------------------------------')\n",
    "print('Janeiro: R$', pred[0])\n",
    "print('Fevereiro: R$', pred[1])\n",
    "print('Março: R$', pred[2])"
   ]
  },
  {
   "cell_type": "markdown",
   "metadata": {
    "id": "CTCCw6PuxHaE"
   },
   "source": [
    "Interessante notar que, por mais próximo que os valores preditos sejam, o modelo baseado na Auto Regressão segue o que vimos anteriormente, ou seja, a tendência de crescimento enquanto o ARIMA se ajustou melhor as oscilações vistas no decorrer dos meses bem como se aproxima do que vimos na segregação dos dados."
   ]
  },
  {
   "cell_type": "markdown",
   "metadata": {
    "id": "clSlQUQNxl28"
   },
   "source": [
    "Por fim, encerro minha análise predizendo o faturamento para o ano, o que é muita coisa exigindo mais detalhes e até uma segregação de dados por semestre, eu sei, mas vale a brincadeira."
   ]
  },
  {
   "cell_type": "code",
   "execution_count": null,
   "metadata": {
    "colab": {
     "base_uri": "https://localhost:8080/"
    },
    "id": "hkhGdJ_2xlS8",
    "outputId": "c31f0fef-b9e4-47a8-8f82-631d7396d72d"
   },
   "outputs": [
    {
     "name": "stdout",
     "output_type": "stream",
     "text": [
      "Predição utilizando Série Temporal baseado em Autoregressive Integrated Moving Average (ARIMA)\n",
      "----------------------------------------------------------------------------------------------\n",
      "Janeiro:   R$ 1535951.973508485\n",
      "Fevereiro: R$ 1478161.9988451726\n",
      "Março:     R$ 1516848.2485993775\n",
      "Abril:     R$ 1490950.574672989\n",
      "Maio:      R$ 1508287.212859911\n",
      "Junho:     R$ 1496681.575053267\n",
      "Julho:     R$ 1504450.7184965794\n",
      "Agosto:    R$ 1499249.8333019535\n",
      "Setembro:  R$ 1502731.453509515\n",
      "Outubro:   R$ 1500400.7580959294\n",
      "Novembro:  R$ 1501960.9917765334\n",
      "Dezembro:  R$ 1500916.5270541585\n"
     ]
    }
   ],
   "source": [
    "# Fit model/treinamento do modelo\n",
    "model = ARIMA(df['Faturamento'], order=(1, 1, 1)) #old_names só foi utilizado por conta de um aviso da próxima versão\n",
    "model_fit = model.fit()\n",
    "\n",
    "# Predição\n",
    "yhat = model_fit.predict(len(df['Faturamento']), len(df['Faturamento'])+11, typ='levels')\n",
    "pred = np.array(yhat)\n",
    "\n",
    "print('Predição utilizando Série Temporal baseado em Autoregressive Integrated Moving Average (ARIMA)')\n",
    "print('----------------------------------------------------------------------------------------------')\n",
    "print('Janeiro:   R$', pred[0])\n",
    "print('Fevereiro: R$', pred[1])\n",
    "print('Março:     R$', pred[2])\n",
    "print('Abril:     R$', pred[3])\n",
    "print('Maio:      R$', pred[4])\n",
    "print('Junho:     R$', pred[5])\n",
    "print('Julho:     R$', pred[6])\n",
    "print('Agosto:    R$', pred[7])\n",
    "print('Setembro:  R$', pred[8])\n",
    "print('Outubro:   R$', pred[9])\n",
    "print('Novembro:  R$', pred[10])\n",
    "print('Dezembro:  R$', pred[11])"
   ]
  },
  {
   "cell_type": "markdown",
   "metadata": {
    "id": "Bn5GA6SNz_4-"
   },
   "source": [
    "E para quem quiser conhecer outros modelos de Séries Temporais basta acessar o site [machinelearningmastery.com](https://machinelearningmastery.com/time-series-forecasting-methods-in-python-cheat-sheet/)"
   ]
  },
  {
   "cell_type": "markdown",
   "metadata": {
    "id": "95i09b4gzCyv"
   },
   "source": [
    "# Conclusão"
   ]
  },
  {
   "cell_type": "markdown",
   "metadata": {
    "id": "b7NK5BeMzGNw"
   },
   "source": [
    "Interessante notarmos como uma simples pergunta que envolve previsão de faturamento, e com uma base de dados literalmente simples, pode apresentar diversos tipos de resultados, alguns próximos e outros não, baseados nos métodos que são utilizados para resolução.\n",
    "\n",
    "Para nosso caso em específico, a série temporal bem como a segregação de dados tiveram seus resultados mais próximos do padrão observado, sendo assim estas duas métricas são as mais viáveis em termos de acerto bem como risco como resposta a pergunta de nosso chefe. Contudo a certeza de fato só virá quando os resultados de janeiro, por exemplo, fossem confirmados.\n",
    "\n",
    "Predizer é tentar antecipar o resultado que mais se aproximará do real futuro utilizando da matemática, mas longe de um simples número, esta \"arte\" só ganha o seu devido valor se for utilizado para auxiliar nas tomadas de decisões seja para um melhor fluxo de caixa, encontrar o melhor período para realizar a compra de um ativo, o que em nosso caso o ideal seria sempre no segundo semestre, ou mesmo antecipar resultados para controle da produção já que pelo faturamento conseguimos ter uma noção do quanto será vendido.\n",
    "\n",
    "E neste caso foi-se analisado o faturamento mas a predição pode e deve ser utilizada em qualquer outra área que necessita de uma orientação quanto ao futuro. Entre exemplos destaco:\n",
    "\n",
    "\n",
    "*    Na medicina para verificarmos o fluxo de pacientes durante o mês ou mesmo em quais alas haverá uma maior ocorrência de atendimentos; \n",
    "*   No PCP industrial podemos obter a frequência com que ocorrerá falhas nos equipamentos ou até quando deverá ser a próxima manutenção ou troca de ferramenta;\n",
    "*   Nas escolas predizendo a nota dos alunos ou, mais especificamente, quais alunos deverão ter as piores notas e assim mudar, por exemplo, o método de ensino para elas.\n",
    "\n",
    "Para finalizarmos, deixo um alerta no como a estatística para a análise de dados em geral ainda é pouco utilizada visto que nas diversas empresas que tenho contato, com destaque para as familiares e de pequeno porte, não possuírem conhecimento e consequentemente não aplicando os conceitos para melhorarem seus próprios negócios.\n",
    "\n",
    "\n",
    "\n"
   ]
  },
  {
   "cell_type": "code",
   "execution_count": null,
   "metadata": {
    "id": "_E0Vgh-KqYgP"
   },
   "outputs": [],
   "source": []
  }
 ],
 "metadata": {
  "colab": {
   "collapsed_sections": [],
   "name": "Predição de vendas.ipynb",
   "provenance": []
  },
  "kernelspec": {
   "display_name": "Python 3",
   "language": "python",
   "name": "python3"
  },
  "language_info": {
   "codemirror_mode": {
    "name": "ipython",
    "version": 3
   },
   "file_extension": ".py",
   "mimetype": "text/x-python",
   "name": "python",
   "nbconvert_exporter": "python",
   "pygments_lexer": "ipython3",
   "version": "3.8.8"
  }
 },
 "nbformat": 4,
 "nbformat_minor": 1
}
